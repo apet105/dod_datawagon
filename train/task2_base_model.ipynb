{
 "cells": [
  {
   "cell_type": "code",
   "execution_count": 1,
   "metadata": {
    "ExecuteTime": {
     "end_time": "2023-10-30T12:12:44.453550500Z",
     "start_time": "2023-10-30T12:12:31.873323700Z"
    },
    "collapsed": false,
    "jupyter": {
     "outputs_hidden": false
    }
   },
   "outputs": [],
   "source": [
    "import pandas as pd\n",
    "import numpy as np\n"
   ]
  },
  {
   "cell_type": "code",
   "execution_count": 2,
   "metadata": {
    "collapsed": false,
    "jupyter": {
     "outputs_hidden": false
    },
    "pycharm": {
     "name": "#%%\n"
    }
   },
   "outputs": [],
   "source": [
    "from metrics_f1 import calc_f1_score"
   ]
  },
  {
   "cell_type": "markdown",
   "metadata": {},
   "source": [
    "## Загрузка данных"
   ]
  },
  {
   "cell_type": "code",
   "execution_count": 3,
   "metadata": {
    "collapsed": false,
    "jupyter": {
     "outputs_hidden": false
    },
    "pycharm": {
     "name": "#%%\n"
    }
   },
   "outputs": [],
   "source": [
    "path_train = r\"./\""
   ]
  },
  {
   "cell_type": "code",
   "execution_count": 4,
   "metadata": {
    "collapsed": false,
    "jupyter": {
     "outputs_hidden": false
    },
    "pycharm": {
     "name": "#%%\n"
    }
   },
   "outputs": [],
   "source": [
    "# данные по дислокации\n",
    "dislok = pd.read_parquet(path_train + '/dislok_wagons.parquet').convert_dtypes()\n",
    "# данные по текущим ремонтам\n",
    "pr_rem = pd.read_parquet(path_train + '/pr_rems.parquet').convert_dtypes()\n",
    "# список вагонов с остаточным пробегом на момент прогноза\n",
    "wag_prob = pd.read_parquet(path_train + '/wagons_probeg_ownersip.parquet').convert_dtypes()\n",
    " # параметры вагона\n",
    "wag_param = pd.read_parquet(path_train + '/wag_params.parquet').convert_dtypes()\n",
    "# таргет по прогноза выбытия вагонов в ПР на месяц и на 10 дней\n",
    "target = pd.read_csv(path_train +'/target/y_train.csv').convert_dtypes()\n",
    " # текущие ремонты вагонов\n",
    "tr_rem = pd.read_parquet(path_train + '/tr_rems.parquet').convert_dtypes()"
   ]
  },
  {
   "cell_type": "code",
   "execution_count": 5,
   "metadata": {
    "tags": []
   },
   "outputs": [
    {
     "data": {
      "text/plain": [
       "33977"
      ]
     },
     "execution_count": 5,
     "metadata": {},
     "output_type": "execute_result"
    }
   ],
   "source": [
    "wag_prob['wagnum'].nunique()"
   ]
  },
  {
   "cell_type": "code",
   "execution_count": 6,
   "metadata": {
    "collapsed": false,
    "jupyter": {
     "outputs_hidden": false
    },
    "pycharm": {
     "name": "#%%\n"
    }
   },
   "outputs": [],
   "source": [
    "wag_param = wag_param.drop_duplicates(subset='wagnum', keep='last')# у вагонов могут меняться параметры, поэтмоу номер дублируется. В данной модели это фактор не учитывается"
   ]
  },
  {
   "cell_type": "code",
   "execution_count": 7,
   "metadata": {
    "collapsed": false,
    "jupyter": {
     "outputs_hidden": false
    },
    "pycharm": {
     "name": "#%%\n"
    }
   },
   "outputs": [],
   "source": [
    "month_to_predict = pd.to_datetime('2022-12-01')"
   ]
  },
  {
   "cell_type": "code",
   "execution_count": 8,
   "metadata": {
    "collapsed": false,
    "jupyter": {
     "outputs_hidden": false
    },
    "pycharm": {
     "name": "#%%\n"
    }
   },
   "outputs": [],
   "source": [
    "target.month = pd.to_datetime(target.month)\n",
    "target = target[target.month == month_to_predict][['wagnum','target_month','target_day']]"
   ]
  },
  {
   "cell_type": "code",
   "execution_count": 9,
   "metadata": {
    "collapsed": false,
    "jupyter": {
     "outputs_hidden": false
    },
    "pycharm": {
     "name": "#%%\n"
    }
   },
   "outputs": [
    {
     "data": {
      "text/plain": [
       "(1584, 570)"
      ]
     },
     "execution_count": 9,
     "metadata": {},
     "output_type": "execute_result"
    }
   ],
   "source": [
    "target.target_month.sum(), target.target_day.sum()"
   ]
  },
  {
   "cell_type": "code",
   "execution_count": 10,
   "metadata": {
    "tags": []
   },
   "outputs": [
    {
     "data": {
      "text/plain": [
       "33977"
      ]
     },
     "execution_count": 10,
     "metadata": {},
     "output_type": "execute_result"
    }
   ],
   "source": [
    "target['wagnum'].nunique()"
   ]
  },
  {
   "cell_type": "markdown",
   "metadata": {},
   "source": [
    "# Наивная модель"
   ]
  },
  {
   "cell_type": "markdown",
   "metadata": {},
   "source": [
    "Наивная модель будет построена на правилах с использованием минимального набора данных, без применения Ml.\n",
    "\n",
    "Реальный процесс выглядит следующим образом - в начале месяца берется срез по парку по всем вагонам, за ремонт которых несёт ответственность ПГК. Для выбранных вагонов требуется установить, какие из них будут отремонтированы в текущем месяце. Данная информация помогает планировать нагрузку на вагоно-ремонтное предприятие(ВРП). Вторая модель определяет критичные вагоны, которые будут отправлены в ремонт в первую очередь( в ближайшие 10 дней). Это помогает фокусировать внимание диспетчеров.\n",
    "\n",
    "Основными критериями по которым вагон отправляется в плановый ремонт - является его остаточный пробег и срок до планового ремонта.\n",
    "В регламентах РЖД используется следующее правило - если ресурс по пробегу не превышает 500 км и/или плановый ремонт должен наступить через 15 дней(или меньше), то вагон может ехать только на ВРП.\n",
    "Из этого регламента вытекают две особенности:\n",
    "1. Диспетчер старается отправить вагон раньше положенных значений. Это позволяет выбрать предприятия, на которых ремонтироваться дешевле, а не ближайшее.\n",
    "2. Компания-оператор может выбирать какому из нормативов нужно следовать - ремонтировать вагон по сроку, или по пробегу, или по обоим критериям сразу. Поэтому встречаются вагоны, у которых пробег может не отслеживаться.\n",
    "\n",
    "Вагон может быть отправлен в плановый ремонт и раньше положенного. На это может влиять, например, история грузовых операций и количество текущих(мелких) ремонтов. Основная цель участников в данной задаче - найти закономерности и оценить значимые признаки, по которым вагон выбывает в плановый ремонт."
   ]
  },
  {
   "cell_type": "markdown",
   "metadata": {},
   "source": [
    "## Подготовка данных"
   ]
  },
  {
   "cell_type": "code",
   "execution_count": 11,
   "metadata": {
    "collapsed": true,
    "jupyter": {
     "outputs_hidden": true
    },
    "tags": []
   },
   "outputs": [
    {
     "data": {
      "text/plain": [
       "array(['2022-08-01T00:00:00.000000000', '2022-08-02T00:00:00.000000000',\n",
       "       '2022-08-03T00:00:00.000000000', '2022-08-04T00:00:00.000000000',\n",
       "       '2022-08-05T00:00:00.000000000', '2022-08-06T00:00:00.000000000',\n",
       "       '2022-08-07T00:00:00.000000000', '2022-08-08T00:00:00.000000000',\n",
       "       '2022-08-09T00:00:00.000000000', '2022-08-10T00:00:00.000000000',\n",
       "       '2022-08-11T00:00:00.000000000', '2022-08-12T00:00:00.000000000',\n",
       "       '2022-08-13T00:00:00.000000000', '2022-08-14T00:00:00.000000000',\n",
       "       '2022-08-15T00:00:00.000000000', '2022-08-16T00:00:00.000000000',\n",
       "       '2022-08-17T00:00:00.000000000', '2022-08-18T00:00:00.000000000',\n",
       "       '2022-08-19T00:00:00.000000000', '2022-08-20T00:00:00.000000000',\n",
       "       '2022-08-21T00:00:00.000000000', '2022-08-22T00:00:00.000000000',\n",
       "       '2022-08-23T00:00:00.000000000', '2022-08-24T00:00:00.000000000',\n",
       "       '2022-08-25T00:00:00.000000000', '2022-08-26T00:00:00.000000000',\n",
       "       '2022-08-27T00:00:00.000000000', '2022-08-28T00:00:00.000000000',\n",
       "       '2022-08-29T00:00:00.000000000', '2022-08-30T00:00:00.000000000',\n",
       "       '2022-08-31T00:00:00.000000000', '2022-09-01T00:00:00.000000000',\n",
       "       '2022-09-02T00:00:00.000000000', '2022-09-03T00:00:00.000000000',\n",
       "       '2022-09-04T00:00:00.000000000', '2022-09-05T00:00:00.000000000',\n",
       "       '2022-09-06T00:00:00.000000000', '2022-09-07T00:00:00.000000000',\n",
       "       '2022-09-08T00:00:00.000000000', '2022-09-09T00:00:00.000000000',\n",
       "       '2022-09-10T00:00:00.000000000', '2022-09-11T00:00:00.000000000',\n",
       "       '2022-09-12T00:00:00.000000000', '2022-09-13T00:00:00.000000000',\n",
       "       '2022-09-14T00:00:00.000000000', '2022-09-15T00:00:00.000000000',\n",
       "       '2022-09-16T00:00:00.000000000', '2022-09-17T00:00:00.000000000',\n",
       "       '2022-09-18T00:00:00.000000000', '2022-09-19T00:00:00.000000000',\n",
       "       '2022-09-20T00:00:00.000000000', '2022-09-21T00:00:00.000000000',\n",
       "       '2022-09-22T00:00:00.000000000', '2022-09-23T00:00:00.000000000',\n",
       "       '2022-09-24T00:00:00.000000000', '2022-09-25T00:00:00.000000000',\n",
       "       '2022-09-26T00:00:00.000000000', '2022-09-27T00:00:00.000000000',\n",
       "       '2022-09-28T00:00:00.000000000', '2022-09-29T00:00:00.000000000',\n",
       "       '2022-09-30T00:00:00.000000000', '2022-10-01T00:00:00.000000000',\n",
       "       '2022-10-02T00:00:00.000000000', '2022-10-03T00:00:00.000000000',\n",
       "       '2022-10-04T00:00:00.000000000', '2022-10-05T00:00:00.000000000',\n",
       "       '2022-10-06T00:00:00.000000000', '2022-10-07T00:00:00.000000000',\n",
       "       '2022-10-08T00:00:00.000000000', '2022-10-09T00:00:00.000000000',\n",
       "       '2022-10-10T00:00:00.000000000', '2022-10-11T00:00:00.000000000',\n",
       "       '2022-10-12T00:00:00.000000000', '2022-10-13T00:00:00.000000000',\n",
       "       '2022-10-14T00:00:00.000000000', '2022-10-15T00:00:00.000000000',\n",
       "       '2022-10-16T00:00:00.000000000', '2022-10-17T00:00:00.000000000',\n",
       "       '2022-10-18T00:00:00.000000000', '2022-10-19T00:00:00.000000000',\n",
       "       '2022-10-20T00:00:00.000000000', '2022-10-21T00:00:00.000000000',\n",
       "       '2022-10-22T00:00:00.000000000', '2022-10-23T00:00:00.000000000',\n",
       "       '2022-10-24T00:00:00.000000000', '2022-10-25T00:00:00.000000000',\n",
       "       '2022-10-26T00:00:00.000000000', '2022-10-27T00:00:00.000000000',\n",
       "       '2022-10-28T00:00:00.000000000', '2022-10-29T00:00:00.000000000',\n",
       "       '2022-10-30T00:00:00.000000000', '2022-10-31T00:00:00.000000000',\n",
       "       '2022-11-01T00:00:00.000000000', '2022-11-02T00:00:00.000000000',\n",
       "       '2022-11-03T00:00:00.000000000', '2022-11-04T00:00:00.000000000',\n",
       "       '2022-11-05T00:00:00.000000000', '2022-11-06T00:00:00.000000000',\n",
       "       '2022-11-07T00:00:00.000000000', '2022-11-08T00:00:00.000000000',\n",
       "       '2022-11-09T00:00:00.000000000', '2022-11-10T00:00:00.000000000',\n",
       "       '2022-11-11T00:00:00.000000000', '2022-11-12T00:00:00.000000000',\n",
       "       '2022-11-13T00:00:00.000000000', '2022-11-14T00:00:00.000000000',\n",
       "       '2022-11-15T00:00:00.000000000', '2022-11-16T00:00:00.000000000',\n",
       "       '2022-11-17T00:00:00.000000000', '2022-11-18T00:00:00.000000000',\n",
       "       '2022-11-19T00:00:00.000000000', '2022-11-20T00:00:00.000000000',\n",
       "       '2022-11-21T00:00:00.000000000', '2022-11-22T00:00:00.000000000',\n",
       "       '2022-11-23T00:00:00.000000000', '2022-11-24T00:00:00.000000000',\n",
       "       '2022-11-25T00:00:00.000000000', '2022-11-26T00:00:00.000000000',\n",
       "       '2022-11-27T00:00:00.000000000', '2022-11-28T00:00:00.000000000',\n",
       "       '2022-11-29T00:00:00.000000000', '2022-11-30T00:00:00.000000000',\n",
       "       '2022-12-01T00:00:00.000000000', '2022-12-02T00:00:00.000000000',\n",
       "       '2022-12-03T00:00:00.000000000', '2022-12-04T00:00:00.000000000',\n",
       "       '2022-12-05T00:00:00.000000000', '2022-12-06T00:00:00.000000000',\n",
       "       '2022-12-07T00:00:00.000000000', '2022-12-08T00:00:00.000000000',\n",
       "       '2022-12-09T00:00:00.000000000', '2022-12-10T00:00:00.000000000',\n",
       "       '2022-12-11T00:00:00.000000000', '2022-12-12T00:00:00.000000000',\n",
       "       '2022-12-13T00:00:00.000000000', '2022-12-14T00:00:00.000000000',\n",
       "       '2022-12-15T00:00:00.000000000', '2022-12-16T00:00:00.000000000',\n",
       "       '2022-12-17T00:00:00.000000000', '2022-12-18T00:00:00.000000000',\n",
       "       '2022-12-19T00:00:00.000000000', '2022-12-20T00:00:00.000000000',\n",
       "       '2022-12-21T00:00:00.000000000', '2022-12-22T00:00:00.000000000',\n",
       "       '2022-12-23T00:00:00.000000000', '2022-12-24T00:00:00.000000000',\n",
       "       '2022-12-25T00:00:00.000000000', '2022-12-26T00:00:00.000000000',\n",
       "       '2022-12-27T00:00:00.000000000', '2022-12-28T00:00:00.000000000',\n",
       "       '2022-12-29T00:00:00.000000000', '2022-12-30T00:00:00.000000000',\n",
       "       '2022-12-31T00:00:00.000000000', '2023-01-01T00:00:00.000000000',\n",
       "       '2023-01-02T00:00:00.000000000', '2023-01-03T00:00:00.000000000',\n",
       "       '2023-01-04T00:00:00.000000000', '2023-01-05T00:00:00.000000000',\n",
       "       '2023-01-06T00:00:00.000000000', '2023-01-07T00:00:00.000000000',\n",
       "       '2023-01-08T00:00:00.000000000', '2023-01-09T00:00:00.000000000',\n",
       "       '2023-01-10T00:00:00.000000000', '2023-01-11T00:00:00.000000000',\n",
       "       '2023-01-12T00:00:00.000000000', '2023-01-13T00:00:00.000000000',\n",
       "       '2023-01-14T00:00:00.000000000', '2023-01-15T00:00:00.000000000',\n",
       "       '2023-01-16T00:00:00.000000000', '2023-01-17T00:00:00.000000000',\n",
       "       '2023-01-18T00:00:00.000000000', '2023-01-19T00:00:00.000000000',\n",
       "       '2023-01-20T00:00:00.000000000', '2023-01-21T00:00:00.000000000',\n",
       "       '2023-01-22T00:00:00.000000000', '2023-01-23T00:00:00.000000000',\n",
       "       '2023-01-24T00:00:00.000000000', '2023-01-25T00:00:00.000000000',\n",
       "       '2023-01-26T00:00:00.000000000', '2023-01-27T00:00:00.000000000',\n",
       "       '2023-01-28T00:00:00.000000000', '2023-01-29T00:00:00.000000000',\n",
       "       '2023-01-30T00:00:00.000000000', '2023-01-31T00:00:00.000000000'],\n",
       "      dtype='datetime64[ns]')"
      ]
     },
     "execution_count": 11,
     "metadata": {},
     "output_type": "execute_result"
    }
   ],
   "source": [
    "wag_prob.query('wagnum == 33364')['repdate'].unique()"
   ]
  },
  {
   "cell_type": "code",
   "execution_count": 12,
   "metadata": {
    "collapsed": false,
    "jupyter": {
     "outputs_hidden": false
    },
    "pycharm": {
     "name": "#%%\n"
    }
   },
   "outputs": [],
   "source": [
    "# оставим только данные по остаточному пробегу для каждого номерав вагона\n",
    "wag_prob = wag_prob[(wag_prob.repdate == month_to_predict) | (wag_prob.repdate == wag_prob.repdate.min())]"
   ]
  },
  {
   "cell_type": "code",
   "execution_count": 13,
   "metadata": {
    "tags": []
   },
   "outputs": [
    {
     "data": {
      "text/html": [
       "<div>\n",
       "<style scoped>\n",
       "    .dataframe tbody tr th:only-of-type {\n",
       "        vertical-align: middle;\n",
       "    }\n",
       "\n",
       "    .dataframe tbody tr th {\n",
       "        vertical-align: top;\n",
       "    }\n",
       "\n",
       "    .dataframe thead th {\n",
       "        text-align: right;\n",
       "    }\n",
       "</style>\n",
       "<table border=\"1\" class=\"dataframe\">\n",
       "  <thead>\n",
       "    <tr style=\"text-align: right;\">\n",
       "      <th></th>\n",
       "      <th>repdate</th>\n",
       "      <th>wagnum</th>\n",
       "      <th>ost_prob</th>\n",
       "      <th>manage_type</th>\n",
       "      <th>rod_id</th>\n",
       "      <th>reestr_state</th>\n",
       "      <th>ownership_type</th>\n",
       "      <th>month</th>\n",
       "    </tr>\n",
       "  </thead>\n",
       "  <tbody>\n",
       "    <tr>\n",
       "      <th>0</th>\n",
       "      <td>2022-08-01</td>\n",
       "      <td>33361</td>\n",
       "      <td>7541</td>\n",
       "      <td>0</td>\n",
       "      <td>1</td>\n",
       "      <td>1</td>\n",
       "      <td>0</td>\n",
       "      <td>8</td>\n",
       "    </tr>\n",
       "    <tr>\n",
       "      <th>122</th>\n",
       "      <td>2022-12-01</td>\n",
       "      <td>33361</td>\n",
       "      <td>159916</td>\n",
       "      <td>0</td>\n",
       "      <td>1</td>\n",
       "      <td>1</td>\n",
       "      <td>0</td>\n",
       "      <td>12</td>\n",
       "    </tr>\n",
       "    <tr>\n",
       "      <th>273</th>\n",
       "      <td>2022-08-01</td>\n",
       "      <td>33364</td>\n",
       "      <td>37103</td>\n",
       "      <td>0</td>\n",
       "      <td>1</td>\n",
       "      <td>1</td>\n",
       "      <td>0</td>\n",
       "      <td>8</td>\n",
       "    </tr>\n",
       "    <tr>\n",
       "      <th>395</th>\n",
       "      <td>2022-12-01</td>\n",
       "      <td>33364</td>\n",
       "      <td>4268</td>\n",
       "      <td>0</td>\n",
       "      <td>1</td>\n",
       "      <td>1</td>\n",
       "      <td>0</td>\n",
       "      <td>12</td>\n",
       "    </tr>\n",
       "    <tr>\n",
       "      <th>546</th>\n",
       "      <td>2022-08-01</td>\n",
       "      <td>33366</td>\n",
       "      <td>10242</td>\n",
       "      <td>0</td>\n",
       "      <td>1</td>\n",
       "      <td>1</td>\n",
       "      <td>0</td>\n",
       "      <td>8</td>\n",
       "    </tr>\n",
       "  </tbody>\n",
       "</table>\n",
       "</div>"
      ],
      "text/plain": [
       "       repdate  wagnum  ost_prob  manage_type  rod_id  reestr_state  \\\n",
       "0   2022-08-01   33361      7541            0       1             1   \n",
       "122 2022-12-01   33361    159916            0       1             1   \n",
       "273 2022-08-01   33364     37103            0       1             1   \n",
       "395 2022-12-01   33364      4268            0       1             1   \n",
       "546 2022-08-01   33366     10242            0       1             1   \n",
       "\n",
       "     ownership_type  month  \n",
       "0                 0      8  \n",
       "122               0     12  \n",
       "273               0      8  \n",
       "395               0     12  \n",
       "546               0      8  "
      ]
     },
     "execution_count": 13,
     "metadata": {},
     "output_type": "execute_result"
    }
   ],
   "source": [
    "wag_prob.head()"
   ]
  },
  {
   "cell_type": "code",
   "execution_count": 14,
   "metadata": {
    "tags": []
   },
   "outputs": [
    {
     "data": {
      "text/plain": [
       "repdate           67952\n",
       "wagnum            67952\n",
       "ost_prob          64947\n",
       "manage_type       67952\n",
       "rod_id            67952\n",
       "reestr_state      67952\n",
       "ownership_type    67952\n",
       "month             67952\n",
       "dtype: int64"
      ]
     },
     "execution_count": 14,
     "metadata": {},
     "output_type": "execute_result"
    }
   ],
   "source": [
    "wag_prob.count()"
   ]
  },
  {
   "cell_type": "code",
   "execution_count": 15,
   "metadata": {
    "collapsed": false,
    "jupyter": {
     "outputs_hidden": false
    },
    "pycharm": {
     "name": "#%%\n"
    },
    "tags": []
   },
   "outputs": [],
   "source": [
    "# оценим среднесуточный пробег из данных по пробегу вагона, на тот случай, если данных по нормативу нет\n",
    "wag_prob_ =wag_prob.groupby('wagnum', as_index = False).agg({'repdate':['max', 'min'] , 'ost_prob': ['max','min']},)#.droplevel(1)\n",
    "wag_prob_.columns = [head+'_' + name\n",
    "                     if head!='wagnum'\n",
    "                     else head\n",
    "                     for head, name in wag_prob_.columns ]\n",
    "\n",
    "wag_prob_['diff_days'] = wag_prob_.repdate_max - wag_prob_.repdate_min\n",
    "wag_prob_['mean_run'] = (wag_prob_.ost_prob_max - wag_prob_.ost_prob_min )/ wag_prob_.diff_days.dt.days\n",
    "wag_prob = wag_prob[wag_prob.repdate == wag_prob.repdate.max()][['wagnum','ost_prob']]\n",
    "wag_prob = wag_prob.merge(wag_prob_[['wagnum','mean_run']])"
   ]
  },
  {
   "cell_type": "code",
   "execution_count": 16,
   "metadata": {
    "tags": []
   },
   "outputs": [
    {
     "data": {
      "text/html": [
       "<div>\n",
       "<style scoped>\n",
       "    .dataframe tbody tr th:only-of-type {\n",
       "        vertical-align: middle;\n",
       "    }\n",
       "\n",
       "    .dataframe tbody tr th {\n",
       "        vertical-align: top;\n",
       "    }\n",
       "\n",
       "    .dataframe thead th {\n",
       "        text-align: right;\n",
       "    }\n",
       "</style>\n",
       "<table border=\"1\" class=\"dataframe\">\n",
       "  <thead>\n",
       "    <tr style=\"text-align: right;\">\n",
       "      <th></th>\n",
       "      <th>wagnum</th>\n",
       "      <th>ost_prob</th>\n",
       "      <th>mean_run</th>\n",
       "    </tr>\n",
       "  </thead>\n",
       "  <tbody>\n",
       "    <tr>\n",
       "      <th>0</th>\n",
       "      <td>33361</td>\n",
       "      <td>159916</td>\n",
       "      <td>1248.97541</td>\n",
       "    </tr>\n",
       "    <tr>\n",
       "      <th>1</th>\n",
       "      <td>33364</td>\n",
       "      <td>4268</td>\n",
       "      <td>269.139344</td>\n",
       "    </tr>\n",
       "    <tr>\n",
       "      <th>2</th>\n",
       "      <td>33366</td>\n",
       "      <td>1507</td>\n",
       "      <td>71.598361</td>\n",
       "    </tr>\n",
       "    <tr>\n",
       "      <th>3</th>\n",
       "      <td>33358</td>\n",
       "      <td>30223</td>\n",
       "      <td>95.114754</td>\n",
       "    </tr>\n",
       "    <tr>\n",
       "      <th>4</th>\n",
       "      <td>33349</td>\n",
       "      <td>153839</td>\n",
       "      <td>1214.07377</td>\n",
       "    </tr>\n",
       "  </tbody>\n",
       "</table>\n",
       "</div>"
      ],
      "text/plain": [
       "   wagnum  ost_prob    mean_run\n",
       "0   33361    159916  1248.97541\n",
       "1   33364      4268  269.139344\n",
       "2   33366      1507   71.598361\n",
       "3   33358     30223   95.114754\n",
       "4   33349    153839  1214.07377"
      ]
     },
     "execution_count": 16,
     "metadata": {},
     "output_type": "execute_result"
    }
   ],
   "source": [
    "wag_prob.head()"
   ]
  },
  {
   "cell_type": "code",
   "execution_count": 17,
   "metadata": {
    "tags": []
   },
   "outputs": [
    {
     "data": {
      "text/html": [
       "<div>\n",
       "<style scoped>\n",
       "    .dataframe tbody tr th:only-of-type {\n",
       "        vertical-align: middle;\n",
       "    }\n",
       "\n",
       "    .dataframe tbody tr th {\n",
       "        vertical-align: top;\n",
       "    }\n",
       "\n",
       "    .dataframe thead th {\n",
       "        text-align: right;\n",
       "    }\n",
       "</style>\n",
       "<table border=\"1\" class=\"dataframe\">\n",
       "  <thead>\n",
       "    <tr style=\"text-align: right;\">\n",
       "      <th></th>\n",
       "      <th>wagnum</th>\n",
       "      <th>ost_prob</th>\n",
       "      <th>mean_run</th>\n",
       "    </tr>\n",
       "  </thead>\n",
       "  <tbody>\n",
       "    <tr>\n",
       "      <th>72</th>\n",
       "      <td>2052</td>\n",
       "      <td>&lt;NA&gt;</td>\n",
       "      <td>&lt;NA&gt;</td>\n",
       "    </tr>\n",
       "    <tr>\n",
       "      <th>85</th>\n",
       "      <td>2035</td>\n",
       "      <td>&lt;NA&gt;</td>\n",
       "      <td>&lt;NA&gt;</td>\n",
       "    </tr>\n",
       "    <tr>\n",
       "      <th>128</th>\n",
       "      <td>1652</td>\n",
       "      <td>&lt;NA&gt;</td>\n",
       "      <td>&lt;NA&gt;</td>\n",
       "    </tr>\n",
       "    <tr>\n",
       "      <th>132</th>\n",
       "      <td>1956</td>\n",
       "      <td>&lt;NA&gt;</td>\n",
       "      <td>&lt;NA&gt;</td>\n",
       "    </tr>\n",
       "    <tr>\n",
       "      <th>133</th>\n",
       "      <td>2360</td>\n",
       "      <td>&lt;NA&gt;</td>\n",
       "      <td>&lt;NA&gt;</td>\n",
       "    </tr>\n",
       "    <tr>\n",
       "      <th>...</th>\n",
       "      <td>...</td>\n",
       "      <td>...</td>\n",
       "      <td>...</td>\n",
       "    </tr>\n",
       "    <tr>\n",
       "      <th>33833</th>\n",
       "      <td>18737</td>\n",
       "      <td>&lt;NA&gt;</td>\n",
       "      <td>&lt;NA&gt;</td>\n",
       "    </tr>\n",
       "    <tr>\n",
       "      <th>33890</th>\n",
       "      <td>2151</td>\n",
       "      <td>&lt;NA&gt;</td>\n",
       "      <td>&lt;NA&gt;</td>\n",
       "    </tr>\n",
       "    <tr>\n",
       "      <th>33916</th>\n",
       "      <td>2098</td>\n",
       "      <td>&lt;NA&gt;</td>\n",
       "      <td>&lt;NA&gt;</td>\n",
       "    </tr>\n",
       "    <tr>\n",
       "      <th>33917</th>\n",
       "      <td>2186</td>\n",
       "      <td>&lt;NA&gt;</td>\n",
       "      <td>&lt;NA&gt;</td>\n",
       "    </tr>\n",
       "    <tr>\n",
       "      <th>33969</th>\n",
       "      <td>2706</td>\n",
       "      <td>&lt;NA&gt;</td>\n",
       "      <td>&lt;NA&gt;</td>\n",
       "    </tr>\n",
       "  </tbody>\n",
       "</table>\n",
       "<p>1326 rows × 3 columns</p>\n",
       "</div>"
      ],
      "text/plain": [
       "       wagnum  ost_prob  mean_run\n",
       "72       2052      <NA>      <NA>\n",
       "85       2035      <NA>      <NA>\n",
       "128      1652      <NA>      <NA>\n",
       "132      1956      <NA>      <NA>\n",
       "133      2360      <NA>      <NA>\n",
       "...       ...       ...       ...\n",
       "33833   18737      <NA>      <NA>\n",
       "33890    2151      <NA>      <NA>\n",
       "33916    2098      <NA>      <NA>\n",
       "33917    2186      <NA>      <NA>\n",
       "33969    2706      <NA>      <NA>\n",
       "\n",
       "[1326 rows x 3 columns]"
      ]
     },
     "execution_count": 17,
     "metadata": {},
     "output_type": "execute_result"
    }
   ],
   "source": [
    "wag_prob[wag_prob['ost_prob'].isna()]"
   ]
  },
  {
   "cell_type": "code",
   "execution_count": 18,
   "metadata": {
    "collapsed": false,
    "jupyter": {
     "outputs_hidden": false
    },
    "pycharm": {
     "name": "#%%\n"
    },
    "tags": []
   },
   "outputs": [],
   "source": [
    "# для каждого вагона оставим только информацию по сроку службы и нормативу суточного пробега между ПР\n",
    "wag_param = wag_param[['wagnum','srok_sl','cnsi_probeg_dr','cnsi_probeg_kr']]"
   ]
  },
  {
   "cell_type": "code",
   "execution_count": 19,
   "metadata": {
    "tags": []
   },
   "outputs": [
    {
     "data": {
      "text/html": [
       "<div>\n",
       "<style scoped>\n",
       "    .dataframe tbody tr th:only-of-type {\n",
       "        vertical-align: middle;\n",
       "    }\n",
       "\n",
       "    .dataframe tbody tr th {\n",
       "        vertical-align: top;\n",
       "    }\n",
       "\n",
       "    .dataframe thead th {\n",
       "        text-align: right;\n",
       "    }\n",
       "</style>\n",
       "<table border=\"1\" class=\"dataframe\">\n",
       "  <thead>\n",
       "    <tr style=\"text-align: right;\">\n",
       "      <th></th>\n",
       "      <th>wagnum</th>\n",
       "      <th>srok_sl</th>\n",
       "      <th>cnsi_probeg_dr</th>\n",
       "      <th>cnsi_probeg_kr</th>\n",
       "    </tr>\n",
       "  </thead>\n",
       "  <tbody>\n",
       "    <tr>\n",
       "      <th>3218</th>\n",
       "      <td>26318</td>\n",
       "      <td>2022-04-27</td>\n",
       "      <td>160</td>\n",
       "      <td>160</td>\n",
       "    </tr>\n",
       "    <tr>\n",
       "      <th>19128</th>\n",
       "      <td>28344</td>\n",
       "      <td>2024-12-24</td>\n",
       "      <td>110</td>\n",
       "      <td>160</td>\n",
       "    </tr>\n",
       "    <tr>\n",
       "      <th>21526</th>\n",
       "      <td>8099</td>\n",
       "      <td>2027-10-01</td>\n",
       "      <td>110</td>\n",
       "      <td>160</td>\n",
       "    </tr>\n",
       "    <tr>\n",
       "      <th>32353</th>\n",
       "      <td>33350</td>\n",
       "      <td>2047-02-05</td>\n",
       "      <td>250</td>\n",
       "      <td>500</td>\n",
       "    </tr>\n",
       "    <tr>\n",
       "      <th>81</th>\n",
       "      <td>5308</td>\n",
       "      <td>2027-09-28</td>\n",
       "      <td>110</td>\n",
       "      <td>160</td>\n",
       "    </tr>\n",
       "  </tbody>\n",
       "</table>\n",
       "</div>"
      ],
      "text/plain": [
       "       wagnum    srok_sl  cnsi_probeg_dr  cnsi_probeg_kr\n",
       "3218    26318 2022-04-27             160             160\n",
       "19128   28344 2024-12-24             110             160\n",
       "21526    8099 2027-10-01             110             160\n",
       "32353   33350 2047-02-05             250             500\n",
       "81       5308 2027-09-28             110             160"
      ]
     },
     "execution_count": 19,
     "metadata": {},
     "output_type": "execute_result"
    }
   ],
   "source": [
    "wag_param.head()"
   ]
  },
  {
   "cell_type": "code",
   "execution_count": 20,
   "metadata": {
    "collapsed": false,
    "jupyter": {
     "outputs_hidden": false
    },
    "pycharm": {
     "name": "#%%\n"
    },
    "tags": []
   },
   "outputs": [],
   "source": [
    "# добавим признак, что вагон был в ПР в предыдущем месяце. Скорее всего, если вагон был в ПР недавно, то повторно он не поедет\n",
    "pr_rem['was_repair_in_prev_month'] = 1\n",
    "pr_rem = pr_rem[['wagnum','was_repair_in_prev_month']]\n",
    "pr_rem = pr_rem.drop_duplicates(subset='wagnum') #некоторые вагоны все же ремонтируются больше 1 раза, поэтому нужен сбросить дубли"
   ]
  },
  {
   "cell_type": "code",
   "execution_count": 21,
   "metadata": {
    "tags": []
   },
   "outputs": [
    {
     "data": {
      "text/html": [
       "<div>\n",
       "<style scoped>\n",
       "    .dataframe tbody tr th:only-of-type {\n",
       "        vertical-align: middle;\n",
       "    }\n",
       "\n",
       "    .dataframe tbody tr th {\n",
       "        vertical-align: top;\n",
       "    }\n",
       "\n",
       "    .dataframe thead th {\n",
       "        text-align: right;\n",
       "    }\n",
       "</style>\n",
       "<table border=\"1\" class=\"dataframe\">\n",
       "  <thead>\n",
       "    <tr style=\"text-align: right;\">\n",
       "      <th></th>\n",
       "      <th>wagnum</th>\n",
       "      <th>was_repair_in_prev_month</th>\n",
       "    </tr>\n",
       "  </thead>\n",
       "  <tbody>\n",
       "    <tr>\n",
       "      <th>1577</th>\n",
       "      <td>9083</td>\n",
       "      <td>1</td>\n",
       "    </tr>\n",
       "    <tr>\n",
       "      <th>1578</th>\n",
       "      <td>11193</td>\n",
       "      <td>1</td>\n",
       "    </tr>\n",
       "    <tr>\n",
       "      <th>509</th>\n",
       "      <td>24703</td>\n",
       "      <td>1</td>\n",
       "    </tr>\n",
       "    <tr>\n",
       "      <th>511</th>\n",
       "      <td>26437</td>\n",
       "      <td>1</td>\n",
       "    </tr>\n",
       "    <tr>\n",
       "      <th>1515</th>\n",
       "      <td>15740</td>\n",
       "      <td>1</td>\n",
       "    </tr>\n",
       "  </tbody>\n",
       "</table>\n",
       "</div>"
      ],
      "text/plain": [
       "      wagnum  was_repair_in_prev_month\n",
       "1577    9083                         1\n",
       "1578   11193                         1\n",
       "509    24703                         1\n",
       "511    26437                         1\n",
       "1515   15740                         1"
      ]
     },
     "execution_count": 21,
     "metadata": {},
     "output_type": "execute_result"
    }
   ],
   "source": [
    "pr_rem.tail()"
   ]
  },
  {
   "cell_type": "code",
   "execution_count": 22,
   "metadata": {
    "collapsed": false,
    "jupyter": {
     "outputs_hidden": false
    },
    "pycharm": {
     "name": "#%%\n"
    },
    "tags": []
   },
   "outputs": [],
   "source": [
    "# посчитаем сколько текущих ремонтов было за прошедший период\n",
    "tr_rem = tr_rem.groupby('wagnum', as_index= False).kod_vrab.count()"
   ]
  },
  {
   "cell_type": "code",
   "execution_count": 23,
   "metadata": {
    "tags": []
   },
   "outputs": [
    {
     "data": {
      "text/html": [
       "<div>\n",
       "<style scoped>\n",
       "    .dataframe tbody tr th:only-of-type {\n",
       "        vertical-align: middle;\n",
       "    }\n",
       "\n",
       "    .dataframe tbody tr th {\n",
       "        vertical-align: top;\n",
       "    }\n",
       "\n",
       "    .dataframe thead th {\n",
       "        text-align: right;\n",
       "    }\n",
       "</style>\n",
       "<table border=\"1\" class=\"dataframe\">\n",
       "  <thead>\n",
       "    <tr style=\"text-align: right;\">\n",
       "      <th></th>\n",
       "      <th>wagnum</th>\n",
       "      <th>kod_vrab</th>\n",
       "    </tr>\n",
       "  </thead>\n",
       "  <tbody>\n",
       "    <tr>\n",
       "      <th>17844</th>\n",
       "      <td>33963</td>\n",
       "      <td>2</td>\n",
       "    </tr>\n",
       "    <tr>\n",
       "      <th>17845</th>\n",
       "      <td>33969</td>\n",
       "      <td>2</td>\n",
       "    </tr>\n",
       "    <tr>\n",
       "      <th>17846</th>\n",
       "      <td>33973</td>\n",
       "      <td>2</td>\n",
       "    </tr>\n",
       "    <tr>\n",
       "      <th>17847</th>\n",
       "      <td>33975</td>\n",
       "      <td>2</td>\n",
       "    </tr>\n",
       "    <tr>\n",
       "      <th>17848</th>\n",
       "      <td>33976</td>\n",
       "      <td>2</td>\n",
       "    </tr>\n",
       "  </tbody>\n",
       "</table>\n",
       "</div>"
      ],
      "text/plain": [
       "       wagnum  kod_vrab\n",
       "17844   33963         2\n",
       "17845   33969         2\n",
       "17846   33973         2\n",
       "17847   33975         2\n",
       "17848   33976         2"
      ]
     },
     "execution_count": 23,
     "metadata": {},
     "output_type": "execute_result"
    }
   ],
   "source": [
    "tr_rem.tail()"
   ]
  },
  {
   "cell_type": "code",
   "execution_count": 24,
   "metadata": {
    "collapsed": false,
    "jupyter": {
     "outputs_hidden": false
    },
    "pycharm": {
     "name": "#%%\n"
    },
    "tags": []
   },
   "outputs": [],
   "source": [
    "# сохраним только дату следующего планового ремонта для вагона\n",
    "dislok = dislok[['wagnum','date_pl_rem']].drop_duplicates(subset = 'wagnum', keep='last')"
   ]
  },
  {
   "cell_type": "code",
   "execution_count": 25,
   "metadata": {
    "tags": []
   },
   "outputs": [
    {
     "data": {
      "text/html": [
       "<div>\n",
       "<style scoped>\n",
       "    .dataframe tbody tr th:only-of-type {\n",
       "        vertical-align: middle;\n",
       "    }\n",
       "\n",
       "    .dataframe tbody tr th {\n",
       "        vertical-align: top;\n",
       "    }\n",
       "\n",
       "    .dataframe thead th {\n",
       "        text-align: right;\n",
       "    }\n",
       "</style>\n",
       "<table border=\"1\" class=\"dataframe\">\n",
       "  <thead>\n",
       "    <tr style=\"text-align: right;\">\n",
       "      <th></th>\n",
       "      <th>wagnum</th>\n",
       "      <th>date_pl_rem</th>\n",
       "    </tr>\n",
       "  </thead>\n",
       "  <tbody>\n",
       "    <tr>\n",
       "      <th>347</th>\n",
       "      <td>11219</td>\n",
       "      <td>2019-06-27</td>\n",
       "    </tr>\n",
       "    <tr>\n",
       "      <th>25426</th>\n",
       "      <td>33350</td>\n",
       "      <td>2022-07-25</td>\n",
       "    </tr>\n",
       "    <tr>\n",
       "      <th>216913</th>\n",
       "      <td>8099</td>\n",
       "      <td>2023-04-20</td>\n",
       "    </tr>\n",
       "    <tr>\n",
       "      <th>730409</th>\n",
       "      <td>28344</td>\n",
       "      <td>2022-11-30</td>\n",
       "    </tr>\n",
       "    <tr>\n",
       "      <th>993683</th>\n",
       "      <td>26318</td>\n",
       "      <td>2023-01-01</td>\n",
       "    </tr>\n",
       "  </tbody>\n",
       "</table>\n",
       "</div>"
      ],
      "text/plain": [
       "        wagnum date_pl_rem\n",
       "347      11219  2019-06-27\n",
       "25426    33350  2022-07-25\n",
       "216913    8099  2023-04-20\n",
       "730409   28344  2022-11-30\n",
       "993683   26318  2023-01-01"
      ]
     },
     "execution_count": 25,
     "metadata": {},
     "output_type": "execute_result"
    }
   ],
   "source": [
    "dislok.head()"
   ]
  },
  {
   "cell_type": "code",
   "execution_count": 26,
   "metadata": {
    "collapsed": false,
    "jupyter": {
     "outputs_hidden": false
    },
    "pycharm": {
     "name": "#%%\n"
    },
    "tags": []
   },
   "outputs": [],
   "source": [
    "# соберем все данные вместе\n",
    "wp = target[['wagnum']].merge(wag_param, on ='wagnum', how = 'left')\\\n",
    "             .merge(wag_prob, how = 'left')\\\n",
    "             .merge(pr_rem, how = 'left')\\\n",
    "             .merge(tr_rem, how = 'left')\\\n",
    "             .merge(dislok, how = 'left')"
   ]
  },
  {
   "cell_type": "code",
   "execution_count": 27,
   "metadata": {
    "collapsed": false,
    "jupyter": {
     "outputs_hidden": false
    },
    "pycharm": {
     "name": "#%%\n"
    },
    "tags": []
   },
   "outputs": [
    {
     "data": {
      "text/html": [
       "<div>\n",
       "<style scoped>\n",
       "    .dataframe tbody tr th:only-of-type {\n",
       "        vertical-align: middle;\n",
       "    }\n",
       "\n",
       "    .dataframe tbody tr th {\n",
       "        vertical-align: top;\n",
       "    }\n",
       "\n",
       "    .dataframe thead th {\n",
       "        text-align: right;\n",
       "    }\n",
       "</style>\n",
       "<table border=\"1\" class=\"dataframe\">\n",
       "  <thead>\n",
       "    <tr style=\"text-align: right;\">\n",
       "      <th></th>\n",
       "      <th>wagnum</th>\n",
       "      <th>srok_sl</th>\n",
       "      <th>cnsi_probeg_dr</th>\n",
       "      <th>cnsi_probeg_kr</th>\n",
       "      <th>ost_prob</th>\n",
       "      <th>mean_run</th>\n",
       "      <th>was_repair_in_prev_month</th>\n",
       "      <th>kod_vrab</th>\n",
       "      <th>date_pl_rem</th>\n",
       "    </tr>\n",
       "  </thead>\n",
       "  <tbody>\n",
       "    <tr>\n",
       "      <th>0</th>\n",
       "      <td>33361</td>\n",
       "      <td>2033-03-01</td>\n",
       "      <td>110</td>\n",
       "      <td>160</td>\n",
       "      <td>159916</td>\n",
       "      <td>1248.97541</td>\n",
       "      <td>1.0</td>\n",
       "      <td>3.0</td>\n",
       "      <td>2023-02-17</td>\n",
       "    </tr>\n",
       "    <tr>\n",
       "      <th>1</th>\n",
       "      <td>33364</td>\n",
       "      <td>2031-04-12</td>\n",
       "      <td>110</td>\n",
       "      <td>160</td>\n",
       "      <td>4268</td>\n",
       "      <td>269.139344</td>\n",
       "      <td>1.0</td>\n",
       "      <td>2.0</td>\n",
       "      <td>2023-10-03</td>\n",
       "    </tr>\n",
       "    <tr>\n",
       "      <th>2</th>\n",
       "      <td>33366</td>\n",
       "      <td>2032-01-21</td>\n",
       "      <td>110</td>\n",
       "      <td>160</td>\n",
       "      <td>1507</td>\n",
       "      <td>71.598361</td>\n",
       "      <td>1.0</td>\n",
       "      <td>2.0</td>\n",
       "      <td>2023-04-03</td>\n",
       "    </tr>\n",
       "    <tr>\n",
       "      <th>3</th>\n",
       "      <td>33358</td>\n",
       "      <td>2032-11-30</td>\n",
       "      <td>110</td>\n",
       "      <td>160</td>\n",
       "      <td>30223</td>\n",
       "      <td>95.114754</td>\n",
       "      <td>NaN</td>\n",
       "      <td>2.0</td>\n",
       "      <td>2024-02-23</td>\n",
       "    </tr>\n",
       "    <tr>\n",
       "      <th>4</th>\n",
       "      <td>33349</td>\n",
       "      <td>2033-12-04</td>\n",
       "      <td>110</td>\n",
       "      <td>160</td>\n",
       "      <td>153839</td>\n",
       "      <td>1214.07377</td>\n",
       "      <td>1.0</td>\n",
       "      <td>NaN</td>\n",
       "      <td>2023-07-06</td>\n",
       "    </tr>\n",
       "  </tbody>\n",
       "</table>\n",
       "</div>"
      ],
      "text/plain": [
       "   wagnum    srok_sl  cnsi_probeg_dr  cnsi_probeg_kr  ost_prob    mean_run  \\\n",
       "0   33361 2033-03-01             110             160    159916  1248.97541   \n",
       "1   33364 2031-04-12             110             160      4268  269.139344   \n",
       "2   33366 2032-01-21             110             160      1507   71.598361   \n",
       "3   33358 2032-11-30             110             160     30223   95.114754   \n",
       "4   33349 2033-12-04             110             160    153839  1214.07377   \n",
       "\n",
       "   was_repair_in_prev_month  kod_vrab date_pl_rem  \n",
       "0                       1.0       3.0  2023-02-17  \n",
       "1                       1.0       2.0  2023-10-03  \n",
       "2                       1.0       2.0  2023-04-03  \n",
       "3                       NaN       2.0  2024-02-23  \n",
       "4                       1.0       NaN  2023-07-06  "
      ]
     },
     "execution_count": 27,
     "metadata": {},
     "output_type": "execute_result"
    }
   ],
   "source": [
    "wp.head()"
   ]
  },
  {
   "cell_type": "code",
   "execution_count": 28,
   "metadata": {
    "collapsed": false,
    "jupyter": {
     "outputs_hidden": false
    },
    "pycharm": {
     "name": "#%%\n"
    },
    "tags": []
   },
   "outputs": [],
   "source": [
    "# Получим среднесуточный пробег, как среднее от нормативов и реального пробега\n",
    "wp[['cnsi_probeg_dr','cnsi_probeg_kr','mean_run']] = wp[['cnsi_probeg_dr','cnsi_probeg_kr','mean_run']].fillna(0)\n",
    "wp['day_run'] = wp.apply(lambda x : [ val  for val in [x.cnsi_probeg_kr, x.cnsi_probeg_dr, x.mean_run] if val != 0], axis = 1 )"
   ]
  },
  {
   "cell_type": "code",
   "execution_count": 29,
   "metadata": {
    "tags": []
   },
   "outputs": [
    {
     "data": {
      "text/html": [
       "<div>\n",
       "<style scoped>\n",
       "    .dataframe tbody tr th:only-of-type {\n",
       "        vertical-align: middle;\n",
       "    }\n",
       "\n",
       "    .dataframe tbody tr th {\n",
       "        vertical-align: top;\n",
       "    }\n",
       "\n",
       "    .dataframe thead th {\n",
       "        text-align: right;\n",
       "    }\n",
       "</style>\n",
       "<table border=\"1\" class=\"dataframe\">\n",
       "  <thead>\n",
       "    <tr style=\"text-align: right;\">\n",
       "      <th></th>\n",
       "      <th>wagnum</th>\n",
       "      <th>srok_sl</th>\n",
       "      <th>cnsi_probeg_dr</th>\n",
       "      <th>cnsi_probeg_kr</th>\n",
       "      <th>ost_prob</th>\n",
       "      <th>mean_run</th>\n",
       "      <th>was_repair_in_prev_month</th>\n",
       "      <th>kod_vrab</th>\n",
       "      <th>date_pl_rem</th>\n",
       "      <th>day_run</th>\n",
       "    </tr>\n",
       "  </thead>\n",
       "  <tbody>\n",
       "    <tr>\n",
       "      <th>0</th>\n",
       "      <td>33361</td>\n",
       "      <td>2033-03-01</td>\n",
       "      <td>110</td>\n",
       "      <td>160</td>\n",
       "      <td>159916</td>\n",
       "      <td>1248.97541</td>\n",
       "      <td>1.0</td>\n",
       "      <td>3.0</td>\n",
       "      <td>2023-02-17</td>\n",
       "      <td>[160, 110, 1248.9754098360656]</td>\n",
       "    </tr>\n",
       "    <tr>\n",
       "      <th>1</th>\n",
       "      <td>33364</td>\n",
       "      <td>2031-04-12</td>\n",
       "      <td>110</td>\n",
       "      <td>160</td>\n",
       "      <td>4268</td>\n",
       "      <td>269.139344</td>\n",
       "      <td>1.0</td>\n",
       "      <td>2.0</td>\n",
       "      <td>2023-10-03</td>\n",
       "      <td>[160, 110, 269.1393442622951]</td>\n",
       "    </tr>\n",
       "    <tr>\n",
       "      <th>2</th>\n",
       "      <td>33366</td>\n",
       "      <td>2032-01-21</td>\n",
       "      <td>110</td>\n",
       "      <td>160</td>\n",
       "      <td>1507</td>\n",
       "      <td>71.598361</td>\n",
       "      <td>1.0</td>\n",
       "      <td>2.0</td>\n",
       "      <td>2023-04-03</td>\n",
       "      <td>[160, 110, 71.59836065573771]</td>\n",
       "    </tr>\n",
       "    <tr>\n",
       "      <th>3</th>\n",
       "      <td>33358</td>\n",
       "      <td>2032-11-30</td>\n",
       "      <td>110</td>\n",
       "      <td>160</td>\n",
       "      <td>30223</td>\n",
       "      <td>95.114754</td>\n",
       "      <td>NaN</td>\n",
       "      <td>2.0</td>\n",
       "      <td>2024-02-23</td>\n",
       "      <td>[160, 110, 95.11475409836065]</td>\n",
       "    </tr>\n",
       "    <tr>\n",
       "      <th>4</th>\n",
       "      <td>33349</td>\n",
       "      <td>2033-12-04</td>\n",
       "      <td>110</td>\n",
       "      <td>160</td>\n",
       "      <td>153839</td>\n",
       "      <td>1214.07377</td>\n",
       "      <td>1.0</td>\n",
       "      <td>NaN</td>\n",
       "      <td>2023-07-06</td>\n",
       "      <td>[160, 110, 1214.0737704918033]</td>\n",
       "    </tr>\n",
       "  </tbody>\n",
       "</table>\n",
       "</div>"
      ],
      "text/plain": [
       "   wagnum    srok_sl  cnsi_probeg_dr  cnsi_probeg_kr  ost_prob    mean_run  \\\n",
       "0   33361 2033-03-01             110             160    159916  1248.97541   \n",
       "1   33364 2031-04-12             110             160      4268  269.139344   \n",
       "2   33366 2032-01-21             110             160      1507   71.598361   \n",
       "3   33358 2032-11-30             110             160     30223   95.114754   \n",
       "4   33349 2033-12-04             110             160    153839  1214.07377   \n",
       "\n",
       "   was_repair_in_prev_month  kod_vrab date_pl_rem  \\\n",
       "0                       1.0       3.0  2023-02-17   \n",
       "1                       1.0       2.0  2023-10-03   \n",
       "2                       1.0       2.0  2023-04-03   \n",
       "3                       NaN       2.0  2024-02-23   \n",
       "4                       1.0       NaN  2023-07-06   \n",
       "\n",
       "                          day_run  \n",
       "0  [160, 110, 1248.9754098360656]  \n",
       "1   [160, 110, 269.1393442622951]  \n",
       "2   [160, 110, 71.59836065573771]  \n",
       "3   [160, 110, 95.11475409836065]  \n",
       "4  [160, 110, 1214.0737704918033]  "
      ]
     },
     "execution_count": 29,
     "metadata": {},
     "output_type": "execute_result"
    }
   ],
   "source": [
    "wp.head()"
   ]
  },
  {
   "cell_type": "code",
   "execution_count": 30,
   "metadata": {
    "tags": []
   },
   "outputs": [],
   "source": [
    "wp['day_run']= wp.apply(lambda x : np.mean(x.day_run) if len(x.day_run)> 0 else 0, axis = 1 )"
   ]
  },
  {
   "cell_type": "code",
   "execution_count": 31,
   "metadata": {
    "tags": []
   },
   "outputs": [
    {
     "data": {
      "text/html": [
       "<div>\n",
       "<style scoped>\n",
       "    .dataframe tbody tr th:only-of-type {\n",
       "        vertical-align: middle;\n",
       "    }\n",
       "\n",
       "    .dataframe tbody tr th {\n",
       "        vertical-align: top;\n",
       "    }\n",
       "\n",
       "    .dataframe thead th {\n",
       "        text-align: right;\n",
       "    }\n",
       "</style>\n",
       "<table border=\"1\" class=\"dataframe\">\n",
       "  <thead>\n",
       "    <tr style=\"text-align: right;\">\n",
       "      <th></th>\n",
       "      <th>wagnum</th>\n",
       "      <th>srok_sl</th>\n",
       "      <th>cnsi_probeg_dr</th>\n",
       "      <th>cnsi_probeg_kr</th>\n",
       "      <th>ost_prob</th>\n",
       "      <th>mean_run</th>\n",
       "      <th>was_repair_in_prev_month</th>\n",
       "      <th>kod_vrab</th>\n",
       "      <th>date_pl_rem</th>\n",
       "      <th>day_run</th>\n",
       "    </tr>\n",
       "  </thead>\n",
       "  <tbody>\n",
       "    <tr>\n",
       "      <th>0</th>\n",
       "      <td>33361</td>\n",
       "      <td>2033-03-01</td>\n",
       "      <td>110</td>\n",
       "      <td>160</td>\n",
       "      <td>159916</td>\n",
       "      <td>1248.97541</td>\n",
       "      <td>1.0</td>\n",
       "      <td>3.0</td>\n",
       "      <td>2023-02-17</td>\n",
       "      <td>506.325137</td>\n",
       "    </tr>\n",
       "    <tr>\n",
       "      <th>1</th>\n",
       "      <td>33364</td>\n",
       "      <td>2031-04-12</td>\n",
       "      <td>110</td>\n",
       "      <td>160</td>\n",
       "      <td>4268</td>\n",
       "      <td>269.139344</td>\n",
       "      <td>1.0</td>\n",
       "      <td>2.0</td>\n",
       "      <td>2023-10-03</td>\n",
       "      <td>179.713115</td>\n",
       "    </tr>\n",
       "    <tr>\n",
       "      <th>2</th>\n",
       "      <td>33366</td>\n",
       "      <td>2032-01-21</td>\n",
       "      <td>110</td>\n",
       "      <td>160</td>\n",
       "      <td>1507</td>\n",
       "      <td>71.598361</td>\n",
       "      <td>1.0</td>\n",
       "      <td>2.0</td>\n",
       "      <td>2023-04-03</td>\n",
       "      <td>113.866120</td>\n",
       "    </tr>\n",
       "    <tr>\n",
       "      <th>3</th>\n",
       "      <td>33358</td>\n",
       "      <td>2032-11-30</td>\n",
       "      <td>110</td>\n",
       "      <td>160</td>\n",
       "      <td>30223</td>\n",
       "      <td>95.114754</td>\n",
       "      <td>NaN</td>\n",
       "      <td>2.0</td>\n",
       "      <td>2024-02-23</td>\n",
       "      <td>121.704918</td>\n",
       "    </tr>\n",
       "    <tr>\n",
       "      <th>4</th>\n",
       "      <td>33349</td>\n",
       "      <td>2033-12-04</td>\n",
       "      <td>110</td>\n",
       "      <td>160</td>\n",
       "      <td>153839</td>\n",
       "      <td>1214.07377</td>\n",
       "      <td>1.0</td>\n",
       "      <td>NaN</td>\n",
       "      <td>2023-07-06</td>\n",
       "      <td>494.691257</td>\n",
       "    </tr>\n",
       "  </tbody>\n",
       "</table>\n",
       "</div>"
      ],
      "text/plain": [
       "   wagnum    srok_sl  cnsi_probeg_dr  cnsi_probeg_kr  ost_prob    mean_run  \\\n",
       "0   33361 2033-03-01             110             160    159916  1248.97541   \n",
       "1   33364 2031-04-12             110             160      4268  269.139344   \n",
       "2   33366 2032-01-21             110             160      1507   71.598361   \n",
       "3   33358 2032-11-30             110             160     30223   95.114754   \n",
       "4   33349 2033-12-04             110             160    153839  1214.07377   \n",
       "\n",
       "   was_repair_in_prev_month  kod_vrab date_pl_rem     day_run  \n",
       "0                       1.0       3.0  2023-02-17  506.325137  \n",
       "1                       1.0       2.0  2023-10-03  179.713115  \n",
       "2                       1.0       2.0  2023-04-03  113.866120  \n",
       "3                       NaN       2.0  2024-02-23  121.704918  \n",
       "4                       1.0       NaN  2023-07-06  494.691257  "
      ]
     },
     "execution_count": 31,
     "metadata": {},
     "output_type": "execute_result"
    }
   ],
   "source": [
    "wp.head()"
   ]
  },
  {
   "cell_type": "code",
   "execution_count": 32,
   "metadata": {
    "collapsed": false,
    "jupyter": {
     "outputs_hidden": false
    },
    "pycharm": {
     "name": "#%%\n"
    },
    "tags": []
   },
   "outputs": [],
   "source": [
    "wp['current_date'] = month_to_predict"
   ]
  },
  {
   "cell_type": "code",
   "execution_count": 33,
   "metadata": {
    "collapsed": false,
    "jupyter": {
     "outputs_hidden": false
    },
    "pycharm": {
     "name": "#%%\n"
    },
    "tags": []
   },
   "outputs": [],
   "source": [
    "# определим, сколько дней осталось до истечения срока службы\n",
    "wp['date_diff_srk_sl'] = wp['srok_sl']- wp['current_date']"
   ]
  },
  {
   "cell_type": "code",
   "execution_count": 34,
   "metadata": {
    "collapsed": false,
    "jupyter": {
     "outputs_hidden": false
    },
    "pycharm": {
     "name": "#%%\n"
    },
    "tags": []
   },
   "outputs": [],
   "source": [
    "# определим, сколько дней осталось до ближайшего ПР\n",
    "wp['date_diff_pl_rem'] = wp['date_pl_rem']- wp['current_date']"
   ]
  },
  {
   "cell_type": "code",
   "execution_count": 35,
   "metadata": {
    "collapsed": false,
    "jupyter": {
     "outputs_hidden": false
    },
    "pycharm": {
     "name": "#%%\n"
    },
    "tags": []
   },
   "outputs": [],
   "source": [
    "# определим, какой остаточный ресурс будет на момент окончания месяца\n",
    "wp['prob_end_month'] = wp['ost_prob'] - wp['day_run']* 30"
   ]
  },
  {
   "cell_type": "code",
   "execution_count": 36,
   "metadata": {
    "collapsed": false,
    "jupyter": {
     "outputs_hidden": false
    },
    "pycharm": {
     "name": "#%%\n"
    },
    "tags": []
   },
   "outputs": [],
   "source": [
    "wp['target_month'] = 0"
   ]
  },
  {
   "cell_type": "code",
   "execution_count": 37,
   "metadata": {
    "tags": []
   },
   "outputs": [
    {
     "data": {
      "text/html": [
       "<div>\n",
       "<style scoped>\n",
       "    .dataframe tbody tr th:only-of-type {\n",
       "        vertical-align: middle;\n",
       "    }\n",
       "\n",
       "    .dataframe tbody tr th {\n",
       "        vertical-align: top;\n",
       "    }\n",
       "\n",
       "    .dataframe thead th {\n",
       "        text-align: right;\n",
       "    }\n",
       "</style>\n",
       "<table border=\"1\" class=\"dataframe\">\n",
       "  <thead>\n",
       "    <tr style=\"text-align: right;\">\n",
       "      <th></th>\n",
       "      <th>wagnum</th>\n",
       "      <th>srok_sl</th>\n",
       "      <th>cnsi_probeg_dr</th>\n",
       "      <th>cnsi_probeg_kr</th>\n",
       "      <th>ost_prob</th>\n",
       "      <th>mean_run</th>\n",
       "      <th>was_repair_in_prev_month</th>\n",
       "      <th>kod_vrab</th>\n",
       "      <th>date_pl_rem</th>\n",
       "      <th>day_run</th>\n",
       "      <th>current_date</th>\n",
       "      <th>date_diff_srk_sl</th>\n",
       "      <th>date_diff_pl_rem</th>\n",
       "      <th>prob_end_month</th>\n",
       "      <th>target_month</th>\n",
       "    </tr>\n",
       "  </thead>\n",
       "  <tbody>\n",
       "    <tr>\n",
       "      <th>0</th>\n",
       "      <td>33361</td>\n",
       "      <td>2033-03-01</td>\n",
       "      <td>110</td>\n",
       "      <td>160</td>\n",
       "      <td>159916</td>\n",
       "      <td>1248.97541</td>\n",
       "      <td>1.0</td>\n",
       "      <td>3.0</td>\n",
       "      <td>2023-02-17</td>\n",
       "      <td>506.325137</td>\n",
       "      <td>2022-12-01</td>\n",
       "      <td>3743 days</td>\n",
       "      <td>78 days</td>\n",
       "      <td>144726.245902</td>\n",
       "      <td>0</td>\n",
       "    </tr>\n",
       "    <tr>\n",
       "      <th>1</th>\n",
       "      <td>33364</td>\n",
       "      <td>2031-04-12</td>\n",
       "      <td>110</td>\n",
       "      <td>160</td>\n",
       "      <td>4268</td>\n",
       "      <td>269.139344</td>\n",
       "      <td>1.0</td>\n",
       "      <td>2.0</td>\n",
       "      <td>2023-10-03</td>\n",
       "      <td>179.713115</td>\n",
       "      <td>2022-12-01</td>\n",
       "      <td>3054 days</td>\n",
       "      <td>306 days</td>\n",
       "      <td>-1123.393443</td>\n",
       "      <td>0</td>\n",
       "    </tr>\n",
       "    <tr>\n",
       "      <th>2</th>\n",
       "      <td>33366</td>\n",
       "      <td>2032-01-21</td>\n",
       "      <td>110</td>\n",
       "      <td>160</td>\n",
       "      <td>1507</td>\n",
       "      <td>71.598361</td>\n",
       "      <td>1.0</td>\n",
       "      <td>2.0</td>\n",
       "      <td>2023-04-03</td>\n",
       "      <td>113.866120</td>\n",
       "      <td>2022-12-01</td>\n",
       "      <td>3338 days</td>\n",
       "      <td>123 days</td>\n",
       "      <td>-1908.983607</td>\n",
       "      <td>0</td>\n",
       "    </tr>\n",
       "    <tr>\n",
       "      <th>3</th>\n",
       "      <td>33358</td>\n",
       "      <td>2032-11-30</td>\n",
       "      <td>110</td>\n",
       "      <td>160</td>\n",
       "      <td>30223</td>\n",
       "      <td>95.114754</td>\n",
       "      <td>NaN</td>\n",
       "      <td>2.0</td>\n",
       "      <td>2024-02-23</td>\n",
       "      <td>121.704918</td>\n",
       "      <td>2022-12-01</td>\n",
       "      <td>3652 days</td>\n",
       "      <td>449 days</td>\n",
       "      <td>26571.852459</td>\n",
       "      <td>0</td>\n",
       "    </tr>\n",
       "    <tr>\n",
       "      <th>4</th>\n",
       "      <td>33349</td>\n",
       "      <td>2033-12-04</td>\n",
       "      <td>110</td>\n",
       "      <td>160</td>\n",
       "      <td>153839</td>\n",
       "      <td>1214.07377</td>\n",
       "      <td>1.0</td>\n",
       "      <td>NaN</td>\n",
       "      <td>2023-07-06</td>\n",
       "      <td>494.691257</td>\n",
       "      <td>2022-12-01</td>\n",
       "      <td>4021 days</td>\n",
       "      <td>217 days</td>\n",
       "      <td>138998.262295</td>\n",
       "      <td>0</td>\n",
       "    </tr>\n",
       "  </tbody>\n",
       "</table>\n",
       "</div>"
      ],
      "text/plain": [
       "   wagnum    srok_sl  cnsi_probeg_dr  cnsi_probeg_kr  ost_prob    mean_run  \\\n",
       "0   33361 2033-03-01             110             160    159916  1248.97541   \n",
       "1   33364 2031-04-12             110             160      4268  269.139344   \n",
       "2   33366 2032-01-21             110             160      1507   71.598361   \n",
       "3   33358 2032-11-30             110             160     30223   95.114754   \n",
       "4   33349 2033-12-04             110             160    153839  1214.07377   \n",
       "\n",
       "   was_repair_in_prev_month  kod_vrab date_pl_rem     day_run current_date  \\\n",
       "0                       1.0       3.0  2023-02-17  506.325137   2022-12-01   \n",
       "1                       1.0       2.0  2023-10-03  179.713115   2022-12-01   \n",
       "2                       1.0       2.0  2023-04-03  113.866120   2022-12-01   \n",
       "3                       NaN       2.0  2024-02-23  121.704918   2022-12-01   \n",
       "4                       1.0       NaN  2023-07-06  494.691257   2022-12-01   \n",
       "\n",
       "  date_diff_srk_sl date_diff_pl_rem  prob_end_month  target_month  \n",
       "0        3743 days          78 days   144726.245902             0  \n",
       "1        3054 days         306 days    -1123.393443             0  \n",
       "2        3338 days         123 days    -1908.983607             0  \n",
       "3        3652 days         449 days    26571.852459             0  \n",
       "4        4021 days         217 days   138998.262295             0  "
      ]
     },
     "execution_count": 37,
     "metadata": {},
     "output_type": "execute_result"
    }
   ],
   "source": [
    "wp.head()"
   ]
  },
  {
   "cell_type": "code",
   "execution_count": 38,
   "metadata": {
    "tags": []
   },
   "outputs": [
    {
     "data": {
      "text/plain": [
       "Timedelta('40 days 00:00:00')"
      ]
     },
     "execution_count": 38,
     "metadata": {},
     "output_type": "execute_result"
    }
   ],
   "source": [
    "pd.to_timedelta('40 days')"
   ]
  },
  {
   "cell_type": "code",
   "execution_count": 39,
   "metadata": {
    "collapsed": false,
    "jupyter": {
     "outputs_hidden": false
    },
    "pycharm": {
     "name": "#%%\n"
    },
    "tags": []
   },
   "outputs": [],
   "source": [
    "# вагон выбывает в ПР в следующем месяце, если:\n",
    "# остаточный пробег < 5 000 км\n",
    "# срок службы < 500 лней\n",
    "# до следующего  ПР < 40 дней\n",
    "# ,число текущих ремонтов > 5\n",
    "wp.loc[(wp.prob_end_month <= 5000) \\\n",
    "       | (wp.date_diff_srk_sl < pd.to_timedelta('500 days'))\\\n",
    "        | (wp.date_diff_pl_rem < pd.to_timedelta('40 days')) \\\n",
    "        | (wp.kod_vrab > 5),'target_month'] = 1"
   ]
  },
  {
   "cell_type": "code",
   "execution_count": 40,
   "metadata": {
    "collapsed": false,
    "jupyter": {
     "outputs_hidden": false
    },
    "pycharm": {
     "name": "#%%\n"
    },
    "tags": []
   },
   "outputs": [],
   "source": [
    "wp['target_day'] = wp['target_month']"
   ]
  },
  {
   "cell_type": "code",
   "execution_count": 41,
   "metadata": {
    "tags": []
   },
   "outputs": [
    {
     "data": {
      "text/html": [
       "<div>\n",
       "<style scoped>\n",
       "    .dataframe tbody tr th:only-of-type {\n",
       "        vertical-align: middle;\n",
       "    }\n",
       "\n",
       "    .dataframe tbody tr th {\n",
       "        vertical-align: top;\n",
       "    }\n",
       "\n",
       "    .dataframe thead th {\n",
       "        text-align: right;\n",
       "    }\n",
       "</style>\n",
       "<table border=\"1\" class=\"dataframe\">\n",
       "  <thead>\n",
       "    <tr style=\"text-align: right;\">\n",
       "      <th></th>\n",
       "      <th>wagnum</th>\n",
       "      <th>srok_sl</th>\n",
       "      <th>cnsi_probeg_dr</th>\n",
       "      <th>cnsi_probeg_kr</th>\n",
       "      <th>ost_prob</th>\n",
       "      <th>mean_run</th>\n",
       "      <th>was_repair_in_prev_month</th>\n",
       "      <th>kod_vrab</th>\n",
       "      <th>date_pl_rem</th>\n",
       "      <th>day_run</th>\n",
       "      <th>current_date</th>\n",
       "      <th>date_diff_srk_sl</th>\n",
       "      <th>date_diff_pl_rem</th>\n",
       "      <th>prob_end_month</th>\n",
       "      <th>target_month</th>\n",
       "      <th>target_day</th>\n",
       "    </tr>\n",
       "  </thead>\n",
       "  <tbody>\n",
       "    <tr>\n",
       "      <th>0</th>\n",
       "      <td>33361</td>\n",
       "      <td>2033-03-01</td>\n",
       "      <td>110</td>\n",
       "      <td>160</td>\n",
       "      <td>159916</td>\n",
       "      <td>1248.97541</td>\n",
       "      <td>1.0</td>\n",
       "      <td>3.0</td>\n",
       "      <td>2023-02-17</td>\n",
       "      <td>506.325137</td>\n",
       "      <td>2022-12-01</td>\n",
       "      <td>3743 days</td>\n",
       "      <td>78 days</td>\n",
       "      <td>144726.245902</td>\n",
       "      <td>0</td>\n",
       "      <td>0</td>\n",
       "    </tr>\n",
       "    <tr>\n",
       "      <th>1</th>\n",
       "      <td>33364</td>\n",
       "      <td>2031-04-12</td>\n",
       "      <td>110</td>\n",
       "      <td>160</td>\n",
       "      <td>4268</td>\n",
       "      <td>269.139344</td>\n",
       "      <td>1.0</td>\n",
       "      <td>2.0</td>\n",
       "      <td>2023-10-03</td>\n",
       "      <td>179.713115</td>\n",
       "      <td>2022-12-01</td>\n",
       "      <td>3054 days</td>\n",
       "      <td>306 days</td>\n",
       "      <td>-1123.393443</td>\n",
       "      <td>1</td>\n",
       "      <td>1</td>\n",
       "    </tr>\n",
       "    <tr>\n",
       "      <th>2</th>\n",
       "      <td>33366</td>\n",
       "      <td>2032-01-21</td>\n",
       "      <td>110</td>\n",
       "      <td>160</td>\n",
       "      <td>1507</td>\n",
       "      <td>71.598361</td>\n",
       "      <td>1.0</td>\n",
       "      <td>2.0</td>\n",
       "      <td>2023-04-03</td>\n",
       "      <td>113.866120</td>\n",
       "      <td>2022-12-01</td>\n",
       "      <td>3338 days</td>\n",
       "      <td>123 days</td>\n",
       "      <td>-1908.983607</td>\n",
       "      <td>1</td>\n",
       "      <td>1</td>\n",
       "    </tr>\n",
       "    <tr>\n",
       "      <th>3</th>\n",
       "      <td>33358</td>\n",
       "      <td>2032-11-30</td>\n",
       "      <td>110</td>\n",
       "      <td>160</td>\n",
       "      <td>30223</td>\n",
       "      <td>95.114754</td>\n",
       "      <td>NaN</td>\n",
       "      <td>2.0</td>\n",
       "      <td>2024-02-23</td>\n",
       "      <td>121.704918</td>\n",
       "      <td>2022-12-01</td>\n",
       "      <td>3652 days</td>\n",
       "      <td>449 days</td>\n",
       "      <td>26571.852459</td>\n",
       "      <td>0</td>\n",
       "      <td>0</td>\n",
       "    </tr>\n",
       "    <tr>\n",
       "      <th>4</th>\n",
       "      <td>33349</td>\n",
       "      <td>2033-12-04</td>\n",
       "      <td>110</td>\n",
       "      <td>160</td>\n",
       "      <td>153839</td>\n",
       "      <td>1214.07377</td>\n",
       "      <td>1.0</td>\n",
       "      <td>NaN</td>\n",
       "      <td>2023-07-06</td>\n",
       "      <td>494.691257</td>\n",
       "      <td>2022-12-01</td>\n",
       "      <td>4021 days</td>\n",
       "      <td>217 days</td>\n",
       "      <td>138998.262295</td>\n",
       "      <td>0</td>\n",
       "      <td>0</td>\n",
       "    </tr>\n",
       "  </tbody>\n",
       "</table>\n",
       "</div>"
      ],
      "text/plain": [
       "   wagnum    srok_sl  cnsi_probeg_dr  cnsi_probeg_kr  ost_prob    mean_run  \\\n",
       "0   33361 2033-03-01             110             160    159916  1248.97541   \n",
       "1   33364 2031-04-12             110             160      4268  269.139344   \n",
       "2   33366 2032-01-21             110             160      1507   71.598361   \n",
       "3   33358 2032-11-30             110             160     30223   95.114754   \n",
       "4   33349 2033-12-04             110             160    153839  1214.07377   \n",
       "\n",
       "   was_repair_in_prev_month  kod_vrab date_pl_rem     day_run current_date  \\\n",
       "0                       1.0       3.0  2023-02-17  506.325137   2022-12-01   \n",
       "1                       1.0       2.0  2023-10-03  179.713115   2022-12-01   \n",
       "2                       1.0       2.0  2023-04-03  113.866120   2022-12-01   \n",
       "3                       NaN       2.0  2024-02-23  121.704918   2022-12-01   \n",
       "4                       1.0       NaN  2023-07-06  494.691257   2022-12-01   \n",
       "\n",
       "  date_diff_srk_sl date_diff_pl_rem  prob_end_month  target_month  target_day  \n",
       "0        3743 days          78 days   144726.245902             0           0  \n",
       "1        3054 days         306 days    -1123.393443             1           1  \n",
       "2        3338 days         123 days    -1908.983607             1           1  \n",
       "3        3652 days         449 days    26571.852459             0           0  \n",
       "4        4021 days         217 days   138998.262295             0           0  "
      ]
     },
     "execution_count": 41,
     "metadata": {},
     "output_type": "execute_result"
    }
   ],
   "source": [
    "wp.head()"
   ]
  },
  {
   "cell_type": "code",
   "execution_count": 42,
   "metadata": {
    "collapsed": false,
    "jupyter": {
     "outputs_hidden": false
    },
    "pycharm": {
     "name": "#%%\n"
    },
    "tags": []
   },
   "outputs": [],
   "source": [
    "pred_target = target[['wagnum']].merge(wp[['wagnum','target_month','target_day']],how = 'left')\n",
    "pred_target = pred_target.drop_duplicates(subset = 'wagnum')"
   ]
  },
  {
   "cell_type": "code",
   "execution_count": 43,
   "metadata": {
    "tags": []
   },
   "outputs": [
    {
     "data": {
      "text/html": [
       "<div>\n",
       "<style scoped>\n",
       "    .dataframe tbody tr th:only-of-type {\n",
       "        vertical-align: middle;\n",
       "    }\n",
       "\n",
       "    .dataframe tbody tr th {\n",
       "        vertical-align: top;\n",
       "    }\n",
       "\n",
       "    .dataframe thead th {\n",
       "        text-align: right;\n",
       "    }\n",
       "</style>\n",
       "<table border=\"1\" class=\"dataframe\">\n",
       "  <thead>\n",
       "    <tr style=\"text-align: right;\">\n",
       "      <th></th>\n",
       "      <th>wagnum</th>\n",
       "      <th>target_month</th>\n",
       "      <th>target_day</th>\n",
       "    </tr>\n",
       "  </thead>\n",
       "  <tbody>\n",
       "    <tr>\n",
       "      <th>0</th>\n",
       "      <td>33361</td>\n",
       "      <td>0</td>\n",
       "      <td>0</td>\n",
       "    </tr>\n",
       "    <tr>\n",
       "      <th>1</th>\n",
       "      <td>33364</td>\n",
       "      <td>1</td>\n",
       "      <td>1</td>\n",
       "    </tr>\n",
       "    <tr>\n",
       "      <th>2</th>\n",
       "      <td>33366</td>\n",
       "      <td>1</td>\n",
       "      <td>1</td>\n",
       "    </tr>\n",
       "    <tr>\n",
       "      <th>3</th>\n",
       "      <td>33358</td>\n",
       "      <td>0</td>\n",
       "      <td>0</td>\n",
       "    </tr>\n",
       "    <tr>\n",
       "      <th>4</th>\n",
       "      <td>33349</td>\n",
       "      <td>0</td>\n",
       "      <td>0</td>\n",
       "    </tr>\n",
       "  </tbody>\n",
       "</table>\n",
       "</div>"
      ],
      "text/plain": [
       "   wagnum  target_month  target_day\n",
       "0   33361             0           0\n",
       "1   33364             1           1\n",
       "2   33366             1           1\n",
       "3   33358             0           0\n",
       "4   33349             0           0"
      ]
     },
     "execution_count": 43,
     "metadata": {},
     "output_type": "execute_result"
    }
   ],
   "source": [
    "pred_target.head()"
   ]
  },
  {
   "cell_type": "code",
   "execution_count": 44,
   "metadata": {
    "collapsed": false,
    "jupyter": {
     "outputs_hidden": false
    },
    "pycharm": {
     "name": "#%%\n"
    }
   },
   "outputs": [
    {
     "data": {
      "text/plain": [
       "4.08"
      ]
     },
     "execution_count": 44,
     "metadata": {},
     "output_type": "execute_result"
    }
   ],
   "source": [
    "# Проверим соотношение отмеченных вагонов с фактическим значением\n",
    "round(pred_target.target_month.sum() / target.target_month.sum(), 2)"
   ]
  },
  {
   "cell_type": "code",
   "execution_count": 45,
   "metadata": {
    "collapsed": false,
    "jupyter": {
     "outputs_hidden": false
    },
    "pycharm": {
     "name": "#%%\n"
    },
    "tags": []
   },
   "outputs": [],
   "source": [
    "# сохраним таргет за месяц  для выбранного периода отдельно\n",
    "target_path = './prediction/target_predicton.csv'"
   ]
  },
  {
   "cell_type": "code",
   "execution_count": 46,
   "metadata": {
    "collapsed": false,
    "jupyter": {
     "outputs_hidden": false
    },
    "pycharm": {
     "name": "#%%\n"
    },
    "tags": []
   },
   "outputs": [],
   "source": [
    "pred_target.drop_duplicates(subset = 'wagnum').to_csv(target_path, index=False)"
   ]
  },
  {
   "cell_type": "code",
   "execution_count": 47,
   "metadata": {
    "collapsed": false,
    "jupyter": {
     "outputs_hidden": false
    },
    "pycharm": {
     "name": "#%%\n"
    },
    "tags": []
   },
   "outputs": [],
   "source": [
    "true_target_path = './prediction/target_predicton_true.csv'"
   ]
  },
  {
   "cell_type": "code",
   "execution_count": 48,
   "metadata": {
    "collapsed": false,
    "jupyter": {
     "outputs_hidden": false
    },
    "pycharm": {
     "name": "#%%\n"
    },
    "tags": []
   },
   "outputs": [],
   "source": [
    "target.drop_duplicates(subset = 'wagnum').to_csv(true_target_path, index=False)"
   ]
  },
  {
   "cell_type": "code",
   "execution_count": 49,
   "metadata": {
    "collapsed": false,
    "jupyter": {
     "outputs_hidden": false
    },
    "pycharm": {
     "name": "#%%\n"
    },
    "tags": []
   },
   "outputs": [
    {
     "data": {
      "text/plain": [
       "0.24597196903853533"
      ]
     },
     "execution_count": 49,
     "metadata": {},
     "output_type": "execute_result"
    }
   ],
   "source": [
    "# оценим насколько хорошо удалось предсказать выбытие вагонов  по месяцу и по 10 дням\n",
    "calc_f1_score( true_target_path, target_path,)"
   ]
  },
  {
   "cell_type": "code",
   "execution_count": null,
   "metadata": {
    "collapsed": false,
    "jupyter": {
     "outputs_hidden": false
    },
    "pycharm": {
     "name": "#%%\n"
    }
   },
   "outputs": [],
   "source": []
  }
 ],
 "metadata": {
  "kernelspec": {
   "display_name": "Python 3 (ipykernel)",
   "language": "python",
   "name": "python3"
  },
  "language_info": {
   "codemirror_mode": {
    "name": "ipython",
    "version": 3
   },
   "file_extension": ".py",
   "mimetype": "text/x-python",
   "name": "python",
   "nbconvert_exporter": "python",
   "pygments_lexer": "ipython3",
   "version": "3.10.0"
  }
 },
 "nbformat": 4,
 "nbformat_minor": 4
}
