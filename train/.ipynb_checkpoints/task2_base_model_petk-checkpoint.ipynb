{
 "cells": [
  {
   "cell_type": "code",
   "execution_count": 2,
   "metadata": {
    "ExecuteTime": {
     "end_time": "2023-10-30T12:12:44.453550500Z",
     "start_time": "2023-10-30T12:12:31.873323700Z"
    },
    "id": "WDegxLmL1p-c",
    "tags": []
   },
   "outputs": [],
   "source": [
    "import pandas as pd\n",
    "import numpy as np"
   ]
  },
  {
   "cell_type": "code",
   "execution_count": 65,
   "metadata": {
    "tags": []
   },
   "outputs": [],
   "source": [
    "from sklearn.model_selection import GridSearchCV, cross_val_score, train_test_split"
   ]
  },
  {
   "cell_type": "code",
   "execution_count": 68,
   "metadata": {
    "id": "tDh37OqsHpOJ"
   },
   "outputs": [],
   "source": [
    "from catboost import CatBoostClassifier\n",
    "from sklearn.metrics import f1_score"
   ]
  },
  {
   "cell_type": "markdown",
   "metadata": {
    "id": "mjKUUbGy1p-e",
    "jp-MarkdownHeadingCollapsed": true,
    "tags": []
   },
   "source": [
    "# Загрузка данных"
   ]
  },
  {
   "cell_type": "code",
   "execution_count": 147,
   "metadata": {
    "id": "HINXxANYZXKq"
   },
   "outputs": [],
   "source": [
    "#/content/y_train.csv/content/dislok_wagons.parquet"
   ]
  },
  {
   "cell_type": "code",
   "execution_count": 5,
   "metadata": {
    "id": "Xuckc4211p-i",
    "pycharm": {
     "name": "#%%\n"
    },
    "tags": []
   },
   "outputs": [],
   "source": [
    "path_train = r\".\""
   ]
  },
  {
   "cell_type": "code",
   "execution_count": 125,
   "metadata": {
    "tags": []
   },
   "outputs": [],
   "source": [
    "# данные по дислокации\n",
    "dislok = pd.read_parquet(path_train + '/dislok_wagons.parquet').convert_dtypes()"
   ]
  },
  {
   "cell_type": "code",
   "execution_count": 7,
   "metadata": {
    "id": "tYlL4qT61p-i",
    "pycharm": {
     "name": "#%%\n"
    },
    "tags": []
   },
   "outputs": [],
   "source": [
    "# данные по текущим ремонтам\n",
    "pr_rem = pd.read_parquet(path_train + '/pr_rems.parquet').convert_dtypes()\n",
    "# список вагонов с остаточным пробегом на момент прогноза\n",
    "wag_prob = pd.read_parquet(path_train + '/wagons_probeg_ownersip.parquet').convert_dtypes()\n",
    " # параметры вагона\n",
    "wag_param = pd.read_parquet(path_train + '/wag_params.parquet').convert_dtypes()\n",
    "# таргет по прогноза выбытия вагонов в ПР на месяц и на 10 дней\n",
    "target = pd.read_csv(path_train +'/target/y_train.csv').convert_dtypes()\n",
    "target2 = pd.read_csv(path_train +'/target/y_train.csv').convert_dtypes()\n",
    "\n",
    " # текущие ремонты вагонов\n",
    "tr_rem = pd.read_parquet(path_train + '/tr_rems.parquet').convert_dtypes()"
   ]
  },
  {
   "cell_type": "code",
   "execution_count": 8,
   "metadata": {
    "colab": {
     "base_uri": "https://localhost:8080/",
     "height": 206
    },
    "id": "w469LeU0OyEl",
    "outputId": "76001a09-dbb0-4bc6-ce45-b45895dc28cf"
   },
   "outputs": [
    {
     "data": {
      "text/html": [
       "<div>\n",
       "<style scoped>\n",
       "    .dataframe tbody tr th:only-of-type {\n",
       "        vertical-align: middle;\n",
       "    }\n",
       "\n",
       "    .dataframe tbody tr th {\n",
       "        vertical-align: top;\n",
       "    }\n",
       "\n",
       "    .dataframe thead th {\n",
       "        text-align: right;\n",
       "    }\n",
       "</style>\n",
       "<table border=\"1\" class=\"dataframe\">\n",
       "  <thead>\n",
       "    <tr style=\"text-align: right;\">\n",
       "      <th></th>\n",
       "      <th>plan_date</th>\n",
       "      <th>wagnum</th>\n",
       "      <th>date_kap</th>\n",
       "      <th>date_dep</th>\n",
       "      <th>kod_vrab</th>\n",
       "      <th>date_pl_rem</th>\n",
       "      <th>id_road_disl</th>\n",
       "      <th>st_id_dest</th>\n",
       "      <th>id_road_dest</th>\n",
       "      <th>st_id_send</th>\n",
       "      <th>id_road_send</th>\n",
       "      <th>ost_prob</th>\n",
       "      <th>isload</th>\n",
       "      <th>fr_id</th>\n",
       "      <th>last_fr_id</th>\n",
       "      <th>distance</th>\n",
       "    </tr>\n",
       "  </thead>\n",
       "  <tbody>\n",
       "    <tr>\n",
       "      <th>0</th>\n",
       "      <td>2022-08-01</td>\n",
       "      <td>1071</td>\n",
       "      <td>NaT</td>\n",
       "      <td>2020-02-16</td>\n",
       "      <td>0</td>\n",
       "      <td>2023-02-16</td>\n",
       "      <td>42</td>\n",
       "      <td>22</td>\n",
       "      <td>42</td>\n",
       "      <td>11470</td>\n",
       "      <td>42</td>\n",
       "      <td>36899</td>\n",
       "      <td>0</td>\n",
       "      <td>5032</td>\n",
       "      <td>1413</td>\n",
       "      <td>-1</td>\n",
       "    </tr>\n",
       "    <tr>\n",
       "      <th>1</th>\n",
       "      <td>2022-08-02</td>\n",
       "      <td>1071</td>\n",
       "      <td>NaT</td>\n",
       "      <td>2020-02-16</td>\n",
       "      <td>0</td>\n",
       "      <td>2023-02-16</td>\n",
       "      <td>42</td>\n",
       "      <td>11663</td>\n",
       "      <td>0</td>\n",
       "      <td>11470</td>\n",
       "      <td>42</td>\n",
       "      <td>36899</td>\n",
       "      <td>1</td>\n",
       "      <td>1204</td>\n",
       "      <td>1204</td>\n",
       "      <td>998</td>\n",
       "    </tr>\n",
       "    <tr>\n",
       "      <th>2</th>\n",
       "      <td>2022-08-03</td>\n",
       "      <td>1071</td>\n",
       "      <td>NaT</td>\n",
       "      <td>2020-02-16</td>\n",
       "      <td>0</td>\n",
       "      <td>2023-02-16</td>\n",
       "      <td>42</td>\n",
       "      <td>11663</td>\n",
       "      <td>0</td>\n",
       "      <td>11470</td>\n",
       "      <td>42</td>\n",
       "      <td>36711</td>\n",
       "      <td>1</td>\n",
       "      <td>1204</td>\n",
       "      <td>1204</td>\n",
       "      <td>989</td>\n",
       "    </tr>\n",
       "    <tr>\n",
       "      <th>3</th>\n",
       "      <td>2022-08-04</td>\n",
       "      <td>1071</td>\n",
       "      <td>NaT</td>\n",
       "      <td>2020-02-16</td>\n",
       "      <td>0</td>\n",
       "      <td>2023-02-16</td>\n",
       "      <td>42</td>\n",
       "      <td>11663</td>\n",
       "      <td>0</td>\n",
       "      <td>11470</td>\n",
       "      <td>42</td>\n",
       "      <td>36711</td>\n",
       "      <td>1</td>\n",
       "      <td>1204</td>\n",
       "      <td>1204</td>\n",
       "      <td>939</td>\n",
       "    </tr>\n",
       "    <tr>\n",
       "      <th>4</th>\n",
       "      <td>2022-08-05</td>\n",
       "      <td>1071</td>\n",
       "      <td>NaT</td>\n",
       "      <td>2020-02-16</td>\n",
       "      <td>0</td>\n",
       "      <td>2023-02-16</td>\n",
       "      <td>42</td>\n",
       "      <td>11663</td>\n",
       "      <td>0</td>\n",
       "      <td>11470</td>\n",
       "      <td>42</td>\n",
       "      <td>36711</td>\n",
       "      <td>1</td>\n",
       "      <td>1204</td>\n",
       "      <td>1204</td>\n",
       "      <td>963</td>\n",
       "    </tr>\n",
       "  </tbody>\n",
       "</table>\n",
       "</div>"
      ],
      "text/plain": [
       "   plan_date  wagnum date_kap   date_dep  kod_vrab date_pl_rem  id_road_disl  \\\n",
       "0 2022-08-01    1071      NaT 2020-02-16         0  2023-02-16            42   \n",
       "1 2022-08-02    1071      NaT 2020-02-16         0  2023-02-16            42   \n",
       "2 2022-08-03    1071      NaT 2020-02-16         0  2023-02-16            42   \n",
       "3 2022-08-04    1071      NaT 2020-02-16         0  2023-02-16            42   \n",
       "4 2022-08-05    1071      NaT 2020-02-16         0  2023-02-16            42   \n",
       "\n",
       "   st_id_dest  id_road_dest  st_id_send  id_road_send  ost_prob  isload  \\\n",
       "0          22            42       11470            42     36899       0   \n",
       "1       11663             0       11470            42     36899       1   \n",
       "2       11663             0       11470            42     36711       1   \n",
       "3       11663             0       11470            42     36711       1   \n",
       "4       11663             0       11470            42     36711       1   \n",
       "\n",
       "   fr_id  last_fr_id  distance  \n",
       "0   5032        1413        -1  \n",
       "1   1204        1204       998  \n",
       "2   1204        1204       989  \n",
       "3   1204        1204       939  \n",
       "4   1204        1204       963  "
      ]
     },
     "execution_count": 8,
     "metadata": {},
     "output_type": "execute_result"
    }
   ],
   "source": [
    "dislok.head()"
   ]
  },
  {
   "cell_type": "code",
   "execution_count": 9,
   "metadata": {
    "id": "-MTBpYPk1p-j",
    "pycharm": {
     "name": "#%%\n"
    }
   },
   "outputs": [],
   "source": [
    "wag_param = wag_param.drop_duplicates(subset='wagnum', keep='last')# у вагонов могут меняться параметры, поэтмоу номер дублируется. В данной модели это фактор не учитывается"
   ]
  },
  {
   "cell_type": "code",
   "execution_count": 10,
   "metadata": {
    "id": "uEvjEwkg1p-k",
    "pycharm": {
     "name": "#%%\n"
    }
   },
   "outputs": [],
   "source": [
    "month_to_predict = pd.to_datetime('2022-12-01')"
   ]
  },
  {
   "cell_type": "code",
   "execution_count": 11,
   "metadata": {
    "id": "s7ysZgz61p-l",
    "pycharm": {
     "name": "#%%\n"
    }
   },
   "outputs": [],
   "source": [
    "target.month = pd.to_datetime(target.month)\n",
    "target = target[target.month == month_to_predict][['wagnum','target_month','target_day']]"
   ]
  },
  {
   "cell_type": "code",
   "execution_count": 12,
   "metadata": {
    "id": "Puo3q5hpHGHY"
   },
   "outputs": [],
   "source": [
    "target2.month = pd.to_datetime(target2.month)\n",
    "target2 = target2[target2.month == month_to_predict][['wagnum','month','target_month','target_day']]"
   ]
  },
  {
   "cell_type": "code",
   "execution_count": 13,
   "metadata": {
    "colab": {
     "base_uri": "https://localhost:8080/"
    },
    "id": "PobxSEgG1p-l",
    "outputId": "d6ca40e6-9192-42b9-d773-b8b1695d4886",
    "pycharm": {
     "name": "#%%\n"
    }
   },
   "outputs": [
    {
     "data": {
      "text/plain": [
       "(1584, 570)"
      ]
     },
     "execution_count": 13,
     "metadata": {},
     "output_type": "execute_result"
    }
   ],
   "source": [
    "target.target_month.sum(), target.target_day.sum()"
   ]
  },
  {
   "cell_type": "markdown",
   "metadata": {
    "id": "ysLCs1gJ1p-m",
    "jp-MarkdownHeadingCollapsed": true,
    "tags": []
   },
   "source": [
    "# Наивная модель"
   ]
  },
  {
   "cell_type": "markdown",
   "metadata": {
    "id": "in5VeWUG1p-n"
   },
   "source": [
    "Наивная модель будет построена на правилах с использованием минимального набора данных, без применения Ml.\n",
    "\n",
    "Реальный процесс выглядит следующим образом - в начале месяца берется срез по парку по всем вагонам, за ремонт которых несёт ответственность ПГК. Для выбранных вагонов требуется установить, какие из них будут отремонтированы в текущем месяце. Данная информация помогает планировать нагрузку на вагоно-ремонтное предприятие(ВРП). Вторая модель определяет критичные вагоны, которые будут отправлены в ремонт в первую очередь( в ближайшие 10 дней). Это помогает фокусировать внимание диспетчеров.\n",
    "\n",
    "Основными критериями по которым вагон отправляется в плановый ремонт - является его остаточный пробег и срок до планового ремонта.\n",
    "В регламентах РЖД используется следующее правило - если ресурс по пробегу не превышает 500 км и/или плановый ремонт должен наступить через 15 дней(или меньше), то вагон может ехать только на ВРП.\n",
    "Из этого регламента вытекают две особенности:\n",
    "1. Диспетчер старается отправить вагон раньше положенных значений. Это позволяет выбрать предприятия, на которых ремонтироваться дешевле, а не ближайшее.\n",
    "2. Компания-оператор может выбирать какому из нормативов нужно следовать - ремонтировать вагон по сроку, или по пробегу, или по обоим критериям сразу. Поэтому встречаются вагоны, у которых пробег может не отслеживаться.\n",
    "\n",
    "Вагон может быть отправлен в плановый ремонт и раньше положенного. На это может влиять, например, история грузовых операций и количество текущих(мелких) ремонтов. Основная цель участников в данной задаче - найти закономерности и оценить значимые признаки, по которым вагон выбывает в плановый ремонт."
   ]
  },
  {
   "cell_type": "markdown",
   "metadata": {
    "id": "Vhj10ji71p-n"
   },
   "source": [
    "## Подготовка данных"
   ]
  },
  {
   "cell_type": "code",
   "execution_count": 14,
   "metadata": {
    "id": "31mvrPne1p-o",
    "pycharm": {
     "name": "#%%\n"
    }
   },
   "outputs": [],
   "source": [
    "# оставим только данные по остаточному пробегу для каждого номерав вагона\n",
    "wag_prob = wag_prob[(wag_prob.repdate == month_to_predict)| (wag_prob.repdate == wag_prob.repdate.min())]"
   ]
  },
  {
   "cell_type": "code",
   "execution_count": 15,
   "metadata": {
    "id": "ip7yCfhE1p-o",
    "pycharm": {
     "name": "#%%\n"
    }
   },
   "outputs": [],
   "source": [
    "# оценим среднесуточный пробег из данных по пробегу вагона, на тот случай, если данных по нормативу нет\n",
    "wag_prob_ =wag_prob.groupby('wagnum', as_index = False).agg({'repdate':['max', 'min'] , 'ost_prob': ['max','min']},)#.droplevel(1)\n",
    "wag_prob_.columns = [head+'_' + name\n",
    "                     if head!='wagnum'\n",
    "                     else head\n",
    "                     for head, name in wag_prob_.columns ]\n",
    "\n",
    "wag_prob_['diff_days'] = wag_prob_.repdate_max - wag_prob_.repdate_min\n",
    "wag_prob_['mean_run'] = (wag_prob_.ost_prob_max - wag_prob_.ost_prob_min )/ wag_prob_.diff_days.dt.days\n",
    "wag_prob = wag_prob[wag_prob.repdate == wag_prob.repdate.max()][['wagnum','ost_prob']]\n",
    "wag_prob = wag_prob.merge(wag_prob_[['wagnum','mean_run']])"
   ]
  },
  {
   "cell_type": "code",
   "execution_count": 16,
   "metadata": {
    "id": "vhXmeEjo1p-p",
    "pycharm": {
     "name": "#%%\n"
    }
   },
   "outputs": [],
   "source": [
    "# для каждого вагона оставим только информацию по сроку службы и нормативу суточного пробега между ПР\n",
    "wag_param = wag_param[['wagnum','srok_sl','cnsi_probeg_dr','cnsi_probeg_kr']]"
   ]
  },
  {
   "cell_type": "code",
   "execution_count": 17,
   "metadata": {
    "id": "bgmJndUe1p-p",
    "pycharm": {
     "name": "#%%\n"
    }
   },
   "outputs": [],
   "source": [
    "# добавим признак, что вагон был в ПР в предыдущем месяце. Скорее всего, если вагон был в ПР недавно, то повторно он не поедет\n",
    "pr_rem['was_repair_in_prev_month'] = 1\n",
    "pr_rem = pr_rem[['wagnum','was_repair_in_prev_month']]\n",
    "pr_rem = pr_rem.drop_duplicates(subset='wagnum') #некоторые вагоны все же ремонтируются больше 1 раза, поэтому нужен сбросить дубли"
   ]
  },
  {
   "cell_type": "code",
   "execution_count": 18,
   "metadata": {
    "id": "r2sf6jPf1p-p",
    "pycharm": {
     "name": "#%%\n"
    }
   },
   "outputs": [],
   "source": [
    "# посчитаем сколько текущих ремонтов было за прошедший период\n",
    "tr_rem = tr_rem.groupby('wagnum', as_index= False).kod_vrab.count()"
   ]
  },
  {
   "cell_type": "code",
   "execution_count": 19,
   "metadata": {
    "id": "E99dMzJQ1p-p",
    "pycharm": {
     "name": "#%%\n"
    }
   },
   "outputs": [],
   "source": [
    "# сохраним только дату следующего планового ремонта для вагона\n",
    "dislok = dislok[['wagnum','date_pl_rem']].drop_duplicates(subset = 'wagnum', keep='last')"
   ]
  },
  {
   "cell_type": "code",
   "execution_count": 20,
   "metadata": {
    "id": "XqvHnGGZ1p-q",
    "pycharm": {
     "name": "#%%\n"
    }
   },
   "outputs": [],
   "source": [
    "# соберем все данные вместе\n",
    "wp = target[['wagnum']].merge(wag_param, on ='wagnum', how = 'left')\\\n",
    "             .merge(wag_prob, how = 'left')\\\n",
    "             .merge(pr_rem, how = 'left')\\\n",
    "             .merge(tr_rem, how = 'left')\\\n",
    "             .merge(dislok, how = 'left')"
   ]
  },
  {
   "cell_type": "code",
   "execution_count": 21,
   "metadata": {
    "colab": {
     "base_uri": "https://localhost:8080/",
     "height": 206
    },
    "id": "44QeDgcU1p-q",
    "outputId": "ef693110-0320-432e-e202-cba0de6a8738",
    "pycharm": {
     "name": "#%%\n"
    }
   },
   "outputs": [
    {
     "data": {
      "text/html": [
       "<div>\n",
       "<style scoped>\n",
       "    .dataframe tbody tr th:only-of-type {\n",
       "        vertical-align: middle;\n",
       "    }\n",
       "\n",
       "    .dataframe tbody tr th {\n",
       "        vertical-align: top;\n",
       "    }\n",
       "\n",
       "    .dataframe thead th {\n",
       "        text-align: right;\n",
       "    }\n",
       "</style>\n",
       "<table border=\"1\" class=\"dataframe\">\n",
       "  <thead>\n",
       "    <tr style=\"text-align: right;\">\n",
       "      <th></th>\n",
       "      <th>wagnum</th>\n",
       "      <th>srok_sl</th>\n",
       "      <th>cnsi_probeg_dr</th>\n",
       "      <th>cnsi_probeg_kr</th>\n",
       "      <th>ost_prob</th>\n",
       "      <th>mean_run</th>\n",
       "      <th>was_repair_in_prev_month</th>\n",
       "      <th>kod_vrab</th>\n",
       "      <th>date_pl_rem</th>\n",
       "    </tr>\n",
       "  </thead>\n",
       "  <tbody>\n",
       "    <tr>\n",
       "      <th>0</th>\n",
       "      <td>33361</td>\n",
       "      <td>2033-03-01</td>\n",
       "      <td>110</td>\n",
       "      <td>160</td>\n",
       "      <td>159916</td>\n",
       "      <td>1248.97541</td>\n",
       "      <td>1.0</td>\n",
       "      <td>3.0</td>\n",
       "      <td>2023-02-17</td>\n",
       "    </tr>\n",
       "    <tr>\n",
       "      <th>1</th>\n",
       "      <td>33364</td>\n",
       "      <td>2031-04-12</td>\n",
       "      <td>110</td>\n",
       "      <td>160</td>\n",
       "      <td>4268</td>\n",
       "      <td>269.139344</td>\n",
       "      <td>1.0</td>\n",
       "      <td>2.0</td>\n",
       "      <td>2023-10-03</td>\n",
       "    </tr>\n",
       "    <tr>\n",
       "      <th>2</th>\n",
       "      <td>33366</td>\n",
       "      <td>2032-01-21</td>\n",
       "      <td>110</td>\n",
       "      <td>160</td>\n",
       "      <td>1507</td>\n",
       "      <td>71.598361</td>\n",
       "      <td>1.0</td>\n",
       "      <td>2.0</td>\n",
       "      <td>2023-04-03</td>\n",
       "    </tr>\n",
       "    <tr>\n",
       "      <th>3</th>\n",
       "      <td>33358</td>\n",
       "      <td>2032-11-30</td>\n",
       "      <td>110</td>\n",
       "      <td>160</td>\n",
       "      <td>30223</td>\n",
       "      <td>95.114754</td>\n",
       "      <td>NaN</td>\n",
       "      <td>2.0</td>\n",
       "      <td>2024-02-23</td>\n",
       "    </tr>\n",
       "    <tr>\n",
       "      <th>4</th>\n",
       "      <td>33349</td>\n",
       "      <td>2033-12-04</td>\n",
       "      <td>110</td>\n",
       "      <td>160</td>\n",
       "      <td>153839</td>\n",
       "      <td>1214.07377</td>\n",
       "      <td>1.0</td>\n",
       "      <td>NaN</td>\n",
       "      <td>2023-07-06</td>\n",
       "    </tr>\n",
       "  </tbody>\n",
       "</table>\n",
       "</div>"
      ],
      "text/plain": [
       "   wagnum    srok_sl  cnsi_probeg_dr  cnsi_probeg_kr  ost_prob    mean_run  \\\n",
       "0   33361 2033-03-01             110             160    159916  1248.97541   \n",
       "1   33364 2031-04-12             110             160      4268  269.139344   \n",
       "2   33366 2032-01-21             110             160      1507   71.598361   \n",
       "3   33358 2032-11-30             110             160     30223   95.114754   \n",
       "4   33349 2033-12-04             110             160    153839  1214.07377   \n",
       "\n",
       "   was_repair_in_prev_month  kod_vrab date_pl_rem  \n",
       "0                       1.0       3.0  2023-02-17  \n",
       "1                       1.0       2.0  2023-10-03  \n",
       "2                       1.0       2.0  2023-04-03  \n",
       "3                       NaN       2.0  2024-02-23  \n",
       "4                       1.0       NaN  2023-07-06  "
      ]
     },
     "execution_count": 21,
     "metadata": {},
     "output_type": "execute_result"
    }
   ],
   "source": [
    "wp.head()"
   ]
  },
  {
   "cell_type": "code",
   "execution_count": 22,
   "metadata": {
    "id": "-18tAng51p-q",
    "pycharm": {
     "name": "#%%\n"
    }
   },
   "outputs": [],
   "source": [
    "# Получим среднесуточный пробег, как среднее от нормативов и реального пробега\n",
    "wp[['cnsi_probeg_dr','cnsi_probeg_kr','mean_run']] = wp[['cnsi_probeg_dr','cnsi_probeg_kr','mean_run']].fillna(0)\n",
    "wp['day_run'] = wp.apply(lambda x : [ val  for val in [x.cnsi_probeg_kr, x.cnsi_probeg_dr, x.mean_run] if val != 0], axis = 1 )\n",
    "wp['day_run']= wp.apply(lambda x : np.mean(x.day_run) if len(x.day_run)> 0 else 0, axis = 1 )"
   ]
  },
  {
   "cell_type": "code",
   "execution_count": 23,
   "metadata": {
    "id": "R4piEAqL1p-r",
    "pycharm": {
     "name": "#%%\n"
    }
   },
   "outputs": [],
   "source": [
    "wp['current_date'] = month_to_predict"
   ]
  },
  {
   "cell_type": "code",
   "execution_count": 24,
   "metadata": {
    "id": "66vvydiB1p-r",
    "pycharm": {
     "name": "#%%\n"
    }
   },
   "outputs": [],
   "source": [
    "# определим, сколько дней осталось до истечения срока службы\n",
    "wp['date_diff_srk_sl'] = wp['srok_sl']- wp['current_date']"
   ]
  },
  {
   "cell_type": "code",
   "execution_count": 25,
   "metadata": {
    "id": "h2UvUmvv1p-r",
    "pycharm": {
     "name": "#%%\n"
    }
   },
   "outputs": [],
   "source": [
    "# определим, сколько дней осталось до ближайшего ПР\n",
    "wp['date_diff_pl_rem'] = wp['date_pl_rem']- wp['current_date']"
   ]
  },
  {
   "cell_type": "code",
   "execution_count": 26,
   "metadata": {
    "id": "KcIbd1et1p-r",
    "pycharm": {
     "name": "#%%\n"
    }
   },
   "outputs": [],
   "source": [
    "# определим, какой остаточный ресурс будет на момент окончания месяца\n",
    "wp['prob_end_month'] = wp['ost_prob'] - wp['day_run']* 30"
   ]
  },
  {
   "cell_type": "code",
   "execution_count": null,
   "metadata": {
    "id": "nNhmD8nQHb4a"
   },
   "outputs": [],
   "source": []
  },
  {
   "cell_type": "code",
   "execution_count": 27,
   "metadata": {
    "id": "6P4sEMnOGsW-"
   },
   "outputs": [],
   "source": [
    "wp2  = wp.copy(deep=True)\n"
   ]
  },
  {
   "cell_type": "code",
   "execution_count": 28,
   "metadata": {
    "id": "rC450o_91p-r",
    "pycharm": {
     "name": "#%%\n"
    }
   },
   "outputs": [],
   "source": [
    "wp['target_month'] = 0"
   ]
  },
  {
   "cell_type": "code",
   "execution_count": 29,
   "metadata": {
    "colab": {
     "base_uri": "https://localhost:8080/",
     "height": 313
    },
    "id": "D4RjNjeQncCf",
    "outputId": "a6547bef-5d4e-4508-85c0-f7deca522ac1"
   },
   "outputs": [
    {
     "data": {
      "text/html": [
       "<div>\n",
       "<style scoped>\n",
       "    .dataframe tbody tr th:only-of-type {\n",
       "        vertical-align: middle;\n",
       "    }\n",
       "\n",
       "    .dataframe tbody tr th {\n",
       "        vertical-align: top;\n",
       "    }\n",
       "\n",
       "    .dataframe thead th {\n",
       "        text-align: right;\n",
       "    }\n",
       "</style>\n",
       "<table border=\"1\" class=\"dataframe\">\n",
       "  <thead>\n",
       "    <tr style=\"text-align: right;\">\n",
       "      <th></th>\n",
       "      <th>wagnum</th>\n",
       "      <th>srok_sl</th>\n",
       "      <th>cnsi_probeg_dr</th>\n",
       "      <th>cnsi_probeg_kr</th>\n",
       "      <th>ost_prob</th>\n",
       "      <th>mean_run</th>\n",
       "      <th>was_repair_in_prev_month</th>\n",
       "      <th>kod_vrab</th>\n",
       "      <th>date_pl_rem</th>\n",
       "      <th>day_run</th>\n",
       "      <th>current_date</th>\n",
       "      <th>date_diff_srk_sl</th>\n",
       "      <th>date_diff_pl_rem</th>\n",
       "      <th>prob_end_month</th>\n",
       "      <th>target_month</th>\n",
       "    </tr>\n",
       "  </thead>\n",
       "  <tbody>\n",
       "    <tr>\n",
       "      <th>0</th>\n",
       "      <td>33361</td>\n",
       "      <td>2033-03-01</td>\n",
       "      <td>110</td>\n",
       "      <td>160</td>\n",
       "      <td>159916</td>\n",
       "      <td>1248.97541</td>\n",
       "      <td>1.0</td>\n",
       "      <td>3.0</td>\n",
       "      <td>2023-02-17</td>\n",
       "      <td>506.325137</td>\n",
       "      <td>2022-12-01</td>\n",
       "      <td>3743 days</td>\n",
       "      <td>78 days</td>\n",
       "      <td>144726.245902</td>\n",
       "      <td>0</td>\n",
       "    </tr>\n",
       "    <tr>\n",
       "      <th>1</th>\n",
       "      <td>33364</td>\n",
       "      <td>2031-04-12</td>\n",
       "      <td>110</td>\n",
       "      <td>160</td>\n",
       "      <td>4268</td>\n",
       "      <td>269.139344</td>\n",
       "      <td>1.0</td>\n",
       "      <td>2.0</td>\n",
       "      <td>2023-10-03</td>\n",
       "      <td>179.713115</td>\n",
       "      <td>2022-12-01</td>\n",
       "      <td>3054 days</td>\n",
       "      <td>306 days</td>\n",
       "      <td>-1123.393443</td>\n",
       "      <td>0</td>\n",
       "    </tr>\n",
       "    <tr>\n",
       "      <th>2</th>\n",
       "      <td>33366</td>\n",
       "      <td>2032-01-21</td>\n",
       "      <td>110</td>\n",
       "      <td>160</td>\n",
       "      <td>1507</td>\n",
       "      <td>71.598361</td>\n",
       "      <td>1.0</td>\n",
       "      <td>2.0</td>\n",
       "      <td>2023-04-03</td>\n",
       "      <td>113.866120</td>\n",
       "      <td>2022-12-01</td>\n",
       "      <td>3338 days</td>\n",
       "      <td>123 days</td>\n",
       "      <td>-1908.983607</td>\n",
       "      <td>0</td>\n",
       "    </tr>\n",
       "    <tr>\n",
       "      <th>3</th>\n",
       "      <td>33358</td>\n",
       "      <td>2032-11-30</td>\n",
       "      <td>110</td>\n",
       "      <td>160</td>\n",
       "      <td>30223</td>\n",
       "      <td>95.114754</td>\n",
       "      <td>NaN</td>\n",
       "      <td>2.0</td>\n",
       "      <td>2024-02-23</td>\n",
       "      <td>121.704918</td>\n",
       "      <td>2022-12-01</td>\n",
       "      <td>3652 days</td>\n",
       "      <td>449 days</td>\n",
       "      <td>26571.852459</td>\n",
       "      <td>0</td>\n",
       "    </tr>\n",
       "    <tr>\n",
       "      <th>4</th>\n",
       "      <td>33349</td>\n",
       "      <td>2033-12-04</td>\n",
       "      <td>110</td>\n",
       "      <td>160</td>\n",
       "      <td>153839</td>\n",
       "      <td>1214.07377</td>\n",
       "      <td>1.0</td>\n",
       "      <td>NaN</td>\n",
       "      <td>2023-07-06</td>\n",
       "      <td>494.691257</td>\n",
       "      <td>2022-12-01</td>\n",
       "      <td>4021 days</td>\n",
       "      <td>217 days</td>\n",
       "      <td>138998.262295</td>\n",
       "      <td>0</td>\n",
       "    </tr>\n",
       "  </tbody>\n",
       "</table>\n",
       "</div>"
      ],
      "text/plain": [
       "   wagnum    srok_sl  cnsi_probeg_dr  cnsi_probeg_kr  ost_prob    mean_run  \\\n",
       "0   33361 2033-03-01             110             160    159916  1248.97541   \n",
       "1   33364 2031-04-12             110             160      4268  269.139344   \n",
       "2   33366 2032-01-21             110             160      1507   71.598361   \n",
       "3   33358 2032-11-30             110             160     30223   95.114754   \n",
       "4   33349 2033-12-04             110             160    153839  1214.07377   \n",
       "\n",
       "   was_repair_in_prev_month  kod_vrab date_pl_rem     day_run current_date  \\\n",
       "0                       1.0       3.0  2023-02-17  506.325137   2022-12-01   \n",
       "1                       1.0       2.0  2023-10-03  179.713115   2022-12-01   \n",
       "2                       1.0       2.0  2023-04-03  113.866120   2022-12-01   \n",
       "3                       NaN       2.0  2024-02-23  121.704918   2022-12-01   \n",
       "4                       1.0       NaN  2023-07-06  494.691257   2022-12-01   \n",
       "\n",
       "  date_diff_srk_sl date_diff_pl_rem  prob_end_month  target_month  \n",
       "0        3743 days          78 days   144726.245902             0  \n",
       "1        3054 days         306 days    -1123.393443             0  \n",
       "2        3338 days         123 days    -1908.983607             0  \n",
       "3        3652 days         449 days    26571.852459             0  \n",
       "4        4021 days         217 days   138998.262295             0  "
      ]
     },
     "execution_count": 29,
     "metadata": {},
     "output_type": "execute_result"
    }
   ],
   "source": [
    "wp.head()"
   ]
  },
  {
   "cell_type": "code",
   "execution_count": 30,
   "metadata": {
    "colab": {
     "base_uri": "https://localhost:8080/",
     "height": 206
    },
    "id": "5eljgc2JFIZI",
    "outputId": "5b44b02f-6952-40a5-cc11-8861ec62ec9e"
   },
   "outputs": [
    {
     "data": {
      "text/html": [
       "<div>\n",
       "<style scoped>\n",
       "    .dataframe tbody tr th:only-of-type {\n",
       "        vertical-align: middle;\n",
       "    }\n",
       "\n",
       "    .dataframe tbody tr th {\n",
       "        vertical-align: top;\n",
       "    }\n",
       "\n",
       "    .dataframe thead th {\n",
       "        text-align: right;\n",
       "    }\n",
       "</style>\n",
       "<table border=\"1\" class=\"dataframe\">\n",
       "  <thead>\n",
       "    <tr style=\"text-align: right;\">\n",
       "      <th></th>\n",
       "      <th>wagnum</th>\n",
       "      <th>target_month</th>\n",
       "      <th>target_day</th>\n",
       "    </tr>\n",
       "  </thead>\n",
       "  <tbody>\n",
       "    <tr>\n",
       "      <th>169876</th>\n",
       "      <td>33361</td>\n",
       "      <td>0</td>\n",
       "      <td>0</td>\n",
       "    </tr>\n",
       "    <tr>\n",
       "      <th>169877</th>\n",
       "      <td>33364</td>\n",
       "      <td>1</td>\n",
       "      <td>1</td>\n",
       "    </tr>\n",
       "    <tr>\n",
       "      <th>169878</th>\n",
       "      <td>33366</td>\n",
       "      <td>1</td>\n",
       "      <td>1</td>\n",
       "    </tr>\n",
       "    <tr>\n",
       "      <th>169879</th>\n",
       "      <td>33358</td>\n",
       "      <td>0</td>\n",
       "      <td>0</td>\n",
       "    </tr>\n",
       "    <tr>\n",
       "      <th>169880</th>\n",
       "      <td>33349</td>\n",
       "      <td>0</td>\n",
       "      <td>0</td>\n",
       "    </tr>\n",
       "  </tbody>\n",
       "</table>\n",
       "</div>"
      ],
      "text/plain": [
       "        wagnum  target_month  target_day\n",
       "169876   33361             0           0\n",
       "169877   33364             1           1\n",
       "169878   33366             1           1\n",
       "169879   33358             0           0\n",
       "169880   33349             0           0"
      ]
     },
     "execution_count": 30,
     "metadata": {},
     "output_type": "execute_result"
    }
   ],
   "source": [
    "target.head()"
   ]
  },
  {
   "cell_type": "code",
   "execution_count": 31,
   "metadata": {
    "id": "25XfPN1iFADg"
   },
   "outputs": [],
   "source": [
    "merged_df = wp2.merge(target2, left_on=['wagnum', 'current_date'], right_on=['wagnum', 'month'], how='left')"
   ]
  },
  {
   "cell_type": "code",
   "execution_count": 32,
   "metadata": {
    "colab": {
     "base_uri": "https://localhost:8080/",
     "height": 313
    },
    "id": "Rl-SdMCXGKXy",
    "outputId": "a19cd3b9-63ba-4eab-a1b8-39532aa4ff6e"
   },
   "outputs": [
    {
     "data": {
      "text/html": [
       "<div>\n",
       "<style scoped>\n",
       "    .dataframe tbody tr th:only-of-type {\n",
       "        vertical-align: middle;\n",
       "    }\n",
       "\n",
       "    .dataframe tbody tr th {\n",
       "        vertical-align: top;\n",
       "    }\n",
       "\n",
       "    .dataframe thead th {\n",
       "        text-align: right;\n",
       "    }\n",
       "</style>\n",
       "<table border=\"1\" class=\"dataframe\">\n",
       "  <thead>\n",
       "    <tr style=\"text-align: right;\">\n",
       "      <th></th>\n",
       "      <th>wagnum</th>\n",
       "      <th>srok_sl</th>\n",
       "      <th>cnsi_probeg_dr</th>\n",
       "      <th>cnsi_probeg_kr</th>\n",
       "      <th>ost_prob</th>\n",
       "      <th>mean_run</th>\n",
       "      <th>was_repair_in_prev_month</th>\n",
       "      <th>kod_vrab</th>\n",
       "      <th>date_pl_rem</th>\n",
       "      <th>day_run</th>\n",
       "      <th>current_date</th>\n",
       "      <th>date_diff_srk_sl</th>\n",
       "      <th>date_diff_pl_rem</th>\n",
       "      <th>prob_end_month</th>\n",
       "      <th>month</th>\n",
       "      <th>target_month</th>\n",
       "      <th>target_day</th>\n",
       "    </tr>\n",
       "  </thead>\n",
       "  <tbody>\n",
       "    <tr>\n",
       "      <th>0</th>\n",
       "      <td>33361</td>\n",
       "      <td>2033-03-01</td>\n",
       "      <td>110</td>\n",
       "      <td>160</td>\n",
       "      <td>159916</td>\n",
       "      <td>1248.97541</td>\n",
       "      <td>1.0</td>\n",
       "      <td>3.0</td>\n",
       "      <td>2023-02-17</td>\n",
       "      <td>506.325137</td>\n",
       "      <td>2022-12-01</td>\n",
       "      <td>3743 days</td>\n",
       "      <td>78 days</td>\n",
       "      <td>144726.245902</td>\n",
       "      <td>2022-12-01</td>\n",
       "      <td>0</td>\n",
       "      <td>0</td>\n",
       "    </tr>\n",
       "    <tr>\n",
       "      <th>1</th>\n",
       "      <td>33364</td>\n",
       "      <td>2031-04-12</td>\n",
       "      <td>110</td>\n",
       "      <td>160</td>\n",
       "      <td>4268</td>\n",
       "      <td>269.139344</td>\n",
       "      <td>1.0</td>\n",
       "      <td>2.0</td>\n",
       "      <td>2023-10-03</td>\n",
       "      <td>179.713115</td>\n",
       "      <td>2022-12-01</td>\n",
       "      <td>3054 days</td>\n",
       "      <td>306 days</td>\n",
       "      <td>-1123.393443</td>\n",
       "      <td>2022-12-01</td>\n",
       "      <td>1</td>\n",
       "      <td>1</td>\n",
       "    </tr>\n",
       "    <tr>\n",
       "      <th>2</th>\n",
       "      <td>33366</td>\n",
       "      <td>2032-01-21</td>\n",
       "      <td>110</td>\n",
       "      <td>160</td>\n",
       "      <td>1507</td>\n",
       "      <td>71.598361</td>\n",
       "      <td>1.0</td>\n",
       "      <td>2.0</td>\n",
       "      <td>2023-04-03</td>\n",
       "      <td>113.866120</td>\n",
       "      <td>2022-12-01</td>\n",
       "      <td>3338 days</td>\n",
       "      <td>123 days</td>\n",
       "      <td>-1908.983607</td>\n",
       "      <td>2022-12-01</td>\n",
       "      <td>1</td>\n",
       "      <td>1</td>\n",
       "    </tr>\n",
       "    <tr>\n",
       "      <th>3</th>\n",
       "      <td>33358</td>\n",
       "      <td>2032-11-30</td>\n",
       "      <td>110</td>\n",
       "      <td>160</td>\n",
       "      <td>30223</td>\n",
       "      <td>95.114754</td>\n",
       "      <td>NaN</td>\n",
       "      <td>2.0</td>\n",
       "      <td>2024-02-23</td>\n",
       "      <td>121.704918</td>\n",
       "      <td>2022-12-01</td>\n",
       "      <td>3652 days</td>\n",
       "      <td>449 days</td>\n",
       "      <td>26571.852459</td>\n",
       "      <td>2022-12-01</td>\n",
       "      <td>0</td>\n",
       "      <td>0</td>\n",
       "    </tr>\n",
       "    <tr>\n",
       "      <th>4</th>\n",
       "      <td>33349</td>\n",
       "      <td>2033-12-04</td>\n",
       "      <td>110</td>\n",
       "      <td>160</td>\n",
       "      <td>153839</td>\n",
       "      <td>1214.07377</td>\n",
       "      <td>1.0</td>\n",
       "      <td>NaN</td>\n",
       "      <td>2023-07-06</td>\n",
       "      <td>494.691257</td>\n",
       "      <td>2022-12-01</td>\n",
       "      <td>4021 days</td>\n",
       "      <td>217 days</td>\n",
       "      <td>138998.262295</td>\n",
       "      <td>2022-12-01</td>\n",
       "      <td>0</td>\n",
       "      <td>0</td>\n",
       "    </tr>\n",
       "  </tbody>\n",
       "</table>\n",
       "</div>"
      ],
      "text/plain": [
       "   wagnum    srok_sl  cnsi_probeg_dr  cnsi_probeg_kr  ost_prob    mean_run  \\\n",
       "0   33361 2033-03-01             110             160    159916  1248.97541   \n",
       "1   33364 2031-04-12             110             160      4268  269.139344   \n",
       "2   33366 2032-01-21             110             160      1507   71.598361   \n",
       "3   33358 2032-11-30             110             160     30223   95.114754   \n",
       "4   33349 2033-12-04             110             160    153839  1214.07377   \n",
       "\n",
       "   was_repair_in_prev_month  kod_vrab date_pl_rem     day_run current_date  \\\n",
       "0                       1.0       3.0  2023-02-17  506.325137   2022-12-01   \n",
       "1                       1.0       2.0  2023-10-03  179.713115   2022-12-01   \n",
       "2                       1.0       2.0  2023-04-03  113.866120   2022-12-01   \n",
       "3                       NaN       2.0  2024-02-23  121.704918   2022-12-01   \n",
       "4                       1.0       NaN  2023-07-06  494.691257   2022-12-01   \n",
       "\n",
       "  date_diff_srk_sl date_diff_pl_rem  prob_end_month      month  target_month  \\\n",
       "0        3743 days          78 days   144726.245902 2022-12-01             0   \n",
       "1        3054 days         306 days    -1123.393443 2022-12-01             1   \n",
       "2        3338 days         123 days    -1908.983607 2022-12-01             1   \n",
       "3        3652 days         449 days    26571.852459 2022-12-01             0   \n",
       "4        4021 days         217 days   138998.262295 2022-12-01             0   \n",
       "\n",
       "   target_day  \n",
       "0           0  \n",
       "1           1  \n",
       "2           1  \n",
       "3           0  \n",
       "4           0  "
      ]
     },
     "execution_count": 32,
     "metadata": {},
     "output_type": "execute_result"
    }
   ],
   "source": [
    "merged_df.head()"
   ]
  },
  {
   "cell_type": "code",
   "execution_count": 33,
   "metadata": {
    "colab": {
     "base_uri": "https://localhost:8080/"
    },
    "id": "k4_sopvoGOyU",
    "outputId": "561a633e-4cd4-4087-df52-204bd9411ad7"
   },
   "outputs": [
    {
     "data": {
      "text/plain": [
       "33977"
      ]
     },
     "execution_count": 33,
     "metadata": {},
     "output_type": "execute_result"
    }
   ],
   "source": [
    "len(merged_df)"
   ]
  },
  {
   "cell_type": "code",
   "execution_count": 34,
   "metadata": {
    "colab": {
     "base_uri": "https://localhost:8080/"
    },
    "id": "r5taEJaPI0iF",
    "outputId": "188ddaee-104a-4d34-d892-4a53cffcf312"
   },
   "outputs": [
    {
     "name": "stdout",
     "output_type": "stream",
     "text": [
      "Requirement already satisfied: catboost in d:\\pyt\\lib\\site-packages (1.2)\n",
      "Requirement already satisfied: graphviz in d:\\pyt\\lib\\site-packages (from catboost) (0.20.1)\n",
      "Requirement already satisfied: six in d:\\pyt\\lib\\site-packages (from catboost) (1.16.0)\n",
      "Requirement already satisfied: pandas>=0.24 in d:\\pyt\\lib\\site-packages (from catboost) (1.5.3)\n",
      "Requirement already satisfied: plotly in d:\\pyt\\lib\\site-packages (from catboost) (5.15.0)\n",
      "Requirement already satisfied: matplotlib in d:\\pyt\\lib\\site-packages (from catboost) (3.6.3)\n",
      "Requirement already satisfied: numpy>=1.16.0 in d:\\pyt\\lib\\site-packages (from catboost) (1.23.5)\n",
      "Requirement already satisfied: scipy in d:\\pyt\\lib\\site-packages (from catboost) (1.9.3)\n",
      "Requirement already satisfied: python-dateutil>=2.8.1 in d:\\pyt\\lib\\site-packages (from pandas>=0.24->catboost) (2.8.2)\n",
      "Requirement already satisfied: pytz>=2020.1 in d:\\pyt\\lib\\site-packages (from pandas>=0.24->catboost) (2022.7.1)\n",
      "Requirement already satisfied: contourpy>=1.0.1 in d:\\pyt\\lib\\site-packages (from matplotlib->catboost) (1.0.7)\n",
      "Requirement already satisfied: pyparsing>=2.2.1 in d:\\pyt\\lib\\site-packages (from matplotlib->catboost) (3.0.9)\n",
      "Requirement already satisfied: fonttools>=4.22.0 in d:\\pyt\\lib\\site-packages (from matplotlib->catboost) (4.39.3)\n",
      "Requirement already satisfied: kiwisolver>=1.0.1 in d:\\pyt\\lib\\site-packages (from matplotlib->catboost) (1.4.4)\n",
      "Requirement already satisfied: pillow>=6.2.0 in d:\\pyt\\lib\\site-packages (from matplotlib->catboost) (9.5.0)\n",
      "Requirement already satisfied: cycler>=0.10 in d:\\pyt\\lib\\site-packages (from matplotlib->catboost) (0.11.0)\n",
      "Requirement already satisfied: packaging>=20.0 in d:\\pyt\\lib\\site-packages (from matplotlib->catboost) (23.0)\n",
      "Requirement already satisfied: tenacity>=6.2.0 in d:\\pyt\\lib\\site-packages (from plotly->catboost) (8.2.2)\n",
      "Note: you may need to restart the kernel to use updated packages.\n"
     ]
    },
    {
     "name": "stderr",
     "output_type": "stream",
     "text": [
      "WARNING: You are using pip version 21.3.1; however, version 23.3.1 is available.\n",
      "You should consider upgrading via the 'D:\\Pyt\\Scripts\\python.exe -m pip install --upgrade pip' command.\n"
     ]
    }
   ],
   "source": [
    "# pip install catboost\n"
   ]
  },
  {
   "cell_type": "code",
   "execution_count": 36,
   "metadata": {
    "colab": {
     "base_uri": "https://localhost:8080/"
    },
    "id": "5KgM6hWCKBlf",
    "outputId": "4d6acebb-008c-4ab9-bec9-7a866643abe5"
   },
   "outputs": [
    {
     "data": {
      "text/plain": [
       "wagnum                          0\n",
       "srok_sl                         0\n",
       "cnsi_probeg_dr                  0\n",
       "cnsi_probeg_kr                  0\n",
       "ost_prob                     1326\n",
       "mean_run                        0\n",
       "was_repair_in_prev_month    23584\n",
       "kod_vrab                    16128\n",
       "date_pl_rem                     0\n",
       "day_run                         2\n",
       "current_date                    0\n",
       "date_diff_srk_sl                0\n",
       "date_diff_pl_rem                0\n",
       "prob_end_month               1326\n",
       "month                           0\n",
       "target_month                    0\n",
       "target_day                      0\n",
       "dtype: int64"
      ]
     },
     "execution_count": 36,
     "metadata": {},
     "output_type": "execute_result"
    }
   ],
   "source": [
    "merged_df.isna().sum()"
   ]
  },
  {
   "cell_type": "code",
   "execution_count": 37,
   "metadata": {
    "colab": {
     "base_uri": "https://localhost:8080/"
    },
    "id": "dSDSrbV-Ktl0",
    "outputId": "1e156248-fa32-48e2-a8d9-4fb03d3c9c24"
   },
   "outputs": [
    {
     "name": "stdout",
     "output_type": "stream",
     "text": [
      "wagnum                                Int64\n",
      "srok_sl                      datetime64[ns]\n",
      "cnsi_probeg_dr                        Int64\n",
      "cnsi_probeg_kr                        Int64\n",
      "ost_prob                              Int64\n",
      "mean_run                            Float64\n",
      "was_repair_in_prev_month            float64\n",
      "kod_vrab                            float64\n",
      "date_pl_rem                  datetime64[ns]\n",
      "day_run                             float64\n",
      "current_date                 datetime64[ns]\n",
      "date_diff_srk_sl            timedelta64[ns]\n",
      "date_diff_pl_rem            timedelta64[ns]\n",
      "prob_end_month                      Float64\n",
      "month                        datetime64[ns]\n",
      "target_month                          Int64\n",
      "target_day                            Int64\n",
      "dtype: object\n"
     ]
    }
   ],
   "source": [
    "column_data_types = merged_df.dtypes\n",
    "print(column_data_types)"
   ]
  },
  {
   "cell_type": "code",
   "execution_count": 38,
   "metadata": {
    "id": "py6vw9BqKK0z"
   },
   "outputs": [],
   "source": [
    "numeric_columns = merged_df.select_dtypes(include=['int', 'float'])\n",
    "\n",
    "# Заменим отсутствующие значения на нули\n",
    "merged_df[numeric_columns.columns] = numeric_columns.fillna(0)\n"
   ]
  },
  {
   "cell_type": "code",
   "execution_count": 39,
   "metadata": {
    "id": "HvJFDWFzI86S",
    "tags": []
   },
   "outputs": [],
   "source": [
    "x_train = merged_df.drop(['target_month'], axis=1)\n",
    "x_train = x_train.drop(['target_day'], axis=1)\n",
    "x_train = x_train.drop(['month'], axis=1)\n",
    "\n",
    "y_train = merged_df['target_month']"
   ]
  },
  {
   "cell_type": "code",
   "execution_count": 40,
   "metadata": {
    "id": "5xA30q_CZcy3",
    "tags": []
   },
   "outputs": [
    {
     "data": {
      "text/html": [
       "<div>\n",
       "<style scoped>\n",
       "    .dataframe tbody tr th:only-of-type {\n",
       "        vertical-align: middle;\n",
       "    }\n",
       "\n",
       "    .dataframe tbody tr th {\n",
       "        vertical-align: top;\n",
       "    }\n",
       "\n",
       "    .dataframe thead th {\n",
       "        text-align: right;\n",
       "    }\n",
       "</style>\n",
       "<table border=\"1\" class=\"dataframe\">\n",
       "  <thead>\n",
       "    <tr style=\"text-align: right;\">\n",
       "      <th></th>\n",
       "      <th>wagnum</th>\n",
       "      <th>srok_sl</th>\n",
       "      <th>cnsi_probeg_dr</th>\n",
       "      <th>cnsi_probeg_kr</th>\n",
       "      <th>ost_prob</th>\n",
       "      <th>mean_run</th>\n",
       "      <th>was_repair_in_prev_month</th>\n",
       "      <th>kod_vrab</th>\n",
       "      <th>date_pl_rem</th>\n",
       "      <th>day_run</th>\n",
       "      <th>current_date</th>\n",
       "      <th>date_diff_srk_sl</th>\n",
       "      <th>date_diff_pl_rem</th>\n",
       "      <th>prob_end_month</th>\n",
       "    </tr>\n",
       "  </thead>\n",
       "  <tbody>\n",
       "    <tr>\n",
       "      <th>0</th>\n",
       "      <td>33361</td>\n",
       "      <td>2033-03-01</td>\n",
       "      <td>110</td>\n",
       "      <td>160</td>\n",
       "      <td>159916</td>\n",
       "      <td>1248.97541</td>\n",
       "      <td>1.0</td>\n",
       "      <td>3.0</td>\n",
       "      <td>2023-02-17</td>\n",
       "      <td>506.325137</td>\n",
       "      <td>2022-12-01</td>\n",
       "      <td>3743 days</td>\n",
       "      <td>78 days</td>\n",
       "      <td>144726.245902</td>\n",
       "    </tr>\n",
       "    <tr>\n",
       "      <th>1</th>\n",
       "      <td>33364</td>\n",
       "      <td>2031-04-12</td>\n",
       "      <td>110</td>\n",
       "      <td>160</td>\n",
       "      <td>4268</td>\n",
       "      <td>269.139344</td>\n",
       "      <td>1.0</td>\n",
       "      <td>2.0</td>\n",
       "      <td>2023-10-03</td>\n",
       "      <td>179.713115</td>\n",
       "      <td>2022-12-01</td>\n",
       "      <td>3054 days</td>\n",
       "      <td>306 days</td>\n",
       "      <td>-1123.393443</td>\n",
       "    </tr>\n",
       "    <tr>\n",
       "      <th>2</th>\n",
       "      <td>33366</td>\n",
       "      <td>2032-01-21</td>\n",
       "      <td>110</td>\n",
       "      <td>160</td>\n",
       "      <td>1507</td>\n",
       "      <td>71.598361</td>\n",
       "      <td>1.0</td>\n",
       "      <td>2.0</td>\n",
       "      <td>2023-04-03</td>\n",
       "      <td>113.866120</td>\n",
       "      <td>2022-12-01</td>\n",
       "      <td>3338 days</td>\n",
       "      <td>123 days</td>\n",
       "      <td>-1908.983607</td>\n",
       "    </tr>\n",
       "    <tr>\n",
       "      <th>3</th>\n",
       "      <td>33358</td>\n",
       "      <td>2032-11-30</td>\n",
       "      <td>110</td>\n",
       "      <td>160</td>\n",
       "      <td>30223</td>\n",
       "      <td>95.114754</td>\n",
       "      <td>0.0</td>\n",
       "      <td>2.0</td>\n",
       "      <td>2024-02-23</td>\n",
       "      <td>121.704918</td>\n",
       "      <td>2022-12-01</td>\n",
       "      <td>3652 days</td>\n",
       "      <td>449 days</td>\n",
       "      <td>26571.852459</td>\n",
       "    </tr>\n",
       "    <tr>\n",
       "      <th>4</th>\n",
       "      <td>33349</td>\n",
       "      <td>2033-12-04</td>\n",
       "      <td>110</td>\n",
       "      <td>160</td>\n",
       "      <td>153839</td>\n",
       "      <td>1214.07377</td>\n",
       "      <td>1.0</td>\n",
       "      <td>0.0</td>\n",
       "      <td>2023-07-06</td>\n",
       "      <td>494.691257</td>\n",
       "      <td>2022-12-01</td>\n",
       "      <td>4021 days</td>\n",
       "      <td>217 days</td>\n",
       "      <td>138998.262295</td>\n",
       "    </tr>\n",
       "  </tbody>\n",
       "</table>\n",
       "</div>"
      ],
      "text/plain": [
       "   wagnum    srok_sl  cnsi_probeg_dr  cnsi_probeg_kr  ost_prob    mean_run  \\\n",
       "0   33361 2033-03-01             110             160    159916  1248.97541   \n",
       "1   33364 2031-04-12             110             160      4268  269.139344   \n",
       "2   33366 2032-01-21             110             160      1507   71.598361   \n",
       "3   33358 2032-11-30             110             160     30223   95.114754   \n",
       "4   33349 2033-12-04             110             160    153839  1214.07377   \n",
       "\n",
       "   was_repair_in_prev_month  kod_vrab date_pl_rem     day_run current_date  \\\n",
       "0                       1.0       3.0  2023-02-17  506.325137   2022-12-01   \n",
       "1                       1.0       2.0  2023-10-03  179.713115   2022-12-01   \n",
       "2                       1.0       2.0  2023-04-03  113.866120   2022-12-01   \n",
       "3                       0.0       2.0  2024-02-23  121.704918   2022-12-01   \n",
       "4                       1.0       0.0  2023-07-06  494.691257   2022-12-01   \n",
       "\n",
       "  date_diff_srk_sl date_diff_pl_rem  prob_end_month  \n",
       "0        3743 days          78 days   144726.245902  \n",
       "1        3054 days         306 days    -1123.393443  \n",
       "2        3338 days         123 days    -1908.983607  \n",
       "3        3652 days         449 days    26571.852459  \n",
       "4        4021 days         217 days   138998.262295  "
      ]
     },
     "execution_count": 40,
     "metadata": {},
     "output_type": "execute_result"
    }
   ],
   "source": [
    "x_train.head()"
   ]
  },
  {
   "cell_type": "code",
   "execution_count": 41,
   "metadata": {
    "tags": []
   },
   "outputs": [
    {
     "data": {
      "text/plain": [
       "0    0\n",
       "1    1\n",
       "2    1\n",
       "3    0\n",
       "4    0\n",
       "Name: target_month, dtype: Int64"
      ]
     },
     "execution_count": 41,
     "metadata": {},
     "output_type": "execute_result"
    }
   ],
   "source": [
    "y_train.head()"
   ]
  },
  {
   "cell_type": "code",
   "execution_count": 6,
   "metadata": {
    "id": "C5J_4dmLI_3G",
    "tags": []
   },
   "outputs": [],
   "source": [
    "# данные по дислокации\n",
    "dislok = pd.read_parquet(path_train + '/dislok_wagons.parquet').convert_dtypes()\n",
    "# список вагонов с остаточным пробегом на момент прогноза\n",
    "wag_prob = pd.read_parquet(path_train + '/wagons_probeg_ownersip.parquet').convert_dtypes()\n",
    " # параметры вагона\n",
    "wag_param = pd.read_parquet(path_train + '/wag_params.parquet').convert_dtypes()\n",
    "# таргет по прогноза выбытия вагонов в ПР на месяц и на 10 дней\n",
    "target = pd.read_csv(path_train +'/target/y_train.csv').convert_dtypes()\n",
    "target2 = pd.read_csv(path_train +'/target/y_train.csv').convert_dtypes()\n",
    "\n",
    "# текущие ремонты вагонов\n",
    "tr_rem = pd.read_parquet(path_train + '/tr_rems.parquet').convert_dtypes()\n",
    "\n",
    "wag_param = wag_param.drop_duplicates(subset='wagnum', keep='last')# у вагонов могут меняться параметры, поэтмоу номер дублируется. В данной модели это фактор не учитывается\n",
    "wag_param = wag_param[['wagnum','srok_sl','cnsi_probeg_dr','cnsi_probeg_kr']]\n",
    "\n",
    "month_to_predict = pd.to_datetime('2023-01-01')\n",
    "\n",
    "target.month = pd.to_datetime(target.month)\n",
    "target = target[target.month == month_to_predict][['wagnum','target_month','target_day']]\n",
    "\n",
    "target2.month = pd.to_datetime(target2.month)\n",
    "target2 = target2[target2.month == month_to_predict][['wagnum','month','target_month','target_day']]\n",
    "\n",
    "wag_prob = wag_prob[(wag_prob.repdate == month_to_predict)| (wag_prob.repdate == wag_prob.repdate.min())]\n",
    "\n",
    "# оценим среднесуточный пробег из данных по пробегу вагона, на тот случай, если данных по нормативу нет\n",
    "wag_prob_ =wag_prob.groupby('wagnum', as_index = False).agg({'repdate':['max', 'min'] , 'ost_prob': ['max','min']},)#.droplevel(1)\n",
    "wag_prob_.columns = [head+'_' + name\n",
    "                     if head!='wagnum'\n",
    "                     else head\n",
    "                     for head, name in wag_prob_.columns ]\n",
    "\n",
    "wag_prob_['diff_days'] = wag_prob_.repdate_max - wag_prob_.repdate_min\n",
    "wag_prob_['mean_run'] = (wag_prob_.ost_prob_max - wag_prob_.ost_prob_min )/ wag_prob_.diff_days.dt.days\n",
    "wag_prob = wag_prob[wag_prob.repdate == wag_prob.repdate.max()][['wagnum','ost_prob']]\n",
    "wag_prob = wag_prob.merge(wag_prob_[['wagnum','mean_run']])"
   ]
  },
  {
   "cell_type": "code",
   "execution_count": 31,
   "metadata": {
    "tags": []
   },
   "outputs": [
    {
     "name": "stdout",
     "output_type": "stream",
     "text": [
      "<class 'pandas.core.frame.DataFrame'>\n",
      "Int64Index: 33973 entries, 0 to 33972\n",
      "Data columns (total 3 columns):\n",
      " #   Column    Non-Null Count  Dtype  \n",
      "---  ------    --------------  -----  \n",
      " 0   wagnum    33973 non-null  Int64  \n",
      " 1   ost_prob  32690 non-null  Int64  \n",
      " 2   mean_run  32754 non-null  Float64\n",
      "dtypes: Float64(1), Int64(2)\n",
      "memory usage: 1.1 MB\n"
     ]
    }
   ],
   "source": [
    "wag_prob.info()"
   ]
  },
  {
   "cell_type": "code",
   "execution_count": 7,
   "metadata": {
    "tags": []
   },
   "outputs": [],
   "source": [
    "# данные по текущим ремонтам\n",
    "pr_rem = pd.read_parquet(path_train + '/pr_rems.parquet').convert_dtypes()"
   ]
  },
  {
   "cell_type": "markdown",
   "metadata": {
    "jp-MarkdownHeadingCollapsed": true,
    "tags": []
   },
   "source": [
    "# Функция для создания данных"
   ]
  },
  {
   "cell_type": "code",
   "execution_count": 49,
   "metadata": {
    "tags": []
   },
   "outputs": [],
   "source": [
    "def make_wp(wag_param, wag_prob, pr_rem, tr_rem, dislok, target, month_to_predict='2023-01-01', month_prev=12, info=False):\n",
    "    '''\n",
    "    Передаём: параметры вагона, пробег вагона, плановые ремонты, дислокацию, таргет\n",
    "    дату отчёта на которую предиктим (по умолчанию 2023-01-01), \n",
    "    предыдущий месяц от даты отчёта (по умолчанию 12)\n",
    "    , информация о датасетах\n",
    "    \n",
    "    Возвращает: сэмпл фичей для обработки, target\n",
    "    '''\n",
    "    \n",
    "    # Достаём ТАРГЕТ для нужной даты month_to_predict\n",
    "    target.month = pd.to_datetime(target.month)\n",
    "    target = target[target.month == month_to_predict][['wagnum','target_month','target_day']]\n",
    "    \n",
    "    print('Достаём данные')\n",
    "    # Достаём ПРОБЕГ для нужной даты month_to_predict\n",
    "    wag_prob = wag_prob[(wag_prob.repdate == month_to_predict)| (wag_prob.repdate == wag_prob.repdate.min())]\n",
    "\n",
    "    # Оценим среднесуточный пробег из данных по пробегу вагона, на тот случай, если данных по нормативу нет\n",
    "    wag_prob_ = wag_prob.groupby('wagnum', as_index = False).agg({'repdate':['max', 'min'] , 'ost_prob': ['max','min']},)#.droplevel(1)\n",
    "    wag_prob_.columns = [head+'_' + name\n",
    "                         if head!='wagnum'\n",
    "                         else head\n",
    "                         for head, name in wag_prob_.columns ]\n",
    "\n",
    "    wag_prob_['diff_days'] = wag_prob_.repdate_max - wag_prob_.repdate_min\n",
    "    wag_prob_['mean_run'] = (wag_prob_.ost_prob_max - wag_prob_.ost_prob_min )/ wag_prob_.diff_days.dt.days\n",
    "    wag_prob = wag_prob[wag_prob.repdate == wag_prob.repdate.max()][['wagnum','ost_prob']]\n",
    "    wag_prob = wag_prob.merge(wag_prob_[['wagnum','mean_run']])\n",
    "    \n",
    "    # Достаём ПАРАМЕТРЫ вагона для нужной даты month_to_predict. У вагонов могут меняться параметры, поэтмоу номер дублируется\n",
    "    wag_param = wag_param.drop_duplicates(subset='wagnum', keep='last')\n",
    "    wag_param = wag_param[['wagnum','srok_sl','cnsi_probeg_dr','cnsi_probeg_kr']]\n",
    "    \n",
    "    \n",
    "    # Достаём данные по ПЛАНОВЫМ ремонтам для нужной даты month_to_predict\n",
    "    pr_rem = pr_rem[pr_rem['month'] == month_prev]\n",
    "    # добавим признак, что вагон был в ПР в предыдущем месяце. Скорее всего, если вагон был в ПР недавно, то повторно он не поедет\n",
    "    pr_rem['was_repair_in_prev_month'] = 1\n",
    "    pr_rem = pr_rem[['wagnum','was_repair_in_prev_month']]\n",
    "    pr_rem = pr_rem.drop_duplicates(subset='wagnum') #некоторые вагоны все же ремонтируются больше 1 раза, поэтому нужен сбросить дубли\n",
    "    \n",
    "    # Достаём данные по ТЕКУЩИМ ремонтам для нужной даты month_to_predict\n",
    "    tr_rem = tr_rem[tr_rem['rem_month'] == month_to_predict] \\\n",
    "    .groupby('wagnum', as_index= False).kod_vrab.count()\n",
    "    \n",
    "    # Достаём данные по ДИСЛОКАЦИИ для нужной даты month_to_predict\n",
    "    dislok = dislok[dislok['plan_date'] <= month_to_predict] \\\n",
    "    .drop_duplicates(subset = 'wagnum', keep='last')\n",
    "    \n",
    "    # Показать инфо\n",
    "    if info:\n",
    "        print(wag_prob.info())\n",
    "        print(wag_param.info())\n",
    "        print(pr_rem.info())\n",
    "        print(tr_rem.info())\n",
    "        print(dislok_n.info())\n",
    "    \n",
    "    print('Делаем фичи')\n",
    "    # Создаём фичи\n",
    "    wp = target[['wagnum']].merge(wag_param, on ='wagnum', how = 'left')\\\n",
    "    .merge(wag_prob, how = 'left')\\\n",
    "    .merge(pr_rem, how = 'left')\\\n",
    "    .merge(tr_rem, how = 'left')\\\n",
    "    .merge(dislok[['wagnum','date_pl_rem']], how = 'left')\n",
    "\n",
    "        \n",
    "    return wp, target"
   ]
  },
  {
   "cell_type": "code",
   "execution_count": 83,
   "metadata": {
    "tags": []
   },
   "outputs": [],
   "source": [
    "def make_features_wp(wp, target, month=True):\n",
    "    '''\n",
    "     Передаём: сэмпл фичей, target\n",
    "     таргет за месяц (по умолчанию) или месяц + 10 дней\n",
    "     \n",
    "     Возрашает: фичи и таргет\n",
    "    '''\n",
    "    \n",
    "    print('Считаем среднедневный пробег')\n",
    "    # Считаем среднедневный пробег\n",
    "    wp[['cnsi_probeg_dr','cnsi_probeg_kr','mean_run', 'was_repair_in_prev_month', 'kod_vrab']] =\\\n",
    "    wp[['cnsi_probeg_dr','cnsi_probeg_kr','mean_run', 'was_repair_in_prev_month', 'kod_vrab']].fillna(0)\n",
    "    wp['day_run'] = wp.apply(lambda x : [ val  for val in [x.cnsi_probeg_kr, x.cnsi_probeg_dr, x.mean_run] if val != 0], axis = 1 )\n",
    "    wp['day_run']= wp.apply(lambda x : np.mean(x.day_run) if len(x.day_run)> 0 else 0, axis = 1 )\n",
    "\n",
    "    wp['current_date'] = month_to_predict\n",
    "    # Дней до окончания срока службы на month_to_predict\n",
    "    wp['date_diff_srk_sl'] = wp['srok_sl']- wp['current_date']\n",
    "    # Дней до планового ремонта на month_to_predict\n",
    "    wp['date_diff_pl_rem'] = wp['date_pl_rem']- wp['current_date']\n",
    "    # Остаточный пробег на конец месяца\n",
    "    wp['prob_end_month'] = wp['ost_prob'] - wp['day_run']* 30\n",
    "    \n",
    "    print('Заполняме пропуски')\n",
    "    numeric_columns = wp.select_dtypes(include=['int', 'float'])\n",
    "    # Заменим отсутствующие значения на нули\n",
    "    wp[numeric_columns.columns] = numeric_columns.fillna(0)\n",
    "    \n",
    "    print('Сортируем номега вагонов')\n",
    "    # Фичи\n",
    "    X = wp.set_index('wagnum').sort_index()\n",
    "    \n",
    "    # Таргет\n",
    "    y = target.set_index('wagnum').sort_index()\n",
    "    \n",
    "    # Если month == True, то оставляем таргет только для месяца\n",
    "    if month:\n",
    "        y = y['target_month']\n",
    "        \n",
    "    return X, y"
   ]
  },
  {
   "cell_type": "markdown",
   "metadata": {
    "tags": []
   },
   "source": [
    "# Проверка функции. Тестовый датасет"
   ]
  },
  {
   "cell_type": "code",
   "execution_count": 51,
   "metadata": {
    "tags": []
   },
   "outputs": [],
   "source": [
    "# данные по дислокации\n",
    "dislok_clear = pd.read_parquet(path_train + '/dislok_wagons.parquet').convert_dtypes()\n",
    "# список вагонов с остаточным пробегом на момент прогноза\n",
    "wag_prob_clear = pd.read_parquet(path_train + '/wagons_probeg_ownersip.parquet').convert_dtypes()\n",
    " # параметры вагона\n",
    "wag_param_clear = pd.read_parquet(path_train + '/wag_params.parquet').convert_dtypes()\n",
    "# таргет по прогноза выбытия вагонов в ПР на месяц и на 10 дней\n",
    "target_clear = pd.read_csv(path_train +'/target/y_train.csv').convert_dtypes()\n",
    "# текущие ремонты вагонов\n",
    "tr_rem_clear = pd.read_parquet(path_train + '/tr_rems.parquet').convert_dtypes()\n",
    "# данные по текущим ремонтам\n",
    "pr_rem_clear = pd.read_parquet(path_train + '/pr_rems.parquet').convert_dtypes()"
   ]
  },
  {
   "cell_type": "code",
   "execution_count": 96,
   "metadata": {
    "tags": []
   },
   "outputs": [
    {
     "name": "stdout",
     "output_type": "stream",
     "text": [
      "Достаём данные\n",
      "Делаем фичи\n",
      "CPU times: total: 922 ms\n",
      "Wall time: 944 ms\n"
     ]
    }
   ],
   "source": [
    "%%time\n",
    "wp_1, target_1 = make_wp(wag_param_clear, wag_prob_clear, pr_rem_clear, tr_rem_clear, dislok_clear, target_clear)"
   ]
  },
  {
   "cell_type": "code",
   "execution_count": 97,
   "metadata": {
    "tags": []
   },
   "outputs": [
    {
     "name": "stdout",
     "output_type": "stream",
     "text": [
      "<class 'pandas.core.frame.DataFrame'>\n",
      "Int64Index: 33973 entries, 0 to 33972\n",
      "Data columns (total 9 columns):\n",
      " #   Column                    Non-Null Count  Dtype         \n",
      "---  ------                    --------------  -----         \n",
      " 0   wagnum                    33973 non-null  Int64         \n",
      " 1   srok_sl                   33973 non-null  datetime64[ns]\n",
      " 2   cnsi_probeg_dr            33973 non-null  Int64         \n",
      " 3   cnsi_probeg_kr            33973 non-null  Int64         \n",
      " 4   ost_prob                  32690 non-null  Int64         \n",
      " 5   mean_run                  32754 non-null  Float64       \n",
      " 6   was_repair_in_prev_month  1583 non-null   float64       \n",
      " 7   kod_vrab                  3892 non-null   float64       \n",
      " 8   date_pl_rem               33973 non-null  datetime64[ns]\n",
      "dtypes: Float64(1), Int64(4), datetime64[ns](2), float64(2)\n",
      "memory usage: 2.8 MB\n"
     ]
    }
   ],
   "source": [
    "wp_1.info()"
   ]
  },
  {
   "cell_type": "code",
   "execution_count": 98,
   "metadata": {
    "tags": []
   },
   "outputs": [
    {
     "data": {
      "text/html": [
       "<div>\n",
       "<style scoped>\n",
       "    .dataframe tbody tr th:only-of-type {\n",
       "        vertical-align: middle;\n",
       "    }\n",
       "\n",
       "    .dataframe tbody tr th {\n",
       "        vertical-align: top;\n",
       "    }\n",
       "\n",
       "    .dataframe thead th {\n",
       "        text-align: right;\n",
       "    }\n",
       "</style>\n",
       "<table border=\"1\" class=\"dataframe\">\n",
       "  <thead>\n",
       "    <tr style=\"text-align: right;\">\n",
       "      <th></th>\n",
       "      <th>wagnum</th>\n",
       "      <th>srok_sl</th>\n",
       "      <th>cnsi_probeg_dr</th>\n",
       "      <th>cnsi_probeg_kr</th>\n",
       "      <th>ost_prob</th>\n",
       "      <th>mean_run</th>\n",
       "      <th>was_repair_in_prev_month</th>\n",
       "      <th>kod_vrab</th>\n",
       "      <th>date_pl_rem</th>\n",
       "    </tr>\n",
       "  </thead>\n",
       "  <tbody>\n",
       "    <tr>\n",
       "      <th>0</th>\n",
       "      <td>33361</td>\n",
       "      <td>2033-03-01</td>\n",
       "      <td>110</td>\n",
       "      <td>160</td>\n",
       "      <td>153113</td>\n",
       "      <td>951.45098</td>\n",
       "      <td>NaN</td>\n",
       "      <td>NaN</td>\n",
       "      <td>2023-02-17</td>\n",
       "    </tr>\n",
       "    <tr>\n",
       "      <th>1</th>\n",
       "      <td>33364</td>\n",
       "      <td>2031-04-12</td>\n",
       "      <td>110</td>\n",
       "      <td>160</td>\n",
       "      <td>157426</td>\n",
       "      <td>786.424837</td>\n",
       "      <td>1.0</td>\n",
       "      <td>NaN</td>\n",
       "      <td>2023-10-03</td>\n",
       "    </tr>\n",
       "    <tr>\n",
       "      <th>2</th>\n",
       "      <td>33366</td>\n",
       "      <td>2032-01-21</td>\n",
       "      <td>110</td>\n",
       "      <td>160</td>\n",
       "      <td>159748</td>\n",
       "      <td>977.163399</td>\n",
       "      <td>1.0</td>\n",
       "      <td>NaN</td>\n",
       "      <td>2023-04-03</td>\n",
       "    </tr>\n",
       "    <tr>\n",
       "      <th>3</th>\n",
       "      <td>33358</td>\n",
       "      <td>2032-11-30</td>\n",
       "      <td>110</td>\n",
       "      <td>160</td>\n",
       "      <td>28597</td>\n",
       "      <td>86.470588</td>\n",
       "      <td>NaN</td>\n",
       "      <td>NaN</td>\n",
       "      <td>2024-02-23</td>\n",
       "    </tr>\n",
       "    <tr>\n",
       "      <th>4</th>\n",
       "      <td>33349</td>\n",
       "      <td>2033-12-04</td>\n",
       "      <td>110</td>\n",
       "      <td>160</td>\n",
       "      <td>150043</td>\n",
       "      <td>943.27451</td>\n",
       "      <td>NaN</td>\n",
       "      <td>NaN</td>\n",
       "      <td>2023-07-06</td>\n",
       "    </tr>\n",
       "  </tbody>\n",
       "</table>\n",
       "</div>"
      ],
      "text/plain": [
       "   wagnum    srok_sl  cnsi_probeg_dr  cnsi_probeg_kr  ost_prob    mean_run  \\\n",
       "0   33361 2033-03-01             110             160    153113   951.45098   \n",
       "1   33364 2031-04-12             110             160    157426  786.424837   \n",
       "2   33366 2032-01-21             110             160    159748  977.163399   \n",
       "3   33358 2032-11-30             110             160     28597   86.470588   \n",
       "4   33349 2033-12-04             110             160    150043   943.27451   \n",
       "\n",
       "   was_repair_in_prev_month  kod_vrab date_pl_rem  \n",
       "0                       NaN       NaN  2023-02-17  \n",
       "1                       1.0       NaN  2023-10-03  \n",
       "2                       1.0       NaN  2023-04-03  \n",
       "3                       NaN       NaN  2024-02-23  \n",
       "4                       NaN       NaN  2023-07-06  "
      ]
     },
     "execution_count": 98,
     "metadata": {},
     "output_type": "execute_result"
    }
   ],
   "source": [
    "wp_1.head()"
   ]
  },
  {
   "cell_type": "code",
   "execution_count": 103,
   "metadata": {
    "tags": []
   },
   "outputs": [
    {
     "name": "stdout",
     "output_type": "stream",
     "text": [
      "Считаем среднедневный пробег\n",
      "Заполняме пропуски\n",
      "Сортируем номега вагонов\n",
      "CPU times: total: 2.17 s\n",
      "Wall time: 2.23 s\n"
     ]
    }
   ],
   "source": [
    "%%time\n",
    "X_test_1, y_test_1 = make_features_wp(wp, target_1)"
   ]
  },
  {
   "cell_type": "code",
   "execution_count": 104,
   "metadata": {
    "tags": []
   },
   "outputs": [
    {
     "name": "stdout",
     "output_type": "stream",
     "text": [
      "<class 'pandas.core.frame.DataFrame'>\n",
      "Index: 33973 entries, 0 to 33976\n",
      "Data columns (total 13 columns):\n",
      " #   Column                    Non-Null Count  Dtype          \n",
      "---  ------                    --------------  -----          \n",
      " 0   srok_sl                   33973 non-null  datetime64[ns] \n",
      " 1   cnsi_probeg_dr            33973 non-null  Int64          \n",
      " 2   cnsi_probeg_kr            33973 non-null  Int64          \n",
      " 3   ost_prob                  33973 non-null  Int64          \n",
      " 4   mean_run                  33973 non-null  Float64        \n",
      " 5   was_repair_in_prev_month  33973 non-null  float64        \n",
      " 6   kod_vrab                  33973 non-null  float64        \n",
      " 7   date_pl_rem               33973 non-null  datetime64[ns] \n",
      " 8   day_run                   33973 non-null  float64        \n",
      " 9   current_date              33973 non-null  datetime64[ns] \n",
      " 10  date_diff_srk_sl          33973 non-null  timedelta64[ns]\n",
      " 11  date_diff_pl_rem          33973 non-null  timedelta64[ns]\n",
      " 12  prob_end_month            33973 non-null  Float64        \n",
      "dtypes: Float64(2), Int64(3), datetime64[ns](3), float64(3), timedelta64[ns](2)\n",
      "memory usage: 3.8 MB\n"
     ]
    }
   ],
   "source": [
    "X_test_1.info()"
   ]
  },
  {
   "cell_type": "code",
   "execution_count": 105,
   "metadata": {
    "tags": []
   },
   "outputs": [
    {
     "name": "stdout",
     "output_type": "stream",
     "text": [
      "<class 'pandas.core.series.Series'>\n",
      "Index: 33973 entries, 0 to 33976\n",
      "Series name: target_month\n",
      "Non-Null Count  Dtype\n",
      "--------------  -----\n",
      "33973 non-null  Int64\n",
      "dtypes: Int64(1)\n",
      "memory usage: 597.2 KB\n"
     ]
    }
   ],
   "source": [
    "y_test_1.info()"
   ]
  },
  {
   "cell_type": "code",
   "execution_count": 106,
   "metadata": {
    "tags": []
   },
   "outputs": [
    {
     "data": {
      "text/plain": [
       "0    32297\n",
       "1     1676\n",
       "Name: target_month, dtype: Int64"
      ]
     },
     "execution_count": 106,
     "metadata": {},
     "output_type": "execute_result"
    }
   ],
   "source": [
    "y_test_1.value_counts()"
   ]
  },
  {
   "cell_type": "markdown",
   "metadata": {
    "jp-MarkdownHeadingCollapsed": true,
    "tags": []
   },
   "source": [
    "# Старый Тестовый датасет"
   ]
  },
  {
   "cell_type": "code",
   "execution_count": 8,
   "metadata": {
    "tags": []
   },
   "outputs": [
    {
     "name": "stdout",
     "output_type": "stream",
     "text": [
      "<class 'pandas.core.frame.DataFrame'>\n",
      "Int64Index: 33977 entries, 3218 to 33707\n",
      "Data columns (total 4 columns):\n",
      " #   Column          Non-Null Count  Dtype         \n",
      "---  ------          --------------  -----         \n",
      " 0   wagnum          33977 non-null  Int64         \n",
      " 1   srok_sl         33977 non-null  datetime64[ns]\n",
      " 2   cnsi_probeg_dr  33977 non-null  Int64         \n",
      " 3   cnsi_probeg_kr  33977 non-null  Int64         \n",
      "dtypes: Int64(3), datetime64[ns](1)\n",
      "memory usage: 1.4 MB\n"
     ]
    }
   ],
   "source": [
    "wag_param.info()"
   ]
  },
  {
   "cell_type": "code",
   "execution_count": 9,
   "metadata": {
    "tags": []
   },
   "outputs": [],
   "source": [
    "# добавим признак, что вагон был в ПР в предыдущем месяце. Скорее всего, если вагон был в ПР недавно, то повторно он не поедет\n",
    "pr_rem['was_repair_in_prev_month'] = 1"
   ]
  },
  {
   "cell_type": "code",
   "execution_count": 10,
   "metadata": {
    "tags": []
   },
   "outputs": [],
   "source": [
    "pr_rem = pr_rem[pr_rem['month'] == 12]"
   ]
  },
  {
   "cell_type": "code",
   "execution_count": 11,
   "metadata": {
    "tags": []
   },
   "outputs": [],
   "source": [
    "pr_rem = pr_rem[['wagnum','was_repair_in_prev_month']]\n",
    "pr_rem = pr_rem.drop_duplicates(subset='wagnum') #некоторые вагоны все же ремонтируются больше 1 раза, поэтому нужен сбросить дубли"
   ]
  },
  {
   "cell_type": "code",
   "execution_count": 12,
   "metadata": {
    "tags": []
   },
   "outputs": [
    {
     "name": "stdout",
     "output_type": "stream",
     "text": [
      "<class 'pandas.core.frame.DataFrame'>\n",
      "Int64Index: 1584 entries, 2 to 1572\n",
      "Data columns (total 2 columns):\n",
      " #   Column                    Non-Null Count  Dtype\n",
      "---  ------                    --------------  -----\n",
      " 0   wagnum                    1584 non-null   Int64\n",
      " 1   was_repair_in_prev_month  1584 non-null   int64\n",
      "dtypes: Int64(1), int64(1)\n",
      "memory usage: 38.7 KB\n"
     ]
    }
   ],
   "source": [
    "pr_rem.info()"
   ]
  },
  {
   "cell_type": "code",
   "execution_count": 13,
   "metadata": {
    "tags": []
   },
   "outputs": [],
   "source": [
    "tr_rem = tr_rem[tr_rem['rem_month'] == month_to_predict] \\\n",
    ".groupby('wagnum', as_index= False).kod_vrab.count()"
   ]
  },
  {
   "cell_type": "code",
   "execution_count": 14,
   "metadata": {
    "tags": []
   },
   "outputs": [
    {
     "data": {
      "text/html": [
       "<div>\n",
       "<style scoped>\n",
       "    .dataframe tbody tr th:only-of-type {\n",
       "        vertical-align: middle;\n",
       "    }\n",
       "\n",
       "    .dataframe tbody tr th {\n",
       "        vertical-align: top;\n",
       "    }\n",
       "\n",
       "    .dataframe thead th {\n",
       "        text-align: right;\n",
       "    }\n",
       "</style>\n",
       "<table border=\"1\" class=\"dataframe\">\n",
       "  <thead>\n",
       "    <tr style=\"text-align: right;\">\n",
       "      <th></th>\n",
       "      <th>wagnum</th>\n",
       "      <th>kod_vrab</th>\n",
       "    </tr>\n",
       "  </thead>\n",
       "  <tbody>\n",
       "    <tr>\n",
       "      <th>0</th>\n",
       "      <td>6</td>\n",
       "      <td>3</td>\n",
       "    </tr>\n",
       "    <tr>\n",
       "      <th>1</th>\n",
       "      <td>36</td>\n",
       "      <td>1</td>\n",
       "    </tr>\n",
       "    <tr>\n",
       "      <th>2</th>\n",
       "      <td>39</td>\n",
       "      <td>1</td>\n",
       "    </tr>\n",
       "    <tr>\n",
       "      <th>3</th>\n",
       "      <td>44</td>\n",
       "      <td>2</td>\n",
       "    </tr>\n",
       "    <tr>\n",
       "      <th>4</th>\n",
       "      <td>47</td>\n",
       "      <td>2</td>\n",
       "    </tr>\n",
       "  </tbody>\n",
       "</table>\n",
       "</div>"
      ],
      "text/plain": [
       "   wagnum  kod_vrab\n",
       "0       6         3\n",
       "1      36         1\n",
       "2      39         1\n",
       "3      44         2\n",
       "4      47         2"
      ]
     },
     "execution_count": 14,
     "metadata": {},
     "output_type": "execute_result"
    }
   ],
   "source": [
    "tr_rem.head()"
   ]
  },
  {
   "cell_type": "code",
   "execution_count": 28,
   "metadata": {
    "tags": []
   },
   "outputs": [
    {
     "name": "stdout",
     "output_type": "stream",
     "text": [
      "<class 'pandas.core.frame.DataFrame'>\n",
      "RangeIndex: 3892 entries, 0 to 3891\n",
      "Data columns (total 2 columns):\n",
      " #   Column    Non-Null Count  Dtype\n",
      "---  ------    --------------  -----\n",
      " 0   wagnum    3892 non-null   Int64\n",
      " 1   kod_vrab  3892 non-null   int64\n",
      "dtypes: Int64(1), int64(1)\n",
      "memory usage: 64.7 KB\n"
     ]
    }
   ],
   "source": [
    "tr_rem.info()"
   ]
  },
  {
   "cell_type": "code",
   "execution_count": 15,
   "metadata": {
    "tags": []
   },
   "outputs": [],
   "source": [
    "dislok_n = dislok[dislok['plan_date'] <= month_to_predict] \\\n",
    ".drop_duplicates(subset = 'wagnum', keep='last')"
   ]
  },
  {
   "cell_type": "code",
   "execution_count": 16,
   "metadata": {
    "tags": []
   },
   "outputs": [
    {
     "data": {
      "text/html": [
       "<div>\n",
       "<style scoped>\n",
       "    .dataframe tbody tr th:only-of-type {\n",
       "        vertical-align: middle;\n",
       "    }\n",
       "\n",
       "    .dataframe tbody tr th {\n",
       "        vertical-align: top;\n",
       "    }\n",
       "\n",
       "    .dataframe thead th {\n",
       "        text-align: right;\n",
       "    }\n",
       "</style>\n",
       "<table border=\"1\" class=\"dataframe\">\n",
       "  <thead>\n",
       "    <tr style=\"text-align: right;\">\n",
       "      <th></th>\n",
       "      <th>plan_date</th>\n",
       "      <th>wagnum</th>\n",
       "      <th>date_kap</th>\n",
       "      <th>date_dep</th>\n",
       "      <th>kod_vrab</th>\n",
       "      <th>date_pl_rem</th>\n",
       "      <th>id_road_disl</th>\n",
       "      <th>st_id_dest</th>\n",
       "      <th>id_road_dest</th>\n",
       "      <th>st_id_send</th>\n",
       "      <th>id_road_send</th>\n",
       "      <th>ost_prob</th>\n",
       "      <th>isload</th>\n",
       "      <th>fr_id</th>\n",
       "      <th>last_fr_id</th>\n",
       "      <th>distance</th>\n",
       "    </tr>\n",
       "  </thead>\n",
       "  <tbody>\n",
       "    <tr>\n",
       "      <th>347</th>\n",
       "      <td>2022-12-07</td>\n",
       "      <td>11219</td>\n",
       "      <td>2008-09-02</td>\n",
       "      <td>2017-11-17</td>\n",
       "      <td>2</td>\n",
       "      <td>2019-06-27</td>\n",
       "      <td>28</td>\n",
       "      <td>22</td>\n",
       "      <td>28</td>\n",
       "      <td>6279</td>\n",
       "      <td>28</td>\n",
       "      <td>38981</td>\n",
       "      <td>0</td>\n",
       "      <td>0</td>\n",
       "      <td>615</td>\n",
       "      <td>-1</td>\n",
       "    </tr>\n",
       "    <tr>\n",
       "      <th>25426</th>\n",
       "      <td>2022-12-31</td>\n",
       "      <td>33350</td>\n",
       "      <td>NaT</td>\n",
       "      <td>2020-07-25</td>\n",
       "      <td>0</td>\n",
       "      <td>2022-07-25</td>\n",
       "      <td>38</td>\n",
       "      <td>22</td>\n",
       "      <td>38</td>\n",
       "      <td>10364</td>\n",
       "      <td>38</td>\n",
       "      <td>249999</td>\n",
       "      <td>0</td>\n",
       "      <td>5032</td>\n",
       "      <td>740</td>\n",
       "      <td>-1</td>\n",
       "    </tr>\n",
       "    <tr>\n",
       "      <th>216913</th>\n",
       "      <td>2022-12-31</td>\n",
       "      <td>8099</td>\n",
       "      <td>2011-05-02</td>\n",
       "      <td>2020-04-20</td>\n",
       "      <td>0</td>\n",
       "      <td>2023-04-20</td>\n",
       "      <td>31</td>\n",
       "      <td>7965</td>\n",
       "      <td>31</td>\n",
       "      <td>8364</td>\n",
       "      <td>36</td>\n",
       "      <td>155209</td>\n",
       "      <td>1</td>\n",
       "      <td>2297</td>\n",
       "      <td>2297</td>\n",
       "      <td>-1</td>\n",
       "    </tr>\n",
       "    <tr>\n",
       "      <th>730409</th>\n",
       "      <td>2022-12-12</td>\n",
       "      <td>28344</td>\n",
       "      <td>2011-12-15</td>\n",
       "      <td>2020-01-03</td>\n",
       "      <td>2</td>\n",
       "      <td>2022-11-30</td>\n",
       "      <td>11</td>\n",
       "      <td>22</td>\n",
       "      <td>11</td>\n",
       "      <td>1818</td>\n",
       "      <td>11</td>\n",
       "      <td>&lt;NA&gt;</td>\n",
       "      <td>0</td>\n",
       "      <td>5032</td>\n",
       "      <td>724</td>\n",
       "      <td>-1</td>\n",
       "    </tr>\n",
       "    <tr>\n",
       "      <th>993683</th>\n",
       "      <td>2022-12-22</td>\n",
       "      <td>26318</td>\n",
       "      <td>2015-11-25</td>\n",
       "      <td>2020-02-22</td>\n",
       "      <td>2</td>\n",
       "      <td>2023-01-01</td>\n",
       "      <td>16</td>\n",
       "      <td>22</td>\n",
       "      <td>16</td>\n",
       "      <td>4524</td>\n",
       "      <td>16</td>\n",
       "      <td>86877</td>\n",
       "      <td>0</td>\n",
       "      <td>5032</td>\n",
       "      <td>714</td>\n",
       "      <td>187</td>\n",
       "    </tr>\n",
       "  </tbody>\n",
       "</table>\n",
       "</div>"
      ],
      "text/plain": [
       "        plan_date  wagnum   date_kap   date_dep  kod_vrab date_pl_rem  \\\n",
       "347    2022-12-07   11219 2008-09-02 2017-11-17         2  2019-06-27   \n",
       "25426  2022-12-31   33350        NaT 2020-07-25         0  2022-07-25   \n",
       "216913 2022-12-31    8099 2011-05-02 2020-04-20         0  2023-04-20   \n",
       "730409 2022-12-12   28344 2011-12-15 2020-01-03         2  2022-11-30   \n",
       "993683 2022-12-22   26318 2015-11-25 2020-02-22         2  2023-01-01   \n",
       "\n",
       "        id_road_disl  st_id_dest  id_road_dest  st_id_send  id_road_send  \\\n",
       "347               28          22            28        6279            28   \n",
       "25426             38          22            38       10364            38   \n",
       "216913            31        7965            31        8364            36   \n",
       "730409            11          22            11        1818            11   \n",
       "993683            16          22            16        4524            16   \n",
       "\n",
       "        ost_prob  isload  fr_id  last_fr_id  distance  \n",
       "347        38981       0      0         615        -1  \n",
       "25426     249999       0   5032         740        -1  \n",
       "216913    155209       1   2297        2297        -1  \n",
       "730409      <NA>       0   5032         724        -1  \n",
       "993683     86877       0   5032         714       187  "
      ]
     },
     "execution_count": 16,
     "metadata": {},
     "output_type": "execute_result"
    }
   ],
   "source": [
    "dislok_n.head()"
   ]
  },
  {
   "cell_type": "code",
   "execution_count": 17,
   "metadata": {
    "tags": []
   },
   "outputs": [
    {
     "data": {
      "text/plain": [
       "Timestamp('2023-01-01 00:00:00')"
      ]
     },
     "execution_count": 17,
     "metadata": {},
     "output_type": "execute_result"
    }
   ],
   "source": [
    "dislok_n['plan_date'].max()"
   ]
  },
  {
   "cell_type": "code",
   "execution_count": 18,
   "metadata": {
    "tags": []
   },
   "outputs": [
    {
     "name": "stdout",
     "output_type": "stream",
     "text": [
      "<class 'pandas.core.frame.DataFrame'>\n",
      "Int64Index: 33977 entries, 347 to 1052894\n",
      "Data columns (total 16 columns):\n",
      " #   Column        Non-Null Count  Dtype         \n",
      "---  ------        --------------  -----         \n",
      " 0   plan_date     33977 non-null  datetime64[ns]\n",
      " 1   wagnum        33977 non-null  Int64         \n",
      " 2   date_kap      18998 non-null  datetime64[ns]\n",
      " 3   date_dep      32064 non-null  datetime64[ns]\n",
      " 4   kod_vrab      33977 non-null  Int64         \n",
      " 5   date_pl_rem   33977 non-null  datetime64[ns]\n",
      " 6   id_road_disl  33977 non-null  Int64         \n",
      " 7   st_id_dest    33977 non-null  Int64         \n",
      " 8   id_road_dest  33977 non-null  Int64         \n",
      " 9   st_id_send    33977 non-null  Int64         \n",
      " 10  id_road_send  33977 non-null  Int64         \n",
      " 11  ost_prob      32693 non-null  Int64         \n",
      " 12  isload        33977 non-null  Int64         \n",
      " 13  fr_id         33977 non-null  Int64         \n",
      " 14  last_fr_id    33977 non-null  Int64         \n",
      " 15  distance      33977 non-null  Int64         \n",
      "dtypes: Int64(12), datetime64[ns](4)\n",
      "memory usage: 4.8 MB\n"
     ]
    }
   ],
   "source": [
    "dislok_n.info()"
   ]
  },
  {
   "cell_type": "code",
   "execution_count": 19,
   "metadata": {
    "tags": []
   },
   "outputs": [
    {
     "name": "stdout",
     "output_type": "stream",
     "text": [
      "CPU times: total: 93.8 ms\n",
      "Wall time: 117 ms\n"
     ]
    }
   ],
   "source": [
    "%%time\n",
    "wp = target[['wagnum']].merge(wag_param, on ='wagnum', how = 'left')\\\n",
    "             .merge(wag_prob, how = 'left')\\\n",
    "             .merge(pr_rem, how = 'left')\\\n",
    "             .merge(tr_rem, how = 'left')\\\n",
    "             .merge(dislok_n[['wagnum','date_pl_rem']], how = 'left')"
   ]
  },
  {
   "cell_type": "code",
   "execution_count": 20,
   "metadata": {
    "tags": []
   },
   "outputs": [
    {
     "name": "stdout",
     "output_type": "stream",
     "text": [
      "CPU times: total: 2.03 s\n",
      "Wall time: 2.08 s\n"
     ]
    }
   ],
   "source": [
    "%%time\n",
    "wp[['cnsi_probeg_dr','cnsi_probeg_kr','mean_run']] = wp[['cnsi_probeg_dr','cnsi_probeg_kr','mean_run']].fillna(0)\n",
    "wp['day_run'] = wp.apply(lambda x : [ val  for val in [x.cnsi_probeg_kr, x.cnsi_probeg_dr, x.mean_run] if val != 0], axis = 1 )\n",
    "wp['day_run']= wp.apply(lambda x : np.mean(x.day_run) if len(x.day_run)> 0 else 0, axis = 1 )\n",
    "\n",
    "wp['current_date'] = month_to_predict\n",
    "wp['date_diff_srk_sl'] = wp['srok_sl']- wp['current_date']\n",
    "wp['date_diff_pl_rem'] = wp['date_pl_rem']- wp['current_date']\n",
    "wp['prob_end_month'] = wp['ost_prob'] - wp['day_run']* 30"
   ]
  },
  {
   "cell_type": "code",
   "execution_count": 138,
   "metadata": {
    "tags": []
   },
   "outputs": [
    {
     "data": {
      "text/html": [
       "<div>\n",
       "<style scoped>\n",
       "    .dataframe tbody tr th:only-of-type {\n",
       "        vertical-align: middle;\n",
       "    }\n",
       "\n",
       "    .dataframe tbody tr th {\n",
       "        vertical-align: top;\n",
       "    }\n",
       "\n",
       "    .dataframe thead th {\n",
       "        text-align: right;\n",
       "    }\n",
       "</style>\n",
       "<table border=\"1\" class=\"dataframe\">\n",
       "  <thead>\n",
       "    <tr style=\"text-align: right;\">\n",
       "      <th></th>\n",
       "      <th>wagnum</th>\n",
       "      <th>srok_sl</th>\n",
       "      <th>cnsi_probeg_dr</th>\n",
       "      <th>cnsi_probeg_kr</th>\n",
       "      <th>ost_prob</th>\n",
       "      <th>mean_run</th>\n",
       "      <th>was_repair_in_prev_month</th>\n",
       "      <th>kod_vrab</th>\n",
       "      <th>date_pl_rem</th>\n",
       "      <th>day_run</th>\n",
       "      <th>current_date</th>\n",
       "      <th>date_diff_srk_sl</th>\n",
       "      <th>date_diff_pl_rem</th>\n",
       "      <th>prob_end_month</th>\n",
       "    </tr>\n",
       "  </thead>\n",
       "  <tbody>\n",
       "    <tr>\n",
       "      <th>0</th>\n",
       "      <td>33361</td>\n",
       "      <td>2033-03-01</td>\n",
       "      <td>110</td>\n",
       "      <td>160</td>\n",
       "      <td>153113</td>\n",
       "      <td>951.45098</td>\n",
       "      <td>NaN</td>\n",
       "      <td>NaN</td>\n",
       "      <td>2023-02-17</td>\n",
       "      <td>407.150327</td>\n",
       "      <td>2023-01-01</td>\n",
       "      <td>3712 days</td>\n",
       "      <td>47 days</td>\n",
       "      <td>140898.490196</td>\n",
       "    </tr>\n",
       "    <tr>\n",
       "      <th>1</th>\n",
       "      <td>33364</td>\n",
       "      <td>2031-04-12</td>\n",
       "      <td>110</td>\n",
       "      <td>160</td>\n",
       "      <td>157426</td>\n",
       "      <td>786.424837</td>\n",
       "      <td>1.0</td>\n",
       "      <td>NaN</td>\n",
       "      <td>2023-10-03</td>\n",
       "      <td>352.141612</td>\n",
       "      <td>2023-01-01</td>\n",
       "      <td>3023 days</td>\n",
       "      <td>275 days</td>\n",
       "      <td>146861.751634</td>\n",
       "    </tr>\n",
       "    <tr>\n",
       "      <th>2</th>\n",
       "      <td>33366</td>\n",
       "      <td>2032-01-21</td>\n",
       "      <td>110</td>\n",
       "      <td>160</td>\n",
       "      <td>159748</td>\n",
       "      <td>977.163399</td>\n",
       "      <td>1.0</td>\n",
       "      <td>NaN</td>\n",
       "      <td>2023-04-03</td>\n",
       "      <td>415.721133</td>\n",
       "      <td>2023-01-01</td>\n",
       "      <td>3307 days</td>\n",
       "      <td>92 days</td>\n",
       "      <td>147276.366013</td>\n",
       "    </tr>\n",
       "    <tr>\n",
       "      <th>3</th>\n",
       "      <td>33358</td>\n",
       "      <td>2032-11-30</td>\n",
       "      <td>110</td>\n",
       "      <td>160</td>\n",
       "      <td>28597</td>\n",
       "      <td>86.470588</td>\n",
       "      <td>NaN</td>\n",
       "      <td>NaN</td>\n",
       "      <td>2024-02-23</td>\n",
       "      <td>118.823529</td>\n",
       "      <td>2023-01-01</td>\n",
       "      <td>3621 days</td>\n",
       "      <td>418 days</td>\n",
       "      <td>25032.294118</td>\n",
       "    </tr>\n",
       "    <tr>\n",
       "      <th>4</th>\n",
       "      <td>33349</td>\n",
       "      <td>2033-12-04</td>\n",
       "      <td>110</td>\n",
       "      <td>160</td>\n",
       "      <td>150043</td>\n",
       "      <td>943.27451</td>\n",
       "      <td>NaN</td>\n",
       "      <td>NaN</td>\n",
       "      <td>2023-07-06</td>\n",
       "      <td>404.424837</td>\n",
       "      <td>2023-01-01</td>\n",
       "      <td>3990 days</td>\n",
       "      <td>186 days</td>\n",
       "      <td>137910.254902</td>\n",
       "    </tr>\n",
       "  </tbody>\n",
       "</table>\n",
       "</div>"
      ],
      "text/plain": [
       "   wagnum    srok_sl  cnsi_probeg_dr  cnsi_probeg_kr  ost_prob    mean_run  \\\n",
       "0   33361 2033-03-01             110             160    153113   951.45098   \n",
       "1   33364 2031-04-12             110             160    157426  786.424837   \n",
       "2   33366 2032-01-21             110             160    159748  977.163399   \n",
       "3   33358 2032-11-30             110             160     28597   86.470588   \n",
       "4   33349 2033-12-04             110             160    150043   943.27451   \n",
       "\n",
       "   was_repair_in_prev_month  kod_vrab date_pl_rem     day_run current_date  \\\n",
       "0                       NaN       NaN  2023-02-17  407.150327   2023-01-01   \n",
       "1                       1.0       NaN  2023-10-03  352.141612   2023-01-01   \n",
       "2                       1.0       NaN  2023-04-03  415.721133   2023-01-01   \n",
       "3                       NaN       NaN  2024-02-23  118.823529   2023-01-01   \n",
       "4                       NaN       NaN  2023-07-06  404.424837   2023-01-01   \n",
       "\n",
       "  date_diff_srk_sl date_diff_pl_rem  prob_end_month  \n",
       "0        3712 days          47 days   140898.490196  \n",
       "1        3023 days         275 days   146861.751634  \n",
       "2        3307 days          92 days   147276.366013  \n",
       "3        3621 days         418 days    25032.294118  \n",
       "4        3990 days         186 days   137910.254902  "
      ]
     },
     "execution_count": 138,
     "metadata": {},
     "output_type": "execute_result"
    }
   ],
   "source": [
    "wp.head()"
   ]
  },
  {
   "cell_type": "code",
   "execution_count": 140,
   "metadata": {
    "tags": []
   },
   "outputs": [],
   "source": [
    "wp_test  = wp.copy(deep=True)\n",
    "\n",
    "merged_df_test = wp_test.merge(target2, left_on=['wagnum', 'current_date'], right_on=['wagnum', 'month'], how='left')\n",
    "\n",
    "numeric_columns = merged_df_test.select_dtypes(include=['int', 'float'])\n",
    "\n",
    "# Заменим отсутствующие значения на нули\n",
    "merged_df_test[numeric_columns.columns] = numeric_columns.fillna(0)\n",
    "\n",
    "x_test = merged_df_test.drop(['target_month'], axis=1)\n",
    "x_test = x_test.drop(['target_day'], axis=1)\n",
    "x_test = x_test.drop(['month'], axis=1)\n",
    "\n",
    "y_test = merged_df_test['target_month']"
   ]
  },
  {
   "cell_type": "code",
   "execution_count": 144,
   "metadata": {
    "tags": []
   },
   "outputs": [
    {
     "data": {
      "text/html": [
       "<div>\n",
       "<style scoped>\n",
       "    .dataframe tbody tr th:only-of-type {\n",
       "        vertical-align: middle;\n",
       "    }\n",
       "\n",
       "    .dataframe tbody tr th {\n",
       "        vertical-align: top;\n",
       "    }\n",
       "\n",
       "    .dataframe thead th {\n",
       "        text-align: right;\n",
       "    }\n",
       "</style>\n",
       "<table border=\"1\" class=\"dataframe\">\n",
       "  <thead>\n",
       "    <tr style=\"text-align: right;\">\n",
       "      <th></th>\n",
       "      <th>wagnum</th>\n",
       "      <th>srok_sl</th>\n",
       "      <th>cnsi_probeg_dr</th>\n",
       "      <th>cnsi_probeg_kr</th>\n",
       "      <th>ost_prob</th>\n",
       "      <th>mean_run</th>\n",
       "      <th>was_repair_in_prev_month</th>\n",
       "      <th>kod_vrab</th>\n",
       "      <th>date_pl_rem</th>\n",
       "      <th>day_run</th>\n",
       "      <th>current_date</th>\n",
       "      <th>date_diff_srk_sl</th>\n",
       "      <th>date_diff_pl_rem</th>\n",
       "      <th>prob_end_month</th>\n",
       "    </tr>\n",
       "  </thead>\n",
       "  <tbody>\n",
       "    <tr>\n",
       "      <th>0</th>\n",
       "      <td>33361</td>\n",
       "      <td>2033-03-01</td>\n",
       "      <td>110</td>\n",
       "      <td>160</td>\n",
       "      <td>153113</td>\n",
       "      <td>951.45098</td>\n",
       "      <td>0.0</td>\n",
       "      <td>0.0</td>\n",
       "      <td>2023-02-17</td>\n",
       "      <td>407.150327</td>\n",
       "      <td>2023-01-01</td>\n",
       "      <td>3712 days</td>\n",
       "      <td>47 days</td>\n",
       "      <td>140898.490196</td>\n",
       "    </tr>\n",
       "    <tr>\n",
       "      <th>1</th>\n",
       "      <td>33364</td>\n",
       "      <td>2031-04-12</td>\n",
       "      <td>110</td>\n",
       "      <td>160</td>\n",
       "      <td>157426</td>\n",
       "      <td>786.424837</td>\n",
       "      <td>1.0</td>\n",
       "      <td>0.0</td>\n",
       "      <td>2023-10-03</td>\n",
       "      <td>352.141612</td>\n",
       "      <td>2023-01-01</td>\n",
       "      <td>3023 days</td>\n",
       "      <td>275 days</td>\n",
       "      <td>146861.751634</td>\n",
       "    </tr>\n",
       "    <tr>\n",
       "      <th>2</th>\n",
       "      <td>33366</td>\n",
       "      <td>2032-01-21</td>\n",
       "      <td>110</td>\n",
       "      <td>160</td>\n",
       "      <td>159748</td>\n",
       "      <td>977.163399</td>\n",
       "      <td>1.0</td>\n",
       "      <td>0.0</td>\n",
       "      <td>2023-04-03</td>\n",
       "      <td>415.721133</td>\n",
       "      <td>2023-01-01</td>\n",
       "      <td>3307 days</td>\n",
       "      <td>92 days</td>\n",
       "      <td>147276.366013</td>\n",
       "    </tr>\n",
       "    <tr>\n",
       "      <th>3</th>\n",
       "      <td>33358</td>\n",
       "      <td>2032-11-30</td>\n",
       "      <td>110</td>\n",
       "      <td>160</td>\n",
       "      <td>28597</td>\n",
       "      <td>86.470588</td>\n",
       "      <td>0.0</td>\n",
       "      <td>0.0</td>\n",
       "      <td>2024-02-23</td>\n",
       "      <td>118.823529</td>\n",
       "      <td>2023-01-01</td>\n",
       "      <td>3621 days</td>\n",
       "      <td>418 days</td>\n",
       "      <td>25032.294118</td>\n",
       "    </tr>\n",
       "    <tr>\n",
       "      <th>4</th>\n",
       "      <td>33349</td>\n",
       "      <td>2033-12-04</td>\n",
       "      <td>110</td>\n",
       "      <td>160</td>\n",
       "      <td>150043</td>\n",
       "      <td>943.27451</td>\n",
       "      <td>0.0</td>\n",
       "      <td>0.0</td>\n",
       "      <td>2023-07-06</td>\n",
       "      <td>404.424837</td>\n",
       "      <td>2023-01-01</td>\n",
       "      <td>3990 days</td>\n",
       "      <td>186 days</td>\n",
       "      <td>137910.254902</td>\n",
       "    </tr>\n",
       "  </tbody>\n",
       "</table>\n",
       "</div>"
      ],
      "text/plain": [
       "   wagnum    srok_sl  cnsi_probeg_dr  cnsi_probeg_kr  ost_prob    mean_run  \\\n",
       "0   33361 2033-03-01             110             160    153113   951.45098   \n",
       "1   33364 2031-04-12             110             160    157426  786.424837   \n",
       "2   33366 2032-01-21             110             160    159748  977.163399   \n",
       "3   33358 2032-11-30             110             160     28597   86.470588   \n",
       "4   33349 2033-12-04             110             160    150043   943.27451   \n",
       "\n",
       "   was_repair_in_prev_month  kod_vrab date_pl_rem     day_run current_date  \\\n",
       "0                       0.0       0.0  2023-02-17  407.150327   2023-01-01   \n",
       "1                       1.0       0.0  2023-10-03  352.141612   2023-01-01   \n",
       "2                       1.0       0.0  2023-04-03  415.721133   2023-01-01   \n",
       "3                       0.0       0.0  2024-02-23  118.823529   2023-01-01   \n",
       "4                       0.0       0.0  2023-07-06  404.424837   2023-01-01   \n",
       "\n",
       "  date_diff_srk_sl date_diff_pl_rem  prob_end_month  \n",
       "0        3712 days          47 days   140898.490196  \n",
       "1        3023 days         275 days   146861.751634  \n",
       "2        3307 days          92 days   147276.366013  \n",
       "3        3621 days         418 days    25032.294118  \n",
       "4        3990 days         186 days   137910.254902  "
      ]
     },
     "execution_count": 144,
     "metadata": {},
     "output_type": "execute_result"
    }
   ],
   "source": [
    "x_test.head()"
   ]
  },
  {
   "cell_type": "code",
   "execution_count": 141,
   "metadata": {
    "colab": {
     "base_uri": "https://localhost:8080/"
    },
    "id": "VReuay8gZ1Ue",
    "outputId": "0aa82e67-88bf-48b9-f816-38c0803429e9",
    "tags": []
   },
   "outputs": [
    {
     "data": {
      "text/plain": [
       "0    32297\n",
       "1     1676\n",
       "Name: target_month, dtype: Int64"
      ]
     },
     "execution_count": 141,
     "metadata": {},
     "output_type": "execute_result"
    }
   ],
   "source": [
    "y_test.value_counts()"
   ]
  },
  {
   "cell_type": "code",
   "execution_count": 142,
   "metadata": {
    "tags": []
   },
   "outputs": [
    {
     "data": {
      "text/plain": [
       "0     0\n",
       "1     0\n",
       "2     0\n",
       "3     0\n",
       "4     0\n",
       "5     0\n",
       "6     0\n",
       "7     0\n",
       "8     0\n",
       "9     0\n",
       "10    0\n",
       "11    0\n",
       "12    1\n",
       "13    0\n",
       "14    0\n",
       "Name: target_month, dtype: Int64"
      ]
     },
     "execution_count": 142,
     "metadata": {},
     "output_type": "execute_result"
    }
   ],
   "source": [
    "y_test.head(15)"
   ]
  },
  {
   "cell_type": "code",
   "execution_count": 104,
   "metadata": {
    "tags": []
   },
   "outputs": [
    {
     "data": {
      "text/html": [
       "<div>\n",
       "<style scoped>\n",
       "    .dataframe tbody tr th:only-of-type {\n",
       "        vertical-align: middle;\n",
       "    }\n",
       "\n",
       "    .dataframe tbody tr th {\n",
       "        vertical-align: top;\n",
       "    }\n",
       "\n",
       "    .dataframe thead th {\n",
       "        text-align: right;\n",
       "    }\n",
       "</style>\n",
       "<table border=\"1\" class=\"dataframe\">\n",
       "  <thead>\n",
       "    <tr style=\"text-align: right;\">\n",
       "      <th></th>\n",
       "      <th>wagnum</th>\n",
       "      <th>was_repair_in_prev_month</th>\n",
       "    </tr>\n",
       "  </thead>\n",
       "  <tbody>\n",
       "    <tr>\n",
       "      <th>0</th>\n",
       "      <td>15000</td>\n",
       "      <td>1</td>\n",
       "    </tr>\n",
       "    <tr>\n",
       "      <th>2</th>\n",
       "      <td>25485</td>\n",
       "      <td>1</td>\n",
       "    </tr>\n",
       "    <tr>\n",
       "      <th>3</th>\n",
       "      <td>25944</td>\n",
       "      <td>1</td>\n",
       "    </tr>\n",
       "    <tr>\n",
       "      <th>4</th>\n",
       "      <td>24080</td>\n",
       "      <td>1</td>\n",
       "    </tr>\n",
       "    <tr>\n",
       "      <th>5</th>\n",
       "      <td>28612</td>\n",
       "      <td>1</td>\n",
       "    </tr>\n",
       "  </tbody>\n",
       "</table>\n",
       "</div>"
      ],
      "text/plain": [
       "   wagnum  was_repair_in_prev_month\n",
       "0   15000                         1\n",
       "2   25485                         1\n",
       "3   25944                         1\n",
       "4   24080                         1\n",
       "5   28612                         1"
      ]
     },
     "execution_count": 104,
     "metadata": {},
     "output_type": "execute_result"
    }
   ],
   "source": [
    "pr_rem.head()"
   ]
  },
  {
   "cell_type": "code",
   "execution_count": 106,
   "metadata": {
    "tags": []
   },
   "outputs": [
    {
     "data": {
      "text/html": [
       "<div>\n",
       "<style scoped>\n",
       "    .dataframe tbody tr th:only-of-type {\n",
       "        vertical-align: middle;\n",
       "    }\n",
       "\n",
       "    .dataframe tbody tr th {\n",
       "        vertical-align: top;\n",
       "    }\n",
       "\n",
       "    .dataframe thead th {\n",
       "        text-align: right;\n",
       "    }\n",
       "</style>\n",
       "<table border=\"1\" class=\"dataframe\">\n",
       "  <thead>\n",
       "    <tr style=\"text-align: right;\">\n",
       "      <th></th>\n",
       "      <th>wagnum</th>\n",
       "      <th>was_repair_in_prev_month</th>\n",
       "    </tr>\n",
       "  </thead>\n",
       "  <tbody>\n",
       "    <tr>\n",
       "      <th>2</th>\n",
       "      <td>22548</td>\n",
       "      <td>1</td>\n",
       "    </tr>\n",
       "  </tbody>\n",
       "</table>\n",
       "</div>"
      ],
      "text/plain": [
       "   wagnum  was_repair_in_prev_month\n",
       "2   22548                         1"
      ]
     },
     "execution_count": 106,
     "metadata": {},
     "output_type": "execute_result"
    }
   ],
   "source": [
    "pr_rem[pr_rem['wagnum'] == 22548]"
   ]
  },
  {
   "cell_type": "code",
   "execution_count": 107,
   "metadata": {
    "tags": []
   },
   "outputs": [
    {
     "data": {
      "text/plain": [
       "wagnum                      10393\n",
       "was_repair_in_prev_month    10393\n",
       "dtype: int64"
      ]
     },
     "execution_count": 107,
     "metadata": {},
     "output_type": "execute_result"
    }
   ],
   "source": [
    "pr_rem.count()"
   ]
  },
  {
   "cell_type": "code",
   "execution_count": 58,
   "metadata": {
    "tags": []
   },
   "outputs": [
    {
     "data": {
      "text/plain": [
       "0     0\n",
       "1     1\n",
       "2     1\n",
       "3     0\n",
       "4     0\n",
       "5     0\n",
       "6     0\n",
       "7     0\n",
       "8     0\n",
       "9     0\n",
       "10    0\n",
       "11    0\n",
       "12    0\n",
       "13    0\n",
       "14    0\n",
       "Name: target_month, dtype: Int64"
      ]
     },
     "execution_count": 58,
     "metadata": {},
     "output_type": "execute_result"
    }
   ],
   "source": [
    "y_train.head(15)"
   ]
  },
  {
   "cell_type": "markdown",
   "metadata": {
    "jp-MarkdownHeadingCollapsed": true,
    "tags": []
   },
   "source": [
    "# Проверка функции. Тренировочный датасет"
   ]
  },
  {
   "cell_type": "code",
   "execution_count": 93,
   "metadata": {
    "tags": []
   },
   "outputs": [
    {
     "name": "stdout",
     "output_type": "stream",
     "text": [
      "Достаём данные\n",
      "Делаем фичи\n",
      "CPU times: total: 781 ms\n",
      "Wall time: 820 ms\n"
     ]
    }
   ],
   "source": [
    "%%time\n",
    "wp_train, target_train = make_wp(wag_param_clear, wag_prob_clear, pr_rem_clear, tr_rem_clear, dislok_clear, target_clear, '2022-12-01', 11)"
   ]
  },
  {
   "cell_type": "code",
   "execution_count": 85,
   "metadata": {
    "tags": []
   },
   "outputs": [
    {
     "name": "stdout",
     "output_type": "stream",
     "text": [
      "Считаем среднедневный пробег\n",
      "Заполняме пропуски\n",
      "Сортируем номега вагонов\n",
      "CPU times: total: 2 s\n",
      "Wall time: 2.08 s\n"
     ]
    }
   ],
   "source": [
    "%%time\n",
    "X_train_1, y_train_1 = make_features_wp(wp_train, target_train)"
   ]
  },
  {
   "cell_type": "code",
   "execution_count": 86,
   "metadata": {
    "tags": []
   },
   "outputs": [
    {
     "name": "stdout",
     "output_type": "stream",
     "text": [
      "<class 'pandas.core.frame.DataFrame'>\n",
      "Index: 33977 entries, 0 to 33976\n",
      "Data columns (total 13 columns):\n",
      " #   Column                    Non-Null Count  Dtype          \n",
      "---  ------                    --------------  -----          \n",
      " 0   srok_sl                   33977 non-null  datetime64[ns] \n",
      " 1   cnsi_probeg_dr            33977 non-null  Int64          \n",
      " 2   cnsi_probeg_kr            33977 non-null  Int64          \n",
      " 3   ost_prob                  33977 non-null  Int64          \n",
      " 4   mean_run                  33977 non-null  Float64        \n",
      " 5   was_repair_in_prev_month  33977 non-null  float64        \n",
      " 6   kod_vrab                  33977 non-null  float64        \n",
      " 7   date_pl_rem               33977 non-null  datetime64[ns] \n",
      " 8   day_run                   33977 non-null  float64        \n",
      " 9   current_date              33977 non-null  datetime64[ns] \n",
      " 10  date_diff_srk_sl          33977 non-null  timedelta64[ns]\n",
      " 11  date_diff_pl_rem          33977 non-null  timedelta64[ns]\n",
      " 12  prob_end_month            33977 non-null  Float64        \n",
      "dtypes: Float64(2), Int64(3), datetime64[ns](3), float64(3), timedelta64[ns](2)\n",
      "memory usage: 3.8 MB\n"
     ]
    }
   ],
   "source": [
    "X_train_1.info()"
   ]
  },
  {
   "cell_type": "code",
   "execution_count": 87,
   "metadata": {
    "tags": []
   },
   "outputs": [
    {
     "data": {
      "text/plain": [
       "wagnum\n",
       "0    0\n",
       "1    0\n",
       "2    0\n",
       "3    0\n",
       "4    0\n",
       "Name: target_month, dtype: Int64"
      ]
     },
     "execution_count": 87,
     "metadata": {},
     "output_type": "execute_result"
    }
   ],
   "source": [
    "y_train_1.head()"
   ]
  },
  {
   "cell_type": "markdown",
   "metadata": {
    "jp-MarkdownHeadingCollapsed": true,
    "tags": []
   },
   "source": [
    "# Модель. Старые данные"
   ]
  },
  {
   "cell_type": "code",
   "execution_count": 61,
   "metadata": {
    "tags": []
   },
   "outputs": [],
   "source": [
    "from sklearn.model_selection import GridSearchCV, cross_val_score, train_test_split"
   ]
  },
  {
   "cell_type": "code",
   "execution_count": 62,
   "metadata": {
    "tags": []
   },
   "outputs": [
    {
     "ename": "NameError",
     "evalue": "name 'y_train' is not defined",
     "output_type": "error",
     "traceback": [
      "\u001b[1;31m---------------------------------------------------------------------------\u001b[0m",
      "\u001b[1;31mNameError\u001b[0m                                 Traceback (most recent call last)",
      "Cell \u001b[1;32mIn[62], line 1\u001b[0m\n\u001b[1;32m----> 1\u001b[0m scale_pos_weight \u001b[38;5;241m=\u001b[39m \u001b[38;5;28mlen\u001b[39m(\u001b[43my_train\u001b[49m[y_train \u001b[38;5;241m==\u001b[39m \u001b[38;5;241m0\u001b[39m]) \u001b[38;5;241m/\u001b[39m \u001b[38;5;28mlen\u001b[39m(y_train[y_train \u001b[38;5;241m==\u001b[39m \u001b[38;5;241m1\u001b[39m])\n",
      "\u001b[1;31mNameError\u001b[0m: name 'y_train' is not defined"
     ]
    }
   ],
   "source": [
    "scale_pos_weight = len(y_train[y_train == 0]) / len(y_train[y_train == 1])"
   ]
  },
  {
   "cell_type": "code",
   "execution_count": null,
   "metadata": {
    "colab": {
     "base_uri": "https://localhost:8080/"
    },
    "id": "kdBTxExcJB2n",
    "outputId": "2d5c65f0-515f-458d-f59a-65ee9a06de74",
    "tags": []
   },
   "outputs": [],
   "source": [
    "clf = CatBoostClassifier(iterations=100, depth=6, learning_rate=0.01, loss_function='Logloss', scale_pos_weight=scale_pos_weight )\n",
    "clf.fit(x_train, y_train)"
   ]
  },
  {
   "cell_type": "code",
   "execution_count": 87,
   "metadata": {
    "collapsed": true,
    "jupyter": {
     "outputs_hidden": true
    },
    "tags": []
   },
   "outputs": [
    {
     "name": "stdout",
     "output_type": "stream",
     "text": [
      "0:\tlearn: 0.6844839\ttotal: 5.89ms\tremaining: 583ms\n",
      "1:\tlearn: 0.6759204\ttotal: 11.6ms\tremaining: 566ms\n",
      "2:\tlearn: 0.6675738\ttotal: 16.2ms\tremaining: 523ms\n",
      "3:\tlearn: 0.6593949\ttotal: 23.2ms\tremaining: 556ms\n",
      "4:\tlearn: 0.6513991\ttotal: 29.4ms\tremaining: 559ms\n",
      "5:\tlearn: 0.6437351\ttotal: 34.7ms\tremaining: 543ms\n",
      "6:\tlearn: 0.6359671\ttotal: 40.9ms\tremaining: 543ms\n",
      "7:\tlearn: 0.6283506\ttotal: 45.7ms\tremaining: 525ms\n",
      "8:\tlearn: 0.6208666\ttotal: 50.1ms\tremaining: 507ms\n",
      "9:\tlearn: 0.6135206\ttotal: 58.5ms\tremaining: 527ms\n",
      "10:\tlearn: 0.6065330\ttotal: 63ms\tremaining: 510ms\n",
      "11:\tlearn: 0.5994544\ttotal: 67.8ms\tremaining: 497ms\n",
      "12:\tlearn: 0.5924500\ttotal: 70.7ms\tremaining: 473ms\n",
      "13:\tlearn: 0.5856036\ttotal: 76.2ms\tremaining: 468ms\n",
      "14:\tlearn: 0.5788830\ttotal: 83.3ms\tremaining: 472ms\n",
      "15:\tlearn: 0.5723162\ttotal: 89.7ms\tremaining: 471ms\n",
      "16:\tlearn: 0.5658420\ttotal: 94.5ms\tremaining: 461ms\n",
      "17:\tlearn: 0.5595288\ttotal: 99.3ms\tremaining: 452ms\n",
      "18:\tlearn: 0.5533602\ttotal: 104ms\tremaining: 445ms\n",
      "19:\tlearn: 0.5472910\ttotal: 110ms\tremaining: 438ms\n",
      "20:\tlearn: 0.5412578\ttotal: 114ms\tremaining: 428ms\n",
      "21:\tlearn: 0.5353313\ttotal: 119ms\tremaining: 420ms\n",
      "22:\tlearn: 0.5295814\ttotal: 122ms\tremaining: 409ms\n",
      "23:\tlearn: 0.5238422\ttotal: 127ms\tremaining: 403ms\n",
      "24:\tlearn: 0.5182027\ttotal: 135ms\tremaining: 405ms\n",
      "25:\tlearn: 0.5127234\ttotal: 140ms\tremaining: 397ms\n",
      "26:\tlearn: 0.5072810\ttotal: 145ms\tremaining: 393ms\n",
      "27:\tlearn: 0.5019781\ttotal: 150ms\tremaining: 387ms\n",
      "28:\tlearn: 0.4967107\ttotal: 155ms\tremaining: 379ms\n",
      "29:\tlearn: 0.4915174\ttotal: 163ms\tremaining: 381ms\n",
      "30:\tlearn: 0.4863848\ttotal: 168ms\tremaining: 375ms\n",
      "31:\tlearn: 0.4813735\ttotal: 173ms\tremaining: 367ms\n",
      "32:\tlearn: 0.4764397\ttotal: 178ms\tremaining: 362ms\n",
      "33:\tlearn: 0.4716123\ttotal: 183ms\tremaining: 355ms\n",
      "34:\tlearn: 0.4668163\ttotal: 188ms\tremaining: 349ms\n",
      "35:\tlearn: 0.4621310\ttotal: 193ms\tremaining: 344ms\n",
      "36:\tlearn: 0.4575615\ttotal: 196ms\tremaining: 333ms\n",
      "37:\tlearn: 0.4530339\ttotal: 206ms\tremaining: 335ms\n",
      "38:\tlearn: 0.4486233\ttotal: 211ms\tremaining: 330ms\n",
      "39:\tlearn: 0.4441226\ttotal: 218ms\tremaining: 326ms\n",
      "40:\tlearn: 0.4397922\ttotal: 224ms\tremaining: 322ms\n",
      "41:\tlearn: 0.4354944\ttotal: 229ms\tremaining: 316ms\n",
      "42:\tlearn: 0.4312766\ttotal: 235ms\tremaining: 312ms\n",
      "43:\tlearn: 0.4270887\ttotal: 242ms\tremaining: 308ms\n",
      "44:\tlearn: 0.4231076\ttotal: 249ms\tremaining: 304ms\n",
      "45:\tlearn: 0.4190615\ttotal: 252ms\tremaining: 296ms\n",
      "46:\tlearn: 0.4150549\ttotal: 257ms\tremaining: 289ms\n",
      "47:\tlearn: 0.4111121\ttotal: 261ms\tremaining: 282ms\n",
      "48:\tlearn: 0.4072303\ttotal: 267ms\tremaining: 278ms\n",
      "49:\tlearn: 0.4034405\ttotal: 272ms\tremaining: 272ms\n",
      "50:\tlearn: 0.3996740\ttotal: 276ms\tremaining: 265ms\n",
      "51:\tlearn: 0.3959684\ttotal: 285ms\tremaining: 263ms\n",
      "52:\tlearn: 0.3923495\ttotal: 290ms\tremaining: 257ms\n",
      "53:\tlearn: 0.3886954\ttotal: 295ms\tremaining: 251ms\n",
      "54:\tlearn: 0.3851559\ttotal: 300ms\tremaining: 245ms\n",
      "55:\tlearn: 0.3816871\ttotal: 304ms\tremaining: 239ms\n",
      "56:\tlearn: 0.3782728\ttotal: 316ms\tremaining: 239ms\n",
      "57:\tlearn: 0.3748768\ttotal: 322ms\tremaining: 233ms\n",
      "58:\tlearn: 0.3714935\ttotal: 330ms\tremaining: 230ms\n",
      "59:\tlearn: 0.3681763\ttotal: 335ms\tremaining: 224ms\n",
      "60:\tlearn: 0.3649321\ttotal: 341ms\tremaining: 218ms\n",
      "61:\tlearn: 0.3617046\ttotal: 348ms\tremaining: 213ms\n",
      "62:\tlearn: 0.3585747\ttotal: 355ms\tremaining: 209ms\n",
      "63:\tlearn: 0.3554500\ttotal: 362ms\tremaining: 204ms\n",
      "64:\tlearn: 0.3524581\ttotal: 373ms\tremaining: 201ms\n",
      "65:\tlearn: 0.3494201\ttotal: 378ms\tremaining: 195ms\n",
      "66:\tlearn: 0.3464872\ttotal: 381ms\tremaining: 188ms\n",
      "67:\tlearn: 0.3435591\ttotal: 386ms\tremaining: 181ms\n",
      "68:\tlearn: 0.3406449\ttotal: 391ms\tremaining: 176ms\n",
      "69:\tlearn: 0.3377414\ttotal: 397ms\tremaining: 170ms\n",
      "70:\tlearn: 0.3349881\ttotal: 400ms\tremaining: 163ms\n",
      "71:\tlearn: 0.3322064\ttotal: 408ms\tremaining: 158ms\n",
      "72:\tlearn: 0.3294893\ttotal: 415ms\tremaining: 153ms\n",
      "73:\tlearn: 0.3267675\ttotal: 420ms\tremaining: 148ms\n",
      "74:\tlearn: 0.3241247\ttotal: 427ms\tremaining: 142ms\n",
      "75:\tlearn: 0.3215422\ttotal: 434ms\tremaining: 137ms\n",
      "76:\tlearn: 0.3189429\ttotal: 443ms\tremaining: 132ms\n",
      "77:\tlearn: 0.3163835\ttotal: 447ms\tremaining: 126ms\n",
      "78:\tlearn: 0.3138738\ttotal: 450ms\tremaining: 120ms\n",
      "79:\tlearn: 0.3113872\ttotal: 455ms\tremaining: 114ms\n",
      "80:\tlearn: 0.3089517\ttotal: 461ms\tremaining: 108ms\n",
      "81:\tlearn: 0.3065513\ttotal: 466ms\tremaining: 102ms\n",
      "82:\tlearn: 0.3041819\ttotal: 470ms\tremaining: 96.2ms\n",
      "83:\tlearn: 0.3018457\ttotal: 476ms\tremaining: 90.7ms\n",
      "84:\tlearn: 0.2995205\ttotal: 481ms\tremaining: 85ms\n",
      "85:\tlearn: 0.2972305\ttotal: 486ms\tremaining: 79.1ms\n",
      "86:\tlearn: 0.2949774\ttotal: 492ms\tremaining: 73.5ms\n",
      "87:\tlearn: 0.2927847\ttotal: 495ms\tremaining: 67.5ms\n",
      "88:\tlearn: 0.2905932\ttotal: 500ms\tremaining: 61.8ms\n",
      "89:\tlearn: 0.2884198\ttotal: 505ms\tremaining: 56.1ms\n",
      "90:\tlearn: 0.2862617\ttotal: 509ms\tremaining: 50.4ms\n",
      "91:\tlearn: 0.2841666\ttotal: 514ms\tremaining: 44.7ms\n",
      "92:\tlearn: 0.2820832\ttotal: 518ms\tremaining: 39ms\n",
      "93:\tlearn: 0.2800181\ttotal: 526ms\tremaining: 33.6ms\n",
      "94:\tlearn: 0.2780111\ttotal: 530ms\tremaining: 27.9ms\n",
      "95:\tlearn: 0.2759307\ttotal: 535ms\tremaining: 22.3ms\n",
      "96:\tlearn: 0.2739689\ttotal: 540ms\tremaining: 16.7ms\n",
      "97:\tlearn: 0.2720287\ttotal: 544ms\tremaining: 11.1ms\n",
      "98:\tlearn: 0.2700899\ttotal: 549ms\tremaining: 5.54ms\n",
      "99:\tlearn: 0.2681910\ttotal: 553ms\tremaining: 0us\n",
      "0:\tlearn: 0.6844651\ttotal: 5.19ms\tremaining: 514ms\n",
      "1:\tlearn: 0.6758646\ttotal: 10.2ms\tremaining: 498ms\n",
      "2:\tlearn: 0.6674954\ttotal: 15.3ms\tremaining: 494ms\n",
      "3:\tlearn: 0.6593190\ttotal: 19.5ms\tremaining: 467ms\n",
      "4:\tlearn: 0.6513121\ttotal: 24.3ms\tremaining: 462ms\n",
      "5:\tlearn: 0.6434652\ttotal: 28.5ms\tremaining: 447ms\n",
      "6:\tlearn: 0.6356807\ttotal: 33.4ms\tremaining: 444ms\n",
      "7:\tlearn: 0.6280521\ttotal: 38.5ms\tremaining: 442ms\n",
      "8:\tlearn: 0.6207515\ttotal: 43.9ms\tremaining: 444ms\n",
      "9:\tlearn: 0.6133922\ttotal: 48.2ms\tremaining: 434ms\n",
      "10:\tlearn: 0.6062321\ttotal: 53.3ms\tremaining: 431ms\n",
      "11:\tlearn: 0.5991339\ttotal: 58.6ms\tremaining: 430ms\n",
      "12:\tlearn: 0.5922072\ttotal: 61.1ms\tremaining: 409ms\n",
      "13:\tlearn: 0.5854262\ttotal: 65.8ms\tremaining: 404ms\n",
      "14:\tlearn: 0.5786903\ttotal: 71.7ms\tremaining: 406ms\n",
      "15:\tlearn: 0.5721582\ttotal: 79.8ms\tremaining: 419ms\n",
      "16:\tlearn: 0.5656653\ttotal: 84.7ms\tremaining: 414ms\n",
      "17:\tlearn: 0.5593252\ttotal: 89.5ms\tremaining: 408ms\n",
      "18:\tlearn: 0.5531255\ttotal: 93.7ms\tremaining: 400ms\n",
      "19:\tlearn: 0.5471384\ttotal: 100ms\tremaining: 400ms\n",
      "20:\tlearn: 0.5411250\ttotal: 103ms\tremaining: 387ms\n",
      "21:\tlearn: 0.5351778\ttotal: 107ms\tremaining: 379ms\n",
      "22:\tlearn: 0.5293369\ttotal: 111ms\tremaining: 372ms\n",
      "23:\tlearn: 0.5236231\ttotal: 118ms\tremaining: 373ms\n",
      "24:\tlearn: 0.5180410\ttotal: 122ms\tremaining: 366ms\n",
      "25:\tlearn: 0.5125743\ttotal: 131ms\tremaining: 373ms\n",
      "26:\tlearn: 0.5077716\ttotal: 133ms\tremaining: 360ms\n",
      "27:\tlearn: 0.5025638\ttotal: 138ms\tremaining: 354ms\n",
      "28:\tlearn: 0.4972524\ttotal: 143ms\tremaining: 350ms\n",
      "29:\tlearn: 0.4920298\ttotal: 148ms\tremaining: 345ms\n",
      "30:\tlearn: 0.4868894\ttotal: 152ms\tremaining: 339ms\n",
      "31:\tlearn: 0.4818145\ttotal: 159ms\tremaining: 337ms\n",
      "32:\tlearn: 0.4768505\ttotal: 166ms\tremaining: 337ms\n",
      "33:\tlearn: 0.4719586\ttotal: 172ms\tremaining: 333ms\n",
      "34:\tlearn: 0.4671896\ttotal: 175ms\tremaining: 324ms\n",
      "35:\tlearn: 0.4624377\ttotal: 180ms\tremaining: 320ms\n",
      "36:\tlearn: 0.4577369\ttotal: 185ms\tremaining: 314ms\n",
      "37:\tlearn: 0.4531679\ttotal: 193ms\tremaining: 315ms\n",
      "38:\tlearn: 0.4486706\ttotal: 198ms\tremaining: 309ms\n",
      "39:\tlearn: 0.4442043\ttotal: 204ms\tremaining: 306ms\n",
      "40:\tlearn: 0.4397850\ttotal: 210ms\tremaining: 302ms\n",
      "41:\tlearn: 0.4354324\ttotal: 213ms\tremaining: 294ms\n",
      "42:\tlearn: 0.4312235\ttotal: 224ms\tremaining: 296ms\n",
      "43:\tlearn: 0.4270256\ttotal: 231ms\tremaining: 293ms\n",
      "44:\tlearn: 0.4229041\ttotal: 235ms\tremaining: 288ms\n",
      "45:\tlearn: 0.4187992\ttotal: 241ms\tremaining: 283ms\n",
      "46:\tlearn: 0.4147739\ttotal: 246ms\tremaining: 278ms\n",
      "47:\tlearn: 0.4108273\ttotal: 253ms\tremaining: 274ms\n",
      "48:\tlearn: 0.4069560\ttotal: 259ms\tremaining: 269ms\n",
      "49:\tlearn: 0.4031249\ttotal: 263ms\tremaining: 263ms\n",
      "50:\tlearn: 0.3993522\ttotal: 267ms\tremaining: 257ms\n",
      "51:\tlearn: 0.3957615\ttotal: 274ms\tremaining: 253ms\n",
      "52:\tlearn: 0.3920891\ttotal: 278ms\tremaining: 247ms\n",
      "53:\tlearn: 0.3884659\ttotal: 283ms\tremaining: 241ms\n",
      "54:\tlearn: 0.3849356\ttotal: 291ms\tremaining: 238ms\n",
      "55:\tlearn: 0.3813773\ttotal: 297ms\tremaining: 234ms\n",
      "56:\tlearn: 0.3778832\ttotal: 302ms\tremaining: 228ms\n",
      "57:\tlearn: 0.3744848\ttotal: 311ms\tremaining: 225ms\n",
      "58:\tlearn: 0.3711420\ttotal: 315ms\tremaining: 219ms\n",
      "59:\tlearn: 0.3678252\ttotal: 323ms\tremaining: 215ms\n",
      "60:\tlearn: 0.3645235\ttotal: 327ms\tremaining: 209ms\n",
      "61:\tlearn: 0.3612824\ttotal: 331ms\tremaining: 203ms\n",
      "62:\tlearn: 0.3580891\ttotal: 337ms\tremaining: 198ms\n",
      "63:\tlearn: 0.3549596\ttotal: 342ms\tremaining: 192ms\n",
      "64:\tlearn: 0.3518287\ttotal: 346ms\tremaining: 187ms\n",
      "65:\tlearn: 0.3487891\ttotal: 353ms\tremaining: 182ms\n",
      "66:\tlearn: 0.3458919\ttotal: 358ms\tremaining: 176ms\n",
      "67:\tlearn: 0.3429113\ttotal: 363ms\tremaining: 171ms\n",
      "68:\tlearn: 0.3401081\ttotal: 366ms\tremaining: 164ms\n",
      "69:\tlearn: 0.3372482\ttotal: 372ms\tremaining: 159ms\n",
      "70:\tlearn: 0.3344259\ttotal: 376ms\tremaining: 154ms\n",
      "71:\tlearn: 0.3316789\ttotal: 381ms\tremaining: 148ms\n",
      "72:\tlearn: 0.3289558\ttotal: 385ms\tremaining: 142ms\n",
      "73:\tlearn: 0.3262263\ttotal: 390ms\tremaining: 137ms\n",
      "74:\tlearn: 0.3235579\ttotal: 397ms\tremaining: 132ms\n",
      "75:\tlearn: 0.3209433\ttotal: 402ms\tremaining: 127ms\n",
      "76:\tlearn: 0.3183618\ttotal: 409ms\tremaining: 122ms\n",
      "77:\tlearn: 0.3158204\ttotal: 415ms\tremaining: 117ms\n",
      "78:\tlearn: 0.3132716\ttotal: 421ms\tremaining: 112ms\n",
      "79:\tlearn: 0.3107721\ttotal: 429ms\tremaining: 107ms\n",
      "80:\tlearn: 0.3083153\ttotal: 436ms\tremaining: 102ms\n",
      "81:\tlearn: 0.3058824\ttotal: 441ms\tremaining: 96.7ms\n",
      "82:\tlearn: 0.3034882\ttotal: 445ms\tremaining: 91.2ms\n",
      "83:\tlearn: 0.3011212\ttotal: 451ms\tremaining: 86ms\n",
      "84:\tlearn: 0.2987809\ttotal: 458ms\tremaining: 80.8ms\n",
      "85:\tlearn: 0.2964670\ttotal: 463ms\tremaining: 75.4ms\n",
      "86:\tlearn: 0.2941851\ttotal: 469ms\tremaining: 70.1ms\n",
      "87:\tlearn: 0.2919548\ttotal: 473ms\tremaining: 64.6ms\n",
      "88:\tlearn: 0.2897261\ttotal: 478ms\tremaining: 59ms\n",
      "89:\tlearn: 0.2875540\ttotal: 481ms\tremaining: 53.4ms\n",
      "90:\tlearn: 0.2854135\ttotal: 488ms\tremaining: 48.2ms\n",
      "91:\tlearn: 0.2832789\ttotal: 492ms\tremaining: 42.8ms\n",
      "92:\tlearn: 0.2811776\ttotal: 497ms\tremaining: 37.4ms\n",
      "93:\tlearn: 0.2791099\ttotal: 502ms\tremaining: 32.1ms\n",
      "94:\tlearn: 0.2770684\ttotal: 507ms\tremaining: 26.7ms\n",
      "95:\tlearn: 0.2750414\ttotal: 514ms\tremaining: 21.4ms\n",
      "96:\tlearn: 0.2730610\ttotal: 518ms\tremaining: 16ms\n",
      "97:\tlearn: 0.2710425\ttotal: 523ms\tremaining: 10.7ms\n",
      "98:\tlearn: 0.2691021\ttotal: 527ms\tremaining: 5.33ms\n",
      "99:\tlearn: 0.2672252\ttotal: 534ms\tremaining: 0us\n",
      "0:\tlearn: 0.6845285\ttotal: 5.32ms\tremaining: 527ms\n",
      "1:\tlearn: 0.6760078\ttotal: 11.5ms\tremaining: 563ms\n",
      "2:\tlearn: 0.6677113\ttotal: 15.6ms\tremaining: 505ms\n",
      "3:\tlearn: 0.6595624\ttotal: 20.6ms\tremaining: 493ms\n",
      "4:\tlearn: 0.6515614\ttotal: 26ms\tremaining: 493ms\n",
      "5:\tlearn: 0.6440191\ttotal: 30.4ms\tremaining: 476ms\n",
      "6:\tlearn: 0.6362883\ttotal: 36.3ms\tremaining: 482ms\n",
      "7:\tlearn: 0.6286824\ttotal: 42ms\tremaining: 483ms\n",
      "8:\tlearn: 0.6212297\ttotal: 47.6ms\tremaining: 482ms\n",
      "9:\tlearn: 0.6139176\ttotal: 52ms\tremaining: 468ms\n",
      "10:\tlearn: 0.6067273\ttotal: 59.3ms\tremaining: 480ms\n",
      "11:\tlearn: 0.5996935\ttotal: 65.5ms\tremaining: 480ms\n",
      "12:\tlearn: 0.5927298\ttotal: 67.7ms\tremaining: 453ms\n",
      "13:\tlearn: 0.5859101\ttotal: 72.6ms\tremaining: 446ms\n",
      "14:\tlearn: 0.5792920\ttotal: 79.4ms\tremaining: 450ms\n",
      "15:\tlearn: 0.5727511\ttotal: 84.1ms\tremaining: 441ms\n",
      "16:\tlearn: 0.5663230\ttotal: 93.9ms\tremaining: 458ms\n",
      "17:\tlearn: 0.5600345\ttotal: 98.2ms\tremaining: 447ms\n",
      "18:\tlearn: 0.5538818\ttotal: 103ms\tremaining: 438ms\n",
      "19:\tlearn: 0.5478416\ttotal: 109ms\tremaining: 435ms\n",
      "20:\tlearn: 0.5418471\ttotal: 112ms\tremaining: 421ms\n",
      "21:\tlearn: 0.5360056\ttotal: 117ms\tremaining: 415ms\n",
      "22:\tlearn: 0.5302954\ttotal: 121ms\tremaining: 405ms\n",
      "23:\tlearn: 0.5245760\ttotal: 126ms\tremaining: 398ms\n",
      "24:\tlearn: 0.5189597\ttotal: 130ms\tremaining: 390ms\n",
      "25:\tlearn: 0.5134733\ttotal: 134ms\tremaining: 382ms\n",
      "26:\tlearn: 0.5080626\ttotal: 139ms\tremaining: 377ms\n",
      "27:\tlearn: 0.5027715\ttotal: 144ms\tremaining: 371ms\n",
      "28:\tlearn: 0.4975254\ttotal: 149ms\tremaining: 364ms\n",
      "29:\tlearn: 0.4923615\ttotal: 156ms\tremaining: 363ms\n",
      "30:\tlearn: 0.4872494\ttotal: 161ms\tremaining: 359ms\n",
      "31:\tlearn: 0.4822517\ttotal: 167ms\tremaining: 354ms\n",
      "32:\tlearn: 0.4773346\ttotal: 172ms\tremaining: 349ms\n",
      "33:\tlearn: 0.4725055\ttotal: 176ms\tremaining: 342ms\n",
      "34:\tlearn: 0.4677333\ttotal: 181ms\tremaining: 336ms\n",
      "35:\tlearn: 0.4630640\ttotal: 187ms\tremaining: 332ms\n",
      "36:\tlearn: 0.4585118\ttotal: 189ms\tremaining: 322ms\n",
      "37:\tlearn: 0.4539963\ttotal: 194ms\tremaining: 316ms\n",
      "38:\tlearn: 0.4494898\ttotal: 199ms\tremaining: 312ms\n",
      "39:\tlearn: 0.4449943\ttotal: 204ms\tremaining: 306ms\n",
      "40:\tlearn: 0.4406817\ttotal: 209ms\tremaining: 300ms\n",
      "41:\tlearn: 0.4364118\ttotal: 215ms\tremaining: 297ms\n",
      "42:\tlearn: 0.4322256\ttotal: 221ms\tremaining: 292ms\n",
      "43:\tlearn: 0.4280661\ttotal: 231ms\tremaining: 294ms\n",
      "44:\tlearn: 0.4241021\ttotal: 239ms\tremaining: 292ms\n",
      "45:\tlearn: 0.4200771\ttotal: 243ms\tremaining: 285ms\n",
      "46:\tlearn: 0.4160856\ttotal: 247ms\tremaining: 279ms\n",
      "47:\tlearn: 0.4121540\ttotal: 253ms\tremaining: 274ms\n",
      "48:\tlearn: 0.4082893\ttotal: 258ms\tremaining: 268ms\n",
      "49:\tlearn: 0.4045196\ttotal: 264ms\tremaining: 264ms\n",
      "50:\tlearn: 0.4007654\ttotal: 270ms\tremaining: 260ms\n",
      "51:\tlearn: 0.3970804\ttotal: 276ms\tremaining: 255ms\n",
      "52:\tlearn: 0.3934671\ttotal: 281ms\tremaining: 249ms\n",
      "53:\tlearn: 0.3898397\ttotal: 288ms\tremaining: 245ms\n",
      "54:\tlearn: 0.3863094\ttotal: 292ms\tremaining: 239ms\n",
      "55:\tlearn: 0.3828591\ttotal: 297ms\tremaining: 234ms\n",
      "56:\tlearn: 0.3794598\ttotal: 305ms\tremaining: 230ms\n",
      "57:\tlearn: 0.3760891\ttotal: 309ms\tremaining: 224ms\n",
      "58:\tlearn: 0.3727206\ttotal: 315ms\tremaining: 219ms\n",
      "59:\tlearn: 0.3694183\ttotal: 319ms\tremaining: 213ms\n",
      "60:\tlearn: 0.3661871\ttotal: 323ms\tremaining: 207ms\n",
      "61:\tlearn: 0.3629721\ttotal: 328ms\tremaining: 201ms\n",
      "62:\tlearn: 0.3598569\ttotal: 334ms\tremaining: 196ms\n",
      "63:\tlearn: 0.3567538\ttotal: 338ms\tremaining: 190ms\n",
      "64:\tlearn: 0.3537619\ttotal: 349ms\tremaining: 188ms\n",
      "65:\tlearn: 0.3507675\ttotal: 354ms\tremaining: 182ms\n",
      "66:\tlearn: 0.3478481\ttotal: 357ms\tremaining: 176ms\n",
      "67:\tlearn: 0.3449402\ttotal: 361ms\tremaining: 170ms\n",
      "68:\tlearn: 0.3420322\ttotal: 367ms\tremaining: 165ms\n",
      "69:\tlearn: 0.3391172\ttotal: 371ms\tremaining: 159ms\n",
      "70:\tlearn: 0.3364282\ttotal: 374ms\tremaining: 153ms\n",
      "71:\tlearn: 0.3336560\ttotal: 380ms\tremaining: 148ms\n",
      "72:\tlearn: 0.3309479\ttotal: 388ms\tremaining: 143ms\n",
      "73:\tlearn: 0.3282446\ttotal: 391ms\tremaining: 137ms\n",
      "74:\tlearn: 0.3256202\ttotal: 397ms\tremaining: 132ms\n",
      "75:\tlearn: 0.3230846\ttotal: 401ms\tremaining: 127ms\n",
      "76:\tlearn: 0.3204928\ttotal: 406ms\tremaining: 121ms\n",
      "77:\tlearn: 0.3179502\ttotal: 411ms\tremaining: 116ms\n",
      "78:\tlearn: 0.3154428\ttotal: 415ms\tremaining: 110ms\n",
      "79:\tlearn: 0.3129622\ttotal: 420ms\tremaining: 105ms\n",
      "80:\tlearn: 0.3105795\ttotal: 425ms\tremaining: 99.8ms\n",
      "81:\tlearn: 0.3081857\ttotal: 434ms\tremaining: 95.3ms\n",
      "82:\tlearn: 0.3058287\ttotal: 439ms\tremaining: 90ms\n",
      "83:\tlearn: 0.3034661\ttotal: 448ms\tremaining: 85.3ms\n",
      "84:\tlearn: 0.3011531\ttotal: 453ms\tremaining: 80ms\n",
      "85:\tlearn: 0.2988783\ttotal: 459ms\tremaining: 74.7ms\n",
      "86:\tlearn: 0.2966333\ttotal: 465ms\tremaining: 69.5ms\n",
      "87:\tlearn: 0.2944434\ttotal: 468ms\tremaining: 63.8ms\n",
      "88:\tlearn: 0.2922665\ttotal: 472ms\tremaining: 58.4ms\n",
      "89:\tlearn: 0.2901007\ttotal: 479ms\tremaining: 53.2ms\n",
      "90:\tlearn: 0.2879512\ttotal: 483ms\tremaining: 47.8ms\n",
      "91:\tlearn: 0.2858633\ttotal: 487ms\tremaining: 42.4ms\n",
      "92:\tlearn: 0.2837891\ttotal: 493ms\tremaining: 37.1ms\n",
      "93:\tlearn: 0.2817340\ttotal: 499ms\tremaining: 31.8ms\n",
      "94:\tlearn: 0.2797373\ttotal: 504ms\tremaining: 26.5ms\n",
      "95:\tlearn: 0.2777266\ttotal: 511ms\tremaining: 21.3ms\n",
      "96:\tlearn: 0.2757747\ttotal: 515ms\tremaining: 15.9ms\n",
      "97:\tlearn: 0.2738730\ttotal: 521ms\tremaining: 10.6ms\n",
      "98:\tlearn: 0.2719408\ttotal: 526ms\tremaining: 5.31ms\n",
      "99:\tlearn: 0.2700587\ttotal: 531ms\tremaining: 0us\n",
      "0:\tlearn: 0.6844891\ttotal: 5.28ms\tremaining: 523ms\n",
      "1:\tlearn: 0.6759458\ttotal: 9.65ms\tremaining: 473ms\n",
      "2:\tlearn: 0.6675794\ttotal: 14.7ms\tremaining: 474ms\n",
      "3:\tlearn: 0.6594034\ttotal: 20.1ms\tremaining: 482ms\n",
      "4:\tlearn: 0.6515223\ttotal: 24.4ms\tremaining: 464ms\n",
      "5:\tlearn: 0.6437125\ttotal: 28.6ms\tremaining: 449ms\n",
      "6:\tlearn: 0.6359534\ttotal: 37.9ms\tremaining: 503ms\n",
      "7:\tlearn: 0.6283349\ttotal: 42.3ms\tremaining: 486ms\n",
      "8:\tlearn: 0.6210499\ttotal: 47ms\tremaining: 475ms\n",
      "9:\tlearn: 0.6137125\ttotal: 53ms\tremaining: 477ms\n",
      "10:\tlearn: 0.6065731\ttotal: 56.9ms\tremaining: 461ms\n",
      "11:\tlearn: 0.5995040\ttotal: 61.9ms\tremaining: 454ms\n",
      "12:\tlearn: 0.5925033\ttotal: 65.2ms\tremaining: 436ms\n",
      "13:\tlearn: 0.5856613\ttotal: 70.9ms\tremaining: 435ms\n",
      "14:\tlearn: 0.5790001\ttotal: 77.4ms\tremaining: 439ms\n",
      "15:\tlearn: 0.5724374\ttotal: 83.4ms\tremaining: 438ms\n",
      "16:\tlearn: 0.5659914\ttotal: 87.8ms\tremaining: 429ms\n",
      "17:\tlearn: 0.5596562\ttotal: 92.5ms\tremaining: 421ms\n",
      "18:\tlearn: 0.5534934\ttotal: 98.7ms\tremaining: 421ms\n",
      "19:\tlearn: 0.5475004\ttotal: 104ms\tremaining: 414ms\n",
      "20:\tlearn: 0.5414713\ttotal: 108ms\tremaining: 405ms\n",
      "21:\tlearn: 0.5355471\ttotal: 118ms\tremaining: 419ms\n",
      "22:\tlearn: 0.5297531\ttotal: 123ms\tremaining: 412ms\n",
      "23:\tlearn: 0.5240156\ttotal: 128ms\tremaining: 406ms\n",
      "24:\tlearn: 0.5183754\ttotal: 135ms\tremaining: 405ms\n",
      "25:\tlearn: 0.5128649\ttotal: 141ms\tremaining: 400ms\n",
      "26:\tlearn: 0.5074676\ttotal: 148ms\tremaining: 400ms\n",
      "27:\tlearn: 0.5021633\ttotal: 154ms\tremaining: 395ms\n",
      "28:\tlearn: 0.4968878\ttotal: 159ms\tremaining: 389ms\n",
      "29:\tlearn: 0.4916957\ttotal: 165ms\tremaining: 384ms\n",
      "30:\tlearn: 0.4866091\ttotal: 170ms\tremaining: 378ms\n",
      "31:\tlearn: 0.4815835\ttotal: 175ms\tremaining: 371ms\n",
      "32:\tlearn: 0.4766524\ttotal: 181ms\tremaining: 367ms\n",
      "33:\tlearn: 0.4717875\ttotal: 184ms\tremaining: 357ms\n",
      "34:\tlearn: 0.4670976\ttotal: 188ms\tremaining: 349ms\n",
      "35:\tlearn: 0.4624101\ttotal: 192ms\tremaining: 342ms\n",
      "36:\tlearn: 0.4577641\ttotal: 198ms\tremaining: 338ms\n",
      "37:\tlearn: 0.4532681\ttotal: 206ms\tremaining: 336ms\n",
      "38:\tlearn: 0.4487713\ttotal: 213ms\tremaining: 333ms\n",
      "39:\tlearn: 0.4443295\ttotal: 218ms\tremaining: 327ms\n",
      "40:\tlearn: 0.4400209\ttotal: 225ms\tremaining: 324ms\n",
      "41:\tlearn: 0.4357281\ttotal: 231ms\tremaining: 319ms\n",
      "42:\tlearn: 0.4315092\ttotal: 236ms\tremaining: 313ms\n",
      "43:\tlearn: 0.4273137\ttotal: 246ms\tremaining: 312ms\n",
      "44:\tlearn: 0.4232882\ttotal: 251ms\tremaining: 307ms\n",
      "45:\tlearn: 0.4192431\ttotal: 255ms\tremaining: 299ms\n",
      "46:\tlearn: 0.4152279\ttotal: 261ms\tremaining: 294ms\n",
      "47:\tlearn: 0.4112848\ttotal: 265ms\tremaining: 287ms\n",
      "48:\tlearn: 0.4073907\ttotal: 272ms\tremaining: 283ms\n",
      "49:\tlearn: 0.4036140\ttotal: 277ms\tremaining: 277ms\n",
      "50:\tlearn: 0.3998935\ttotal: 281ms\tremaining: 270ms\n",
      "51:\tlearn: 0.3961865\ttotal: 286ms\tremaining: 264ms\n",
      "52:\tlearn: 0.3925549\ttotal: 292ms\tremaining: 259ms\n",
      "53:\tlearn: 0.3889261\ttotal: 296ms\tremaining: 252ms\n",
      "54:\tlearn: 0.3853526\ttotal: 304ms\tremaining: 248ms\n",
      "55:\tlearn: 0.3818901\ttotal: 308ms\tremaining: 242ms\n",
      "56:\tlearn: 0.3784676\ttotal: 313ms\tremaining: 236ms\n",
      "57:\tlearn: 0.3750697\ttotal: 317ms\tremaining: 230ms\n",
      "58:\tlearn: 0.3717446\ttotal: 320ms\tremaining: 222ms\n",
      "59:\tlearn: 0.3684162\ttotal: 325ms\tremaining: 216ms\n",
      "60:\tlearn: 0.3651551\ttotal: 330ms\tremaining: 211ms\n",
      "61:\tlearn: 0.3619292\ttotal: 334ms\tremaining: 205ms\n",
      "62:\tlearn: 0.3587384\ttotal: 340ms\tremaining: 199ms\n",
      "63:\tlearn: 0.3556138\ttotal: 347ms\tremaining: 195ms\n",
      "64:\tlearn: 0.3525832\ttotal: 351ms\tremaining: 189ms\n",
      "65:\tlearn: 0.3495501\ttotal: 356ms\tremaining: 183ms\n",
      "66:\tlearn: 0.3466094\ttotal: 361ms\tremaining: 178ms\n",
      "67:\tlearn: 0.3436842\ttotal: 366ms\tremaining: 172ms\n",
      "68:\tlearn: 0.3407632\ttotal: 370ms\tremaining: 166ms\n",
      "69:\tlearn: 0.3378558\ttotal: 377ms\tremaining: 161ms\n",
      "70:\tlearn: 0.3350421\ttotal: 380ms\tremaining: 155ms\n",
      "71:\tlearn: 0.3322788\ttotal: 384ms\tremaining: 149ms\n",
      "72:\tlearn: 0.3296145\ttotal: 393ms\tremaining: 145ms\n",
      "73:\tlearn: 0.3268929\ttotal: 395ms\tremaining: 139ms\n",
      "74:\tlearn: 0.3242413\ttotal: 400ms\tremaining: 133ms\n",
      "75:\tlearn: 0.3216825\ttotal: 405ms\tremaining: 128ms\n",
      "76:\tlearn: 0.3190796\ttotal: 409ms\tremaining: 122ms\n",
      "77:\tlearn: 0.3165226\ttotal: 414ms\tremaining: 117ms\n",
      "78:\tlearn: 0.3140079\ttotal: 417ms\tremaining: 111ms\n",
      "79:\tlearn: 0.3115261\ttotal: 423ms\tremaining: 106ms\n",
      "80:\tlearn: 0.3091018\ttotal: 429ms\tremaining: 101ms\n",
      "81:\tlearn: 0.3066881\ttotal: 435ms\tremaining: 95.4ms\n",
      "82:\tlearn: 0.3043009\ttotal: 441ms\tremaining: 90.3ms\n",
      "83:\tlearn: 0.3019351\ttotal: 446ms\tremaining: 85ms\n",
      "84:\tlearn: 0.2995934\ttotal: 456ms\tremaining: 80.5ms\n",
      "85:\tlearn: 0.2973157\ttotal: 461ms\tremaining: 75.1ms\n",
      "86:\tlearn: 0.2950430\ttotal: 466ms\tremaining: 69.6ms\n",
      "87:\tlearn: 0.2928388\ttotal: 469ms\tremaining: 63.9ms\n",
      "88:\tlearn: 0.2906151\ttotal: 474ms\tremaining: 58.5ms\n",
      "89:\tlearn: 0.2884295\ttotal: 478ms\tremaining: 53.1ms\n",
      "90:\tlearn: 0.2862729\ttotal: 483ms\tremaining: 47.8ms\n",
      "91:\tlearn: 0.2841606\ttotal: 491ms\tremaining: 42.7ms\n",
      "92:\tlearn: 0.2820672\ttotal: 497ms\tremaining: 37.4ms\n",
      "93:\tlearn: 0.2799966\ttotal: 502ms\tremaining: 32ms\n",
      "94:\tlearn: 0.2779808\ttotal: 507ms\tremaining: 26.7ms\n",
      "95:\tlearn: 0.2759187\ttotal: 512ms\tremaining: 21.3ms\n",
      "96:\tlearn: 0.2739372\ttotal: 526ms\tremaining: 16.3ms\n",
      "97:\tlearn: 0.2720274\ttotal: 531ms\tremaining: 10.8ms\n",
      "98:\tlearn: 0.2700793\ttotal: 537ms\tremaining: 5.43ms\n",
      "99:\tlearn: 0.2681803\ttotal: 542ms\tremaining: 0us\n",
      "0:\tlearn: 0.6845375\ttotal: 5.38ms\tremaining: 532ms\n",
      "1:\tlearn: 0.6761782\ttotal: 9.71ms\tremaining: 476ms\n",
      "2:\tlearn: 0.6678644\ttotal: 14.5ms\tremaining: 468ms\n",
      "3:\tlearn: 0.6598889\ttotal: 18.9ms\tremaining: 453ms\n",
      "4:\tlearn: 0.6520597\ttotal: 23.4ms\tremaining: 444ms\n",
      "5:\tlearn: 0.6443450\ttotal: 30.8ms\tremaining: 483ms\n",
      "6:\tlearn: 0.6366234\ttotal: 36.7ms\tremaining: 488ms\n",
      "7:\tlearn: 0.6290309\ttotal: 41.3ms\tremaining: 475ms\n",
      "8:\tlearn: 0.6217014\ttotal: 49.8ms\tremaining: 504ms\n",
      "9:\tlearn: 0.6143972\ttotal: 54.1ms\tremaining: 487ms\n",
      "10:\tlearn: 0.6073825\ttotal: 59ms\tremaining: 478ms\n",
      "11:\tlearn: 0.6003337\ttotal: 64.1ms\tremaining: 470ms\n",
      "12:\tlearn: 0.5934318\ttotal: 68.7ms\tremaining: 460ms\n",
      "13:\tlearn: 0.5866208\ttotal: 73.5ms\tremaining: 451ms\n",
      "14:\tlearn: 0.5800009\ttotal: 78.5ms\tremaining: 445ms\n",
      "15:\tlearn: 0.5734708\ttotal: 83ms\tremaining: 436ms\n",
      "16:\tlearn: 0.5670487\ttotal: 88ms\tremaining: 429ms\n",
      "17:\tlearn: 0.5607609\ttotal: 97.2ms\tremaining: 443ms\n",
      "18:\tlearn: 0.5545146\ttotal: 102ms\tremaining: 433ms\n",
      "19:\tlearn: 0.5483849\ttotal: 107ms\tremaining: 430ms\n",
      "20:\tlearn: 0.5423904\ttotal: 113ms\tremaining: 425ms\n",
      "21:\tlearn: 0.5364775\ttotal: 119ms\tremaining: 420ms\n",
      "22:\tlearn: 0.5306657\ttotal: 126ms\tremaining: 421ms\n",
      "23:\tlearn: 0.5249335\ttotal: 131ms\tremaining: 414ms\n",
      "24:\tlearn: 0.5193400\ttotal: 136ms\tremaining: 408ms\n",
      "25:\tlearn: 0.5139308\ttotal: 140ms\tremaining: 399ms\n",
      "26:\tlearn: 0.5085090\ttotal: 146ms\tremaining: 396ms\n",
      "27:\tlearn: 0.5031771\ttotal: 150ms\tremaining: 387ms\n",
      "28:\tlearn: 0.4979555\ttotal: 155ms\tremaining: 379ms\n",
      "29:\tlearn: 0.4927761\ttotal: 161ms\tremaining: 375ms\n",
      "30:\tlearn: 0.4876669\ttotal: 168ms\tremaining: 374ms\n",
      "31:\tlearn: 0.4826839\ttotal: 173ms\tremaining: 367ms\n",
      "32:\tlearn: 0.4777168\ttotal: 179ms\tremaining: 363ms\n",
      "33:\tlearn: 0.4728856\ttotal: 183ms\tremaining: 356ms\n",
      "34:\tlearn: 0.4681605\ttotal: 188ms\tremaining: 349ms\n",
      "35:\tlearn: 0.4635458\ttotal: 196ms\tremaining: 349ms\n",
      "36:\tlearn: 0.4589691\ttotal: 201ms\tremaining: 342ms\n",
      "37:\tlearn: 0.4544326\ttotal: 207ms\tremaining: 337ms\n",
      "38:\tlearn: 0.4499691\ttotal: 214ms\tremaining: 334ms\n",
      "39:\tlearn: 0.4456018\ttotal: 219ms\tremaining: 328ms\n",
      "40:\tlearn: 0.4413091\ttotal: 228ms\tremaining: 328ms\n",
      "41:\tlearn: 0.4370126\ttotal: 234ms\tremaining: 323ms\n",
      "42:\tlearn: 0.4328613\ttotal: 243ms\tremaining: 322ms\n",
      "43:\tlearn: 0.4287094\ttotal: 247ms\tremaining: 315ms\n",
      "44:\tlearn: 0.4246273\ttotal: 252ms\tremaining: 308ms\n",
      "45:\tlearn: 0.4205764\ttotal: 259ms\tremaining: 304ms\n",
      "46:\tlearn: 0.4165849\ttotal: 263ms\tremaining: 297ms\n",
      "47:\tlearn: 0.4126815\ttotal: 271ms\tremaining: 293ms\n",
      "48:\tlearn: 0.4088906\ttotal: 276ms\tremaining: 287ms\n",
      "49:\tlearn: 0.4050947\ttotal: 281ms\tremaining: 281ms\n",
      "50:\tlearn: 0.4014028\ttotal: 284ms\tremaining: 272ms\n",
      "51:\tlearn: 0.3977239\ttotal: 289ms\tremaining: 267ms\n",
      "52:\tlearn: 0.3941389\ttotal: 294ms\tremaining: 260ms\n",
      "53:\tlearn: 0.3905462\ttotal: 302ms\tremaining: 258ms\n",
      "54:\tlearn: 0.3870099\ttotal: 307ms\tremaining: 251ms\n",
      "55:\tlearn: 0.3835407\ttotal: 312ms\tremaining: 245ms\n",
      "56:\tlearn: 0.3801133\ttotal: 316ms\tremaining: 239ms\n",
      "57:\tlearn: 0.3767509\ttotal: 321ms\tremaining: 233ms\n",
      "58:\tlearn: 0.3734223\ttotal: 326ms\tremaining: 226ms\n",
      "59:\tlearn: 0.3701046\ttotal: 330ms\tremaining: 220ms\n",
      "60:\tlearn: 0.3669603\ttotal: 335ms\tremaining: 214ms\n",
      "61:\tlearn: 0.3637549\ttotal: 339ms\tremaining: 208ms\n",
      "62:\tlearn: 0.3606018\ttotal: 343ms\tremaining: 201ms\n",
      "63:\tlearn: 0.3574866\ttotal: 348ms\tremaining: 196ms\n",
      "64:\tlearn: 0.3544388\ttotal: 353ms\tremaining: 190ms\n",
      "65:\tlearn: 0.3514091\ttotal: 356ms\tremaining: 184ms\n",
      "66:\tlearn: 0.3484426\ttotal: 362ms\tremaining: 178ms\n",
      "67:\tlearn: 0.3455851\ttotal: 366ms\tremaining: 172ms\n",
      "68:\tlearn: 0.3427025\ttotal: 371ms\tremaining: 167ms\n",
      "69:\tlearn: 0.3398635\ttotal: 381ms\tremaining: 163ms\n",
      "70:\tlearn: 0.3370344\ttotal: 386ms\tremaining: 158ms\n",
      "71:\tlearn: 0.3342663\ttotal: 391ms\tremaining: 152ms\n",
      "72:\tlearn: 0.3315400\ttotal: 394ms\tremaining: 146ms\n",
      "73:\tlearn: 0.3289537\ttotal: 398ms\tremaining: 140ms\n",
      "74:\tlearn: 0.3263176\ttotal: 406ms\tremaining: 135ms\n",
      "75:\tlearn: 0.3237221\ttotal: 410ms\tremaining: 130ms\n",
      "76:\tlearn: 0.3211539\ttotal: 415ms\tremaining: 124ms\n",
      "77:\tlearn: 0.3185540\ttotal: 421ms\tremaining: 119ms\n",
      "78:\tlearn: 0.3160732\ttotal: 426ms\tremaining: 113ms\n",
      "79:\tlearn: 0.3135905\ttotal: 434ms\tremaining: 109ms\n",
      "80:\tlearn: 0.3111499\ttotal: 440ms\tremaining: 103ms\n",
      "81:\tlearn: 0.3087564\ttotal: 445ms\tremaining: 97.6ms\n",
      "82:\tlearn: 0.3063862\ttotal: 451ms\tremaining: 92.4ms\n",
      "83:\tlearn: 0.3040456\ttotal: 456ms\tremaining: 86.8ms\n",
      "84:\tlearn: 0.3017259\ttotal: 460ms\tremaining: 81.2ms\n",
      "85:\tlearn: 0.2994432\ttotal: 466ms\tremaining: 75.8ms\n",
      "86:\tlearn: 0.2972032\ttotal: 470ms\tremaining: 70.2ms\n",
      "87:\tlearn: 0.2949906\ttotal: 475ms\tremaining: 64.8ms\n",
      "88:\tlearn: 0.2928015\ttotal: 480ms\tremaining: 59.3ms\n",
      "89:\tlearn: 0.2906205\ttotal: 485ms\tremaining: 53.9ms\n",
      "90:\tlearn: 0.2885080\ttotal: 490ms\tremaining: 48.4ms\n",
      "91:\tlearn: 0.2864176\ttotal: 494ms\tremaining: 43ms\n",
      "92:\tlearn: 0.2842844\ttotal: 501ms\tremaining: 37.7ms\n",
      "93:\tlearn: 0.2822213\ttotal: 507ms\tremaining: 32.4ms\n",
      "94:\tlearn: 0.2801998\ttotal: 513ms\tremaining: 27ms\n",
      "95:\tlearn: 0.2782107\ttotal: 518ms\tremaining: 21.6ms\n",
      "96:\tlearn: 0.2762334\ttotal: 523ms\tremaining: 16.2ms\n",
      "97:\tlearn: 0.2743052\ttotal: 530ms\tremaining: 10.8ms\n",
      "98:\tlearn: 0.2724066\ttotal: 535ms\tremaining: 5.4ms\n",
      "99:\tlearn: 0.2705161\ttotal: 539ms\tremaining: 0us\n"
     ]
    },
    {
     "data": {
      "text/plain": [
       "0.6146388077471181"
      ]
     },
     "execution_count": 87,
     "metadata": {},
     "output_type": "execute_result"
    }
   ],
   "source": [
    "cross_val_score(clf, x_train, y_train, scoring = 'f1', cv=5).mean()"
   ]
  },
  {
   "cell_type": "code",
   "execution_count": 96,
   "metadata": {
    "tags": []
   },
   "outputs": [],
   "source": [
    "y_pred_tr1 = clf.predict_proba(x_train)[:, 1]  # Получение вероятностей положительного класса\n",
    "threshold = 0.75 # Установка порога\n",
    "y_pred_binary_tr1 = (y_pred_tr1 > threshold).astype(int)  # Бинарные предсказания"
   ]
  },
  {
   "cell_type": "code",
   "execution_count": 97,
   "metadata": {
    "tags": []
   },
   "outputs": [
    {
     "data": {
      "text/plain": [
       "0.6348039215686275"
      ]
     },
     "execution_count": 97,
     "metadata": {},
     "output_type": "execute_result"
    }
   ],
   "source": [
    "f1 = f1_score(y_pred_binary_tr1, y_train)\n",
    "f1"
   ]
  },
  {
   "cell_type": "code",
   "execution_count": 95,
   "metadata": {
    "tags": []
   },
   "outputs": [
    {
     "data": {
      "image/png": "[encoded data removed]",
      "text/plain": [
       "<Figure size 1000x600 with 1 Axes>"
      ]
     },
     "metadata": {},
     "output_type": "display_data"
    },
    {
     "name": "stdout",
     "output_type": "stream",
     "text": [
      "Лучший порог: 0.7551020408163265\n"
     ]
    }
   ],
   "source": [
    "y_pred1 = clf.predict_proba(x_train)[:, 1]\n",
    "y_true = y_train\n",
    "\n",
    "thresholds = np.linspace(0, 1, 50)  # Здесь используется 100 равномерно распределенных порогов от 0 до 1\n",
    "\n",
    "f1_scores = []\n",
    "threshold_values = []\n",
    "\n",
    "# Перебор порогов\n",
    "for threshold in thresholds:\n",
    "    y_pred_binary_plot = (y_pred1 > threshold).astype(int)\n",
    "    f1 = f1_score(y_true, y_pred_binary_plot)\n",
    "    f1_scores.append(f1)\n",
    "    threshold_values.append(threshold)\n",
    "\n",
    "# Постройте график\n",
    "plt.figure(figsize=(10, 6))\n",
    "plt.plot(threshold_values, f1_scores, marker='o', linestyle='-')\n",
    "plt.xlabel('Порог')\n",
    "plt.ylabel('F1-мера')\n",
    "plt.title('Зависимость F1-меры от порога')\n",
    "plt.grid(True)\n",
    "plt.show()\n",
    "\n",
    "# Подсчет лучшего порога\n",
    "\n",
    "best_threshold_index = np.argmax(f1_scores)\n",
    "best_threshold = threshold_values[best_threshold_index]\n",
    "\n",
    "print(f\"Лучший порог: {best_threshold}\")"
   ]
  },
  {
   "cell_type": "code",
   "execution_count": 98,
   "metadata": {
    "tags": []
   },
   "outputs": [
    {
     "data": {
      "image/png": "[encoded data removed]",
      "text/plain": [
       "<Figure size 1200x1200 with 2 Axes>"
      ]
     },
     "metadata": {},
     "output_type": "display_data"
    }
   ],
   "source": [
    "from sklearn.metrics import confusion_matrix\n",
    "import seaborn as sns\n",
    "import matplotlib.pyplot as plt\n",
    "\n",
    "# Создание матрицы ошибок\n",
    "confusion = confusion_matrix(y_train, y_pred_binary_tr1)\n",
    "\n",
    "# Визуализация матрицы ошибок с использованием библиотеки Seaborn\n",
    "plt.figure(figsize=(12, 12))\n",
    "sns.heatmap(confusion, annot=True, fmt=\"d\", cmap=\"Blues\", square=True, xticklabels=True, yticklabels=True)\n",
    "plt.xlabel('Predicted')\n",
    "plt.ylabel('Actual')\n",
    "plt.title('Confusion Matrix')\n",
    "plt.show()"
   ]
  },
  {
   "cell_type": "markdown",
   "metadata": {
    "id": "-kq370bAsou0"
   },
   "source": [
    "кек"
   ]
  },
  {
   "cell_type": "code",
   "execution_count": 45,
   "metadata": {
    "colab": {
     "base_uri": "https://localhost:8080/",
     "height": 313
    },
    "id": "VDCuJ6eYg82W",
    "outputId": "ec390d53-c565-4cc8-bcce-1b5be489891a",
    "tags": []
   },
   "outputs": [
    {
     "data": {
      "text/html": [
       "<div>\n",
       "<style scoped>\n",
       "    .dataframe tbody tr th:only-of-type {\n",
       "        vertical-align: middle;\n",
       "    }\n",
       "\n",
       "    .dataframe tbody tr th {\n",
       "        vertical-align: top;\n",
       "    }\n",
       "\n",
       "    .dataframe thead th {\n",
       "        text-align: right;\n",
       "    }\n",
       "</style>\n",
       "<table border=\"1\" class=\"dataframe\">\n",
       "  <thead>\n",
       "    <tr style=\"text-align: right;\">\n",
       "      <th></th>\n",
       "      <th>wagnum</th>\n",
       "      <th>srok_sl</th>\n",
       "      <th>cnsi_probeg_dr</th>\n",
       "      <th>cnsi_probeg_kr</th>\n",
       "      <th>ost_prob</th>\n",
       "      <th>mean_run</th>\n",
       "      <th>was_repair_in_prev_month</th>\n",
       "      <th>kod_vrab</th>\n",
       "      <th>date_pl_rem</th>\n",
       "      <th>day_run</th>\n",
       "      <th>current_date</th>\n",
       "      <th>date_diff_srk_sl</th>\n",
       "      <th>date_diff_pl_rem</th>\n",
       "      <th>prob_end_month</th>\n",
       "    </tr>\n",
       "  </thead>\n",
       "  <tbody>\n",
       "    <tr>\n",
       "      <th>0</th>\n",
       "      <td>33361</td>\n",
       "      <td>2033-03-01</td>\n",
       "      <td>110</td>\n",
       "      <td>160</td>\n",
       "      <td>159916</td>\n",
       "      <td>1248.97541</td>\n",
       "      <td>1.0</td>\n",
       "      <td>3.0</td>\n",
       "      <td>2023-02-17</td>\n",
       "      <td>506.325137</td>\n",
       "      <td>2022-12-01</td>\n",
       "      <td>3743 days</td>\n",
       "      <td>78 days</td>\n",
       "      <td>144726.245902</td>\n",
       "    </tr>\n",
       "    <tr>\n",
       "      <th>1</th>\n",
       "      <td>33364</td>\n",
       "      <td>2031-04-12</td>\n",
       "      <td>110</td>\n",
       "      <td>160</td>\n",
       "      <td>4268</td>\n",
       "      <td>269.139344</td>\n",
       "      <td>1.0</td>\n",
       "      <td>2.0</td>\n",
       "      <td>2023-10-03</td>\n",
       "      <td>179.713115</td>\n",
       "      <td>2022-12-01</td>\n",
       "      <td>3054 days</td>\n",
       "      <td>306 days</td>\n",
       "      <td>-1123.393443</td>\n",
       "    </tr>\n",
       "    <tr>\n",
       "      <th>2</th>\n",
       "      <td>33366</td>\n",
       "      <td>2032-01-21</td>\n",
       "      <td>110</td>\n",
       "      <td>160</td>\n",
       "      <td>1507</td>\n",
       "      <td>71.598361</td>\n",
       "      <td>1.0</td>\n",
       "      <td>2.0</td>\n",
       "      <td>2023-04-03</td>\n",
       "      <td>113.866120</td>\n",
       "      <td>2022-12-01</td>\n",
       "      <td>3338 days</td>\n",
       "      <td>123 days</td>\n",
       "      <td>-1908.983607</td>\n",
       "    </tr>\n",
       "    <tr>\n",
       "      <th>3</th>\n",
       "      <td>33358</td>\n",
       "      <td>2032-11-30</td>\n",
       "      <td>110</td>\n",
       "      <td>160</td>\n",
       "      <td>30223</td>\n",
       "      <td>95.114754</td>\n",
       "      <td>0.0</td>\n",
       "      <td>2.0</td>\n",
       "      <td>2024-02-23</td>\n",
       "      <td>121.704918</td>\n",
       "      <td>2022-12-01</td>\n",
       "      <td>3652 days</td>\n",
       "      <td>449 days</td>\n",
       "      <td>26571.852459</td>\n",
       "    </tr>\n",
       "    <tr>\n",
       "      <th>4</th>\n",
       "      <td>33349</td>\n",
       "      <td>2033-12-04</td>\n",
       "      <td>110</td>\n",
       "      <td>160</td>\n",
       "      <td>153839</td>\n",
       "      <td>1214.07377</td>\n",
       "      <td>1.0</td>\n",
       "      <td>0.0</td>\n",
       "      <td>2023-07-06</td>\n",
       "      <td>494.691257</td>\n",
       "      <td>2022-12-01</td>\n",
       "      <td>4021 days</td>\n",
       "      <td>217 days</td>\n",
       "      <td>138998.262295</td>\n",
       "    </tr>\n",
       "  </tbody>\n",
       "</table>\n",
       "</div>"
      ],
      "text/plain": [
       "   wagnum    srok_sl  cnsi_probeg_dr  cnsi_probeg_kr  ost_prob    mean_run  \\\n",
       "0   33361 2033-03-01             110             160    159916  1248.97541   \n",
       "1   33364 2031-04-12             110             160      4268  269.139344   \n",
       "2   33366 2032-01-21             110             160      1507   71.598361   \n",
       "3   33358 2032-11-30             110             160     30223   95.114754   \n",
       "4   33349 2033-12-04             110             160    153839  1214.07377   \n",
       "\n",
       "   was_repair_in_prev_month  kod_vrab date_pl_rem     day_run current_date  \\\n",
       "0                       1.0       3.0  2023-02-17  506.325137   2022-12-01   \n",
       "1                       1.0       2.0  2023-10-03  179.713115   2022-12-01   \n",
       "2                       1.0       2.0  2023-04-03  113.866120   2022-12-01   \n",
       "3                       0.0       2.0  2024-02-23  121.704918   2022-12-01   \n",
       "4                       1.0       0.0  2023-07-06  494.691257   2022-12-01   \n",
       "\n",
       "  date_diff_srk_sl date_diff_pl_rem  prob_end_month  \n",
       "0        3743 days          78 days   144726.245902  \n",
       "1        3054 days         306 days    -1123.393443  \n",
       "2        3338 days         123 days    -1908.983607  \n",
       "3        3652 days         449 days    26571.852459  \n",
       "4        4021 days         217 days   138998.262295  "
      ]
     },
     "execution_count": 45,
     "metadata": {},
     "output_type": "execute_result"
    }
   ],
   "source": [
    "x_train.head()"
   ]
  },
  {
   "cell_type": "code",
   "execution_count": 100,
   "metadata": {
    "colab": {
     "base_uri": "https://localhost:8080/",
     "height": 313
    },
    "id": "D3axyBlXsga1",
    "outputId": "33a94b8b-e97e-4f79-a5a4-3f8fed6e1503",
    "tags": []
   },
   "outputs": [
    {
     "data": {
      "text/html": [
       "<div>\n",
       "<style scoped>\n",
       "    .dataframe tbody tr th:only-of-type {\n",
       "        vertical-align: middle;\n",
       "    }\n",
       "\n",
       "    .dataframe tbody tr th {\n",
       "        vertical-align: top;\n",
       "    }\n",
       "\n",
       "    .dataframe thead th {\n",
       "        text-align: right;\n",
       "    }\n",
       "</style>\n",
       "<table border=\"1\" class=\"dataframe\">\n",
       "  <thead>\n",
       "    <tr style=\"text-align: right;\">\n",
       "      <th></th>\n",
       "      <th>wagnum</th>\n",
       "      <th>srok_sl</th>\n",
       "      <th>cnsi_probeg_dr</th>\n",
       "      <th>cnsi_probeg_kr</th>\n",
       "      <th>ost_prob</th>\n",
       "      <th>mean_run</th>\n",
       "      <th>was_repair_in_prev_month</th>\n",
       "      <th>kod_vrab</th>\n",
       "      <th>date_pl_rem</th>\n",
       "      <th>day_run</th>\n",
       "      <th>current_date</th>\n",
       "      <th>date_diff_srk_sl</th>\n",
       "      <th>date_diff_pl_rem</th>\n",
       "      <th>prob_end_month</th>\n",
       "    </tr>\n",
       "  </thead>\n",
       "  <tbody>\n",
       "    <tr>\n",
       "      <th>0</th>\n",
       "      <td>33361</td>\n",
       "      <td>2033-03-01</td>\n",
       "      <td>110</td>\n",
       "      <td>160</td>\n",
       "      <td>153113</td>\n",
       "      <td>951.45098</td>\n",
       "      <td>1.0</td>\n",
       "      <td>3.0</td>\n",
       "      <td>2023-02-17</td>\n",
       "      <td>407.150327</td>\n",
       "      <td>2023-01-01</td>\n",
       "      <td>3712 days</td>\n",
       "      <td>47 days</td>\n",
       "      <td>140898.490196</td>\n",
       "    </tr>\n",
       "    <tr>\n",
       "      <th>1</th>\n",
       "      <td>33364</td>\n",
       "      <td>2031-04-12</td>\n",
       "      <td>110</td>\n",
       "      <td>160</td>\n",
       "      <td>157426</td>\n",
       "      <td>786.424837</td>\n",
       "      <td>1.0</td>\n",
       "      <td>2.0</td>\n",
       "      <td>2023-10-03</td>\n",
       "      <td>352.141612</td>\n",
       "      <td>2023-01-01</td>\n",
       "      <td>3023 days</td>\n",
       "      <td>275 days</td>\n",
       "      <td>146861.751634</td>\n",
       "    </tr>\n",
       "    <tr>\n",
       "      <th>2</th>\n",
       "      <td>33366</td>\n",
       "      <td>2032-01-21</td>\n",
       "      <td>110</td>\n",
       "      <td>160</td>\n",
       "      <td>159748</td>\n",
       "      <td>977.163399</td>\n",
       "      <td>1.0</td>\n",
       "      <td>2.0</td>\n",
       "      <td>2023-04-03</td>\n",
       "      <td>415.721133</td>\n",
       "      <td>2023-01-01</td>\n",
       "      <td>3307 days</td>\n",
       "      <td>92 days</td>\n",
       "      <td>147276.366013</td>\n",
       "    </tr>\n",
       "    <tr>\n",
       "      <th>3</th>\n",
       "      <td>33358</td>\n",
       "      <td>2032-11-30</td>\n",
       "      <td>110</td>\n",
       "      <td>160</td>\n",
       "      <td>28597</td>\n",
       "      <td>86.470588</td>\n",
       "      <td>0.0</td>\n",
       "      <td>2.0</td>\n",
       "      <td>2024-02-23</td>\n",
       "      <td>118.823529</td>\n",
       "      <td>2023-01-01</td>\n",
       "      <td>3621 days</td>\n",
       "      <td>418 days</td>\n",
       "      <td>25032.294118</td>\n",
       "    </tr>\n",
       "    <tr>\n",
       "      <th>4</th>\n",
       "      <td>33349</td>\n",
       "      <td>2033-12-04</td>\n",
       "      <td>110</td>\n",
       "      <td>160</td>\n",
       "      <td>150043</td>\n",
       "      <td>943.27451</td>\n",
       "      <td>1.0</td>\n",
       "      <td>0.0</td>\n",
       "      <td>2023-07-06</td>\n",
       "      <td>404.424837</td>\n",
       "      <td>2023-01-01</td>\n",
       "      <td>3990 days</td>\n",
       "      <td>186 days</td>\n",
       "      <td>137910.254902</td>\n",
       "    </tr>\n",
       "  </tbody>\n",
       "</table>\n",
       "</div>"
      ],
      "text/plain": [
       "   wagnum    srok_sl  cnsi_probeg_dr  cnsi_probeg_kr  ost_prob    mean_run  \\\n",
       "0   33361 2033-03-01             110             160    153113   951.45098   \n",
       "1   33364 2031-04-12             110             160    157426  786.424837   \n",
       "2   33366 2032-01-21             110             160    159748  977.163399   \n",
       "3   33358 2032-11-30             110             160     28597   86.470588   \n",
       "4   33349 2033-12-04             110             160    150043   943.27451   \n",
       "\n",
       "   was_repair_in_prev_month  kod_vrab date_pl_rem     day_run current_date  \\\n",
       "0                       1.0       3.0  2023-02-17  407.150327   2023-01-01   \n",
       "1                       1.0       2.0  2023-10-03  352.141612   2023-01-01   \n",
       "2                       1.0       2.0  2023-04-03  415.721133   2023-01-01   \n",
       "3                       0.0       2.0  2024-02-23  118.823529   2023-01-01   \n",
       "4                       1.0       0.0  2023-07-06  404.424837   2023-01-01   \n",
       "\n",
       "  date_diff_srk_sl date_diff_pl_rem  prob_end_month  \n",
       "0        3712 days          47 days   140898.490196  \n",
       "1        3023 days         275 days   146861.751634  \n",
       "2        3307 days          92 days   147276.366013  \n",
       "3        3621 days         418 days    25032.294118  \n",
       "4        3990 days         186 days   137910.254902  "
      ]
     },
     "execution_count": 100,
     "metadata": {},
     "output_type": "execute_result"
    }
   ],
   "source": [
    "x_test.head()"
   ]
  },
  {
   "cell_type": "code",
   "execution_count": 154,
   "metadata": {
    "colab": {
     "base_uri": "https://localhost:8080/"
    },
    "id": "S5a1yoRKJnkr",
    "outputId": "b724ee2d-e07e-4a5e-d4e2-5eca98f0b0cf",
    "tags": []
   },
   "outputs": [
    {
     "data": {
      "text/plain": [
       "0.003244997295835587"
      ]
     },
     "execution_count": 154,
     "metadata": {},
     "output_type": "execute_result"
    }
   ],
   "source": [
    "# Сделаем предсказания на тестовом наборе\n",
    "predicted_valid_ct = clf.predict(x_test)\n",
    "\n",
    "# Оцениваем качество модели с использованием метрики F1-мера\n",
    "f1 = f1_score(y_test, predicted_valid_ct)\n",
    "f1"
   ]
  },
  {
   "cell_type": "code",
   "execution_count": 146,
   "metadata": {
    "collapsed": true,
    "jupyter": {
     "outputs_hidden": true
    },
    "tags": []
   },
   "outputs": [
    {
     "name": "stdout",
     "output_type": "stream",
     "text": [
      "0:\tlearn: 0.6859067\ttotal: 5.63ms\tremaining: 558ms\n",
      "1:\tlearn: 0.6792528\ttotal: 10.1ms\tremaining: 497ms\n",
      "2:\tlearn: 0.6722975\ttotal: 14.3ms\tremaining: 462ms\n",
      "3:\tlearn: 0.6654903\ttotal: 19.1ms\tremaining: 457ms\n",
      "4:\tlearn: 0.6586158\ttotal: 23.4ms\tremaining: 444ms\n",
      "5:\tlearn: 0.6527199\ttotal: 27.5ms\tremaining: 430ms\n",
      "6:\tlearn: 0.6462798\ttotal: 31.6ms\tremaining: 419ms\n",
      "7:\tlearn: 0.6400701\ttotal: 36.3ms\tremaining: 417ms\n",
      "8:\tlearn: 0.6343930\ttotal: 40.7ms\tremaining: 411ms\n",
      "9:\tlearn: 0.6281730\ttotal: 44.9ms\tremaining: 404ms\n",
      "10:\tlearn: 0.6220297\ttotal: 49.2ms\tremaining: 398ms\n",
      "11:\tlearn: 0.6158302\ttotal: 53.5ms\tremaining: 392ms\n",
      "12:\tlearn: 0.6106928\ttotal: 58ms\tremaining: 388ms\n",
      "13:\tlearn: 0.6048189\ttotal: 62.2ms\tremaining: 382ms\n",
      "14:\tlearn: 0.5994935\ttotal: 66.5ms\tremaining: 377ms\n",
      "15:\tlearn: 0.5935591\ttotal: 71.2ms\tremaining: 374ms\n",
      "16:\tlearn: 0.5882733\ttotal: 76.3ms\tremaining: 373ms\n",
      "17:\tlearn: 0.5826597\ttotal: 80.6ms\tremaining: 367ms\n",
      "18:\tlearn: 0.5773981\ttotal: 85.3ms\tremaining: 364ms\n",
      "19:\tlearn: 0.5719758\ttotal: 90.5ms\tremaining: 362ms\n",
      "20:\tlearn: 0.5672685\ttotal: 94.6ms\tremaining: 356ms\n",
      "21:\tlearn: 0.5623358\ttotal: 99.3ms\tremaining: 352ms\n",
      "22:\tlearn: 0.5576493\ttotal: 104ms\tremaining: 347ms\n",
      "23:\tlearn: 0.5527182\ttotal: 109ms\tremaining: 345ms\n",
      "24:\tlearn: 0.5478730\ttotal: 115ms\tremaining: 345ms\n",
      "25:\tlearn: 0.5431274\ttotal: 119ms\tremaining: 340ms\n",
      "26:\tlearn: 0.5383125\ttotal: 124ms\tremaining: 336ms\n",
      "27:\tlearn: 0.5343913\ttotal: 129ms\tremaining: 331ms\n",
      "28:\tlearn: 0.5300821\ttotal: 134ms\tremaining: 327ms\n",
      "29:\tlearn: 0.5254641\ttotal: 138ms\tremaining: 321ms\n",
      "30:\tlearn: 0.5208681\ttotal: 142ms\tremaining: 316ms\n",
      "31:\tlearn: 0.5166142\ttotal: 147ms\tremaining: 313ms\n",
      "32:\tlearn: 0.5121180\ttotal: 152ms\tremaining: 309ms\n",
      "33:\tlearn: 0.5078855\ttotal: 157ms\tremaining: 304ms\n",
      "34:\tlearn: 0.5037091\ttotal: 161ms\tremaining: 299ms\n",
      "35:\tlearn: 0.4999302\ttotal: 167ms\tremaining: 296ms\n",
      "36:\tlearn: 0.4960440\ttotal: 171ms\tremaining: 291ms\n",
      "37:\tlearn: 0.4921651\ttotal: 175ms\tremaining: 286ms\n",
      "38:\tlearn: 0.4882816\ttotal: 181ms\tremaining: 283ms\n",
      "39:\tlearn: 0.4842878\ttotal: 185ms\tremaining: 278ms\n",
      "40:\tlearn: 0.4807318\ttotal: 189ms\tremaining: 272ms\n",
      "41:\tlearn: 0.4770616\ttotal: 192ms\tremaining: 266ms\n",
      "42:\tlearn: 0.4732362\ttotal: 198ms\tremaining: 263ms\n",
      "43:\tlearn: 0.4702025\ttotal: 202ms\tremaining: 257ms\n",
      "44:\tlearn: 0.4666287\ttotal: 207ms\tremaining: 252ms\n",
      "45:\tlearn: 0.4629100\ttotal: 213ms\tremaining: 250ms\n",
      "46:\tlearn: 0.4599090\ttotal: 219ms\tremaining: 247ms\n",
      "47:\tlearn: 0.4565795\ttotal: 224ms\tremaining: 242ms\n",
      "48:\tlearn: 0.4532014\ttotal: 231ms\tremaining: 240ms\n",
      "49:\tlearn: 0.4497400\ttotal: 235ms\tremaining: 235ms\n",
      "50:\tlearn: 0.4465870\ttotal: 239ms\tremaining: 230ms\n",
      "51:\tlearn: 0.4433592\ttotal: 244ms\tremaining: 226ms\n",
      "52:\tlearn: 0.4406095\ttotal: 249ms\tremaining: 221ms\n",
      "53:\tlearn: 0.4376320\ttotal: 253ms\tremaining: 215ms\n",
      "54:\tlearn: 0.4345586\ttotal: 257ms\tremaining: 211ms\n",
      "55:\tlearn: 0.4313721\ttotal: 263ms\tremaining: 207ms\n",
      "56:\tlearn: 0.4287193\ttotal: 267ms\tremaining: 202ms\n",
      "57:\tlearn: 0.4257476\ttotal: 272ms\tremaining: 197ms\n",
      "58:\tlearn: 0.4230792\ttotal: 277ms\tremaining: 193ms\n",
      "59:\tlearn: 0.4200198\ttotal: 281ms\tremaining: 188ms\n",
      "60:\tlearn: 0.4170376\ttotal: 286ms\tremaining: 183ms\n",
      "61:\tlearn: 0.4142040\ttotal: 290ms\tremaining: 178ms\n",
      "62:\tlearn: 0.4115163\ttotal: 296ms\tremaining: 174ms\n",
      "63:\tlearn: 0.4087470\ttotal: 300ms\tremaining: 169ms\n",
      "64:\tlearn: 0.4059975\ttotal: 304ms\tremaining: 164ms\n",
      "65:\tlearn: 0.4035605\ttotal: 309ms\tremaining: 159ms\n",
      "66:\tlearn: 0.4011150\ttotal: 313ms\tremaining: 154ms\n",
      "67:\tlearn: 0.3986887\ttotal: 318ms\tremaining: 150ms\n",
      "68:\tlearn: 0.3961762\ttotal: 322ms\tremaining: 145ms\n",
      "69:\tlearn: 0.3936391\ttotal: 328ms\tremaining: 141ms\n",
      "70:\tlearn: 0.3909661\ttotal: 333ms\tremaining: 136ms\n",
      "71:\tlearn: 0.3886895\ttotal: 337ms\tremaining: 131ms\n",
      "72:\tlearn: 0.3861380\ttotal: 342ms\tremaining: 127ms\n",
      "73:\tlearn: 0.3836032\ttotal: 347ms\tremaining: 122ms\n",
      "74:\tlearn: 0.3810925\ttotal: 351ms\tremaining: 117ms\n",
      "75:\tlearn: 0.3788114\ttotal: 355ms\tremaining: 112ms\n",
      "76:\tlearn: 0.3764424\ttotal: 361ms\tremaining: 108ms\n",
      "77:\tlearn: 0.3741795\ttotal: 365ms\tremaining: 103ms\n",
      "78:\tlearn: 0.3719892\ttotal: 370ms\tremaining: 98.3ms\n",
      "79:\tlearn: 0.3701115\ttotal: 375ms\tremaining: 93.8ms\n",
      "80:\tlearn: 0.3677999\ttotal: 380ms\tremaining: 89.1ms\n",
      "81:\tlearn: 0.3655193\ttotal: 384ms\tremaining: 84.3ms\n",
      "82:\tlearn: 0.3636836\ttotal: 387ms\tremaining: 79.3ms\n",
      "83:\tlearn: 0.3614844\ttotal: 393ms\tremaining: 74.8ms\n",
      "84:\tlearn: 0.3594901\ttotal: 398ms\tremaining: 70.2ms\n",
      "85:\tlearn: 0.3572662\ttotal: 402ms\tremaining: 65.4ms\n",
      "86:\tlearn: 0.3551492\ttotal: 408ms\tremaining: 60.9ms\n",
      "87:\tlearn: 0.3532407\ttotal: 413ms\tremaining: 56.3ms\n",
      "88:\tlearn: 0.3512816\ttotal: 417ms\tremaining: 51.5ms\n",
      "89:\tlearn: 0.3493179\ttotal: 424ms\tremaining: 47.1ms\n",
      "90:\tlearn: 0.3476042\ttotal: 430ms\tremaining: 42.5ms\n",
      "91:\tlearn: 0.3457966\ttotal: 435ms\tremaining: 37.9ms\n",
      "92:\tlearn: 0.3441081\ttotal: 444ms\tremaining: 33.4ms\n",
      "93:\tlearn: 0.3423355\ttotal: 449ms\tremaining: 28.6ms\n",
      "94:\tlearn: 0.3404427\ttotal: 455ms\tremaining: 23.9ms\n",
      "95:\tlearn: 0.3385059\ttotal: 460ms\tremaining: 19.2ms\n",
      "96:\tlearn: 0.3365830\ttotal: 464ms\tremaining: 14.4ms\n",
      "97:\tlearn: 0.3347452\ttotal: 472ms\tremaining: 9.63ms\n",
      "98:\tlearn: 0.3334780\ttotal: 475ms\tremaining: 4.79ms\n",
      "99:\tlearn: 0.3317041\ttotal: 480ms\tremaining: 0us\n",
      "0:\tlearn: 0.6856510\ttotal: 11.2ms\tremaining: 1.11s\n",
      "1:\tlearn: 0.6790456\ttotal: 20ms\tremaining: 979ms\n",
      "2:\tlearn: 0.6720841\ttotal: 26ms\tremaining: 840ms\n",
      "3:\tlearn: 0.6652998\ttotal: 33.1ms\tremaining: 795ms\n",
      "4:\tlearn: 0.6586608\ttotal: 38ms\tremaining: 721ms\n",
      "5:\tlearn: 0.6529225\ttotal: 43.2ms\tremaining: 676ms\n",
      "6:\tlearn: 0.6465123\ttotal: 49.7ms\tremaining: 661ms\n",
      "7:\tlearn: 0.6398011\ttotal: 55.6ms\tremaining: 640ms\n",
      "8:\tlearn: 0.6341366\ttotal: 61.8ms\tremaining: 625ms\n",
      "9:\tlearn: 0.6279626\ttotal: 68.3ms\tremaining: 614ms\n",
      "10:\tlearn: 0.6220999\ttotal: 73.2ms\tremaining: 592ms\n",
      "11:\tlearn: 0.6158578\ttotal: 78.6ms\tremaining: 577ms\n",
      "12:\tlearn: 0.6107436\ttotal: 84.9ms\tremaining: 568ms\n",
      "13:\tlearn: 0.6049014\ttotal: 90.1ms\tremaining: 553ms\n",
      "14:\tlearn: 0.5997512\ttotal: 95ms\tremaining: 538ms\n",
      "15:\tlearn: 0.5937952\ttotal: 101ms\tremaining: 529ms\n",
      "16:\tlearn: 0.5885278\ttotal: 105ms\tremaining: 515ms\n",
      "17:\tlearn: 0.5830109\ttotal: 110ms\tremaining: 502ms\n",
      "18:\tlearn: 0.5777217\ttotal: 116ms\tremaining: 493ms\n",
      "19:\tlearn: 0.5722526\ttotal: 120ms\tremaining: 481ms\n",
      "20:\tlearn: 0.5670664\ttotal: 125ms\tremaining: 469ms\n",
      "21:\tlearn: 0.5621854\ttotal: 130ms\tremaining: 462ms\n",
      "22:\tlearn: 0.5574143\ttotal: 135ms\tremaining: 451ms\n",
      "23:\tlearn: 0.5525312\ttotal: 139ms\tremaining: 441ms\n",
      "24:\tlearn: 0.5477576\ttotal: 144ms\tremaining: 432ms\n",
      "25:\tlearn: 0.5432677\ttotal: 149ms\tremaining: 424ms\n",
      "26:\tlearn: 0.5384292\ttotal: 153ms\tremaining: 414ms\n",
      "27:\tlearn: 0.5340587\ttotal: 158ms\tremaining: 406ms\n",
      "28:\tlearn: 0.5294662\ttotal: 163ms\tremaining: 399ms\n",
      "29:\tlearn: 0.5249802\ttotal: 167ms\tremaining: 390ms\n",
      "30:\tlearn: 0.5203829\ttotal: 172ms\tremaining: 382ms\n",
      "31:\tlearn: 0.5159029\ttotal: 177ms\tremaining: 375ms\n",
      "32:\tlearn: 0.5113965\ttotal: 182ms\tremaining: 369ms\n",
      "33:\tlearn: 0.5071618\ttotal: 186ms\tremaining: 362ms\n",
      "34:\tlearn: 0.5030117\ttotal: 191ms\tremaining: 355ms\n",
      "35:\tlearn: 0.4993045\ttotal: 197ms\tremaining: 350ms\n",
      "36:\tlearn: 0.4955115\ttotal: 202ms\tremaining: 344ms\n",
      "37:\tlearn: 0.4916759\ttotal: 207ms\tremaining: 337ms\n",
      "38:\tlearn: 0.4883102\ttotal: 212ms\tremaining: 332ms\n",
      "39:\tlearn: 0.4843972\ttotal: 217ms\tremaining: 326ms\n",
      "40:\tlearn: 0.4808334\ttotal: 223ms\tremaining: 320ms\n",
      "41:\tlearn: 0.4774018\ttotal: 226ms\tremaining: 312ms\n",
      "42:\tlearn: 0.4734976\ttotal: 232ms\tremaining: 307ms\n",
      "43:\tlearn: 0.4704612\ttotal: 238ms\tremaining: 302ms\n",
      "44:\tlearn: 0.4668718\ttotal: 245ms\tremaining: 299ms\n",
      "45:\tlearn: 0.4631041\ttotal: 250ms\tremaining: 293ms\n",
      "46:\tlearn: 0.4600820\ttotal: 254ms\tremaining: 287ms\n",
      "47:\tlearn: 0.4566777\ttotal: 259ms\tremaining: 281ms\n",
      "48:\tlearn: 0.4536438\ttotal: 264ms\tremaining: 275ms\n",
      "49:\tlearn: 0.4501911\ttotal: 268ms\tremaining: 268ms\n",
      "50:\tlearn: 0.4473426\ttotal: 273ms\tremaining: 262ms\n",
      "51:\tlearn: 0.4440315\ttotal: 278ms\tremaining: 256ms\n",
      "52:\tlearn: 0.4413430\ttotal: 282ms\tremaining: 250ms\n",
      "53:\tlearn: 0.4384536\ttotal: 287ms\tremaining: 244ms\n",
      "54:\tlearn: 0.4350962\ttotal: 292ms\tremaining: 239ms\n",
      "55:\tlearn: 0.4319056\ttotal: 296ms\tremaining: 233ms\n",
      "56:\tlearn: 0.4292997\ttotal: 301ms\tremaining: 227ms\n",
      "57:\tlearn: 0.4263484\ttotal: 305ms\tremaining: 221ms\n",
      "58:\tlearn: 0.4232201\ttotal: 310ms\tremaining: 215ms\n",
      "59:\tlearn: 0.4202215\ttotal: 314ms\tremaining: 209ms\n",
      "60:\tlearn: 0.4172084\ttotal: 318ms\tremaining: 204ms\n",
      "61:\tlearn: 0.4143454\ttotal: 323ms\tremaining: 198ms\n",
      "62:\tlearn: 0.4117043\ttotal: 328ms\tremaining: 193ms\n",
      "63:\tlearn: 0.4087560\ttotal: 332ms\tremaining: 187ms\n",
      "64:\tlearn: 0.4058892\ttotal: 336ms\tremaining: 181ms\n",
      "65:\tlearn: 0.4034995\ttotal: 342ms\tremaining: 176ms\n",
      "66:\tlearn: 0.4010761\ttotal: 346ms\tremaining: 171ms\n",
      "67:\tlearn: 0.3989819\ttotal: 351ms\tremaining: 165ms\n",
      "68:\tlearn: 0.3966480\ttotal: 356ms\tremaining: 160ms\n",
      "69:\tlearn: 0.3941768\ttotal: 361ms\tremaining: 155ms\n",
      "70:\tlearn: 0.3915551\ttotal: 365ms\tremaining: 149ms\n",
      "71:\tlearn: 0.3891472\ttotal: 369ms\tremaining: 144ms\n",
      "72:\tlearn: 0.3866565\ttotal: 374ms\tremaining: 138ms\n",
      "73:\tlearn: 0.3841167\ttotal: 379ms\tremaining: 133ms\n",
      "74:\tlearn: 0.3815754\ttotal: 384ms\tremaining: 128ms\n",
      "75:\tlearn: 0.3792973\ttotal: 389ms\tremaining: 123ms\n",
      "76:\tlearn: 0.3768858\ttotal: 394ms\tremaining: 118ms\n",
      "77:\tlearn: 0.3746292\ttotal: 399ms\tremaining: 112ms\n",
      "78:\tlearn: 0.3721875\ttotal: 404ms\tremaining: 107ms\n",
      "79:\tlearn: 0.3700366\ttotal: 409ms\tremaining: 102ms\n",
      "80:\tlearn: 0.3678436\ttotal: 413ms\tremaining: 96.8ms\n",
      "81:\tlearn: 0.3655672\ttotal: 419ms\tremaining: 92ms\n",
      "82:\tlearn: 0.3637761\ttotal: 424ms\tremaining: 86.8ms\n",
      "83:\tlearn: 0.3615814\ttotal: 430ms\tremaining: 82ms\n",
      "84:\tlearn: 0.3595117\ttotal: 439ms\tremaining: 77.4ms\n",
      "85:\tlearn: 0.3573053\ttotal: 443ms\tremaining: 72.1ms\n",
      "86:\tlearn: 0.3551816\ttotal: 449ms\tremaining: 67.1ms\n",
      "87:\tlearn: 0.3531889\ttotal: 455ms\tremaining: 62.1ms\n",
      "88:\tlearn: 0.3512717\ttotal: 460ms\tremaining: 56.8ms\n",
      "89:\tlearn: 0.3492752\ttotal: 466ms\tremaining: 51.7ms\n",
      "90:\tlearn: 0.3473559\ttotal: 471ms\tremaining: 46.6ms\n",
      "91:\tlearn: 0.3454140\ttotal: 476ms\tremaining: 41.4ms\n",
      "92:\tlearn: 0.3437763\ttotal: 481ms\tremaining: 36.2ms\n",
      "93:\tlearn: 0.3419443\ttotal: 486ms\tremaining: 31ms\n",
      "94:\tlearn: 0.3400469\ttotal: 491ms\tremaining: 25.8ms\n",
      "95:\tlearn: 0.3381437\ttotal: 496ms\tremaining: 20.7ms\n",
      "96:\tlearn: 0.3363003\ttotal: 502ms\tremaining: 15.5ms\n",
      "97:\tlearn: 0.3344767\ttotal: 507ms\tremaining: 10.3ms\n",
      "98:\tlearn: 0.3332312\ttotal: 509ms\tremaining: 5.14ms\n",
      "99:\tlearn: 0.3314325\ttotal: 514ms\tremaining: 0us\n",
      "0:\tlearn: 0.6863061\ttotal: 8.1ms\tremaining: 802ms\n",
      "1:\tlearn: 0.6795188\ttotal: 13.5ms\tremaining: 664ms\n",
      "2:\tlearn: 0.6724676\ttotal: 18.5ms\tremaining: 599ms\n",
      "3:\tlearn: 0.6656232\ttotal: 23.5ms\tremaining: 565ms\n",
      "4:\tlearn: 0.6587422\ttotal: 28.6ms\tremaining: 542ms\n",
      "5:\tlearn: 0.6526218\ttotal: 33.1ms\tremaining: 519ms\n",
      "6:\tlearn: 0.6459562\ttotal: 37.9ms\tremaining: 503ms\n",
      "7:\tlearn: 0.6393680\ttotal: 42.4ms\tremaining: 488ms\n",
      "8:\tlearn: 0.6336432\ttotal: 46.9ms\tremaining: 475ms\n",
      "9:\tlearn: 0.6278262\ttotal: 51.1ms\tremaining: 460ms\n",
      "10:\tlearn: 0.6219513\ttotal: 55.5ms\tremaining: 449ms\n",
      "11:\tlearn: 0.6157126\ttotal: 60ms\tremaining: 440ms\n",
      "12:\tlearn: 0.6105363\ttotal: 64.1ms\tremaining: 429ms\n",
      "13:\tlearn: 0.6045962\ttotal: 68.6ms\tremaining: 422ms\n",
      "14:\tlearn: 0.5992212\ttotal: 72.9ms\tremaining: 413ms\n",
      "15:\tlearn: 0.5932355\ttotal: 77.1ms\tremaining: 405ms\n",
      "16:\tlearn: 0.5877966\ttotal: 81.6ms\tremaining: 398ms\n",
      "17:\tlearn: 0.5821124\ttotal: 86ms\tremaining: 392ms\n",
      "18:\tlearn: 0.5767384\ttotal: 90.4ms\tremaining: 385ms\n",
      "19:\tlearn: 0.5713831\ttotal: 94.5ms\tremaining: 378ms\n",
      "20:\tlearn: 0.5660735\ttotal: 98.7ms\tremaining: 371ms\n",
      "21:\tlearn: 0.5610908\ttotal: 103ms\tremaining: 365ms\n",
      "22:\tlearn: 0.5563912\ttotal: 107ms\tremaining: 360ms\n",
      "23:\tlearn: 0.5516977\ttotal: 111ms\tremaining: 353ms\n",
      "24:\tlearn: 0.5468580\ttotal: 116ms\tremaining: 348ms\n",
      "25:\tlearn: 0.5421256\ttotal: 120ms\tremaining: 342ms\n",
      "26:\tlearn: 0.5374069\ttotal: 125ms\tremaining: 337ms\n",
      "27:\tlearn: 0.5334155\ttotal: 129ms\tremaining: 331ms\n",
      "28:\tlearn: 0.5289789\ttotal: 133ms\tremaining: 326ms\n",
      "29:\tlearn: 0.5245198\ttotal: 138ms\tremaining: 321ms\n",
      "30:\tlearn: 0.5198924\ttotal: 142ms\tremaining: 316ms\n",
      "31:\tlearn: 0.5158944\ttotal: 147ms\tremaining: 311ms\n",
      "32:\tlearn: 0.5113536\ttotal: 151ms\tremaining: 306ms\n",
      "33:\tlearn: 0.5070776\ttotal: 155ms\tremaining: 302ms\n",
      "34:\tlearn: 0.5028930\ttotal: 160ms\tremaining: 296ms\n",
      "35:\tlearn: 0.4990760\ttotal: 164ms\tremaining: 291ms\n",
      "36:\tlearn: 0.4951685\ttotal: 168ms\tremaining: 286ms\n",
      "37:\tlearn: 0.4916012\ttotal: 172ms\tremaining: 281ms\n",
      "38:\tlearn: 0.4876199\ttotal: 177ms\tremaining: 276ms\n",
      "39:\tlearn: 0.4836040\ttotal: 181ms\tremaining: 271ms\n",
      "40:\tlearn: 0.4800218\ttotal: 185ms\tremaining: 266ms\n",
      "41:\tlearn: 0.4765913\ttotal: 188ms\tremaining: 260ms\n",
      "42:\tlearn: 0.4727686\ttotal: 193ms\tremaining: 255ms\n",
      "43:\tlearn: 0.4697301\ttotal: 197ms\tremaining: 250ms\n",
      "44:\tlearn: 0.4661263\ttotal: 201ms\tremaining: 245ms\n",
      "45:\tlearn: 0.4624133\ttotal: 206ms\tremaining: 242ms\n",
      "46:\tlearn: 0.4594510\ttotal: 211ms\tremaining: 238ms\n",
      "47:\tlearn: 0.4564395\ttotal: 217ms\tremaining: 235ms\n",
      "48:\tlearn: 0.4529743\ttotal: 223ms\tremaining: 232ms\n",
      "49:\tlearn: 0.4494809\ttotal: 229ms\tremaining: 229ms\n",
      "50:\tlearn: 0.4462843\ttotal: 236ms\tremaining: 226ms\n",
      "51:\tlearn: 0.4430857\ttotal: 241ms\tremaining: 222ms\n",
      "52:\tlearn: 0.4403111\ttotal: 246ms\tremaining: 218ms\n",
      "53:\tlearn: 0.4372862\ttotal: 251ms\tremaining: 213ms\n",
      "54:\tlearn: 0.4339549\ttotal: 256ms\tremaining: 209ms\n",
      "55:\tlearn: 0.4308915\ttotal: 261ms\tremaining: 205ms\n",
      "56:\tlearn: 0.4278553\ttotal: 266ms\tremaining: 201ms\n",
      "57:\tlearn: 0.4248527\ttotal: 272ms\tremaining: 197ms\n",
      "58:\tlearn: 0.4221751\ttotal: 277ms\tremaining: 192ms\n",
      "59:\tlearn: 0.4192070\ttotal: 283ms\tremaining: 188ms\n",
      "60:\tlearn: 0.4162506\ttotal: 289ms\tremaining: 185ms\n",
      "61:\tlearn: 0.4133874\ttotal: 294ms\tremaining: 180ms\n",
      "62:\tlearn: 0.4106676\ttotal: 300ms\tremaining: 176ms\n",
      "63:\tlearn: 0.4078202\ttotal: 306ms\tremaining: 172ms\n",
      "64:\tlearn: 0.4051049\ttotal: 311ms\tremaining: 167ms\n",
      "65:\tlearn: 0.4026379\ttotal: 316ms\tremaining: 163ms\n",
      "66:\tlearn: 0.4001524\ttotal: 322ms\tremaining: 158ms\n",
      "67:\tlearn: 0.3975951\ttotal: 327ms\tremaining: 154ms\n",
      "68:\tlearn: 0.3950660\ttotal: 332ms\tremaining: 149ms\n",
      "69:\tlearn: 0.3926101\ttotal: 338ms\tremaining: 145ms\n",
      "70:\tlearn: 0.3899353\ttotal: 342ms\tremaining: 140ms\n",
      "71:\tlearn: 0.3873577\ttotal: 347ms\tremaining: 135ms\n",
      "72:\tlearn: 0.3847978\ttotal: 353ms\tremaining: 131ms\n",
      "73:\tlearn: 0.3824256\ttotal: 358ms\tremaining: 126ms\n",
      "74:\tlearn: 0.3801630\ttotal: 364ms\tremaining: 121ms\n",
      "75:\tlearn: 0.3778584\ttotal: 370ms\tremaining: 117ms\n",
      "76:\tlearn: 0.3754587\ttotal: 375ms\tremaining: 112ms\n",
      "77:\tlearn: 0.3731278\ttotal: 380ms\tremaining: 107ms\n",
      "78:\tlearn: 0.3709364\ttotal: 387ms\tremaining: 103ms\n",
      "79:\tlearn: 0.3690247\ttotal: 392ms\tremaining: 97.9ms\n",
      "80:\tlearn: 0.3667708\ttotal: 397ms\tremaining: 93.2ms\n",
      "81:\tlearn: 0.3646599\ttotal: 403ms\tremaining: 88.5ms\n",
      "82:\tlearn: 0.3624122\ttotal: 409ms\tremaining: 83.8ms\n",
      "83:\tlearn: 0.3601830\ttotal: 415ms\tremaining: 79.1ms\n",
      "84:\tlearn: 0.3581071\ttotal: 421ms\tremaining: 74.2ms\n",
      "85:\tlearn: 0.3560390\ttotal: 427ms\tremaining: 69.5ms\n",
      "86:\tlearn: 0.3539316\ttotal: 437ms\tremaining: 65.2ms\n",
      "87:\tlearn: 0.3520752\ttotal: 444ms\tremaining: 60.5ms\n",
      "88:\tlearn: 0.3499012\ttotal: 450ms\tremaining: 55.6ms\n",
      "89:\tlearn: 0.3478115\ttotal: 457ms\tremaining: 50.8ms\n",
      "90:\tlearn: 0.3459936\ttotal: 464ms\tremaining: 45.9ms\n",
      "91:\tlearn: 0.3439043\ttotal: 470ms\tremaining: 40.8ms\n",
      "92:\tlearn: 0.3419593\ttotal: 475ms\tremaining: 35.7ms\n",
      "93:\tlearn: 0.3401983\ttotal: 481ms\tremaining: 30.7ms\n",
      "94:\tlearn: 0.3382754\ttotal: 486ms\tremaining: 25.6ms\n",
      "95:\tlearn: 0.3367479\ttotal: 491ms\tremaining: 20.5ms\n",
      "96:\tlearn: 0.3351377\ttotal: 497ms\tremaining: 15.4ms\n",
      "97:\tlearn: 0.3333725\ttotal: 502ms\tremaining: 10.2ms\n",
      "98:\tlearn: 0.3315332\ttotal: 507ms\tremaining: 5.12ms\n",
      "99:\tlearn: 0.3298292\ttotal: 514ms\tremaining: 0us\n",
      "0:\tlearn: 0.6857899\ttotal: 8.5ms\tremaining: 841ms\n",
      "1:\tlearn: 0.6791428\ttotal: 13.8ms\tremaining: 678ms\n",
      "2:\tlearn: 0.6720080\ttotal: 18.8ms\tremaining: 606ms\n",
      "3:\tlearn: 0.6653350\ttotal: 23.1ms\tremaining: 553ms\n",
      "4:\tlearn: 0.6588706\ttotal: 27.5ms\tremaining: 523ms\n",
      "5:\tlearn: 0.6531373\ttotal: 32.9ms\tremaining: 515ms\n",
      "6:\tlearn: 0.6466650\ttotal: 37.2ms\tremaining: 494ms\n",
      "7:\tlearn: 0.6400731\ttotal: 41.9ms\tremaining: 482ms\n",
      "8:\tlearn: 0.6343877\ttotal: 47.3ms\tremaining: 478ms\n",
      "9:\tlearn: 0.6282140\ttotal: 51.9ms\tremaining: 467ms\n",
      "10:\tlearn: 0.6223383\ttotal: 56ms\tremaining: 453ms\n",
      "11:\tlearn: 0.6161583\ttotal: 60.2ms\tremaining: 442ms\n",
      "12:\tlearn: 0.6108887\ttotal: 66.3ms\tremaining: 444ms\n",
      "13:\tlearn: 0.6050915\ttotal: 70.8ms\tremaining: 435ms\n",
      "14:\tlearn: 0.5999336\ttotal: 74.9ms\tremaining: 424ms\n",
      "15:\tlearn: 0.5940136\ttotal: 80.6ms\tremaining: 423ms\n",
      "16:\tlearn: 0.5885119\ttotal: 84.8ms\tremaining: 414ms\n",
      "17:\tlearn: 0.5828665\ttotal: 89.1ms\tremaining: 406ms\n",
      "18:\tlearn: 0.5776031\ttotal: 93.8ms\tremaining: 400ms\n",
      "19:\tlearn: 0.5724180\ttotal: 98.8ms\tremaining: 395ms\n",
      "20:\tlearn: 0.5671503\ttotal: 103ms\tremaining: 387ms\n",
      "21:\tlearn: 0.5623267\ttotal: 107ms\tremaining: 380ms\n",
      "22:\tlearn: 0.5573761\ttotal: 113ms\tremaining: 378ms\n",
      "23:\tlearn: 0.5525146\ttotal: 117ms\tremaining: 371ms\n",
      "24:\tlearn: 0.5477932\ttotal: 121ms\tremaining: 364ms\n",
      "25:\tlearn: 0.5431414\ttotal: 127ms\tremaining: 362ms\n",
      "26:\tlearn: 0.5383322\ttotal: 131ms\tremaining: 355ms\n",
      "27:\tlearn: 0.5344755\ttotal: 136ms\tremaining: 349ms\n",
      "28:\tlearn: 0.5299014\ttotal: 140ms\tremaining: 343ms\n",
      "29:\tlearn: 0.5254340\ttotal: 146ms\tremaining: 341ms\n",
      "30:\tlearn: 0.5209013\ttotal: 151ms\tremaining: 336ms\n",
      "31:\tlearn: 0.5168032\ttotal: 155ms\tremaining: 330ms\n",
      "32:\tlearn: 0.5123846\ttotal: 161ms\tremaining: 326ms\n",
      "33:\tlearn: 0.5081906\ttotal: 165ms\tremaining: 320ms\n",
      "34:\tlearn: 0.5040722\ttotal: 169ms\tremaining: 314ms\n",
      "35:\tlearn: 0.4999977\ttotal: 173ms\tremaining: 308ms\n",
      "36:\tlearn: 0.4961199\ttotal: 178ms\tremaining: 303ms\n",
      "37:\tlearn: 0.4922772\ttotal: 182ms\tremaining: 297ms\n",
      "38:\tlearn: 0.4888709\ttotal: 187ms\tremaining: 292ms\n",
      "39:\tlearn: 0.4849291\ttotal: 192ms\tremaining: 289ms\n",
      "40:\tlearn: 0.4814450\ttotal: 197ms\tremaining: 283ms\n",
      "41:\tlearn: 0.4778069\ttotal: 201ms\tremaining: 277ms\n",
      "42:\tlearn: 0.4744373\ttotal: 207ms\tremaining: 275ms\n",
      "43:\tlearn: 0.4708159\ttotal: 212ms\tremaining: 270ms\n",
      "44:\tlearn: 0.4673735\ttotal: 217ms\tremaining: 266ms\n",
      "45:\tlearn: 0.4637916\ttotal: 223ms\tremaining: 262ms\n",
      "46:\tlearn: 0.4606367\ttotal: 228ms\tremaining: 257ms\n",
      "47:\tlearn: 0.4571561\ttotal: 234ms\tremaining: 254ms\n",
      "48:\tlearn: 0.4538246\ttotal: 239ms\tremaining: 248ms\n",
      "49:\tlearn: 0.4506466\ttotal: 243ms\tremaining: 243ms\n",
      "50:\tlearn: 0.4472531\ttotal: 248ms\tremaining: 238ms\n",
      "51:\tlearn: 0.4439492\ttotal: 252ms\tremaining: 233ms\n",
      "52:\tlearn: 0.4406240\ttotal: 257ms\tremaining: 228ms\n",
      "53:\tlearn: 0.4374332\ttotal: 262ms\tremaining: 223ms\n",
      "54:\tlearn: 0.4343424\ttotal: 266ms\tremaining: 218ms\n",
      "55:\tlearn: 0.4312649\ttotal: 270ms\tremaining: 212ms\n",
      "56:\tlearn: 0.4283716\ttotal: 276ms\tremaining: 208ms\n",
      "57:\tlearn: 0.4255526\ttotal: 280ms\tremaining: 203ms\n",
      "58:\tlearn: 0.4224781\ttotal: 285ms\tremaining: 198ms\n",
      "59:\tlearn: 0.4194827\ttotal: 290ms\tremaining: 193ms\n",
      "60:\tlearn: 0.4167239\ttotal: 295ms\tremaining: 189ms\n",
      "61:\tlearn: 0.4139874\ttotal: 300ms\tremaining: 184ms\n",
      "62:\tlearn: 0.4111416\ttotal: 305ms\tremaining: 179ms\n",
      "63:\tlearn: 0.4083176\ttotal: 310ms\tremaining: 174ms\n",
      "64:\tlearn: 0.4056602\ttotal: 314ms\tremaining: 169ms\n",
      "65:\tlearn: 0.4029992\ttotal: 318ms\tremaining: 164ms\n",
      "66:\tlearn: 0.4007609\ttotal: 326ms\tremaining: 160ms\n",
      "67:\tlearn: 0.3983738\ttotal: 330ms\tremaining: 155ms\n",
      "68:\tlearn: 0.3956618\ttotal: 335ms\tremaining: 150ms\n",
      "69:\tlearn: 0.3931235\ttotal: 341ms\tremaining: 146ms\n",
      "70:\tlearn: 0.3909573\ttotal: 345ms\tremaining: 141ms\n",
      "71:\tlearn: 0.3885120\ttotal: 349ms\tremaining: 136ms\n",
      "72:\tlearn: 0.3864124\ttotal: 355ms\tremaining: 131ms\n",
      "73:\tlearn: 0.3842285\ttotal: 360ms\tremaining: 126ms\n",
      "74:\tlearn: 0.3818524\ttotal: 364ms\tremaining: 121ms\n",
      "75:\tlearn: 0.3796946\ttotal: 369ms\tremaining: 116ms\n",
      "76:\tlearn: 0.3774386\ttotal: 374ms\tremaining: 112ms\n",
      "77:\tlearn: 0.3751382\ttotal: 378ms\tremaining: 107ms\n",
      "78:\tlearn: 0.3730477\ttotal: 382ms\tremaining: 102ms\n",
      "79:\tlearn: 0.3708301\ttotal: 388ms\tremaining: 96.9ms\n",
      "80:\tlearn: 0.3685873\ttotal: 393ms\tremaining: 92.2ms\n",
      "81:\tlearn: 0.3664817\ttotal: 397ms\tremaining: 87.2ms\n",
      "82:\tlearn: 0.3644827\ttotal: 404ms\tremaining: 82.7ms\n",
      "83:\tlearn: 0.3622605\ttotal: 408ms\tremaining: 77.8ms\n",
      "84:\tlearn: 0.3604264\ttotal: 412ms\tremaining: 72.8ms\n",
      "85:\tlearn: 0.3584599\ttotal: 418ms\tremaining: 68.1ms\n",
      "86:\tlearn: 0.3568011\ttotal: 424ms\tremaining: 63.3ms\n",
      "87:\tlearn: 0.3547755\ttotal: 429ms\tremaining: 58.5ms\n",
      "88:\tlearn: 0.3531336\ttotal: 435ms\tremaining: 53.7ms\n",
      "89:\tlearn: 0.3511973\ttotal: 440ms\tremaining: 48.9ms\n",
      "90:\tlearn: 0.3492826\ttotal: 447ms\tremaining: 44.2ms\n",
      "91:\tlearn: 0.3474371\ttotal: 453ms\tremaining: 39.4ms\n",
      "92:\tlearn: 0.3453559\ttotal: 457ms\tremaining: 34.4ms\n",
      "93:\tlearn: 0.3434628\ttotal: 462ms\tremaining: 29.5ms\n",
      "94:\tlearn: 0.3415452\ttotal: 468ms\tremaining: 24.6ms\n",
      "95:\tlearn: 0.3397426\ttotal: 472ms\tremaining: 19.7ms\n",
      "96:\tlearn: 0.3378339\ttotal: 476ms\tremaining: 14.7ms\n",
      "97:\tlearn: 0.3359672\ttotal: 481ms\tremaining: 9.82ms\n",
      "98:\tlearn: 0.3341638\ttotal: 486ms\tremaining: 4.91ms\n",
      "99:\tlearn: 0.3325154\ttotal: 491ms\tremaining: 0us\n",
      "0:\tlearn: 0.6857915\ttotal: 5.82ms\tremaining: 576ms\n",
      "1:\tlearn: 0.6790213\ttotal: 11.8ms\tremaining: 580ms\n",
      "2:\tlearn: 0.6722969\ttotal: 17.1ms\tremaining: 552ms\n",
      "3:\tlearn: 0.6654423\ttotal: 25ms\tremaining: 600ms\n",
      "4:\tlearn: 0.6584480\ttotal: 32.7ms\tremaining: 622ms\n",
      "5:\tlearn: 0.6522293\ttotal: 37.2ms\tremaining: 582ms\n",
      "6:\tlearn: 0.6455951\ttotal: 41.7ms\tremaining: 554ms\n",
      "7:\tlearn: 0.6393429\ttotal: 48ms\tremaining: 552ms\n",
      "8:\tlearn: 0.6335504\ttotal: 53ms\tremaining: 536ms\n",
      "9:\tlearn: 0.6276526\ttotal: 57ms\tremaining: 513ms\n",
      "10:\tlearn: 0.6215605\ttotal: 62.6ms\tremaining: 507ms\n",
      "11:\tlearn: 0.6158380\ttotal: 67.1ms\tremaining: 492ms\n",
      "12:\tlearn: 0.6104594\ttotal: 71.2ms\tremaining: 477ms\n",
      "13:\tlearn: 0.6044499\ttotal: 76ms\tremaining: 467ms\n",
      "14:\tlearn: 0.5989903\ttotal: 80.9ms\tremaining: 458ms\n",
      "15:\tlearn: 0.5932090\ttotal: 85.1ms\tremaining: 447ms\n",
      "16:\tlearn: 0.5875372\ttotal: 89.3ms\tremaining: 436ms\n",
      "17:\tlearn: 0.5823868\ttotal: 94.8ms\tremaining: 432ms\n",
      "18:\tlearn: 0.5771149\ttotal: 99.1ms\tremaining: 423ms\n",
      "19:\tlearn: 0.5719344\ttotal: 103ms\tremaining: 413ms\n",
      "20:\tlearn: 0.5670328\ttotal: 108ms\tremaining: 406ms\n",
      "21:\tlearn: 0.5620997\ttotal: 113ms\tremaining: 400ms\n",
      "22:\tlearn: 0.5569912\ttotal: 117ms\tremaining: 392ms\n",
      "23:\tlearn: 0.5519781\ttotal: 121ms\tremaining: 384ms\n",
      "24:\tlearn: 0.5472288\ttotal: 126ms\tremaining: 379ms\n",
      "25:\tlearn: 0.5422918\ttotal: 131ms\tremaining: 373ms\n",
      "26:\tlearn: 0.5377593\ttotal: 135ms\tremaining: 366ms\n",
      "27:\tlearn: 0.5336116\ttotal: 140ms\tremaining: 360ms\n",
      "28:\tlearn: 0.5292892\ttotal: 145ms\tremaining: 355ms\n",
      "29:\tlearn: 0.5246505\ttotal: 150ms\tremaining: 350ms\n",
      "30:\tlearn: 0.5203545\ttotal: 154ms\tremaining: 343ms\n",
      "31:\tlearn: 0.5160337\ttotal: 160ms\tremaining: 340ms\n",
      "32:\tlearn: 0.5115459\ttotal: 164ms\tremaining: 333ms\n",
      "33:\tlearn: 0.5072831\ttotal: 169ms\tremaining: 327ms\n",
      "34:\tlearn: 0.5032538\ttotal: 174ms\tremaining: 322ms\n",
      "35:\tlearn: 0.4993795\ttotal: 178ms\tremaining: 317ms\n",
      "36:\tlearn: 0.4952208\ttotal: 183ms\tremaining: 311ms\n",
      "37:\tlearn: 0.4911010\ttotal: 187ms\tremaining: 305ms\n",
      "38:\tlearn: 0.4869811\ttotal: 192ms\tremaining: 300ms\n",
      "39:\tlearn: 0.4830018\ttotal: 196ms\tremaining: 294ms\n",
      "40:\tlearn: 0.4793320\ttotal: 200ms\tremaining: 288ms\n",
      "41:\tlearn: 0.4759015\ttotal: 204ms\tremaining: 281ms\n",
      "42:\tlearn: 0.4720907\ttotal: 208ms\tremaining: 276ms\n",
      "43:\tlearn: 0.4689181\ttotal: 213ms\tremaining: 272ms\n",
      "44:\tlearn: 0.4653537\ttotal: 219ms\tremaining: 267ms\n",
      "45:\tlearn: 0.4617080\ttotal: 224ms\tremaining: 263ms\n",
      "46:\tlearn: 0.4582737\ttotal: 229ms\tremaining: 259ms\n",
      "47:\tlearn: 0.4547873\ttotal: 235ms\tremaining: 254ms\n",
      "48:\tlearn: 0.4517206\ttotal: 240ms\tremaining: 250ms\n",
      "49:\tlearn: 0.4484008\ttotal: 247ms\tremaining: 247ms\n",
      "50:\tlearn: 0.4453722\ttotal: 251ms\tremaining: 241ms\n",
      "51:\tlearn: 0.4420273\ttotal: 257ms\tremaining: 237ms\n",
      "52:\tlearn: 0.4390960\ttotal: 261ms\tremaining: 231ms\n",
      "53:\tlearn: 0.4363399\ttotal: 265ms\tremaining: 226ms\n",
      "54:\tlearn: 0.4329287\ttotal: 270ms\tremaining: 221ms\n",
      "55:\tlearn: 0.4297202\ttotal: 276ms\tremaining: 217ms\n",
      "56:\tlearn: 0.4268422\ttotal: 280ms\tremaining: 211ms\n",
      "57:\tlearn: 0.4239618\ttotal: 284ms\tremaining: 206ms\n",
      "58:\tlearn: 0.4211619\ttotal: 291ms\tremaining: 202ms\n",
      "59:\tlearn: 0.4180911\ttotal: 295ms\tremaining: 197ms\n",
      "60:\tlearn: 0.4151541\ttotal: 299ms\tremaining: 191ms\n",
      "61:\tlearn: 0.4123819\ttotal: 305ms\tremaining: 187ms\n",
      "62:\tlearn: 0.4095865\ttotal: 310ms\tremaining: 182ms\n",
      "63:\tlearn: 0.4066106\ttotal: 314ms\tremaining: 176ms\n",
      "64:\tlearn: 0.4038474\ttotal: 319ms\tremaining: 172ms\n",
      "65:\tlearn: 0.4013260\ttotal: 324ms\tremaining: 167ms\n",
      "66:\tlearn: 0.3989312\ttotal: 328ms\tremaining: 161ms\n",
      "67:\tlearn: 0.3963789\ttotal: 333ms\tremaining: 156ms\n",
      "68:\tlearn: 0.3938949\ttotal: 338ms\tremaining: 152ms\n",
      "69:\tlearn: 0.3913689\ttotal: 343ms\tremaining: 147ms\n",
      "70:\tlearn: 0.3888251\ttotal: 347ms\tremaining: 142ms\n",
      "71:\tlearn: 0.3865189\ttotal: 352ms\tremaining: 137ms\n",
      "72:\tlearn: 0.3838856\ttotal: 357ms\tremaining: 132ms\n",
      "73:\tlearn: 0.3813677\ttotal: 361ms\tremaining: 127ms\n",
      "74:\tlearn: 0.3790492\ttotal: 366ms\tremaining: 122ms\n",
      "75:\tlearn: 0.3767171\ttotal: 372ms\tremaining: 117ms\n",
      "76:\tlearn: 0.3743050\ttotal: 376ms\tremaining: 112ms\n",
      "77:\tlearn: 0.3719045\ttotal: 381ms\tremaining: 107ms\n",
      "78:\tlearn: 0.3700339\ttotal: 386ms\tremaining: 102ms\n",
      "79:\tlearn: 0.3676477\ttotal: 390ms\tremaining: 97.4ms\n",
      "80:\tlearn: 0.3653254\ttotal: 394ms\tremaining: 92.5ms\n",
      "81:\tlearn: 0.3631474\ttotal: 399ms\tremaining: 87.7ms\n",
      "82:\tlearn: 0.3610861\ttotal: 404ms\tremaining: 82.7ms\n",
      "83:\tlearn: 0.3587581\ttotal: 408ms\tremaining: 77.8ms\n",
      "84:\tlearn: 0.3566191\ttotal: 413ms\tremaining: 72.9ms\n",
      "85:\tlearn: 0.3545571\ttotal: 418ms\tremaining: 68.1ms\n",
      "86:\tlearn: 0.3528876\ttotal: 420ms\tremaining: 62.8ms\n",
      "87:\tlearn: 0.3508280\ttotal: 426ms\tremaining: 58ms\n",
      "88:\tlearn: 0.3487984\ttotal: 431ms\tremaining: 53.3ms\n",
      "89:\tlearn: 0.3468134\ttotal: 436ms\tremaining: 48.5ms\n",
      "90:\tlearn: 0.3446898\ttotal: 441ms\tremaining: 43.6ms\n",
      "91:\tlearn: 0.3426446\ttotal: 446ms\tremaining: 38.8ms\n",
      "92:\tlearn: 0.3407070\ttotal: 452ms\tremaining: 34ms\n",
      "93:\tlearn: 0.3386430\ttotal: 458ms\tremaining: 29.2ms\n",
      "94:\tlearn: 0.3367212\ttotal: 462ms\tremaining: 24.3ms\n",
      "95:\tlearn: 0.3350719\ttotal: 467ms\tremaining: 19.5ms\n",
      "96:\tlearn: 0.3336361\ttotal: 469ms\tremaining: 14.5ms\n",
      "97:\tlearn: 0.3319487\ttotal: 473ms\tremaining: 9.66ms\n",
      "98:\tlearn: 0.3301000\ttotal: 478ms\tremaining: 4.82ms\n",
      "99:\tlearn: 0.3283397\ttotal: 483ms\tremaining: 0us\n"
     ]
    },
    {
     "data": {
      "text/plain": [
       "0.4420252419884446"
      ]
     },
     "execution_count": 146,
     "metadata": {},
     "output_type": "execute_result"
    }
   ],
   "source": [
    "cross_val_score(clf, x_test, y_test, scoring = 'f1', cv=5).mean()"
   ]
  },
  {
   "cell_type": "code",
   "execution_count": 60,
   "metadata": {
    "tags": []
   },
   "outputs": [
    {
     "ename": "NameError",
     "evalue": "name 'cross_val_score' is not defined",
     "output_type": "error",
     "traceback": [
      "\u001b[1;31m---------------------------------------------------------------------------\u001b[0m",
      "\u001b[1;31mNameError\u001b[0m                                 Traceback (most recent call last)",
      "Cell \u001b[1;32mIn[60], line 2\u001b[0m\n\u001b[0;32m      1\u001b[0m \u001b[38;5;66;03m# Новый тест\u001b[39;00m\n\u001b[1;32m----> 2\u001b[0m \u001b[43mcross_val_score\u001b[49m(clf, X_test_1, y_test_1, scoring \u001b[38;5;241m=\u001b[39m \u001b[38;5;124m'\u001b[39m\u001b[38;5;124mf1\u001b[39m\u001b[38;5;124m'\u001b[39m, cv\u001b[38;5;241m=\u001b[39m\u001b[38;5;241m5\u001b[39m)\u001b[38;5;241m.\u001b[39mmean()\n",
      "\u001b[1;31mNameError\u001b[0m: name 'cross_val_score' is not defined"
     ]
    }
   ],
   "source": [
    "# Новый тест\n",
    "cross_val_score(clf, X_test_1, y_test_1, scoring = 'f1', cv=5).mean()"
   ]
  },
  {
   "cell_type": "code",
   "execution_count": 147,
   "metadata": {
    "colab": {
     "base_uri": "https://localhost:8080/",
     "height": 499
    },
    "id": "SfAcIhg0fRE_",
    "outputId": "5206cba1-beb5-4364-fd30-80e3fa1a3ff7",
    "tags": []
   },
   "outputs": [
    {
     "data": {
      "image/png": "[encoded data removed]",
      "text/plain": [
       "<Figure size 1200x1200 with 2 Axes>"
      ]
     },
     "metadata": {},
     "output_type": "display_data"
    }
   ],
   "source": [
    "from sklearn.metrics import confusion_matrix\n",
    "import seaborn as sns\n",
    "import matplotlib.pyplot as plt\n",
    "\n",
    "# Генерация предсказаний вашей модели для тестового набора данных\n",
    "y_pred = clf.predict(x_test)\n",
    "\n",
    "# Создание матрицы ошибок\n",
    "confusion = confusion_matrix(y_test, y_pred)\n",
    "\n",
    "# Визуализация матрицы ошибок с использованием библиотеки Seaborn\n",
    "plt.figure(figsize=(12, 12))\n",
    "sns.heatmap(confusion, annot=True, fmt=\"d\", cmap=\"Blues\", square=True, xticklabels=True, yticklabels=True)\n",
    "plt.xlabel('Predicted')\n",
    "plt.ylabel('Actual')\n",
    "plt.title('Confusion Matrix')\n",
    "plt.show()"
   ]
  },
  {
   "cell_type": "code",
   "execution_count": 148,
   "metadata": {
    "colab": {
     "base_uri": "https://localhost:8080/"
    },
    "id": "PrOKHdc4g3aS",
    "outputId": "1dd56fdf-2c0b-46f5-86da-910e9e72df5b",
    "tags": []
   },
   "outputs": [
    {
     "name": "stdout",
     "output_type": "stream",
     "text": [
      "Точность: 0.02\n",
      "Полнота: 0.00\n"
     ]
    }
   ],
   "source": [
    "from sklearn.metrics import precision_score, recall_score\n",
    "\n",
    "# Предсказанные метки классов вашей модели для тестового набора данных\n",
    "y_pred = clf.predict(x_test)\n",
    "\n",
    "# Вычисление точности\n",
    "precision = precision_score(y_test, y_pred)\n",
    "\n",
    "# Вычисление полноты\n",
    "recall = recall_score(y_test, y_pred)\n",
    "\n",
    "print(\"Точность: {:.2f}\".format(precision))\n",
    "print(\"Полнота: {:.2f}\".format(recall))"
   ]
  },
  {
   "cell_type": "code",
   "execution_count": 53,
   "metadata": {
    "tags": []
   },
   "outputs": [
    {
     "data": {
      "text/html": [
       "<div>\n",
       "<style scoped>\n",
       "    .dataframe tbody tr th:only-of-type {\n",
       "        vertical-align: middle;\n",
       "    }\n",
       "\n",
       "    .dataframe tbody tr th {\n",
       "        vertical-align: top;\n",
       "    }\n",
       "\n",
       "    .dataframe thead th {\n",
       "        text-align: right;\n",
       "    }\n",
       "</style>\n",
       "<table border=\"1\" class=\"dataframe\">\n",
       "  <thead>\n",
       "    <tr style=\"text-align: right;\">\n",
       "      <th></th>\n",
       "      <th>wagnum</th>\n",
       "      <th>srok_sl</th>\n",
       "      <th>cnsi_probeg_dr</th>\n",
       "      <th>cnsi_probeg_kr</th>\n",
       "      <th>ost_prob</th>\n",
       "      <th>mean_run</th>\n",
       "      <th>was_repair_in_prev_month</th>\n",
       "      <th>kod_vrab</th>\n",
       "      <th>date_pl_rem</th>\n",
       "      <th>day_run</th>\n",
       "      <th>current_date</th>\n",
       "      <th>date_diff_srk_sl</th>\n",
       "      <th>date_diff_pl_rem</th>\n",
       "      <th>prob_end_month</th>\n",
       "    </tr>\n",
       "  </thead>\n",
       "  <tbody>\n",
       "    <tr>\n",
       "      <th>0</th>\n",
       "      <td>33361</td>\n",
       "      <td>2033-03-01</td>\n",
       "      <td>110</td>\n",
       "      <td>160</td>\n",
       "      <td>153113</td>\n",
       "      <td>951.45098</td>\n",
       "      <td>1.0</td>\n",
       "      <td>3.0</td>\n",
       "      <td>2023-02-17</td>\n",
       "      <td>407.150327</td>\n",
       "      <td>2023-01-01</td>\n",
       "      <td>3712 days</td>\n",
       "      <td>47 days</td>\n",
       "      <td>140898.490196</td>\n",
       "    </tr>\n",
       "    <tr>\n",
       "      <th>1</th>\n",
       "      <td>33364</td>\n",
       "      <td>2031-04-12</td>\n",
       "      <td>110</td>\n",
       "      <td>160</td>\n",
       "      <td>157426</td>\n",
       "      <td>786.424837</td>\n",
       "      <td>1.0</td>\n",
       "      <td>2.0</td>\n",
       "      <td>2023-10-03</td>\n",
       "      <td>352.141612</td>\n",
       "      <td>2023-01-01</td>\n",
       "      <td>3023 days</td>\n",
       "      <td>275 days</td>\n",
       "      <td>146861.751634</td>\n",
       "    </tr>\n",
       "    <tr>\n",
       "      <th>2</th>\n",
       "      <td>33366</td>\n",
       "      <td>2032-01-21</td>\n",
       "      <td>110</td>\n",
       "      <td>160</td>\n",
       "      <td>159748</td>\n",
       "      <td>977.163399</td>\n",
       "      <td>1.0</td>\n",
       "      <td>2.0</td>\n",
       "      <td>2023-04-03</td>\n",
       "      <td>415.721133</td>\n",
       "      <td>2023-01-01</td>\n",
       "      <td>3307 days</td>\n",
       "      <td>92 days</td>\n",
       "      <td>147276.366013</td>\n",
       "    </tr>\n",
       "    <tr>\n",
       "      <th>3</th>\n",
       "      <td>33358</td>\n",
       "      <td>2032-11-30</td>\n",
       "      <td>110</td>\n",
       "      <td>160</td>\n",
       "      <td>28597</td>\n",
       "      <td>86.470588</td>\n",
       "      <td>0.0</td>\n",
       "      <td>2.0</td>\n",
       "      <td>2024-02-23</td>\n",
       "      <td>118.823529</td>\n",
       "      <td>2023-01-01</td>\n",
       "      <td>3621 days</td>\n",
       "      <td>418 days</td>\n",
       "      <td>25032.294118</td>\n",
       "    </tr>\n",
       "    <tr>\n",
       "      <th>4</th>\n",
       "      <td>33349</td>\n",
       "      <td>2033-12-04</td>\n",
       "      <td>110</td>\n",
       "      <td>160</td>\n",
       "      <td>150043</td>\n",
       "      <td>943.27451</td>\n",
       "      <td>1.0</td>\n",
       "      <td>0.0</td>\n",
       "      <td>2023-07-06</td>\n",
       "      <td>404.424837</td>\n",
       "      <td>2023-01-01</td>\n",
       "      <td>3990 days</td>\n",
       "      <td>186 days</td>\n",
       "      <td>137910.254902</td>\n",
       "    </tr>\n",
       "  </tbody>\n",
       "</table>\n",
       "</div>"
      ],
      "text/plain": [
       "   wagnum    srok_sl  cnsi_probeg_dr  cnsi_probeg_kr  ost_prob    mean_run  \\\n",
       "0   33361 2033-03-01             110             160    153113   951.45098   \n",
       "1   33364 2031-04-12             110             160    157426  786.424837   \n",
       "2   33366 2032-01-21             110             160    159748  977.163399   \n",
       "3   33358 2032-11-30             110             160     28597   86.470588   \n",
       "4   33349 2033-12-04             110             160    150043   943.27451   \n",
       "\n",
       "   was_repair_in_prev_month  kod_vrab date_pl_rem     day_run current_date  \\\n",
       "0                       1.0       3.0  2023-02-17  407.150327   2023-01-01   \n",
       "1                       1.0       2.0  2023-10-03  352.141612   2023-01-01   \n",
       "2                       1.0       2.0  2023-04-03  415.721133   2023-01-01   \n",
       "3                       0.0       2.0  2024-02-23  118.823529   2023-01-01   \n",
       "4                       1.0       0.0  2023-07-06  404.424837   2023-01-01   \n",
       "\n",
       "  date_diff_srk_sl date_diff_pl_rem  prob_end_month  \n",
       "0        3712 days          47 days   140898.490196  \n",
       "1        3023 days         275 days   146861.751634  \n",
       "2        3307 days          92 days   147276.366013  \n",
       "3        3621 days         418 days    25032.294118  \n",
       "4        3990 days         186 days   137910.254902  "
      ]
     },
     "execution_count": 53,
     "metadata": {},
     "output_type": "execute_result"
    }
   ],
   "source": [
    "x_test.head()"
   ]
  },
  {
   "cell_type": "code",
   "execution_count": 59,
   "metadata": {
    "tags": []
   },
   "outputs": [
    {
     "data": {
      "text/plain": [
       "0     0\n",
       "1     0\n",
       "2     0\n",
       "3     0\n",
       "4     0\n",
       "5     0\n",
       "6     0\n",
       "7     0\n",
       "8     0\n",
       "9     0\n",
       "10    0\n",
       "11    0\n",
       "12    1\n",
       "13    0\n",
       "14    0\n",
       "Name: target_month, dtype: Int64"
      ]
     },
     "execution_count": 59,
     "metadata": {},
     "output_type": "execute_result"
    }
   ],
   "source": [
    "y_test.head(15)"
   ]
  },
  {
   "cell_type": "code",
   "execution_count": 149,
   "metadata": {
    "colab": {
     "base_uri": "https://localhost:8080/",
     "height": 581
    },
    "id": "8XfXpZT2braB",
    "outputId": "d63b662c-4c77-42c4-c4a3-cc1c19c08c47",
    "tags": []
   },
   "outputs": [
    {
     "data": {
      "image/png": "[encoded data removed]",
      "text/plain": [
       "<Figure size 1000x600 with 1 Axes>"
      ]
     },
     "metadata": {},
     "output_type": "display_data"
    },
    {
     "name": "stdout",
     "output_type": "stream",
     "text": [
      "Лучший порог: 0.0\n"
     ]
    }
   ],
   "source": [
    "y_pred1 = clf.predict_proba(x_test)[:, 1]\n",
    "y_true = y_test\n",
    "\n",
    "thresholds = np.linspace(0, 1, 50)  # Здесь используется 100 равномерно распределенных порогов от 0 до 1\n",
    "\n",
    "f1_scores = []\n",
    "threshold_values = []\n",
    "\n",
    "# Перебор порогов\n",
    "for threshold in thresholds:\n",
    "    y_pred_binary_plot = (y_pred1 > threshold).astype(int)\n",
    "    f1 = f1_score(y_true, y_pred_binary_plot)\n",
    "    f1_scores.append(f1)\n",
    "    threshold_values.append(threshold)\n",
    "\n",
    "# Постройте график\n",
    "plt.figure(figsize=(10, 6))\n",
    "plt.plot(threshold_values, f1_scores, marker='o', linestyle='-')\n",
    "plt.xlabel('Порог')\n",
    "plt.ylabel('F1-мера')\n",
    "plt.title('Зависимость F1-меры от порога')\n",
    "plt.grid(True)\n",
    "plt.show()\n",
    "\n",
    "# Подсчет лучшего порога\n",
    "\n",
    "best_threshold_index = np.argmax(f1_scores)\n",
    "best_threshold = threshold_values[best_threshold_index]\n",
    "\n",
    "print(f\"Лучший порог: {best_threshold}\")"
   ]
  },
  {
   "cell_type": "code",
   "execution_count": 153,
   "metadata": {
    "colab": {
     "base_uri": "https://localhost:8080/"
    },
    "id": "x92Tw6hchIkj",
    "outputId": "02e8aae8-1e3e-4330-a687-2727ad5b120c",
    "tags": []
   },
   "outputs": [
    {
     "data": {
      "text/plain": [
       "0.024324324324324322"
      ]
     },
     "execution_count": 153,
     "metadata": {},
     "output_type": "execute_result"
    }
   ],
   "source": [
    "y_pred1 = clf.predict_proba(x_test)[:, 1]  # Получение вероятностей положительного класса\n",
    "threshold = 0.2 # Установка порога\n",
    "y_pred_binary = (y_pred1 > threshold).astype(int)  # Бинарные предсказания\n",
    "\n",
    "f1 = f1_score(y_pred_binary, y_test)\n",
    "f1"
   ]
  },
  {
   "cell_type": "code",
   "execution_count": 61,
   "metadata": {
    "colab": {
     "base_uri": "https://localhost:8080/"
    },
    "id": "p-jL9D4lhQgl",
    "outputId": "dda290a3-e5e8-4e34-db1f-fb8531ff9912",
    "tags": []
   },
   "outputs": [
    {
     "name": "stdout",
     "output_type": "stream",
     "text": [
      "Точность: 0.88\n",
      "Полнота: 0.99\n"
     ]
    }
   ],
   "source": [
    "from sklearn.metrics import precision_score, recall_score\n",
    "\n",
    "# Предсказанные метки классов вашей модели для тестового набора данных\n",
    "#y_pred = clf.predict(x_test)\n",
    "\n",
    "# Вычисление точности\n",
    "precision = precision_score(y_test, y_pred_binary)\n",
    "\n",
    "# Вычисление полноты\n",
    "recall = recall_score(y_test, y_pred_binary)\n",
    "\n",
    "print(\"Точность: {:.2f}\".format(precision))\n",
    "print(\"Полнота: {:.2f}\".format(recall))"
   ]
  },
  {
   "cell_type": "code",
   "execution_count": 75,
   "metadata": {
    "colab": {
     "base_uri": "https://localhost:8080/",
     "height": 499
    },
    "id": "15JXA3Ajd0nP",
    "outputId": "60784c65-e60b-4d3b-b37f-91cd92c72247",
    "tags": []
   },
   "outputs": [
    {
     "data": {
      "image/png": "[encoded data removed]",
      "text/plain": [
       "<Figure size 1200x1200 with 2 Axes>"
      ]
     },
     "metadata": {},
     "output_type": "display_data"
    }
   ],
   "source": [
    "from sklearn.metrics import confusion_matrix\n",
    "import seaborn as sns\n",
    "import matplotlib.pyplot as plt\n",
    "\n",
    "\n",
    "\n",
    "# Создание матрицы ошибок\n",
    "confusion = confusion_matrix(y_test, y_pred_binary)\n",
    "\n",
    "# Визуализация матрицы ошибок с использованием библиотеки Seaborn\n",
    "plt.figure(figsize=(12, 12))\n",
    "sns.heatmap(confusion, annot=True, fmt=\"d\", cmap=\"Blues\", square=True, xticklabels=True, yticklabels=True)\n",
    "plt.xlabel('Predicted')\n",
    "plt.ylabel('Actual')\n",
    "plt.title('Confusion Matrix')\n",
    "plt.show()"
   ]
  },
  {
   "cell_type": "code",
   "execution_count": 76,
   "metadata": {
    "colab": {
     "base_uri": "https://localhost:8080/"
    },
    "id": "jPs8nnVUpICb",
    "outputId": "317b6a29-feba-4b51-edf1-68a3a5810900",
    "tags": []
   },
   "outputs": [
    {
     "name": "stdout",
     "output_type": "stream",
     "text": [
      "Фича: was_repair_in_prev_month, Важность: 39.46434269791504\n",
      "Фича: prob_end_month, Важность: 17.20700187398852\n",
      "Фича: ost_prob, Важность: 15.151521728599596\n",
      "Фича: date_pl_rem, Важность: 5.798030304866238\n",
      "Фича: mean_run, Важность: 5.4391203012844\n",
      "Фича: day_run, Важность: 4.74203375184046\n",
      "Фича: date_diff_pl_rem, Важность: 4.630143584751455\n",
      "Фича: wagnum, Важность: 2.723456571555059\n",
      "Фича: kod_vrab, Важность: 1.6536525109712086\n",
      "Фича: date_diff_srk_sl, Важность: 1.3995497423218815\n",
      "Фича: srok_sl, Важность: 1.2889428184913045\n",
      "Фича: cnsi_probeg_dr, Важность: 0.44530549504295436\n",
      "Фича: cnsi_probeg_kr, Важность: 0.056898618371894194\n",
      "Фича: current_date, Важность: 0.0\n"
     ]
    }
   ],
   "source": [
    "feature_importance = clf.get_feature_importance(data=None, type='FeatureImportance')\n",
    "\n",
    "# Создание списка фичей и их важностей\n",
    "feature_names = clf.feature_names_\n",
    "feature_importance_list = list(zip(feature_names, feature_importance))\n",
    "\n",
    "# Сортировка по важности в убывающем порядке\n",
    "feature_importance_list.sort(key=lambda x: x[1], reverse=True)\n",
    "\n",
    "# Вывод списка важности фичей\n",
    "for feature, importance in feature_importance_list:\n",
    "    print(f\"Фича: {feature}, Важность: {importance}\")"
   ]
  },
  {
   "cell_type": "code",
   "execution_count": 77,
   "metadata": {
    "tags": []
   },
   "outputs": [],
   "source": [
    "# Сортируем важность признаков\n",
    "sorted_idx = feature_importance.argsort()\n",
    "sorted_feature_importances = feature_importance[sorted_idx]\n",
    "sorted_feature_names = x_train.columns[sorted_idx]"
   ]
  },
  {
   "cell_type": "code",
   "execution_count": 81,
   "metadata": {
    "tags": []
   },
   "outputs": [
    {
     "data": {
      "image/png": "[encoded data removed]",
      "text/plain": [
       "<Figure size 1000x1000 with 1 Axes>"
      ]
     },
     "metadata": {},
     "output_type": "display_data"
    }
   ],
   "source": [
    "# Строим график важности признаков\n",
    "plt.figure(figsize=(10, 10))\n",
    "plt.barh(range(len(sorted_feature_importances)), sorted_feature_importances, align='center')\n",
    "plt.yticks(range(len(sorted_feature_importances)), sorted_feature_names)\n",
    "plt.xlabel('Важность признака')\n",
    "plt.ylabel('Признак')\n",
    "plt.title('Feature Importance в CatBoost')\n",
    "plt.show()"
   ]
  },
  {
   "cell_type": "markdown",
   "metadata": {
    "id": "_aeISiBBbsR1"
   },
   "source": [
    "Финальная проверка"
   ]
  },
  {
   "cell_type": "code",
   "execution_count": 195,
   "metadata": {
    "id": "h-IkNIx91p-s",
    "pycharm": {
     "name": "#%%\n"
    }
   },
   "outputs": [],
   "source": [
    "# сохраним таргет за месяц  для выбранного периода отдельно\n",
    "# target_path = '/content/target_predicton1.csv'"
   ]
  },
  {
   "cell_type": "code",
   "execution_count": 196,
   "metadata": {
    "colab": {
     "base_uri": "https://localhost:8080/",
     "height": 175
    },
    "id": "kbwWy3dc1p-s",
    "outputId": "d9bc1f56-0b8c-46e6-ef22-dcd5e08671d4",
    "pycharm": {
     "name": "#%%\n"
    }
   },
   "outputs": [
    {
     "ename": "NameError",
     "evalue": "ignored",
     "output_type": "error",
     "traceback": [
      "\u001b[0;31m---------------------------------------------------------------------------\u001b[0m",
      "\u001b[0;31mNameError\u001b[0m                                 Traceback (most recent call last)",
      "\u001b[0;32m<ipython-input-196-cdb08233eb69>\u001b[0m in \u001b[0;36m<cell line: 1>\u001b[0;34m()\u001b[0m\n\u001b[0;32m----> 1\u001b[0;31m \u001b[0mpred_target\u001b[0m\u001b[0;34m.\u001b[0m\u001b[0mdrop_duplicates\u001b[0m\u001b[0;34m(\u001b[0m\u001b[0msubset\u001b[0m \u001b[0;34m=\u001b[0m \u001b[0;34m'wagnum'\u001b[0m\u001b[0;34m)\u001b[0m\u001b[0;34m.\u001b[0m\u001b[0mto_csv\u001b[0m\u001b[0;34m(\u001b[0m\u001b[0mtarget_path\u001b[0m\u001b[0;34m,\u001b[0m \u001b[0mindex\u001b[0m\u001b[0;34m=\u001b[0m\u001b[0;32mFalse\u001b[0m\u001b[0;34m)\u001b[0m\u001b[0;34m\u001b[0m\u001b[0;34m\u001b[0m\u001b[0m\n\u001b[0m",
      "\u001b[0;31mNameError\u001b[0m: name 'pred_target' is not defined"
     ]
    }
   ],
   "source": [
    "pred_target.drop_duplicates(subset = 'wagnum').to_csv(target_path, index=False)"
   ]
  },
  {
   "cell_type": "code",
   "execution_count": null,
   "metadata": {
    "id": "R1QRENlh1p-t",
    "pycharm": {
     "name": "#%%\n"
    }
   },
   "outputs": [],
   "source": [
    "# true_target_path = '/content/target_predicton_true.csv'"
   ]
  },
  {
   "cell_type": "code",
   "execution_count": null,
   "metadata": {
    "id": "JXKQhQpZ1p-t",
    "pycharm": {
     "name": "#%%\n"
    }
   },
   "outputs": [],
   "source": [
    "target.drop_duplicates(subset = 'wagnum').to_csv(true_target_path, index=False)"
   ]
  },
  {
   "cell_type": "code",
   "execution_count": null,
   "metadata": {
    "id": "KwxSps-jasNH"
   },
   "outputs": [],
   "source": [
    "import pandas as pd\n",
    "from sklearn.metrics import f1_score\n",
    "\n",
    "# Функция для оценки на приватном лидерборде (все данные)\n",
    "def calc_f1_score(test_url: str, prediction_url: str) -> float:\n",
    "\n",
    "    true_labels = pd.read_csv(test_url)\n",
    "    pred_labels = pd.read_csv(prediction_url)\n",
    "    # Таргет для месячного прогноза\n",
    "    true_labels_month = true_labels['target_month'].values\n",
    "    pred_labels_month = pred_labels['target_month'].values\n",
    "\n",
    "    # Таргет для 10 дневного прогноза\n",
    "    true_labels_day = true_labels['target_day'].values\n",
    "    pred_labels_day = pred_labels['target_day'].values\n",
    "\n",
    "    # Посчитаем метрику для месяца и 10 дней\n",
    "    score_month = f1_score(true_labels_month, pred_labels_month)\n",
    "    score_day = f1_score(true_labels_day, pred_labels_day)\n",
    "    # Посчитаем метрику с весом для двух таргетов\n",
    "    score = 0.5 * score_month + 0.5 * score_day\n",
    "    return score\n"
   ]
  },
  {
   "cell_type": "code",
   "execution_count": null,
   "metadata": {
    "id": "gEPL0DZ21p-t",
    "pycharm": {
     "name": "#%%\n"
    }
   },
   "outputs": [],
   "source": [
    "# оценим насколько хорошо удалось предсказать выбытие вагонов  по месяцу и по 10 дням\n",
    "calc_f1_score( true_target_path, target_path)"
   ]
  },
  {
   "cell_type": "markdown",
   "metadata": {},
   "source": [
    "# Модель. Новые данные"
   ]
  },
  {
   "cell_type": "markdown",
   "metadata": {},
   "source": [
    "## train"
   ]
  },
  {
   "cell_type": "code",
   "execution_count": 88,
   "metadata": {
    "tags": []
   },
   "outputs": [],
   "source": [
    "scale_pos_weight = len(y_train_1[y_train_1 == 0]) / len(y_train_1[y_train_1 == 1])"
   ]
  },
  {
   "cell_type": "code",
   "execution_count": 89,
   "metadata": {
    "colab": {
     "base_uri": "https://localhost:8080/"
    },
    "collapsed": true,
    "id": "kdBTxExcJB2n",
    "jupyter": {
     "outputs_hidden": true
    },
    "outputId": "2d5c65f0-515f-458d-f59a-65ee9a06de74",
    "tags": []
   },
   "outputs": [
    {
     "name": "stdout",
     "output_type": "stream",
     "text": [
      "0:\tlearn: 0.6854473\ttotal: 184ms\tremaining: 18.3s\n",
      "1:\tlearn: 0.6779582\ttotal: 191ms\tremaining: 9.33s\n",
      "2:\tlearn: 0.6705302\ttotal: 195ms\tremaining: 6.31s\n",
      "3:\tlearn: 0.6631284\ttotal: 202ms\tremaining: 4.85s\n",
      "4:\tlearn: 0.6561635\ttotal: 207ms\tremaining: 3.93s\n",
      "5:\tlearn: 0.6494032\ttotal: 212ms\tremaining: 3.32s\n",
      "6:\tlearn: 0.6425508\ttotal: 216ms\tremaining: 2.88s\n",
      "7:\tlearn: 0.6361810\ttotal: 223ms\tremaining: 2.56s\n",
      "8:\tlearn: 0.6296207\ttotal: 227ms\tremaining: 2.3s\n",
      "9:\tlearn: 0.6232059\ttotal: 232ms\tremaining: 2.08s\n",
      "10:\tlearn: 0.6167387\ttotal: 237ms\tremaining: 1.92s\n",
      "11:\tlearn: 0.6102262\ttotal: 242ms\tremaining: 1.78s\n",
      "12:\tlearn: 0.6040049\ttotal: 247ms\tremaining: 1.65s\n",
      "13:\tlearn: 0.5978728\ttotal: 251ms\tremaining: 1.54s\n",
      "14:\tlearn: 0.5918555\ttotal: 256ms\tremaining: 1.45s\n",
      "15:\tlearn: 0.5858294\ttotal: 260ms\tremaining: 1.37s\n",
      "16:\tlearn: 0.5799575\ttotal: 265ms\tremaining: 1.29s\n",
      "17:\tlearn: 0.5744353\ttotal: 271ms\tremaining: 1.23s\n",
      "18:\tlearn: 0.5690522\ttotal: 275ms\tremaining: 1.17s\n",
      "19:\tlearn: 0.5638680\ttotal: 279ms\tremaining: 1.11s\n",
      "20:\tlearn: 0.5584096\ttotal: 284ms\tremaining: 1.07s\n",
      "21:\tlearn: 0.5528952\ttotal: 289ms\tremaining: 1.02s\n",
      "22:\tlearn: 0.5476219\ttotal: 293ms\tremaining: 982ms\n",
      "23:\tlearn: 0.5426021\ttotal: 297ms\tremaining: 942ms\n",
      "24:\tlearn: 0.5375348\ttotal: 303ms\tremaining: 910ms\n",
      "25:\tlearn: 0.5325244\ttotal: 308ms\tremaining: 875ms\n",
      "26:\tlearn: 0.5277447\ttotal: 312ms\tremaining: 843ms\n",
      "27:\tlearn: 0.5228500\ttotal: 317ms\tremaining: 815ms\n",
      "28:\tlearn: 0.5180797\ttotal: 321ms\tremaining: 787ms\n",
      "29:\tlearn: 0.5132124\ttotal: 326ms\tremaining: 761ms\n",
      "30:\tlearn: 0.5092703\ttotal: 330ms\tremaining: 736ms\n",
      "31:\tlearn: 0.5046167\ttotal: 335ms\tremaining: 712ms\n",
      "32:\tlearn: 0.5002375\ttotal: 340ms\tremaining: 690ms\n",
      "33:\tlearn: 0.4958762\ttotal: 345ms\tremaining: 669ms\n",
      "34:\tlearn: 0.4920160\ttotal: 351ms\tremaining: 652ms\n",
      "35:\tlearn: 0.4878746\ttotal: 357ms\tremaining: 635ms\n",
      "36:\tlearn: 0.4835767\ttotal: 362ms\tremaining: 616ms\n",
      "37:\tlearn: 0.4794247\ttotal: 367ms\tremaining: 599ms\n",
      "38:\tlearn: 0.4754653\ttotal: 372ms\tremaining: 582ms\n",
      "39:\tlearn: 0.4713107\ttotal: 378ms\tremaining: 567ms\n",
      "40:\tlearn: 0.4671885\ttotal: 383ms\tremaining: 551ms\n",
      "41:\tlearn: 0.4631623\ttotal: 388ms\tremaining: 536ms\n",
      "42:\tlearn: 0.4592470\ttotal: 394ms\tremaining: 522ms\n",
      "43:\tlearn: 0.4555422\ttotal: 399ms\tremaining: 508ms\n",
      "44:\tlearn: 0.4520557\ttotal: 407ms\tremaining: 498ms\n",
      "45:\tlearn: 0.4483284\ttotal: 412ms\tremaining: 483ms\n",
      "46:\tlearn: 0.4444946\ttotal: 417ms\tremaining: 471ms\n",
      "47:\tlearn: 0.4409639\ttotal: 422ms\tremaining: 457ms\n",
      "48:\tlearn: 0.4374702\ttotal: 426ms\tremaining: 444ms\n",
      "49:\tlearn: 0.4337969\ttotal: 431ms\tremaining: 431ms\n",
      "50:\tlearn: 0.4304314\ttotal: 436ms\tremaining: 419ms\n",
      "51:\tlearn: 0.4270712\ttotal: 440ms\tremaining: 406ms\n",
      "52:\tlearn: 0.4237355\ttotal: 445ms\tremaining: 395ms\n",
      "53:\tlearn: 0.4205344\ttotal: 449ms\tremaining: 383ms\n",
      "54:\tlearn: 0.4173333\ttotal: 454ms\tremaining: 372ms\n",
      "55:\tlearn: 0.4143170\ttotal: 458ms\tremaining: 360ms\n",
      "56:\tlearn: 0.4111542\ttotal: 463ms\tremaining: 349ms\n",
      "57:\tlearn: 0.4079196\ttotal: 468ms\tremaining: 339ms\n",
      "58:\tlearn: 0.4048146\ttotal: 472ms\tremaining: 328ms\n",
      "59:\tlearn: 0.4018819\ttotal: 478ms\tremaining: 318ms\n",
      "60:\tlearn: 0.3990981\ttotal: 482ms\tremaining: 308ms\n",
      "61:\tlearn: 0.3961097\ttotal: 487ms\tremaining: 298ms\n",
      "62:\tlearn: 0.3935176\ttotal: 492ms\tremaining: 289ms\n",
      "63:\tlearn: 0.3906357\ttotal: 497ms\tremaining: 279ms\n",
      "64:\tlearn: 0.3876230\ttotal: 501ms\tremaining: 270ms\n",
      "65:\tlearn: 0.3848132\ttotal: 506ms\tremaining: 261ms\n",
      "66:\tlearn: 0.3819842\ttotal: 510ms\tremaining: 251ms\n",
      "67:\tlearn: 0.3793100\ttotal: 515ms\tremaining: 242ms\n",
      "68:\tlearn: 0.3766068\ttotal: 519ms\tremaining: 233ms\n",
      "69:\tlearn: 0.3741600\ttotal: 524ms\tremaining: 225ms\n",
      "70:\tlearn: 0.3717266\ttotal: 530ms\tremaining: 216ms\n",
      "71:\tlearn: 0.3690152\ttotal: 535ms\tremaining: 208ms\n",
      "72:\tlearn: 0.3665290\ttotal: 539ms\tremaining: 199ms\n",
      "73:\tlearn: 0.3643150\ttotal: 545ms\tremaining: 191ms\n",
      "74:\tlearn: 0.3619313\ttotal: 550ms\tremaining: 183ms\n",
      "75:\tlearn: 0.3594156\ttotal: 554ms\tremaining: 175ms\n",
      "76:\tlearn: 0.3570680\ttotal: 559ms\tremaining: 167ms\n",
      "77:\tlearn: 0.3547874\ttotal: 563ms\tremaining: 159ms\n",
      "78:\tlearn: 0.3523766\ttotal: 568ms\tremaining: 151ms\n",
      "79:\tlearn: 0.3498153\ttotal: 572ms\tremaining: 143ms\n",
      "80:\tlearn: 0.3474992\ttotal: 576ms\tremaining: 135ms\n",
      "81:\tlearn: 0.3451859\ttotal: 581ms\tremaining: 128ms\n",
      "82:\tlearn: 0.3433111\ttotal: 585ms\tremaining: 120ms\n",
      "83:\tlearn: 0.3410713\ttotal: 591ms\tremaining: 113ms\n",
      "84:\tlearn: 0.3391691\ttotal: 598ms\tremaining: 105ms\n",
      "85:\tlearn: 0.3367892\ttotal: 603ms\tremaining: 98.2ms\n",
      "86:\tlearn: 0.3347286\ttotal: 611ms\tremaining: 91.3ms\n",
      "87:\tlearn: 0.3326234\ttotal: 618ms\tremaining: 84.2ms\n",
      "88:\tlearn: 0.3303957\ttotal: 625ms\tremaining: 77.2ms\n",
      "89:\tlearn: 0.3283757\ttotal: 629ms\tremaining: 69.9ms\n",
      "90:\tlearn: 0.3264340\ttotal: 633ms\tremaining: 62.6ms\n",
      "91:\tlearn: 0.3244108\ttotal: 637ms\tremaining: 55.4ms\n",
      "92:\tlearn: 0.3223287\ttotal: 642ms\tremaining: 48.3ms\n",
      "93:\tlearn: 0.3203389\ttotal: 646ms\tremaining: 41.3ms\n",
      "94:\tlearn: 0.3184319\ttotal: 651ms\tremaining: 34.3ms\n",
      "95:\tlearn: 0.3166441\ttotal: 655ms\tremaining: 27.3ms\n",
      "96:\tlearn: 0.3147972\ttotal: 660ms\tremaining: 20.4ms\n",
      "97:\tlearn: 0.3129211\ttotal: 664ms\tremaining: 13.5ms\n",
      "98:\tlearn: 0.3109803\ttotal: 668ms\tremaining: 6.75ms\n",
      "99:\tlearn: 0.3092518\ttotal: 673ms\tremaining: 0us\n"
     ]
    },
    {
     "data": {
      "text/plain": [
       "<catboost.core.CatBoostClassifier at 0x17d0dee16f0>"
      ]
     },
     "execution_count": 89,
     "metadata": {},
     "output_type": "execute_result"
    }
   ],
   "source": [
    "clf_new = CatBoostClassifier(iterations=100, depth=6, learning_rate=0.01, loss_function='Logloss', scale_pos_weight=scale_pos_weight )\n",
    "clf_new.fit(X_train_1, y_train_1)"
   ]
  },
  {
   "cell_type": "code",
   "execution_count": 91,
   "metadata": {
    "collapsed": true,
    "jupyter": {
     "outputs_hidden": true
    },
    "tags": []
   },
   "outputs": [
    {
     "name": "stdout",
     "output_type": "stream",
     "text": [
      "0:\tlearn: 0.6854478\ttotal: 5.77ms\tremaining: 571ms\n",
      "1:\tlearn: 0.6781848\ttotal: 10.2ms\tremaining: 501ms\n",
      "2:\tlearn: 0.6708667\ttotal: 15.6ms\tremaining: 503ms\n",
      "3:\tlearn: 0.6637710\ttotal: 21.2ms\tremaining: 508ms\n",
      "4:\tlearn: 0.6565717\ttotal: 25.2ms\tremaining: 479ms\n",
      "5:\tlearn: 0.6496699\ttotal: 28ms\tremaining: 439ms\n",
      "6:\tlearn: 0.6428638\ttotal: 34ms\tremaining: 452ms\n",
      "7:\tlearn: 0.6362661\ttotal: 38.5ms\tremaining: 442ms\n",
      "8:\tlearn: 0.6296613\ttotal: 45.4ms\tremaining: 459ms\n",
      "9:\tlearn: 0.6234656\ttotal: 50.8ms\tremaining: 457ms\n",
      "10:\tlearn: 0.6172858\ttotal: 57.4ms\tremaining: 464ms\n",
      "11:\tlearn: 0.6110439\ttotal: 67ms\tremaining: 492ms\n",
      "12:\tlearn: 0.6050002\ttotal: 71.8ms\tremaining: 481ms\n",
      "13:\tlearn: 0.5990330\ttotal: 77.8ms\tremaining: 478ms\n",
      "14:\tlearn: 0.5930697\ttotal: 84.1ms\tremaining: 477ms\n",
      "15:\tlearn: 0.5873966\ttotal: 89ms\tremaining: 467ms\n",
      "16:\tlearn: 0.5818341\ttotal: 94.9ms\tremaining: 463ms\n",
      "17:\tlearn: 0.5765607\ttotal: 99.3ms\tremaining: 452ms\n",
      "18:\tlearn: 0.5710064\ttotal: 105ms\tremaining: 446ms\n",
      "19:\tlearn: 0.5657343\ttotal: 110ms\tremaining: 438ms\n",
      "20:\tlearn: 0.5605686\ttotal: 113ms\tremaining: 425ms\n",
      "21:\tlearn: 0.5552785\ttotal: 118ms\tremaining: 419ms\n",
      "22:\tlearn: 0.5499505\ttotal: 124ms\tremaining: 414ms\n",
      "23:\tlearn: 0.5448971\ttotal: 130ms\tremaining: 410ms\n",
      "24:\tlearn: 0.5398395\ttotal: 136ms\tremaining: 408ms\n",
      "25:\tlearn: 0.5351364\ttotal: 141ms\tremaining: 400ms\n",
      "26:\tlearn: 0.5302653\ttotal: 147ms\tremaining: 399ms\n",
      "27:\tlearn: 0.5256267\ttotal: 152ms\tremaining: 392ms\n",
      "28:\tlearn: 0.5207850\ttotal: 157ms\tremaining: 385ms\n",
      "29:\tlearn: 0.5161778\ttotal: 164ms\tremaining: 383ms\n",
      "30:\tlearn: 0.5117898\ttotal: 168ms\tremaining: 375ms\n",
      "31:\tlearn: 0.5072795\ttotal: 173ms\tremaining: 367ms\n",
      "32:\tlearn: 0.5029289\ttotal: 179ms\tremaining: 364ms\n",
      "33:\tlearn: 0.4987764\ttotal: 185ms\tremaining: 359ms\n",
      "34:\tlearn: 0.4943525\ttotal: 190ms\tremaining: 353ms\n",
      "35:\tlearn: 0.4901684\ttotal: 197ms\tremaining: 350ms\n",
      "36:\tlearn: 0.4859807\ttotal: 202ms\tremaining: 345ms\n",
      "37:\tlearn: 0.4819072\ttotal: 207ms\tremaining: 338ms\n",
      "38:\tlearn: 0.4780250\ttotal: 215ms\tremaining: 337ms\n",
      "39:\tlearn: 0.4741082\ttotal: 220ms\tremaining: 330ms\n",
      "40:\tlearn: 0.4702206\ttotal: 225ms\tremaining: 323ms\n",
      "41:\tlearn: 0.4664333\ttotal: 231ms\tremaining: 320ms\n",
      "42:\tlearn: 0.4628083\ttotal: 235ms\tremaining: 311ms\n",
      "43:\tlearn: 0.4590497\ttotal: 241ms\tremaining: 307ms\n",
      "44:\tlearn: 0.4554820\ttotal: 248ms\tremaining: 303ms\n",
      "45:\tlearn: 0.4518822\ttotal: 252ms\tremaining: 296ms\n",
      "46:\tlearn: 0.4483743\ttotal: 257ms\tremaining: 290ms\n",
      "47:\tlearn: 0.4448413\ttotal: 264ms\tremaining: 286ms\n",
      "48:\tlearn: 0.4415012\ttotal: 268ms\tremaining: 279ms\n",
      "49:\tlearn: 0.4382835\ttotal: 273ms\tremaining: 273ms\n",
      "50:\tlearn: 0.4349551\ttotal: 280ms\tremaining: 269ms\n",
      "51:\tlearn: 0.4317343\ttotal: 284ms\tremaining: 262ms\n",
      "52:\tlearn: 0.4286189\ttotal: 288ms\tremaining: 256ms\n",
      "53:\tlearn: 0.4255321\ttotal: 294ms\tremaining: 251ms\n",
      "54:\tlearn: 0.4222674\ttotal: 299ms\tremaining: 244ms\n",
      "55:\tlearn: 0.4191845\ttotal: 302ms\tremaining: 238ms\n",
      "56:\tlearn: 0.4161360\ttotal: 308ms\tremaining: 232ms\n",
      "57:\tlearn: 0.4131686\ttotal: 312ms\tremaining: 226ms\n",
      "58:\tlearn: 0.4102161\ttotal: 317ms\tremaining: 220ms\n",
      "59:\tlearn: 0.4072530\ttotal: 321ms\tremaining: 214ms\n",
      "60:\tlearn: 0.4043307\ttotal: 326ms\tremaining: 209ms\n",
      "61:\tlearn: 0.4013916\ttotal: 330ms\tremaining: 202ms\n",
      "62:\tlearn: 0.3985127\ttotal: 334ms\tremaining: 196ms\n",
      "63:\tlearn: 0.3956984\ttotal: 339ms\tremaining: 191ms\n",
      "64:\tlearn: 0.3928215\ttotal: 344ms\tremaining: 185ms\n",
      "65:\tlearn: 0.3902290\ttotal: 348ms\tremaining: 179ms\n",
      "66:\tlearn: 0.3874662\ttotal: 352ms\tremaining: 173ms\n",
      "67:\tlearn: 0.3848514\ttotal: 357ms\tremaining: 168ms\n",
      "68:\tlearn: 0.3822431\ttotal: 361ms\tremaining: 162ms\n",
      "69:\tlearn: 0.3796308\ttotal: 365ms\tremaining: 157ms\n",
      "70:\tlearn: 0.3771358\ttotal: 369ms\tremaining: 151ms\n",
      "71:\tlearn: 0.3746695\ttotal: 375ms\tremaining: 146ms\n",
      "72:\tlearn: 0.3723108\ttotal: 379ms\tremaining: 140ms\n",
      "73:\tlearn: 0.3698316\ttotal: 383ms\tremaining: 134ms\n",
      "74:\tlearn: 0.3673181\ttotal: 387ms\tremaining: 129ms\n",
      "75:\tlearn: 0.3649686\ttotal: 392ms\tremaining: 124ms\n",
      "76:\tlearn: 0.3626670\ttotal: 396ms\tremaining: 118ms\n",
      "77:\tlearn: 0.3602227\ttotal: 400ms\tremaining: 113ms\n",
      "78:\tlearn: 0.3579164\ttotal: 407ms\tremaining: 108ms\n",
      "79:\tlearn: 0.3557877\ttotal: 412ms\tremaining: 103ms\n",
      "80:\tlearn: 0.3535451\ttotal: 417ms\tremaining: 97.9ms\n",
      "81:\tlearn: 0.3511441\ttotal: 423ms\tremaining: 92.9ms\n",
      "82:\tlearn: 0.3487720\ttotal: 427ms\tremaining: 87.6ms\n",
      "83:\tlearn: 0.3465613\ttotal: 432ms\tremaining: 82.2ms\n",
      "84:\tlearn: 0.3444260\ttotal: 437ms\tremaining: 77.1ms\n",
      "85:\tlearn: 0.3423441\ttotal: 441ms\tremaining: 71.9ms\n",
      "86:\tlearn: 0.3403801\ttotal: 444ms\tremaining: 66.3ms\n",
      "87:\tlearn: 0.3382972\ttotal: 448ms\tremaining: 61ms\n",
      "88:\tlearn: 0.3363043\ttotal: 453ms\tremaining: 56ms\n",
      "89:\tlearn: 0.3341933\ttotal: 457ms\tremaining: 50.8ms\n",
      "90:\tlearn: 0.3322052\ttotal: 461ms\tremaining: 45.6ms\n",
      "91:\tlearn: 0.3304594\ttotal: 465ms\tremaining: 40.4ms\n",
      "92:\tlearn: 0.3286540\ttotal: 469ms\tremaining: 35.3ms\n",
      "93:\tlearn: 0.3267736\ttotal: 473ms\tremaining: 30.2ms\n",
      "94:\tlearn: 0.3247397\ttotal: 476ms\tremaining: 25.1ms\n",
      "95:\tlearn: 0.3228138\ttotal: 481ms\tremaining: 20ms\n",
      "96:\tlearn: 0.3210458\ttotal: 485ms\tremaining: 15ms\n",
      "97:\tlearn: 0.3191775\ttotal: 488ms\tremaining: 9.97ms\n",
      "98:\tlearn: 0.3172752\ttotal: 492ms\tremaining: 4.97ms\n",
      "99:\tlearn: 0.3153538\ttotal: 496ms\tremaining: 0us\n",
      "0:\tlearn: 0.6855694\ttotal: 4.94ms\tremaining: 489ms\n",
      "1:\tlearn: 0.6782493\ttotal: 9.02ms\tremaining: 442ms\n",
      "2:\tlearn: 0.6709846\ttotal: 13.4ms\tremaining: 433ms\n",
      "3:\tlearn: 0.6639378\ttotal: 18ms\tremaining: 432ms\n",
      "4:\tlearn: 0.6571128\ttotal: 21.7ms\tremaining: 412ms\n",
      "5:\tlearn: 0.6504111\ttotal: 25.7ms\tremaining: 403ms\n",
      "6:\tlearn: 0.6438058\ttotal: 29.7ms\tremaining: 395ms\n",
      "7:\tlearn: 0.6373845\ttotal: 34ms\tremaining: 392ms\n",
      "8:\tlearn: 0.6310293\ttotal: 37.8ms\tremaining: 382ms\n",
      "9:\tlearn: 0.6245166\ttotal: 41.5ms\tremaining: 373ms\n",
      "10:\tlearn: 0.6190188\ttotal: 45.5ms\tremaining: 368ms\n",
      "11:\tlearn: 0.6131837\ttotal: 49.4ms\tremaining: 362ms\n",
      "12:\tlearn: 0.6073735\ttotal: 53.4ms\tremaining: 357ms\n",
      "13:\tlearn: 0.6013110\ttotal: 57.2ms\tremaining: 351ms\n",
      "14:\tlearn: 0.5954569\ttotal: 61.9ms\tremaining: 351ms\n",
      "15:\tlearn: 0.5906580\ttotal: 65.6ms\tremaining: 345ms\n",
      "16:\tlearn: 0.5848948\ttotal: 69.2ms\tremaining: 338ms\n",
      "17:\tlearn: 0.5792687\ttotal: 73.2ms\tremaining: 333ms\n",
      "18:\tlearn: 0.5738258\ttotal: 78.1ms\tremaining: 333ms\n",
      "19:\tlearn: 0.5684939\ttotal: 83.5ms\tremaining: 334ms\n",
      "20:\tlearn: 0.5636923\ttotal: 87.2ms\tremaining: 328ms\n",
      "21:\tlearn: 0.5584202\ttotal: 92.5ms\tremaining: 328ms\n",
      "22:\tlearn: 0.5536058\ttotal: 97ms\tremaining: 325ms\n",
      "23:\tlearn: 0.5491502\ttotal: 101ms\tremaining: 321ms\n",
      "24:\tlearn: 0.5440565\ttotal: 105ms\tremaining: 316ms\n",
      "25:\tlearn: 0.5393912\ttotal: 113ms\tremaining: 322ms\n",
      "26:\tlearn: 0.5347804\ttotal: 117ms\tremaining: 317ms\n",
      "27:\tlearn: 0.5298007\ttotal: 121ms\tremaining: 311ms\n",
      "28:\tlearn: 0.5257507\ttotal: 127ms\tremaining: 310ms\n",
      "29:\tlearn: 0.5209166\ttotal: 131ms\tremaining: 305ms\n",
      "30:\tlearn: 0.5173309\ttotal: 135ms\tremaining: 299ms\n",
      "31:\tlearn: 0.5133203\ttotal: 139ms\tremaining: 295ms\n",
      "32:\tlearn: 0.5091237\ttotal: 144ms\tremaining: 293ms\n",
      "33:\tlearn: 0.5046227\ttotal: 148ms\tremaining: 288ms\n",
      "34:\tlearn: 0.5003205\ttotal: 153ms\tremaining: 284ms\n",
      "35:\tlearn: 0.4958650\ttotal: 159ms\tremaining: 282ms\n",
      "36:\tlearn: 0.4915409\ttotal: 162ms\tremaining: 277ms\n",
      "37:\tlearn: 0.4873975\ttotal: 166ms\tremaining: 271ms\n",
      "38:\tlearn: 0.4835668\ttotal: 171ms\tremaining: 268ms\n",
      "39:\tlearn: 0.4795421\ttotal: 176ms\tremaining: 265ms\n",
      "40:\tlearn: 0.4760041\ttotal: 180ms\tremaining: 260ms\n",
      "41:\tlearn: 0.4723018\ttotal: 184ms\tremaining: 255ms\n",
      "42:\tlearn: 0.4682505\ttotal: 190ms\tremaining: 252ms\n",
      "43:\tlearn: 0.4651331\ttotal: 194ms\tremaining: 247ms\n",
      "44:\tlearn: 0.4617136\ttotal: 198ms\tremaining: 242ms\n",
      "45:\tlearn: 0.4580834\ttotal: 202ms\tremaining: 237ms\n",
      "46:\tlearn: 0.4543956\ttotal: 208ms\tremaining: 235ms\n",
      "47:\tlearn: 0.4506980\ttotal: 214ms\tremaining: 232ms\n",
      "48:\tlearn: 0.4475770\ttotal: 219ms\tremaining: 228ms\n",
      "49:\tlearn: 0.4439275\ttotal: 225ms\tremaining: 225ms\n",
      "50:\tlearn: 0.4405758\ttotal: 232ms\tremaining: 223ms\n",
      "51:\tlearn: 0.4373311\ttotal: 237ms\tremaining: 218ms\n",
      "52:\tlearn: 0.4338445\ttotal: 241ms\tremaining: 214ms\n",
      "53:\tlearn: 0.4307247\ttotal: 245ms\tremaining: 209ms\n",
      "54:\tlearn: 0.4275554\ttotal: 249ms\tremaining: 204ms\n",
      "55:\tlearn: 0.4245433\ttotal: 255ms\tremaining: 200ms\n",
      "56:\tlearn: 0.4214033\ttotal: 259ms\tremaining: 195ms\n",
      "57:\tlearn: 0.4182617\ttotal: 263ms\tremaining: 190ms\n",
      "58:\tlearn: 0.4150687\ttotal: 267ms\tremaining: 185ms\n",
      "59:\tlearn: 0.4121625\ttotal: 272ms\tremaining: 181ms\n",
      "60:\tlearn: 0.4093673\ttotal: 276ms\tremaining: 177ms\n",
      "61:\tlearn: 0.4066469\ttotal: 280ms\tremaining: 171ms\n",
      "62:\tlearn: 0.4040517\ttotal: 285ms\tremaining: 167ms\n",
      "63:\tlearn: 0.4011655\ttotal: 289ms\tremaining: 163ms\n",
      "64:\tlearn: 0.3981368\ttotal: 293ms\tremaining: 158ms\n",
      "65:\tlearn: 0.3953910\ttotal: 297ms\tremaining: 153ms\n",
      "66:\tlearn: 0.3926678\ttotal: 303ms\tremaining: 149ms\n",
      "67:\tlearn: 0.3899159\ttotal: 307ms\tremaining: 144ms\n",
      "68:\tlearn: 0.3871843\ttotal: 310ms\tremaining: 139ms\n",
      "69:\tlearn: 0.3847810\ttotal: 315ms\tremaining: 135ms\n",
      "70:\tlearn: 0.3823417\ttotal: 320ms\tremaining: 131ms\n",
      "71:\tlearn: 0.3797946\ttotal: 324ms\tremaining: 126ms\n",
      "72:\tlearn: 0.3773194\ttotal: 328ms\tremaining: 121ms\n",
      "73:\tlearn: 0.3751264\ttotal: 333ms\tremaining: 117ms\n",
      "74:\tlearn: 0.3727249\ttotal: 337ms\tremaining: 112ms\n",
      "75:\tlearn: 0.3704789\ttotal: 341ms\tremaining: 108ms\n",
      "76:\tlearn: 0.3679839\ttotal: 345ms\tremaining: 103ms\n",
      "77:\tlearn: 0.3652973\ttotal: 350ms\tremaining: 98.8ms\n",
      "78:\tlearn: 0.3629111\ttotal: 354ms\tremaining: 94.2ms\n",
      "79:\tlearn: 0.3603147\ttotal: 358ms\tremaining: 89.6ms\n",
      "80:\tlearn: 0.3580504\ttotal: 362ms\tremaining: 85ms\n",
      "81:\tlearn: 0.3557313\ttotal: 367ms\tremaining: 80.6ms\n",
      "82:\tlearn: 0.3536553\ttotal: 371ms\tremaining: 76ms\n",
      "83:\tlearn: 0.3514602\ttotal: 375ms\tremaining: 71.5ms\n",
      "84:\tlearn: 0.3495525\ttotal: 379ms\tremaining: 67ms\n",
      "85:\tlearn: 0.3473634\ttotal: 385ms\tremaining: 62.6ms\n",
      "86:\tlearn: 0.3453367\ttotal: 389ms\tremaining: 58.1ms\n",
      "87:\tlearn: 0.3430680\ttotal: 393ms\tremaining: 53.6ms\n",
      "88:\tlearn: 0.3409529\ttotal: 397ms\tremaining: 49.1ms\n",
      "89:\tlearn: 0.3389797\ttotal: 401ms\tremaining: 44.5ms\n",
      "90:\tlearn: 0.3371912\ttotal: 405ms\tremaining: 40.1ms\n",
      "91:\tlearn: 0.3351558\ttotal: 409ms\tremaining: 35.6ms\n",
      "92:\tlearn: 0.3330823\ttotal: 414ms\tremaining: 31.1ms\n",
      "93:\tlearn: 0.3311210\ttotal: 418ms\tremaining: 26.7ms\n",
      "94:\tlearn: 0.3292391\ttotal: 424ms\tremaining: 22.3ms\n",
      "95:\tlearn: 0.3276824\ttotal: 429ms\tremaining: 17.9ms\n",
      "96:\tlearn: 0.3257489\ttotal: 434ms\tremaining: 13.4ms\n",
      "97:\tlearn: 0.3238655\ttotal: 441ms\tremaining: 8.99ms\n",
      "98:\tlearn: 0.3220101\ttotal: 445ms\tremaining: 4.49ms\n",
      "99:\tlearn: 0.3202700\ttotal: 450ms\tremaining: 0us\n",
      "0:\tlearn: 0.6855667\ttotal: 6.13ms\tremaining: 607ms\n",
      "1:\tlearn: 0.6781973\ttotal: 10.5ms\tremaining: 515ms\n",
      "2:\tlearn: 0.6707374\ttotal: 14.4ms\tremaining: 467ms\n",
      "3:\tlearn: 0.6636253\ttotal: 18.5ms\tremaining: 443ms\n",
      "4:\tlearn: 0.6563524\ttotal: 23.9ms\tremaining: 453ms\n",
      "5:\tlearn: 0.6495672\ttotal: 27.8ms\tremaining: 435ms\n",
      "6:\tlearn: 0.6428826\ttotal: 31.8ms\tremaining: 423ms\n",
      "7:\tlearn: 0.6362250\ttotal: 36.4ms\tremaining: 418ms\n",
      "8:\tlearn: 0.6297837\ttotal: 41.7ms\tremaining: 422ms\n",
      "9:\tlearn: 0.6231784\ttotal: 45.5ms\tremaining: 409ms\n",
      "10:\tlearn: 0.6176863\ttotal: 49.4ms\tremaining: 400ms\n",
      "11:\tlearn: 0.6117463\ttotal: 54.8ms\tremaining: 402ms\n",
      "12:\tlearn: 0.6058048\ttotal: 59ms\tremaining: 395ms\n",
      "13:\tlearn: 0.6000558\ttotal: 62.9ms\tremaining: 386ms\n",
      "14:\tlearn: 0.5940850\ttotal: 66.7ms\tremaining: 378ms\n",
      "15:\tlearn: 0.5881631\ttotal: 72.2ms\tremaining: 379ms\n",
      "16:\tlearn: 0.5822969\ttotal: 76.2ms\tremaining: 372ms\n",
      "17:\tlearn: 0.5767853\ttotal: 80ms\tremaining: 364ms\n",
      "18:\tlearn: 0.5712456\ttotal: 84.5ms\tremaining: 360ms\n",
      "19:\tlearn: 0.5659723\ttotal: 88.8ms\tremaining: 355ms\n",
      "20:\tlearn: 0.5606900\ttotal: 92.6ms\tremaining: 348ms\n",
      "21:\tlearn: 0.5552554\ttotal: 97.1ms\tremaining: 344ms\n",
      "22:\tlearn: 0.5500913\ttotal: 102ms\tremaining: 341ms\n",
      "23:\tlearn: 0.5455889\ttotal: 106ms\tremaining: 336ms\n",
      "24:\tlearn: 0.5405096\ttotal: 110ms\tremaining: 330ms\n",
      "25:\tlearn: 0.5356445\ttotal: 114ms\tremaining: 324ms\n",
      "26:\tlearn: 0.5310324\ttotal: 119ms\tremaining: 321ms\n",
      "27:\tlearn: 0.5261989\ttotal: 123ms\tremaining: 316ms\n",
      "28:\tlearn: 0.5221329\ttotal: 127ms\tremaining: 310ms\n",
      "29:\tlearn: 0.5175947\ttotal: 131ms\tremaining: 305ms\n",
      "30:\tlearn: 0.5132880\ttotal: 136ms\tremaining: 303ms\n",
      "31:\tlearn: 0.5087261\ttotal: 140ms\tremaining: 298ms\n",
      "32:\tlearn: 0.5043943\ttotal: 145ms\tremaining: 294ms\n",
      "33:\tlearn: 0.5001176\ttotal: 149ms\tremaining: 290ms\n",
      "34:\tlearn: 0.4963874\ttotal: 153ms\tremaining: 285ms\n",
      "35:\tlearn: 0.4922104\ttotal: 157ms\tremaining: 280ms\n",
      "36:\tlearn: 0.4880111\ttotal: 161ms\tremaining: 275ms\n",
      "37:\tlearn: 0.4839295\ttotal: 166ms\tremaining: 271ms\n",
      "38:\tlearn: 0.4800409\ttotal: 170ms\tremaining: 266ms\n",
      "39:\tlearn: 0.4760566\ttotal: 174ms\tremaining: 261ms\n",
      "40:\tlearn: 0.4724991\ttotal: 179ms\tremaining: 257ms\n",
      "41:\tlearn: 0.4687622\ttotal: 183ms\tremaining: 253ms\n",
      "42:\tlearn: 0.4647189\ttotal: 187ms\tremaining: 248ms\n",
      "43:\tlearn: 0.4609707\ttotal: 191ms\tremaining: 244ms\n",
      "44:\tlearn: 0.4576061\ttotal: 196ms\tremaining: 239ms\n",
      "45:\tlearn: 0.4539376\ttotal: 200ms\tremaining: 235ms\n",
      "46:\tlearn: 0.4502816\ttotal: 204ms\tremaining: 230ms\n",
      "47:\tlearn: 0.4468667\ttotal: 208ms\tremaining: 225ms\n",
      "48:\tlearn: 0.4437449\ttotal: 214ms\tremaining: 223ms\n",
      "49:\tlearn: 0.4400803\ttotal: 219ms\tremaining: 219ms\n",
      "50:\tlearn: 0.4367001\ttotal: 225ms\tremaining: 216ms\n",
      "51:\tlearn: 0.4333281\ttotal: 232ms\tremaining: 214ms\n",
      "52:\tlearn: 0.4298187\ttotal: 236ms\tremaining: 209ms\n",
      "53:\tlearn: 0.4266741\ttotal: 241ms\tremaining: 205ms\n",
      "54:\tlearn: 0.4233118\ttotal: 245ms\tremaining: 201ms\n",
      "55:\tlearn: 0.4205210\ttotal: 250ms\tremaining: 196ms\n",
      "56:\tlearn: 0.4173496\ttotal: 255ms\tremaining: 192ms\n",
      "57:\tlearn: 0.4140605\ttotal: 259ms\tremaining: 187ms\n",
      "58:\tlearn: 0.4112138\ttotal: 264ms\tremaining: 184ms\n",
      "59:\tlearn: 0.4082913\ttotal: 268ms\tremaining: 179ms\n",
      "60:\tlearn: 0.4052787\ttotal: 273ms\tremaining: 174ms\n",
      "61:\tlearn: 0.4022916\ttotal: 277ms\tremaining: 170ms\n",
      "62:\tlearn: 0.3995662\ttotal: 283ms\tremaining: 166ms\n",
      "63:\tlearn: 0.3966281\ttotal: 288ms\tremaining: 162ms\n",
      "64:\tlearn: 0.3936250\ttotal: 292ms\tremaining: 157ms\n",
      "65:\tlearn: 0.3907288\ttotal: 299ms\tremaining: 154ms\n",
      "66:\tlearn: 0.3879530\ttotal: 303ms\tremaining: 149ms\n",
      "67:\tlearn: 0.3853329\ttotal: 307ms\tremaining: 144ms\n",
      "68:\tlearn: 0.3824666\ttotal: 313ms\tremaining: 141ms\n",
      "69:\tlearn: 0.3800686\ttotal: 317ms\tremaining: 136ms\n",
      "70:\tlearn: 0.3773719\ttotal: 321ms\tremaining: 131ms\n",
      "71:\tlearn: 0.3747574\ttotal: 324ms\tremaining: 126ms\n",
      "72:\tlearn: 0.3724059\ttotal: 331ms\tremaining: 122ms\n",
      "73:\tlearn: 0.3701878\ttotal: 335ms\tremaining: 118ms\n",
      "74:\tlearn: 0.3677888\ttotal: 339ms\tremaining: 113ms\n",
      "75:\tlearn: 0.3653975\ttotal: 345ms\tremaining: 109ms\n",
      "76:\tlearn: 0.3628471\ttotal: 349ms\tremaining: 104ms\n",
      "77:\tlearn: 0.3602008\ttotal: 353ms\tremaining: 99.5ms\n",
      "78:\tlearn: 0.3578710\ttotal: 358ms\tremaining: 95.1ms\n",
      "79:\tlearn: 0.3553681\ttotal: 362ms\tremaining: 90.6ms\n",
      "80:\tlearn: 0.3530928\ttotal: 366ms\tremaining: 86ms\n",
      "81:\tlearn: 0.3510689\ttotal: 370ms\tremaining: 81.3ms\n",
      "82:\tlearn: 0.3487940\ttotal: 376ms\tremaining: 76.9ms\n",
      "83:\tlearn: 0.3465564\ttotal: 380ms\tremaining: 72.3ms\n",
      "84:\tlearn: 0.3445490\ttotal: 384ms\tremaining: 67.7ms\n",
      "85:\tlearn: 0.3423545\ttotal: 388ms\tremaining: 63.2ms\n",
      "86:\tlearn: 0.3403032\ttotal: 393ms\tremaining: 58.7ms\n",
      "87:\tlearn: 0.3382174\ttotal: 397ms\tremaining: 54.1ms\n",
      "88:\tlearn: 0.3361051\ttotal: 401ms\tremaining: 49.5ms\n",
      "89:\tlearn: 0.3341527\ttotal: 405ms\tremaining: 45ms\n",
      "90:\tlearn: 0.3323714\ttotal: 411ms\tremaining: 40.7ms\n",
      "91:\tlearn: 0.3304038\ttotal: 415ms\tremaining: 36.1ms\n",
      "92:\tlearn: 0.3283555\ttotal: 421ms\tremaining: 31.7ms\n",
      "93:\tlearn: 0.3263502\ttotal: 427ms\tremaining: 27.2ms\n",
      "94:\tlearn: 0.3243625\ttotal: 432ms\tremaining: 22.7ms\n",
      "95:\tlearn: 0.3225072\ttotal: 438ms\tremaining: 18.3ms\n",
      "96:\tlearn: 0.3205889\ttotal: 442ms\tremaining: 13.7ms\n",
      "97:\tlearn: 0.3187649\ttotal: 447ms\tremaining: 9.11ms\n",
      "98:\tlearn: 0.3171137\ttotal: 451ms\tremaining: 4.55ms\n",
      "99:\tlearn: 0.3153824\ttotal: 455ms\tremaining: 0us\n",
      "0:\tlearn: 0.6852480\ttotal: 6.16ms\tremaining: 610ms\n",
      "1:\tlearn: 0.6776143\ttotal: 14.6ms\tremaining: 713ms\n",
      "2:\tlearn: 0.6701995\ttotal: 19.3ms\tremaining: 624ms\n",
      "3:\tlearn: 0.6628075\ttotal: 23.9ms\tremaining: 574ms\n",
      "4:\tlearn: 0.6562318\ttotal: 30.4ms\tremaining: 578ms\n",
      "5:\tlearn: 0.6493258\ttotal: 35.3ms\tremaining: 553ms\n",
      "6:\tlearn: 0.6423265\ttotal: 39.4ms\tremaining: 523ms\n",
      "7:\tlearn: 0.6358927\ttotal: 44.9ms\tremaining: 517ms\n",
      "8:\tlearn: 0.6288790\ttotal: 50ms\tremaining: 506ms\n",
      "9:\tlearn: 0.6219025\ttotal: 53.7ms\tremaining: 484ms\n",
      "10:\tlearn: 0.6151412\ttotal: 58ms\tremaining: 469ms\n",
      "11:\tlearn: 0.6084972\ttotal: 62.4ms\tremaining: 458ms\n",
      "12:\tlearn: 0.6022232\ttotal: 66.6ms\tremaining: 445ms\n",
      "13:\tlearn: 0.5958516\ttotal: 70.4ms\tremaining: 432ms\n",
      "14:\tlearn: 0.5900824\ttotal: 74.6ms\tremaining: 422ms\n",
      "15:\tlearn: 0.5850765\ttotal: 79.7ms\tremaining: 419ms\n",
      "16:\tlearn: 0.5789421\ttotal: 83.7ms\tremaining: 408ms\n",
      "17:\tlearn: 0.5735971\ttotal: 87.4ms\tremaining: 398ms\n",
      "18:\tlearn: 0.5676737\ttotal: 92.2ms\tremaining: 393ms\n",
      "19:\tlearn: 0.5619705\ttotal: 96.6ms\tremaining: 387ms\n",
      "20:\tlearn: 0.5565326\ttotal: 100ms\tremaining: 378ms\n",
      "21:\tlearn: 0.5507918\ttotal: 104ms\tremaining: 369ms\n",
      "22:\tlearn: 0.5451768\ttotal: 109ms\tremaining: 364ms\n",
      "23:\tlearn: 0.5402109\ttotal: 112ms\tremaining: 356ms\n",
      "24:\tlearn: 0.5353900\ttotal: 117ms\tremaining: 351ms\n",
      "25:\tlearn: 0.5302663\ttotal: 121ms\tremaining: 345ms\n",
      "26:\tlearn: 0.5251925\ttotal: 126ms\tremaining: 341ms\n",
      "27:\tlearn: 0.5203183\ttotal: 130ms\tremaining: 335ms\n",
      "28:\tlearn: 0.5155649\ttotal: 134ms\tremaining: 328ms\n",
      "29:\tlearn: 0.5106669\ttotal: 138ms\tremaining: 323ms\n",
      "30:\tlearn: 0.5064440\ttotal: 143ms\tremaining: 317ms\n",
      "31:\tlearn: 0.5015795\ttotal: 146ms\tremaining: 311ms\n",
      "32:\tlearn: 0.4969053\ttotal: 150ms\tremaining: 305ms\n",
      "33:\tlearn: 0.4926101\ttotal: 155ms\tremaining: 302ms\n",
      "34:\tlearn: 0.4885006\ttotal: 160ms\tremaining: 297ms\n",
      "35:\tlearn: 0.4841245\ttotal: 165ms\tremaining: 293ms\n",
      "36:\tlearn: 0.4798460\ttotal: 169ms\tremaining: 287ms\n",
      "37:\tlearn: 0.4756399\ttotal: 173ms\tremaining: 282ms\n",
      "38:\tlearn: 0.4715060\ttotal: 177ms\tremaining: 277ms\n",
      "39:\tlearn: 0.4675693\ttotal: 181ms\tremaining: 271ms\n",
      "40:\tlearn: 0.4632713\ttotal: 186ms\tremaining: 268ms\n",
      "41:\tlearn: 0.4591420\ttotal: 190ms\tremaining: 262ms\n",
      "42:\tlearn: 0.4549745\ttotal: 194ms\tremaining: 257ms\n",
      "43:\tlearn: 0.4512315\ttotal: 198ms\tremaining: 252ms\n",
      "44:\tlearn: 0.4471818\ttotal: 202ms\tremaining: 247ms\n",
      "45:\tlearn: 0.4434219\ttotal: 206ms\tremaining: 242ms\n",
      "46:\tlearn: 0.4395207\ttotal: 210ms\tremaining: 236ms\n",
      "47:\tlearn: 0.4356395\ttotal: 215ms\tremaining: 233ms\n",
      "48:\tlearn: 0.4318975\ttotal: 221ms\tremaining: 231ms\n",
      "49:\tlearn: 0.4279945\ttotal: 226ms\tremaining: 226ms\n",
      "50:\tlearn: 0.4245122\ttotal: 232ms\tremaining: 223ms\n",
      "51:\tlearn: 0.4210622\ttotal: 241ms\tremaining: 222ms\n",
      "52:\tlearn: 0.4175185\ttotal: 245ms\tremaining: 217ms\n",
      "53:\tlearn: 0.4141674\ttotal: 249ms\tremaining: 212ms\n",
      "54:\tlearn: 0.4106586\ttotal: 255ms\tremaining: 209ms\n",
      "55:\tlearn: 0.4076313\ttotal: 259ms\tremaining: 203ms\n",
      "56:\tlearn: 0.4044802\ttotal: 263ms\tremaining: 198ms\n",
      "57:\tlearn: 0.4012430\ttotal: 267ms\tremaining: 193ms\n",
      "58:\tlearn: 0.3979548\ttotal: 273ms\tremaining: 189ms\n",
      "59:\tlearn: 0.3949411\ttotal: 276ms\tremaining: 184ms\n",
      "60:\tlearn: 0.3915839\ttotal: 281ms\tremaining: 179ms\n",
      "61:\tlearn: 0.3884233\ttotal: 286ms\tremaining: 175ms\n",
      "62:\tlearn: 0.3855214\ttotal: 290ms\tremaining: 171ms\n",
      "63:\tlearn: 0.3823647\ttotal: 295ms\tremaining: 166ms\n",
      "64:\tlearn: 0.3793306\ttotal: 299ms\tremaining: 161ms\n",
      "65:\tlearn: 0.3764438\ttotal: 304ms\tremaining: 157ms\n",
      "66:\tlearn: 0.3735925\ttotal: 308ms\tremaining: 152ms\n",
      "67:\tlearn: 0.3707652\ttotal: 312ms\tremaining: 147ms\n",
      "68:\tlearn: 0.3679067\ttotal: 316ms\tremaining: 142ms\n",
      "69:\tlearn: 0.3654171\ttotal: 321ms\tremaining: 138ms\n",
      "70:\tlearn: 0.3629016\ttotal: 325ms\tremaining: 133ms\n",
      "71:\tlearn: 0.3600718\ttotal: 329ms\tremaining: 128ms\n",
      "72:\tlearn: 0.3574021\ttotal: 335ms\tremaining: 124ms\n",
      "73:\tlearn: 0.3552135\ttotal: 339ms\tremaining: 119ms\n",
      "74:\tlearn: 0.3528621\ttotal: 343ms\tremaining: 114ms\n",
      "75:\tlearn: 0.3502047\ttotal: 346ms\tremaining: 109ms\n",
      "76:\tlearn: 0.3475826\ttotal: 352ms\tremaining: 105ms\n",
      "77:\tlearn: 0.3452112\ttotal: 356ms\tremaining: 100ms\n",
      "78:\tlearn: 0.3427781\ttotal: 360ms\tremaining: 95.7ms\n",
      "79:\tlearn: 0.3402793\ttotal: 364ms\tremaining: 90.9ms\n",
      "80:\tlearn: 0.3377713\ttotal: 369ms\tremaining: 86.6ms\n",
      "81:\tlearn: 0.3356047\ttotal: 373ms\tremaining: 81.9ms\n",
      "82:\tlearn: 0.3333287\ttotal: 377ms\tremaining: 77.2ms\n",
      "83:\tlearn: 0.3310252\ttotal: 382ms\tremaining: 72.8ms\n",
      "84:\tlearn: 0.3287665\ttotal: 386ms\tremaining: 68.2ms\n",
      "85:\tlearn: 0.3264290\ttotal: 390ms\tremaining: 63.5ms\n",
      "86:\tlearn: 0.3241911\ttotal: 394ms\tremaining: 58.8ms\n",
      "87:\tlearn: 0.3220062\ttotal: 399ms\tremaining: 54.5ms\n",
      "88:\tlearn: 0.3198768\ttotal: 403ms\tremaining: 49.8ms\n",
      "89:\tlearn: 0.3180245\ttotal: 407ms\tremaining: 45.3ms\n",
      "90:\tlearn: 0.3159523\ttotal: 411ms\tremaining: 40.7ms\n",
      "91:\tlearn: 0.3138222\ttotal: 417ms\tremaining: 36.2ms\n",
      "92:\tlearn: 0.3116326\ttotal: 420ms\tremaining: 31.6ms\n",
      "93:\tlearn: 0.3096444\ttotal: 427ms\tremaining: 27.2ms\n",
      "94:\tlearn: 0.3076637\ttotal: 432ms\tremaining: 22.7ms\n",
      "95:\tlearn: 0.3055425\ttotal: 437ms\tremaining: 18.2ms\n",
      "96:\tlearn: 0.3035482\ttotal: 442ms\tremaining: 13.7ms\n",
      "97:\tlearn: 0.3016022\ttotal: 449ms\tremaining: 9.17ms\n",
      "98:\tlearn: 0.2996402\ttotal: 454ms\tremaining: 4.58ms\n",
      "99:\tlearn: 0.2977231\ttotal: 458ms\tremaining: 0us\n",
      "0:\tlearn: 0.6853234\ttotal: 7.32ms\tremaining: 725ms\n",
      "1:\tlearn: 0.6777724\ttotal: 12.6ms\tremaining: 616ms\n",
      "2:\tlearn: 0.6704009\ttotal: 18.2ms\tremaining: 587ms\n",
      "3:\tlearn: 0.6630646\ttotal: 25.2ms\tremaining: 605ms\n",
      "4:\tlearn: 0.6559613\ttotal: 29.6ms\tremaining: 562ms\n",
      "5:\tlearn: 0.6491780\ttotal: 34ms\tremaining: 533ms\n",
      "6:\tlearn: 0.6422232\ttotal: 39.8ms\tremaining: 528ms\n",
      "7:\tlearn: 0.6358566\ttotal: 43.7ms\tremaining: 502ms\n",
      "8:\tlearn: 0.6289611\ttotal: 47.5ms\tremaining: 480ms\n",
      "9:\tlearn: 0.6224635\ttotal: 51.1ms\tremaining: 460ms\n",
      "10:\tlearn: 0.6158028\ttotal: 56.9ms\tremaining: 461ms\n",
      "11:\tlearn: 0.6090786\ttotal: 60.6ms\tremaining: 444ms\n",
      "12:\tlearn: 0.6028514\ttotal: 64.8ms\tremaining: 434ms\n",
      "13:\tlearn: 0.5966582\ttotal: 68.7ms\tremaining: 422ms\n",
      "14:\tlearn: 0.5909503\ttotal: 74.1ms\tremaining: 420ms\n",
      "15:\tlearn: 0.5849773\ttotal: 77.9ms\tremaining: 409ms\n",
      "16:\tlearn: 0.5790166\ttotal: 82.1ms\tremaining: 401ms\n",
      "17:\tlearn: 0.5736228\ttotal: 87ms\tremaining: 396ms\n",
      "18:\tlearn: 0.5678109\ttotal: 91.6ms\tremaining: 390ms\n",
      "19:\tlearn: 0.5624725\ttotal: 95.3ms\tremaining: 381ms\n",
      "20:\tlearn: 0.5575482\ttotal: 99.2ms\tremaining: 373ms\n",
      "21:\tlearn: 0.5519156\ttotal: 104ms\tremaining: 370ms\n",
      "22:\tlearn: 0.5465363\ttotal: 109ms\tremaining: 364ms\n",
      "23:\tlearn: 0.5412512\ttotal: 113ms\tremaining: 357ms\n",
      "24:\tlearn: 0.5362610\ttotal: 116ms\tremaining: 349ms\n",
      "25:\tlearn: 0.5312109\ttotal: 124ms\tremaining: 352ms\n",
      "26:\tlearn: 0.5263074\ttotal: 128ms\tremaining: 346ms\n",
      "27:\tlearn: 0.5215716\ttotal: 132ms\tremaining: 339ms\n",
      "28:\tlearn: 0.5168819\ttotal: 138ms\tremaining: 337ms\n",
      "29:\tlearn: 0.5120718\ttotal: 142ms\tremaining: 331ms\n",
      "30:\tlearn: 0.5076417\ttotal: 145ms\tremaining: 324ms\n",
      "31:\tlearn: 0.5033913\ttotal: 149ms\tremaining: 318ms\n",
      "32:\tlearn: 0.4989839\ttotal: 155ms\tremaining: 314ms\n",
      "33:\tlearn: 0.4945109\ttotal: 158ms\tremaining: 308ms\n",
      "34:\tlearn: 0.4904700\ttotal: 162ms\tremaining: 302ms\n",
      "35:\tlearn: 0.4861591\ttotal: 167ms\tremaining: 297ms\n",
      "36:\tlearn: 0.4822585\ttotal: 171ms\tremaining: 292ms\n",
      "37:\tlearn: 0.4780895\ttotal: 175ms\tremaining: 286ms\n",
      "38:\tlearn: 0.4740561\ttotal: 179ms\tremaining: 281ms\n",
      "39:\tlearn: 0.4700551\ttotal: 184ms\tremaining: 276ms\n",
      "40:\tlearn: 0.4657852\ttotal: 189ms\tremaining: 271ms\n",
      "41:\tlearn: 0.4616513\ttotal: 192ms\tremaining: 265ms\n",
      "42:\tlearn: 0.4575504\ttotal: 196ms\tremaining: 260ms\n",
      "43:\tlearn: 0.4538247\ttotal: 201ms\tremaining: 255ms\n",
      "44:\tlearn: 0.4500644\ttotal: 205ms\tremaining: 250ms\n",
      "45:\tlearn: 0.4463389\ttotal: 209ms\tremaining: 245ms\n",
      "46:\tlearn: 0.4424573\ttotal: 214ms\tremaining: 242ms\n",
      "47:\tlearn: 0.4388895\ttotal: 219ms\tremaining: 237ms\n",
      "48:\tlearn: 0.4351913\ttotal: 224ms\tremaining: 233ms\n",
      "49:\tlearn: 0.4314516\ttotal: 229ms\tremaining: 229ms\n",
      "50:\tlearn: 0.4279425\ttotal: 236ms\tremaining: 226ms\n",
      "51:\tlearn: 0.4246116\ttotal: 240ms\tremaining: 221ms\n",
      "52:\tlearn: 0.4212149\ttotal: 244ms\tremaining: 216ms\n",
      "53:\tlearn: 0.4179081\ttotal: 248ms\tremaining: 211ms\n",
      "54:\tlearn: 0.4144663\ttotal: 252ms\tremaining: 206ms\n",
      "55:\tlearn: 0.4114425\ttotal: 256ms\tremaining: 201ms\n",
      "56:\tlearn: 0.4082996\ttotal: 260ms\tremaining: 196ms\n",
      "57:\tlearn: 0.4049992\ttotal: 264ms\tremaining: 191ms\n",
      "58:\tlearn: 0.4020137\ttotal: 268ms\tremaining: 186ms\n",
      "59:\tlearn: 0.3990106\ttotal: 272ms\tremaining: 181ms\n",
      "60:\tlearn: 0.3957287\ttotal: 276ms\tremaining: 176ms\n",
      "61:\tlearn: 0.3926556\ttotal: 280ms\tremaining: 172ms\n",
      "62:\tlearn: 0.3897987\ttotal: 287ms\tremaining: 168ms\n",
      "63:\tlearn: 0.3868888\ttotal: 292ms\tremaining: 164ms\n",
      "64:\tlearn: 0.3838683\ttotal: 299ms\tremaining: 161ms\n",
      "65:\tlearn: 0.3809105\ttotal: 303ms\tremaining: 156ms\n",
      "66:\tlearn: 0.3780477\ttotal: 308ms\tremaining: 152ms\n",
      "67:\tlearn: 0.3751715\ttotal: 312ms\tremaining: 147ms\n",
      "68:\tlearn: 0.3723274\ttotal: 317ms\tremaining: 142ms\n",
      "69:\tlearn: 0.3698559\ttotal: 321ms\tremaining: 137ms\n",
      "70:\tlearn: 0.3670410\ttotal: 325ms\tremaining: 133ms\n",
      "71:\tlearn: 0.3643353\ttotal: 330ms\tremaining: 128ms\n",
      "72:\tlearn: 0.3615937\ttotal: 334ms\tremaining: 124ms\n",
      "73:\tlearn: 0.3593991\ttotal: 338ms\tremaining: 119ms\n",
      "74:\tlearn: 0.3571054\ttotal: 342ms\tremaining: 114ms\n",
      "75:\tlearn: 0.3544532\ttotal: 349ms\tremaining: 110ms\n",
      "76:\tlearn: 0.3519780\ttotal: 353ms\tremaining: 106ms\n",
      "77:\tlearn: 0.3497256\ttotal: 357ms\tremaining: 101ms\n",
      "78:\tlearn: 0.3472395\ttotal: 363ms\tremaining: 96.6ms\n",
      "79:\tlearn: 0.3446857\ttotal: 367ms\tremaining: 91.9ms\n",
      "80:\tlearn: 0.3423067\ttotal: 371ms\tremaining: 87.1ms\n",
      "81:\tlearn: 0.3403854\ttotal: 375ms\tremaining: 82.3ms\n",
      "82:\tlearn: 0.3380377\ttotal: 380ms\tremaining: 77.9ms\n",
      "83:\tlearn: 0.3357717\ttotal: 384ms\tremaining: 73.2ms\n",
      "84:\tlearn: 0.3338488\ttotal: 389ms\tremaining: 68.6ms\n",
      "85:\tlearn: 0.3315885\ttotal: 394ms\tremaining: 64.1ms\n",
      "86:\tlearn: 0.3295363\ttotal: 398ms\tremaining: 59.4ms\n",
      "87:\tlearn: 0.3274577\ttotal: 402ms\tremaining: 54.8ms\n",
      "88:\tlearn: 0.3252781\ttotal: 408ms\tremaining: 50.4ms\n",
      "89:\tlearn: 0.3232634\ttotal: 413ms\tremaining: 45.9ms\n",
      "90:\tlearn: 0.3212028\ttotal: 418ms\tremaining: 41.4ms\n",
      "91:\tlearn: 0.3191078\ttotal: 423ms\tremaining: 36.8ms\n",
      "92:\tlearn: 0.3170898\ttotal: 428ms\tremaining: 32.2ms\n",
      "93:\tlearn: 0.3152061\ttotal: 436ms\tremaining: 27.8ms\n",
      "94:\tlearn: 0.3132354\ttotal: 441ms\tremaining: 23.2ms\n",
      "95:\tlearn: 0.3113477\ttotal: 445ms\tremaining: 18.5ms\n",
      "96:\tlearn: 0.3095258\ttotal: 450ms\tremaining: 13.9ms\n",
      "97:\tlearn: 0.3075490\ttotal: 453ms\tremaining: 9.25ms\n",
      "98:\tlearn: 0.3058072\ttotal: 459ms\tremaining: 4.64ms\n",
      "99:\tlearn: 0.3039621\ttotal: 463ms\tremaining: 0us\n"
     ]
    },
    {
     "data": {
      "text/plain": [
       "0.43966510013478677"
      ]
     },
     "execution_count": 91,
     "metadata": {},
     "output_type": "execute_result"
    }
   ],
   "source": [
    "cross_val_score(clf_new, X_train_1, y_train_1, scoring = 'f1', cv=5).mean()"
   ]
  },
  {
   "cell_type": "markdown",
   "metadata": {},
   "source": [
    "## test"
   ]
  },
  {
   "cell_type": "code",
   "execution_count": 107,
   "metadata": {
    "collapsed": true,
    "jupyter": {
     "outputs_hidden": true
    },
    "tags": []
   },
   "outputs": [
    {
     "name": "stdout",
     "output_type": "stream",
     "text": [
      "0:\tlearn: 0.6852416\ttotal: 4.53ms\tremaining: 448ms\n",
      "1:\tlearn: 0.6777754\ttotal: 9.82ms\tremaining: 481ms\n",
      "2:\tlearn: 0.6705814\ttotal: 14.4ms\tremaining: 464ms\n",
      "3:\tlearn: 0.6632089\ttotal: 18.3ms\tremaining: 438ms\n",
      "4:\tlearn: 0.6560608\ttotal: 23.4ms\tremaining: 445ms\n",
      "5:\tlearn: 0.6488826\ttotal: 27.4ms\tremaining: 429ms\n",
      "6:\tlearn: 0.6420175\ttotal: 31.8ms\tremaining: 422ms\n",
      "7:\tlearn: 0.6352150\ttotal: 35.9ms\tremaining: 413ms\n",
      "8:\tlearn: 0.6287730\ttotal: 41.7ms\tremaining: 422ms\n",
      "9:\tlearn: 0.6225188\ttotal: 46.5ms\tremaining: 419ms\n",
      "10:\tlearn: 0.6159595\ttotal: 50.7ms\tremaining: 410ms\n",
      "11:\tlearn: 0.6098881\ttotal: 55.8ms\tremaining: 409ms\n",
      "12:\tlearn: 0.6036521\ttotal: 61.2ms\tremaining: 410ms\n",
      "13:\tlearn: 0.5976436\ttotal: 65.2ms\tremaining: 401ms\n",
      "14:\tlearn: 0.5919980\ttotal: 69.5ms\tremaining: 394ms\n",
      "15:\tlearn: 0.5862773\ttotal: 76.4ms\tremaining: 401ms\n",
      "16:\tlearn: 0.5802986\ttotal: 80.5ms\tremaining: 393ms\n",
      "17:\tlearn: 0.5748845\ttotal: 83.6ms\tremaining: 381ms\n",
      "18:\tlearn: 0.5695316\ttotal: 89.6ms\tremaining: 382ms\n",
      "19:\tlearn: 0.5643867\ttotal: 93.7ms\tremaining: 375ms\n",
      "20:\tlearn: 0.5591142\ttotal: 97.3ms\tremaining: 366ms\n",
      "21:\tlearn: 0.5536856\ttotal: 102ms\tremaining: 361ms\n",
      "22:\tlearn: 0.5483324\ttotal: 108ms\tremaining: 361ms\n",
      "23:\tlearn: 0.5432421\ttotal: 112ms\tremaining: 355ms\n",
      "24:\tlearn: 0.5381341\ttotal: 116ms\tremaining: 349ms\n",
      "25:\tlearn: 0.5331153\ttotal: 122ms\tremaining: 348ms\n",
      "26:\tlearn: 0.5283340\ttotal: 127ms\tremaining: 343ms\n",
      "27:\tlearn: 0.5237483\ttotal: 131ms\tremaining: 338ms\n",
      "28:\tlearn: 0.5192307\ttotal: 134ms\tremaining: 328ms\n",
      "29:\tlearn: 0.5143037\ttotal: 141ms\tremaining: 328ms\n",
      "30:\tlearn: 0.5099108\ttotal: 145ms\tremaining: 323ms\n",
      "31:\tlearn: 0.5054978\ttotal: 150ms\tremaining: 318ms\n",
      "32:\tlearn: 0.5012325\ttotal: 156ms\tremaining: 316ms\n",
      "33:\tlearn: 0.4971517\ttotal: 158ms\tremaining: 307ms\n",
      "34:\tlearn: 0.4927067\ttotal: 163ms\tremaining: 302ms\n",
      "35:\tlearn: 0.4885463\ttotal: 168ms\tremaining: 299ms\n",
      "36:\tlearn: 0.4842344\ttotal: 174ms\tremaining: 296ms\n",
      "37:\tlearn: 0.4801373\ttotal: 179ms\tremaining: 292ms\n",
      "38:\tlearn: 0.4762527\ttotal: 183ms\tremaining: 286ms\n",
      "39:\tlearn: 0.4723876\ttotal: 189ms\tremaining: 283ms\n",
      "40:\tlearn: 0.4683959\ttotal: 193ms\tremaining: 278ms\n",
      "41:\tlearn: 0.4644187\ttotal: 198ms\tremaining: 273ms\n",
      "42:\tlearn: 0.4606859\ttotal: 204ms\tremaining: 270ms\n",
      "43:\tlearn: 0.4570612\ttotal: 210ms\tremaining: 267ms\n",
      "44:\tlearn: 0.4533166\ttotal: 214ms\tremaining: 262ms\n",
      "45:\tlearn: 0.4494378\ttotal: 221ms\tremaining: 259ms\n",
      "46:\tlearn: 0.4457579\ttotal: 228ms\tremaining: 257ms\n",
      "47:\tlearn: 0.4422227\ttotal: 234ms\tremaining: 253ms\n",
      "48:\tlearn: 0.4386953\ttotal: 240ms\tremaining: 250ms\n",
      "49:\tlearn: 0.4351546\ttotal: 245ms\tremaining: 245ms\n",
      "50:\tlearn: 0.4318887\ttotal: 251ms\tremaining: 242ms\n",
      "51:\tlearn: 0.4284244\ttotal: 256ms\tremaining: 237ms\n",
      "52:\tlearn: 0.4250742\ttotal: 261ms\tremaining: 232ms\n",
      "53:\tlearn: 0.4218272\ttotal: 268ms\tremaining: 229ms\n",
      "54:\tlearn: 0.4186841\ttotal: 275ms\tremaining: 225ms\n",
      "55:\tlearn: 0.4155107\ttotal: 279ms\tremaining: 219ms\n",
      "56:\tlearn: 0.4123267\ttotal: 286ms\tremaining: 215ms\n",
      "57:\tlearn: 0.4094696\ttotal: 291ms\tremaining: 210ms\n",
      "58:\tlearn: 0.4065241\ttotal: 296ms\tremaining: 206ms\n",
      "59:\tlearn: 0.4033178\ttotal: 303ms\tremaining: 202ms\n",
      "60:\tlearn: 0.4003131\ttotal: 308ms\tremaining: 197ms\n",
      "61:\tlearn: 0.3974520\ttotal: 312ms\tremaining: 191ms\n",
      "62:\tlearn: 0.3947150\ttotal: 319ms\tremaining: 187ms\n",
      "63:\tlearn: 0.3919395\ttotal: 324ms\tremaining: 182ms\n",
      "64:\tlearn: 0.3891068\ttotal: 329ms\tremaining: 177ms\n",
      "65:\tlearn: 0.3865222\ttotal: 335ms\tremaining: 172ms\n",
      "66:\tlearn: 0.3837692\ttotal: 339ms\tremaining: 167ms\n",
      "67:\tlearn: 0.3810688\ttotal: 344ms\tremaining: 162ms\n",
      "68:\tlearn: 0.3782915\ttotal: 351ms\tremaining: 158ms\n",
      "69:\tlearn: 0.3754000\ttotal: 355ms\tremaining: 152ms\n",
      "70:\tlearn: 0.3728009\ttotal: 360ms\tremaining: 147ms\n",
      "71:\tlearn: 0.3703186\ttotal: 366ms\tremaining: 142ms\n",
      "72:\tlearn: 0.3677672\ttotal: 371ms\tremaining: 137ms\n",
      "73:\tlearn: 0.3651660\ttotal: 377ms\tremaining: 132ms\n",
      "74:\tlearn: 0.3629026\ttotal: 382ms\tremaining: 127ms\n",
      "75:\tlearn: 0.3605328\ttotal: 386ms\tremaining: 122ms\n",
      "76:\tlearn: 0.3582823\ttotal: 391ms\tremaining: 117ms\n",
      "77:\tlearn: 0.3560033\ttotal: 397ms\tremaining: 112ms\n",
      "78:\tlearn: 0.3536558\ttotal: 402ms\tremaining: 107ms\n",
      "79:\tlearn: 0.3514554\ttotal: 406ms\tremaining: 101ms\n",
      "80:\tlearn: 0.3490179\ttotal: 412ms\tremaining: 96.6ms\n",
      "81:\tlearn: 0.3466502\ttotal: 417ms\tremaining: 91.5ms\n",
      "82:\tlearn: 0.3443985\ttotal: 422ms\tremaining: 86.4ms\n",
      "83:\tlearn: 0.3422204\ttotal: 427ms\tremaining: 81.2ms\n",
      "84:\tlearn: 0.3399926\ttotal: 432ms\tremaining: 76.3ms\n",
      "85:\tlearn: 0.3379902\ttotal: 438ms\tremaining: 71.2ms\n",
      "86:\tlearn: 0.3358841\ttotal: 443ms\tremaining: 66.2ms\n",
      "87:\tlearn: 0.3337501\ttotal: 448ms\tremaining: 61.1ms\n",
      "88:\tlearn: 0.3317012\ttotal: 452ms\tremaining: 55.9ms\n",
      "89:\tlearn: 0.3295363\ttotal: 456ms\tremaining: 50.7ms\n",
      "90:\tlearn: 0.3275795\ttotal: 462ms\tremaining: 45.7ms\n",
      "91:\tlearn: 0.3257642\ttotal: 466ms\tremaining: 40.5ms\n",
      "92:\tlearn: 0.3237579\ttotal: 470ms\tremaining: 35.3ms\n",
      "93:\tlearn: 0.3218461\ttotal: 473ms\tremaining: 30.2ms\n",
      "94:\tlearn: 0.3198846\ttotal: 479ms\tremaining: 25.2ms\n",
      "95:\tlearn: 0.3179581\ttotal: 482ms\tremaining: 20.1ms\n",
      "96:\tlearn: 0.3158788\ttotal: 486ms\tremaining: 15ms\n",
      "97:\tlearn: 0.3139473\ttotal: 490ms\tremaining: 10ms\n",
      "98:\tlearn: 0.3122097\ttotal: 494ms\tremaining: 4.99ms\n",
      "99:\tlearn: 0.3102666\ttotal: 498ms\tremaining: 0us\n",
      "0:\tlearn: 0.6856907\ttotal: 5.17ms\tremaining: 511ms\n",
      "1:\tlearn: 0.6787665\ttotal: 10.2ms\tremaining: 499ms\n",
      "2:\tlearn: 0.6718588\ttotal: 14.9ms\tremaining: 483ms\n",
      "3:\tlearn: 0.6648862\ttotal: 18.9ms\tremaining: 453ms\n",
      "4:\tlearn: 0.6581649\ttotal: 24.2ms\tremaining: 461ms\n",
      "5:\tlearn: 0.6517039\ttotal: 28.2ms\tremaining: 442ms\n",
      "6:\tlearn: 0.6455316\ttotal: 32.5ms\tremaining: 432ms\n",
      "7:\tlearn: 0.6392471\ttotal: 36.3ms\tremaining: 418ms\n",
      "8:\tlearn: 0.6333275\ttotal: 42.2ms\tremaining: 426ms\n",
      "9:\tlearn: 0.6275093\ttotal: 46.7ms\tremaining: 420ms\n",
      "10:\tlearn: 0.6214256\ttotal: 50.9ms\tremaining: 412ms\n",
      "11:\tlearn: 0.6153829\ttotal: 56.3ms\tremaining: 413ms\n",
      "12:\tlearn: 0.6095537\ttotal: 60.3ms\tremaining: 404ms\n",
      "13:\tlearn: 0.6041448\ttotal: 64.1ms\tremaining: 394ms\n",
      "14:\tlearn: 0.5983108\ttotal: 67.8ms\tremaining: 384ms\n",
      "15:\tlearn: 0.5929178\ttotal: 73.6ms\tremaining: 386ms\n",
      "16:\tlearn: 0.5878371\ttotal: 77.4ms\tremaining: 378ms\n",
      "17:\tlearn: 0.5825758\ttotal: 81.5ms\tremaining: 371ms\n",
      "18:\tlearn: 0.5775467\ttotal: 84.3ms\tremaining: 359ms\n",
      "19:\tlearn: 0.5724728\ttotal: 89.9ms\tremaining: 360ms\n",
      "20:\tlearn: 0.5679535\ttotal: 93.8ms\tremaining: 353ms\n",
      "21:\tlearn: 0.5629181\ttotal: 97.5ms\tremaining: 346ms\n",
      "22:\tlearn: 0.5579767\ttotal: 102ms\tremaining: 340ms\n",
      "23:\tlearn: 0.5535368\ttotal: 107ms\tremaining: 339ms\n",
      "24:\tlearn: 0.5489229\ttotal: 111ms\tremaining: 333ms\n",
      "25:\tlearn: 0.5443440\ttotal: 115ms\tremaining: 327ms\n",
      "26:\tlearn: 0.5394771\ttotal: 120ms\tremaining: 326ms\n",
      "27:\tlearn: 0.5353213\ttotal: 125ms\tremaining: 320ms\n",
      "28:\tlearn: 0.5305685\ttotal: 129ms\tremaining: 315ms\n",
      "29:\tlearn: 0.5262870\ttotal: 133ms\tremaining: 310ms\n",
      "30:\tlearn: 0.5218351\ttotal: 138ms\tremaining: 308ms\n",
      "31:\tlearn: 0.5176537\ttotal: 142ms\tremaining: 302ms\n",
      "32:\tlearn: 0.5133680\ttotal: 146ms\tremaining: 297ms\n",
      "33:\tlearn: 0.5091920\ttotal: 151ms\tremaining: 293ms\n",
      "34:\tlearn: 0.5053477\ttotal: 156ms\tremaining: 289ms\n",
      "35:\tlearn: 0.5012422\ttotal: 160ms\tremaining: 285ms\n",
      "36:\tlearn: 0.4973148\ttotal: 164ms\tremaining: 279ms\n",
      "37:\tlearn: 0.4934451\ttotal: 170ms\tremaining: 277ms\n",
      "38:\tlearn: 0.4898143\ttotal: 175ms\tremaining: 273ms\n",
      "39:\tlearn: 0.4862619\ttotal: 179ms\tremaining: 269ms\n",
      "40:\tlearn: 0.4828050\ttotal: 184ms\tremaining: 265ms\n",
      "41:\tlearn: 0.4791659\ttotal: 189ms\tremaining: 261ms\n",
      "42:\tlearn: 0.4754195\ttotal: 194ms\tremaining: 257ms\n",
      "43:\tlearn: 0.4719957\ttotal: 198ms\tremaining: 252ms\n",
      "44:\tlearn: 0.4685331\ttotal: 203ms\tremaining: 248ms\n",
      "45:\tlearn: 0.4651532\ttotal: 208ms\tremaining: 245ms\n",
      "46:\tlearn: 0.4616094\ttotal: 213ms\tremaining: 241ms\n",
      "47:\tlearn: 0.4583692\ttotal: 220ms\tremaining: 238ms\n",
      "48:\tlearn: 0.4555046\ttotal: 227ms\tremaining: 236ms\n",
      "49:\tlearn: 0.4520725\ttotal: 231ms\tremaining: 231ms\n",
      "50:\tlearn: 0.4489503\ttotal: 237ms\tremaining: 227ms\n",
      "51:\tlearn: 0.4456646\ttotal: 241ms\tremaining: 222ms\n",
      "52:\tlearn: 0.4423915\ttotal: 245ms\tremaining: 218ms\n",
      "53:\tlearn: 0.4396721\ttotal: 250ms\tremaining: 213ms\n",
      "54:\tlearn: 0.4365644\ttotal: 255ms\tremaining: 209ms\n",
      "55:\tlearn: 0.4335057\ttotal: 259ms\tremaining: 204ms\n",
      "56:\tlearn: 0.4307900\ttotal: 263ms\tremaining: 198ms\n",
      "57:\tlearn: 0.4278464\ttotal: 268ms\tremaining: 194ms\n",
      "58:\tlearn: 0.4252512\ttotal: 272ms\tremaining: 189ms\n",
      "59:\tlearn: 0.4227246\ttotal: 277ms\tremaining: 185ms\n",
      "60:\tlearn: 0.4199043\ttotal: 283ms\tremaining: 181ms\n",
      "61:\tlearn: 0.4169646\ttotal: 287ms\tremaining: 176ms\n",
      "62:\tlearn: 0.4143145\ttotal: 292ms\tremaining: 171ms\n",
      "63:\tlearn: 0.4115689\ttotal: 297ms\tremaining: 167ms\n",
      "64:\tlearn: 0.4088153\ttotal: 302ms\tremaining: 163ms\n",
      "65:\tlearn: 0.4061709\ttotal: 307ms\tremaining: 158ms\n",
      "66:\tlearn: 0.4035599\ttotal: 313ms\tremaining: 154ms\n",
      "67:\tlearn: 0.4010362\ttotal: 318ms\tremaining: 150ms\n",
      "68:\tlearn: 0.3985977\ttotal: 324ms\tremaining: 146ms\n",
      "69:\tlearn: 0.3959101\ttotal: 332ms\tremaining: 142ms\n",
      "70:\tlearn: 0.3935760\ttotal: 337ms\tremaining: 137ms\n",
      "71:\tlearn: 0.3910900\ttotal: 342ms\tremaining: 133ms\n",
      "72:\tlearn: 0.3887048\ttotal: 348ms\tremaining: 129ms\n",
      "73:\tlearn: 0.3863036\ttotal: 354ms\tremaining: 124ms\n",
      "74:\tlearn: 0.3839598\ttotal: 359ms\tremaining: 120ms\n",
      "75:\tlearn: 0.3818069\ttotal: 365ms\tremaining: 115ms\n",
      "76:\tlearn: 0.3793881\ttotal: 370ms\tremaining: 110ms\n",
      "77:\tlearn: 0.3771906\ttotal: 375ms\tremaining: 106ms\n",
      "78:\tlearn: 0.3749680\ttotal: 381ms\tremaining: 101ms\n",
      "79:\tlearn: 0.3727161\ttotal: 386ms\tremaining: 96.6ms\n",
      "80:\tlearn: 0.3704108\ttotal: 392ms\tremaining: 91.9ms\n",
      "81:\tlearn: 0.3681472\ttotal: 398ms\tremaining: 87.3ms\n",
      "82:\tlearn: 0.3659494\ttotal: 402ms\tremaining: 82.4ms\n",
      "83:\tlearn: 0.3638484\ttotal: 411ms\tremaining: 78.2ms\n",
      "84:\tlearn: 0.3618487\ttotal: 418ms\tremaining: 73.7ms\n",
      "85:\tlearn: 0.3601133\ttotal: 426ms\tremaining: 69.4ms\n",
      "86:\tlearn: 0.3581474\ttotal: 431ms\tremaining: 64.5ms\n",
      "87:\tlearn: 0.3560839\ttotal: 437ms\tremaining: 59.5ms\n",
      "88:\tlearn: 0.3541113\ttotal: 441ms\tremaining: 54.6ms\n",
      "89:\tlearn: 0.3522589\ttotal: 447ms\tremaining: 49.6ms\n",
      "90:\tlearn: 0.3502996\ttotal: 452ms\tremaining: 44.7ms\n",
      "91:\tlearn: 0.3485239\ttotal: 456ms\tremaining: 39.6ms\n",
      "92:\tlearn: 0.3466173\ttotal: 461ms\tremaining: 34.7ms\n",
      "93:\tlearn: 0.3448037\ttotal: 465ms\tremaining: 29.7ms\n",
      "94:\tlearn: 0.3429286\ttotal: 469ms\tremaining: 24.7ms\n",
      "95:\tlearn: 0.3411279\ttotal: 473ms\tremaining: 19.7ms\n",
      "96:\tlearn: 0.3392399\ttotal: 478ms\tremaining: 14.8ms\n",
      "97:\tlearn: 0.3375579\ttotal: 483ms\tremaining: 9.85ms\n",
      "98:\tlearn: 0.3356921\ttotal: 487ms\tremaining: 4.92ms\n",
      "99:\tlearn: 0.3341796\ttotal: 491ms\tremaining: 0us\n",
      "0:\tlearn: 0.6857439\ttotal: 9.96ms\tremaining: 986ms\n",
      "1:\tlearn: 0.6786325\ttotal: 14.4ms\tremaining: 705ms\n",
      "2:\tlearn: 0.6718318\ttotal: 19.7ms\tremaining: 638ms\n",
      "3:\tlearn: 0.6655208\ttotal: 24.4ms\tremaining: 585ms\n",
      "4:\tlearn: 0.6587872\ttotal: 28.9ms\tremaining: 549ms\n",
      "5:\tlearn: 0.6524286\ttotal: 34.5ms\tremaining: 541ms\n",
      "6:\tlearn: 0.6462956\ttotal: 38.6ms\tremaining: 512ms\n",
      "7:\tlearn: 0.6400250\ttotal: 42.8ms\tremaining: 492ms\n",
      "8:\tlearn: 0.6340868\ttotal: 47.4ms\tremaining: 480ms\n",
      "9:\tlearn: 0.6279039\ttotal: 51.6ms\tremaining: 464ms\n",
      "10:\tlearn: 0.6224167\ttotal: 55.5ms\tremaining: 449ms\n",
      "11:\tlearn: 0.6168234\ttotal: 59.2ms\tremaining: 434ms\n",
      "12:\tlearn: 0.6111703\ttotal: 63.4ms\tremaining: 424ms\n",
      "13:\tlearn: 0.6053537\ttotal: 67.5ms\tremaining: 415ms\n",
      "14:\tlearn: 0.5997116\ttotal: 71.2ms\tremaining: 404ms\n",
      "15:\tlearn: 0.5944005\ttotal: 75.1ms\tremaining: 394ms\n",
      "16:\tlearn: 0.5893364\ttotal: 79.9ms\tremaining: 390ms\n",
      "17:\tlearn: 0.5843481\ttotal: 82.9ms\tremaining: 378ms\n",
      "18:\tlearn: 0.5797703\ttotal: 87ms\tremaining: 371ms\n",
      "19:\tlearn: 0.5746861\ttotal: 90.7ms\tremaining: 363ms\n",
      "20:\tlearn: 0.5694507\ttotal: 95.1ms\tremaining: 358ms\n",
      "21:\tlearn: 0.5644884\ttotal: 98.9ms\tremaining: 351ms\n",
      "22:\tlearn: 0.5596103\ttotal: 103ms\tremaining: 344ms\n",
      "23:\tlearn: 0.5547768\ttotal: 106ms\tremaining: 337ms\n",
      "24:\tlearn: 0.5502938\ttotal: 112ms\tremaining: 336ms\n",
      "25:\tlearn: 0.5456924\ttotal: 116ms\tremaining: 330ms\n",
      "26:\tlearn: 0.5409417\ttotal: 120ms\tremaining: 324ms\n",
      "27:\tlearn: 0.5368891\ttotal: 125ms\tremaining: 322ms\n",
      "28:\tlearn: 0.5325783\ttotal: 129ms\tremaining: 317ms\n",
      "29:\tlearn: 0.5283602\ttotal: 134ms\tremaining: 312ms\n",
      "30:\tlearn: 0.5244334\ttotal: 138ms\tremaining: 307ms\n",
      "31:\tlearn: 0.5206001\ttotal: 144ms\tremaining: 307ms\n",
      "32:\tlearn: 0.5164315\ttotal: 148ms\tremaining: 301ms\n",
      "33:\tlearn: 0.5121677\ttotal: 153ms\tremaining: 296ms\n",
      "34:\tlearn: 0.5082071\ttotal: 157ms\tremaining: 292ms\n",
      "35:\tlearn: 0.5041368\ttotal: 163ms\tremaining: 289ms\n",
      "36:\tlearn: 0.5003284\ttotal: 166ms\tremaining: 283ms\n",
      "37:\tlearn: 0.4965140\ttotal: 171ms\tremaining: 279ms\n",
      "38:\tlearn: 0.4929157\ttotal: 175ms\tremaining: 274ms\n",
      "39:\tlearn: 0.4893164\ttotal: 179ms\tremaining: 269ms\n",
      "40:\tlearn: 0.4860976\ttotal: 184ms\tremaining: 264ms\n",
      "41:\tlearn: 0.4828671\ttotal: 188ms\tremaining: 260ms\n",
      "42:\tlearn: 0.4791370\ttotal: 193ms\tremaining: 256ms\n",
      "43:\tlearn: 0.4755163\ttotal: 198ms\tremaining: 252ms\n",
      "44:\tlearn: 0.4718770\ttotal: 203ms\tremaining: 248ms\n",
      "45:\tlearn: 0.4682011\ttotal: 208ms\tremaining: 244ms\n",
      "46:\tlearn: 0.4647224\ttotal: 213ms\tremaining: 240ms\n",
      "47:\tlearn: 0.4619261\ttotal: 220ms\tremaining: 238ms\n",
      "48:\tlearn: 0.4591869\ttotal: 225ms\tremaining: 234ms\n",
      "49:\tlearn: 0.4559759\ttotal: 231ms\tremaining: 231ms\n",
      "50:\tlearn: 0.4528932\ttotal: 239ms\tremaining: 229ms\n",
      "51:\tlearn: 0.4496436\ttotal: 246ms\tremaining: 227ms\n",
      "52:\tlearn: 0.4464117\ttotal: 251ms\tremaining: 222ms\n",
      "53:\tlearn: 0.4432128\ttotal: 257ms\tremaining: 219ms\n",
      "54:\tlearn: 0.4403669\ttotal: 262ms\tremaining: 215ms\n",
      "55:\tlearn: 0.4373299\ttotal: 268ms\tremaining: 210ms\n",
      "56:\tlearn: 0.4346315\ttotal: 272ms\tremaining: 205ms\n",
      "57:\tlearn: 0.4317183\ttotal: 277ms\tremaining: 201ms\n",
      "58:\tlearn: 0.4291427\ttotal: 283ms\tremaining: 197ms\n",
      "59:\tlearn: 0.4263855\ttotal: 290ms\tremaining: 193ms\n",
      "60:\tlearn: 0.4236059\ttotal: 294ms\tremaining: 188ms\n",
      "61:\tlearn: 0.4207152\ttotal: 299ms\tremaining: 183ms\n",
      "62:\tlearn: 0.4180238\ttotal: 304ms\tremaining: 179ms\n",
      "63:\tlearn: 0.4153807\ttotal: 309ms\tremaining: 174ms\n",
      "64:\tlearn: 0.4126779\ttotal: 314ms\tremaining: 169ms\n",
      "65:\tlearn: 0.4101240\ttotal: 319ms\tremaining: 164ms\n",
      "66:\tlearn: 0.4075254\ttotal: 323ms\tremaining: 159ms\n",
      "67:\tlearn: 0.4049859\ttotal: 328ms\tremaining: 154ms\n",
      "68:\tlearn: 0.4026303\ttotal: 332ms\tremaining: 149ms\n",
      "69:\tlearn: 0.4001733\ttotal: 338ms\tremaining: 145ms\n",
      "70:\tlearn: 0.3978526\ttotal: 342ms\tremaining: 140ms\n",
      "71:\tlearn: 0.3953616\ttotal: 346ms\tremaining: 135ms\n",
      "72:\tlearn: 0.3929283\ttotal: 350ms\tremaining: 129ms\n",
      "73:\tlearn: 0.3904963\ttotal: 354ms\tremaining: 124ms\n",
      "74:\tlearn: 0.3881502\ttotal: 358ms\tremaining: 119ms\n",
      "75:\tlearn: 0.3860685\ttotal: 363ms\tremaining: 115ms\n",
      "76:\tlearn: 0.3836609\ttotal: 367ms\tremaining: 110ms\n",
      "77:\tlearn: 0.3815668\ttotal: 371ms\tremaining: 105ms\n",
      "78:\tlearn: 0.3792188\ttotal: 376ms\tremaining: 100ms\n",
      "79:\tlearn: 0.3771057\ttotal: 380ms\tremaining: 95ms\n",
      "80:\tlearn: 0.3748279\ttotal: 385ms\tremaining: 90.3ms\n",
      "81:\tlearn: 0.3726505\ttotal: 389ms\tremaining: 85.5ms\n",
      "82:\tlearn: 0.3706978\ttotal: 393ms\tremaining: 80.6ms\n",
      "83:\tlearn: 0.3686711\ttotal: 398ms\tremaining: 75.8ms\n",
      "84:\tlearn: 0.3666987\ttotal: 402ms\tremaining: 71ms\n",
      "85:\tlearn: 0.3648922\ttotal: 407ms\tremaining: 66.2ms\n",
      "86:\tlearn: 0.3629809\ttotal: 411ms\tremaining: 61.4ms\n",
      "87:\tlearn: 0.3610626\ttotal: 415ms\tremaining: 56.6ms\n",
      "88:\tlearn: 0.3590514\ttotal: 421ms\tremaining: 52ms\n",
      "89:\tlearn: 0.3571928\ttotal: 426ms\tremaining: 47.3ms\n",
      "90:\tlearn: 0.3552954\ttotal: 431ms\tremaining: 42.6ms\n",
      "91:\tlearn: 0.3533917\ttotal: 437ms\tremaining: 38ms\n",
      "92:\tlearn: 0.3515310\ttotal: 443ms\tremaining: 33.4ms\n",
      "93:\tlearn: 0.3497808\ttotal: 449ms\tremaining: 28.6ms\n",
      "94:\tlearn: 0.3480075\ttotal: 455ms\tremaining: 24ms\n",
      "95:\tlearn: 0.3462136\ttotal: 460ms\tremaining: 19.1ms\n",
      "96:\tlearn: 0.3443830\ttotal: 464ms\tremaining: 14.3ms\n",
      "97:\tlearn: 0.3427888\ttotal: 471ms\tremaining: 9.6ms\n",
      "98:\tlearn: 0.3408493\ttotal: 475ms\tremaining: 4.79ms\n",
      "99:\tlearn: 0.3393492\ttotal: 478ms\tremaining: 0us\n",
      "0:\tlearn: 0.6856687\ttotal: 4.34ms\tremaining: 430ms\n",
      "1:\tlearn: 0.6785141\ttotal: 8.71ms\tremaining: 427ms\n",
      "2:\tlearn: 0.6716302\ttotal: 12.9ms\tremaining: 417ms\n",
      "3:\tlearn: 0.6646468\ttotal: 16.7ms\tremaining: 401ms\n",
      "4:\tlearn: 0.6579165\ttotal: 20.7ms\tremaining: 393ms\n",
      "5:\tlearn: 0.6514442\ttotal: 25.1ms\tremaining: 393ms\n",
      "6:\tlearn: 0.6450931\ttotal: 29.2ms\tremaining: 388ms\n",
      "7:\tlearn: 0.6384688\ttotal: 33ms\tremaining: 380ms\n",
      "8:\tlearn: 0.6323457\ttotal: 37.2ms\tremaining: 376ms\n",
      "9:\tlearn: 0.6263579\ttotal: 41.6ms\tremaining: 375ms\n",
      "10:\tlearn: 0.6203398\ttotal: 45.3ms\tremaining: 367ms\n",
      "11:\tlearn: 0.6141612\ttotal: 49.2ms\tremaining: 361ms\n",
      "12:\tlearn: 0.6081169\ttotal: 52.9ms\tremaining: 354ms\n",
      "13:\tlearn: 0.6024225\ttotal: 58.3ms\tremaining: 358ms\n",
      "14:\tlearn: 0.5967096\ttotal: 63.8ms\tremaining: 361ms\n",
      "15:\tlearn: 0.5913533\ttotal: 69.2ms\tremaining: 363ms\n",
      "16:\tlearn: 0.5862291\ttotal: 75.6ms\tremaining: 369ms\n",
      "17:\tlearn: 0.5810923\ttotal: 81.2ms\tremaining: 370ms\n",
      "18:\tlearn: 0.5757232\ttotal: 85.3ms\tremaining: 363ms\n",
      "19:\tlearn: 0.5707360\ttotal: 90.9ms\tremaining: 364ms\n",
      "20:\tlearn: 0.5653357\ttotal: 96.2ms\tremaining: 362ms\n",
      "21:\tlearn: 0.5601706\ttotal: 102ms\tremaining: 361ms\n",
      "22:\tlearn: 0.5553143\ttotal: 108ms\tremaining: 360ms\n",
      "23:\tlearn: 0.5503438\ttotal: 112ms\tremaining: 355ms\n",
      "24:\tlearn: 0.5458733\ttotal: 116ms\tremaining: 349ms\n",
      "25:\tlearn: 0.5409998\ttotal: 120ms\tremaining: 342ms\n",
      "26:\tlearn: 0.5363078\ttotal: 124ms\tremaining: 335ms\n",
      "27:\tlearn: 0.5316262\ttotal: 128ms\tremaining: 330ms\n",
      "28:\tlearn: 0.5269484\ttotal: 132ms\tremaining: 324ms\n",
      "29:\tlearn: 0.5227230\ttotal: 136ms\tremaining: 318ms\n",
      "30:\tlearn: 0.5189287\ttotal: 141ms\tremaining: 313ms\n",
      "31:\tlearn: 0.5146363\ttotal: 145ms\tremaining: 307ms\n",
      "32:\tlearn: 0.5104089\ttotal: 149ms\tremaining: 302ms\n",
      "33:\tlearn: 0.5062006\ttotal: 153ms\tremaining: 296ms\n",
      "34:\tlearn: 0.5019495\ttotal: 157ms\tremaining: 292ms\n",
      "35:\tlearn: 0.4978543\ttotal: 161ms\tremaining: 287ms\n",
      "36:\tlearn: 0.4940072\ttotal: 165ms\tremaining: 282ms\n",
      "37:\tlearn: 0.4899292\ttotal: 170ms\tremaining: 278ms\n",
      "38:\tlearn: 0.4863632\ttotal: 176ms\tremaining: 275ms\n",
      "39:\tlearn: 0.4826960\ttotal: 180ms\tremaining: 270ms\n",
      "40:\tlearn: 0.4792131\ttotal: 184ms\tremaining: 265ms\n",
      "41:\tlearn: 0.4756003\ttotal: 188ms\tremaining: 260ms\n",
      "42:\tlearn: 0.4719352\ttotal: 192ms\tremaining: 255ms\n",
      "43:\tlearn: 0.4685225\ttotal: 196ms\tremaining: 250ms\n",
      "44:\tlearn: 0.4646964\ttotal: 200ms\tremaining: 245ms\n",
      "45:\tlearn: 0.4610370\ttotal: 204ms\tremaining: 240ms\n",
      "46:\tlearn: 0.4574351\ttotal: 210ms\tremaining: 237ms\n",
      "47:\tlearn: 0.4542678\ttotal: 215ms\tremaining: 233ms\n",
      "48:\tlearn: 0.4510101\ttotal: 220ms\tremaining: 229ms\n",
      "49:\tlearn: 0.4478907\ttotal: 226ms\tremaining: 226ms\n",
      "50:\tlearn: 0.4445371\ttotal: 231ms\tremaining: 222ms\n",
      "51:\tlearn: 0.4412367\ttotal: 235ms\tremaining: 217ms\n",
      "52:\tlearn: 0.4380922\ttotal: 239ms\tremaining: 212ms\n",
      "53:\tlearn: 0.4350890\ttotal: 243ms\tremaining: 207ms\n",
      "54:\tlearn: 0.4320393\ttotal: 247ms\tremaining: 202ms\n",
      "55:\tlearn: 0.4290314\ttotal: 252ms\tremaining: 198ms\n",
      "56:\tlearn: 0.4260461\ttotal: 255ms\tremaining: 193ms\n",
      "57:\tlearn: 0.4228889\ttotal: 259ms\tremaining: 188ms\n",
      "58:\tlearn: 0.4202305\ttotal: 263ms\tremaining: 183ms\n",
      "59:\tlearn: 0.4173388\ttotal: 267ms\tremaining: 178ms\n",
      "60:\tlearn: 0.4142818\ttotal: 272ms\tremaining: 174ms\n",
      "61:\tlearn: 0.4120081\ttotal: 276ms\tremaining: 169ms\n",
      "62:\tlearn: 0.4091327\ttotal: 280ms\tremaining: 164ms\n",
      "63:\tlearn: 0.4064300\ttotal: 285ms\tremaining: 160ms\n",
      "64:\tlearn: 0.4037928\ttotal: 288ms\tremaining: 155ms\n",
      "65:\tlearn: 0.4012757\ttotal: 292ms\tremaining: 150ms\n",
      "66:\tlearn: 0.3985401\ttotal: 295ms\tremaining: 146ms\n",
      "67:\tlearn: 0.3957986\ttotal: 300ms\tremaining: 141ms\n",
      "68:\tlearn: 0.3930538\ttotal: 304ms\tremaining: 137ms\n",
      "69:\tlearn: 0.3904026\ttotal: 308ms\tremaining: 132ms\n",
      "70:\tlearn: 0.3879224\ttotal: 313ms\tremaining: 128ms\n",
      "71:\tlearn: 0.3854685\ttotal: 317ms\tremaining: 123ms\n",
      "72:\tlearn: 0.3828273\ttotal: 321ms\tremaining: 119ms\n",
      "73:\tlearn: 0.3804491\ttotal: 325ms\tremaining: 114ms\n",
      "74:\tlearn: 0.3781695\ttotal: 329ms\tremaining: 110ms\n",
      "75:\tlearn: 0.3760614\ttotal: 333ms\tremaining: 105ms\n",
      "76:\tlearn: 0.3737339\ttotal: 337ms\tremaining: 101ms\n",
      "77:\tlearn: 0.3714026\ttotal: 341ms\tremaining: 96.2ms\n",
      "78:\tlearn: 0.3693576\ttotal: 345ms\tremaining: 91.8ms\n",
      "79:\tlearn: 0.3670967\ttotal: 350ms\tremaining: 87.4ms\n",
      "80:\tlearn: 0.3647420\ttotal: 353ms\tremaining: 82.9ms\n",
      "81:\tlearn: 0.3623900\ttotal: 357ms\tremaining: 78.5ms\n",
      "82:\tlearn: 0.3603879\ttotal: 362ms\tremaining: 74.1ms\n",
      "83:\tlearn: 0.3581389\ttotal: 366ms\tremaining: 69.7ms\n",
      "84:\tlearn: 0.3562202\ttotal: 370ms\tremaining: 65.3ms\n",
      "85:\tlearn: 0.3542813\ttotal: 374ms\tremaining: 60.9ms\n",
      "86:\tlearn: 0.3522068\ttotal: 378ms\tremaining: 56.5ms\n",
      "87:\tlearn: 0.3501392\ttotal: 382ms\tremaining: 52.1ms\n",
      "88:\tlearn: 0.3480102\ttotal: 386ms\tremaining: 47.7ms\n",
      "89:\tlearn: 0.3461343\ttotal: 390ms\tremaining: 43.3ms\n",
      "90:\tlearn: 0.3441221\ttotal: 394ms\tremaining: 39ms\n",
      "91:\tlearn: 0.3421606\ttotal: 398ms\tremaining: 34.6ms\n",
      "92:\tlearn: 0.3402686\ttotal: 402ms\tremaining: 30.3ms\n",
      "93:\tlearn: 0.3383547\ttotal: 408ms\tremaining: 26ms\n",
      "94:\tlearn: 0.3365490\ttotal: 413ms\tremaining: 21.7ms\n",
      "95:\tlearn: 0.3345246\ttotal: 418ms\tremaining: 17.4ms\n",
      "96:\tlearn: 0.3326365\ttotal: 423ms\tremaining: 13.1ms\n",
      "97:\tlearn: 0.3307211\ttotal: 429ms\tremaining: 8.76ms\n",
      "98:\tlearn: 0.3287999\ttotal: 433ms\tremaining: 4.37ms\n",
      "99:\tlearn: 0.3272553\ttotal: 437ms\tremaining: 0us\n",
      "0:\tlearn: 0.6857272\ttotal: 5.45ms\tremaining: 539ms\n",
      "1:\tlearn: 0.6785665\ttotal: 11.3ms\tremaining: 552ms\n",
      "2:\tlearn: 0.6716834\ttotal: 17ms\tremaining: 548ms\n",
      "3:\tlearn: 0.6646877\ttotal: 23ms\tremaining: 552ms\n",
      "4:\tlearn: 0.6579378\ttotal: 27.7ms\tremaining: 526ms\n",
      "5:\tlearn: 0.6514637\ttotal: 33.3ms\tremaining: 522ms\n",
      "6:\tlearn: 0.6451328\ttotal: 38ms\tremaining: 505ms\n",
      "7:\tlearn: 0.6385272\ttotal: 42.3ms\tremaining: 486ms\n",
      "8:\tlearn: 0.6324309\ttotal: 47.8ms\tremaining: 483ms\n",
      "9:\tlearn: 0.6266967\ttotal: 51.5ms\tremaining: 463ms\n",
      "10:\tlearn: 0.6205437\ttotal: 55.4ms\tremaining: 448ms\n",
      "11:\tlearn: 0.6144080\ttotal: 60.1ms\tremaining: 441ms\n",
      "12:\tlearn: 0.6084127\ttotal: 65.5ms\tremaining: 438ms\n",
      "13:\tlearn: 0.6027083\ttotal: 69.2ms\tremaining: 425ms\n",
      "14:\tlearn: 0.5970354\ttotal: 74.1ms\tremaining: 420ms\n",
      "15:\tlearn: 0.5919052\ttotal: 80ms\tremaining: 420ms\n",
      "16:\tlearn: 0.5867404\ttotal: 83.8ms\tremaining: 409ms\n",
      "17:\tlearn: 0.5816119\ttotal: 88.5ms\tremaining: 403ms\n",
      "18:\tlearn: 0.5764477\ttotal: 91.5ms\tremaining: 390ms\n",
      "19:\tlearn: 0.5717719\ttotal: 96.9ms\tremaining: 387ms\n",
      "20:\tlearn: 0.5663614\ttotal: 101ms\tremaining: 378ms\n",
      "21:\tlearn: 0.5611832\ttotal: 105ms\tremaining: 372ms\n",
      "22:\tlearn: 0.5563423\ttotal: 110ms\tremaining: 368ms\n",
      "23:\tlearn: 0.5513457\ttotal: 114ms\tremaining: 361ms\n",
      "24:\tlearn: 0.5469780\ttotal: 118ms\tremaining: 355ms\n",
      "25:\tlearn: 0.5421153\ttotal: 122ms\tremaining: 347ms\n",
      "26:\tlearn: 0.5372804\ttotal: 128ms\tremaining: 346ms\n",
      "27:\tlearn: 0.5325644\ttotal: 133ms\tremaining: 343ms\n",
      "28:\tlearn: 0.5278664\ttotal: 138ms\tremaining: 337ms\n",
      "29:\tlearn: 0.5236495\ttotal: 145ms\tremaining: 337ms\n",
      "30:\tlearn: 0.5191646\ttotal: 150ms\tremaining: 333ms\n",
      "31:\tlearn: 0.5147070\ttotal: 154ms\tremaining: 327ms\n",
      "32:\tlearn: 0.5104406\ttotal: 159ms\tremaining: 323ms\n",
      "33:\tlearn: 0.5061589\ttotal: 163ms\tremaining: 317ms\n",
      "34:\tlearn: 0.5019279\ttotal: 168ms\tremaining: 311ms\n",
      "35:\tlearn: 0.4978448\ttotal: 173ms\tremaining: 307ms\n",
      "36:\tlearn: 0.4940412\ttotal: 179ms\tremaining: 305ms\n",
      "37:\tlearn: 0.4903858\ttotal: 184ms\tremaining: 300ms\n",
      "38:\tlearn: 0.4868820\ttotal: 188ms\tremaining: 295ms\n",
      "39:\tlearn: 0.4833494\ttotal: 194ms\tremaining: 291ms\n",
      "40:\tlearn: 0.4799736\ttotal: 200ms\tremaining: 287ms\n",
      "41:\tlearn: 0.4765339\ttotal: 204ms\tremaining: 282ms\n",
      "42:\tlearn: 0.4728332\ttotal: 212ms\tremaining: 281ms\n",
      "43:\tlearn: 0.4695277\ttotal: 218ms\tremaining: 277ms\n",
      "44:\tlearn: 0.4658867\ttotal: 224ms\tremaining: 274ms\n",
      "45:\tlearn: 0.4622711\ttotal: 231ms\tremaining: 271ms\n",
      "46:\tlearn: 0.4587477\ttotal: 239ms\tremaining: 269ms\n",
      "47:\tlearn: 0.4553605\ttotal: 246ms\tremaining: 266ms\n",
      "48:\tlearn: 0.4523702\ttotal: 251ms\tremaining: 261ms\n",
      "49:\tlearn: 0.4492097\ttotal: 258ms\tremaining: 258ms\n",
      "50:\tlearn: 0.4460358\ttotal: 263ms\tremaining: 252ms\n",
      "51:\tlearn: 0.4427294\ttotal: 267ms\tremaining: 246ms\n",
      "52:\tlearn: 0.4397118\ttotal: 272ms\tremaining: 241ms\n",
      "53:\tlearn: 0.4363529\ttotal: 277ms\tremaining: 236ms\n",
      "54:\tlearn: 0.4336387\ttotal: 281ms\tremaining: 230ms\n",
      "55:\tlearn: 0.4304554\ttotal: 286ms\tremaining: 224ms\n",
      "56:\tlearn: 0.4275128\ttotal: 292ms\tremaining: 220ms\n",
      "57:\tlearn: 0.4246928\ttotal: 295ms\tremaining: 214ms\n",
      "58:\tlearn: 0.4221138\ttotal: 300ms\tremaining: 209ms\n",
      "59:\tlearn: 0.4196541\ttotal: 305ms\tremaining: 204ms\n",
      "60:\tlearn: 0.4166241\ttotal: 309ms\tremaining: 198ms\n",
      "61:\tlearn: 0.4139831\ttotal: 313ms\tremaining: 192ms\n",
      "62:\tlearn: 0.4111922\ttotal: 316ms\tremaining: 186ms\n",
      "63:\tlearn: 0.4085016\ttotal: 322ms\tremaining: 181ms\n",
      "64:\tlearn: 0.4057426\ttotal: 326ms\tremaining: 176ms\n",
      "65:\tlearn: 0.4029093\ttotal: 330ms\tremaining: 170ms\n",
      "66:\tlearn: 0.4003190\ttotal: 334ms\tremaining: 165ms\n",
      "67:\tlearn: 0.3979770\ttotal: 341ms\tremaining: 160ms\n",
      "68:\tlearn: 0.3955443\ttotal: 346ms\tremaining: 155ms\n",
      "69:\tlearn: 0.3929305\ttotal: 351ms\tremaining: 150ms\n",
      "70:\tlearn: 0.3906601\ttotal: 355ms\tremaining: 145ms\n",
      "71:\tlearn: 0.3880642\ttotal: 359ms\tremaining: 140ms\n",
      "72:\tlearn: 0.3858923\ttotal: 363ms\tremaining: 134ms\n",
      "73:\tlearn: 0.3836276\ttotal: 368ms\tremaining: 129ms\n",
      "74:\tlearn: 0.3810901\ttotal: 373ms\tremaining: 124ms\n",
      "75:\tlearn: 0.3787540\ttotal: 377ms\tremaining: 119ms\n",
      "76:\tlearn: 0.3763235\ttotal: 381ms\tremaining: 114ms\n",
      "77:\tlearn: 0.3739571\ttotal: 387ms\tremaining: 109ms\n",
      "78:\tlearn: 0.3715973\ttotal: 391ms\tremaining: 104ms\n",
      "79:\tlearn: 0.3692701\ttotal: 395ms\tremaining: 98.7ms\n",
      "80:\tlearn: 0.3670309\ttotal: 400ms\tremaining: 93.7ms\n",
      "81:\tlearn: 0.3647207\ttotal: 404ms\tremaining: 88.7ms\n",
      "82:\tlearn: 0.3623919\ttotal: 408ms\tremaining: 83.6ms\n",
      "83:\tlearn: 0.3602869\ttotal: 412ms\tremaining: 78.5ms\n",
      "84:\tlearn: 0.3581655\ttotal: 417ms\tremaining: 73.6ms\n",
      "85:\tlearn: 0.3561600\ttotal: 422ms\tremaining: 68.6ms\n",
      "86:\tlearn: 0.3541636\ttotal: 428ms\tremaining: 64ms\n",
      "87:\tlearn: 0.3520191\ttotal: 434ms\tremaining: 59.2ms\n",
      "88:\tlearn: 0.3500882\ttotal: 439ms\tremaining: 54.3ms\n",
      "89:\tlearn: 0.3482783\ttotal: 444ms\tremaining: 49.3ms\n",
      "90:\tlearn: 0.3463404\ttotal: 450ms\tremaining: 44.5ms\n",
      "91:\tlearn: 0.3444469\ttotal: 454ms\tremaining: 39.5ms\n",
      "92:\tlearn: 0.3426153\ttotal: 458ms\tremaining: 34.5ms\n",
      "93:\tlearn: 0.3405781\ttotal: 462ms\tremaining: 29.5ms\n",
      "94:\tlearn: 0.3386574\ttotal: 468ms\tremaining: 24.6ms\n",
      "95:\tlearn: 0.3367098\ttotal: 472ms\tremaining: 19.7ms\n",
      "96:\tlearn: 0.3348283\ttotal: 476ms\tremaining: 14.7ms\n",
      "97:\tlearn: 0.3331286\ttotal: 482ms\tremaining: 9.83ms\n",
      "98:\tlearn: 0.3313585\ttotal: 485ms\tremaining: 4.9ms\n",
      "99:\tlearn: 0.3295160\ttotal: 489ms\tremaining: 0us\n"
     ]
    },
    {
     "data": {
      "text/plain": [
       "0.43321633864121656"
      ]
     },
     "execution_count": 107,
     "metadata": {},
     "output_type": "execute_result"
    }
   ],
   "source": [
    "cross_val_score(clf_new, X_test_1, y_test_1, scoring = 'f1', cv=5).mean()"
   ]
  }
 ],
 "metadata": {
  "colab": {
   "provenance": []
  },
  "kernelspec": {
   "display_name": "Python 3 (ipykernel)",
   "language": "python",
   "name": "python3"
  },
  "language_info": {
   "codemirror_mode": {
    "name": "ipython",
    "version": 3
   },
   "file_extension": ".py",
   "mimetype": "text/x-python",
   "name": "python",
   "nbconvert_exporter": "python",
   "pygments_lexer": "ipython3",
   "version": "3.10.0"
  }
 },
 "nbformat": 4,
 "nbformat_minor": 4
}
