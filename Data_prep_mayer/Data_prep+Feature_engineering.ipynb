{
 "cells": [
  {
   "cell_type": "markdown",
   "id": "8b7bd134-e311-470a-aa5e-efc4800fb68b",
   "metadata": {},
   "source": [
    "# Описание проекта"
   ]
  },
  {
   "cell_type": "markdown",
   "id": "2f5cc07e-8f08-4f75-96e6-53d808cca54b",
   "metadata": {},
   "source": [
    "# Импорт библиотек"
   ]
  },
  {
   "cell_type": "code",
   "execution_count": 1,
   "id": "8a5589cb-afc1-4367-91c3-33262b13af87",
   "metadata": {
    "tags": []
   },
   "outputs": [],
   "source": [
    "%matplotlib inline\n",
    "import pandas as pd\n",
    "import numpy as np\n",
    "\n",
    "from sklearn.model_selection import GridSearchCV, cross_val_score, train_test_split\n",
    "from sklearn.pipeline import Pipeline\n",
    "\n",
    "from sklearn.compose import ColumnTransformer\n",
    "\n",
    "from catboost import CatBoostRegressor\n",
    "import catboost\n",
    "\n",
    "import ydata_profiling\n",
    "import phik\n",
    "\n",
    "import seaborn as sns\n",
    "import matplotlib\n",
    "import matplotlib.pyplot as plt\n",
    "\n",
    "from pylab import rcParams\n",
    "import warnings\n",
    "\n",
    "sns.set(style=\"darkgrid\")\n",
    "rcParams['figure.figsize'] = 20, 9\n",
    "\n",
    "import sys"
   ]
  },
  {
   "cell_type": "code",
   "execution_count": 2,
   "id": "73676249-af58-46fe-9059-42664ba1daf7",
   "metadata": {
    "tags": []
   },
   "outputs": [],
   "source": [
    "sys.path.append('./train')"
   ]
  },
  {
   "cell_type": "code",
   "execution_count": 3,
   "id": "d3bd9c78-131e-4269-9a94-dd2ae5a9f0a7",
   "metadata": {
    "tags": []
   },
   "outputs": [],
   "source": [
    "from metrics_f1 import calc_f1_score"
   ]
  },
  {
   "cell_type": "markdown",
   "id": "ff0571ea-1f1f-4d46-a8dd-f0c59623882e",
   "metadata": {
    "tags": []
   },
   "source": [
    "# Загрузка данных"
   ]
  },
  {
   "cell_type": "code",
   "execution_count": 4,
   "id": "0a7076e7-4782-482c-97cd-3105565c938a",
   "metadata": {
    "collapsed": false,
    "jupyter": {
     "outputs_hidden": false
    },
    "pycharm": {
     "name": "#%%\n"
    },
    "tags": []
   },
   "outputs": [],
   "source": [
    "path_train = r\"./train\""
   ]
  },
  {
   "cell_type": "markdown",
   "id": "727565f4-18f6-4963-8ddb-de8d85378887",
   "metadata": {
    "tags": []
   },
   "source": [
    "## Дислокация вагонов (dislok_wagons)"
   ]
  },
  {
   "cell_type": "code",
   "execution_count": 14,
   "id": "f0e4d852-e35e-4c28-9c5e-a3488858beda",
   "metadata": {
    "tags": []
   },
   "outputs": [],
   "source": [
    "# данные по дислокации\n",
    "dislok = pd.read_parquet(path_train + '/dislok_wagons.parquet').convert_dtypes()"
   ]
  },
  {
   "cell_type": "code",
   "execution_count": 15,
   "id": "16f26fc6-ac71-4d9c-a435-1666b4b4ba8e",
   "metadata": {
    "tags": []
   },
   "outputs": [
    {
     "name": "stdout",
     "output_type": "stream",
     "text": [
      "<class 'pandas.core.frame.DataFrame'>\n",
      "Int64Index: 6250933 entries, 0 to 1052924\n",
      "Data columns (total 16 columns):\n",
      " #   Column        Dtype         \n",
      "---  ------        -----         \n",
      " 0   plan_date     datetime64[ns]\n",
      " 1   wagnum        Int64         \n",
      " 2   date_kap      datetime64[ns]\n",
      " 3   date_dep      datetime64[ns]\n",
      " 4   kod_vrab      Int64         \n",
      " 5   date_pl_rem   datetime64[ns]\n",
      " 6   id_road_disl  Int64         \n",
      " 7   st_id_dest    Int64         \n",
      " 8   id_road_dest  Int64         \n",
      " 9   st_id_send    Int64         \n",
      " 10  id_road_send  Int64         \n",
      " 11  ost_prob      Int64         \n",
      " 12  isload        Int64         \n",
      " 13  fr_id         Int64         \n",
      " 14  last_fr_id    Int64         \n",
      " 15  distance      Int64         \n",
      "dtypes: Int64(12), datetime64[ns](4)\n",
      "memory usage: 882.3 MB\n"
     ]
    }
   ],
   "source": [
    "dislok.info()"
   ]
  },
  {
   "cell_type": "code",
   "execution_count": 40,
   "id": "f9fc641e-4f8e-4b4f-a3bc-b82710e67e6f",
   "metadata": {
    "tags": []
   },
   "outputs": [
    {
     "data": {
      "text/plain": [
       "Timestamp('2023-01-31 00:00:00')"
      ]
     },
     "execution_count": 40,
     "metadata": {},
     "output_type": "execute_result"
    }
   ],
   "source": [
    "dislok['plan_date'].max()"
   ]
  },
  {
   "cell_type": "code",
   "execution_count": 42,
   "id": "7c0a3112-d49a-42d1-9061-89219df74940",
   "metadata": {
    "tags": []
   },
   "outputs": [
    {
     "data": {
      "text/html": [
       "<div>\n",
       "<style scoped>\n",
       "    .dataframe tbody tr th:only-of-type {\n",
       "        vertical-align: middle;\n",
       "    }\n",
       "\n",
       "    .dataframe tbody tr th {\n",
       "        vertical-align: top;\n",
       "    }\n",
       "\n",
       "    .dataframe thead th {\n",
       "        text-align: right;\n",
       "    }\n",
       "</style>\n",
       "<table border=\"1\" class=\"dataframe\">\n",
       "  <thead>\n",
       "    <tr style=\"text-align: right;\">\n",
       "      <th></th>\n",
       "      <th>plan_date</th>\n",
       "      <th>wagnum</th>\n",
       "      <th>date_kap</th>\n",
       "      <th>date_dep</th>\n",
       "      <th>kod_vrab</th>\n",
       "      <th>date_pl_rem</th>\n",
       "      <th>id_road_disl</th>\n",
       "      <th>st_id_dest</th>\n",
       "      <th>id_road_dest</th>\n",
       "      <th>st_id_send</th>\n",
       "      <th>id_road_send</th>\n",
       "      <th>ost_prob</th>\n",
       "      <th>isload</th>\n",
       "      <th>fr_id</th>\n",
       "      <th>last_fr_id</th>\n",
       "      <th>distance</th>\n",
       "    </tr>\n",
       "  </thead>\n",
       "  <tbody>\n",
       "    <tr>\n",
       "      <th>30</th>\n",
       "      <td>2023-01-31</td>\n",
       "      <td>23398</td>\n",
       "      <td>2021-10-04</td>\n",
       "      <td>2019-05-24</td>\n",
       "      <td>0</td>\n",
       "      <td>2024-10-04</td>\n",
       "      <td>15</td>\n",
       "      <td>3376</td>\n",
       "      <td>15</td>\n",
       "      <td>6152</td>\n",
       "      <td>28</td>\n",
       "      <td>64018</td>\n",
       "      <td>1</td>\n",
       "      <td>1083</td>\n",
       "      <td>1083</td>\n",
       "      <td>999</td>\n",
       "    </tr>\n",
       "    <tr>\n",
       "      <th>61</th>\n",
       "      <td>2023-01-31</td>\n",
       "      <td>31528</td>\n",
       "      <td>NaT</td>\n",
       "      <td>2021-12-16</td>\n",
       "      <td>1</td>\n",
       "      <td>2024-12-16</td>\n",
       "      <td>15</td>\n",
       "      <td>3376</td>\n",
       "      <td>15</td>\n",
       "      <td>6152</td>\n",
       "      <td>28</td>\n",
       "      <td>44948</td>\n",
       "      <td>1</td>\n",
       "      <td>1083</td>\n",
       "      <td>1083</td>\n",
       "      <td>-1</td>\n",
       "    </tr>\n",
       "    <tr>\n",
       "      <th>92</th>\n",
       "      <td>2023-01-31</td>\n",
       "      <td>20486</td>\n",
       "      <td>2021-04-04</td>\n",
       "      <td>2019-07-30</td>\n",
       "      <td>0</td>\n",
       "      <td>2024-04-04</td>\n",
       "      <td>44</td>\n",
       "      <td>12651</td>\n",
       "      <td>38</td>\n",
       "      <td>12318</td>\n",
       "      <td>44</td>\n",
       "      <td>7988</td>\n",
       "      <td>0</td>\n",
       "      <td>5032</td>\n",
       "      <td>2336</td>\n",
       "      <td>5025</td>\n",
       "    </tr>\n",
       "    <tr>\n",
       "      <th>123</th>\n",
       "      <td>2023-01-31</td>\n",
       "      <td>16526</td>\n",
       "      <td>NaT</td>\n",
       "      <td>2022-05-17</td>\n",
       "      <td>1</td>\n",
       "      <td>2025-05-17</td>\n",
       "      <td>41</td>\n",
       "      <td>22</td>\n",
       "      <td>41</td>\n",
       "      <td>2258</td>\n",
       "      <td>11</td>\n",
       "      <td>114983</td>\n",
       "      <td>1</td>\n",
       "      <td>3266</td>\n",
       "      <td>3266</td>\n",
       "      <td>-1</td>\n",
       "    </tr>\n",
       "    <tr>\n",
       "      <th>154</th>\n",
       "      <td>2023-01-31</td>\n",
       "      <td>18061</td>\n",
       "      <td>2022-02-23</td>\n",
       "      <td>2019-08-09</td>\n",
       "      <td>0</td>\n",
       "      <td>2025-02-23</td>\n",
       "      <td>36</td>\n",
       "      <td>22</td>\n",
       "      <td>36</td>\n",
       "      <td>8971</td>\n",
       "      <td>36</td>\n",
       "      <td>104774</td>\n",
       "      <td>0</td>\n",
       "      <td>1639</td>\n",
       "      <td>1639</td>\n",
       "      <td>4051</td>\n",
       "    </tr>\n",
       "  </tbody>\n",
       "</table>\n",
       "</div>"
      ],
      "text/plain": [
       "     plan_date  wagnum   date_kap   date_dep  kod_vrab date_pl_rem  \\\n",
       "30  2023-01-31   23398 2021-10-04 2019-05-24         0  2024-10-04   \n",
       "61  2023-01-31   31528        NaT 2021-12-16         1  2024-12-16   \n",
       "92  2023-01-31   20486 2021-04-04 2019-07-30         0  2024-04-04   \n",
       "123 2023-01-31   16526        NaT 2022-05-17         1  2025-05-17   \n",
       "154 2023-01-31   18061 2022-02-23 2019-08-09         0  2025-02-23   \n",
       "\n",
       "     id_road_disl  st_id_dest  id_road_dest  st_id_send  id_road_send  \\\n",
       "30             15        3376            15        6152            28   \n",
       "61             15        3376            15        6152            28   \n",
       "92             44       12651            38       12318            44   \n",
       "123            41          22            41        2258            11   \n",
       "154            36          22            36        8971            36   \n",
       "\n",
       "     ost_prob  isload  fr_id  last_fr_id  distance  \n",
       "30      64018       1   1083        1083       999  \n",
       "61      44948       1   1083        1083        -1  \n",
       "92       7988       0   5032        2336      5025  \n",
       "123    114983       1   3266        3266        -1  \n",
       "154    104774       0   1639        1639      4051  "
      ]
     },
     "execution_count": 42,
     "metadata": {},
     "output_type": "execute_result"
    }
   ],
   "source": [
    "dislok[dislok['plan_date'] == dislok['plan_date'].max()].head()"
   ]
  },
  {
   "cell_type": "markdown",
   "id": "350dbaad-7b02-46f5-868e-2292c72e839b",
   "metadata": {},
   "source": [
    "## Текущие ремонты (pr_rems)"
   ]
  },
  {
   "cell_type": "code",
   "execution_count": 16,
   "id": "8a9f309f-2e2a-43af-bf39-3868260aa3af",
   "metadata": {
    "tags": []
   },
   "outputs": [],
   "source": [
    "# данные по текущим ремонтам\n",
    "pr_rem = pd.read_parquet(path_train + '/pr_rems.parquet').convert_dtypes()"
   ]
  },
  {
   "cell_type": "code",
   "execution_count": 17,
   "id": "d5968d48-2a2d-4cdb-9c2c-5660b904f58c",
   "metadata": {
    "tags": []
   },
   "outputs": [
    {
     "name": "stdout",
     "output_type": "stream",
     "text": [
      "<class 'pandas.core.frame.DataFrame'>\n",
      "Int64Index: 10441 entries, 0 to 1515\n",
      "Data columns (total 11 columns):\n",
      " #   Column        Non-Null Count  Dtype         \n",
      "---  ------        --------------  -----         \n",
      " 0   wagnum        10441 non-null  Int64         \n",
      " 1   rem_month     10441 non-null  datetime64[ns]\n",
      " 2   rod_id        10441 non-null  Int64         \n",
      " 3   model         10441 non-null  string        \n",
      " 4   road_id_send  10441 non-null  Int64         \n",
      " 5   road_id_rem   10441 non-null  Int64         \n",
      " 6   kod_vrab      10441 non-null  Int64         \n",
      " 7   st_id_send    10441 non-null  Int64         \n",
      " 8   st_id_rem     10441 non-null  Int64         \n",
      " 9   distance      10441 non-null  Int64         \n",
      " 10  month         10441 non-null  Int64         \n",
      "dtypes: Int64(9), datetime64[ns](1), string(1)\n",
      "memory usage: 1.0 MB\n"
     ]
    }
   ],
   "source": [
    "pr_rem.info()"
   ]
  },
  {
   "cell_type": "code",
   "execution_count": 36,
   "id": "456c3648-3093-4220-b8db-d5e48542abf5",
   "metadata": {
    "tags": []
   },
   "outputs": [
    {
     "data": {
      "text/plain": [
       "12"
      ]
     },
     "execution_count": 36,
     "metadata": {},
     "output_type": "execute_result"
    }
   ],
   "source": [
    "pr_rem['month'].max()"
   ]
  },
  {
   "cell_type": "code",
   "execution_count": 37,
   "id": "508277cc-725d-49a2-b88e-0e9e7a1a2665",
   "metadata": {
    "tags": []
   },
   "outputs": [
    {
     "data": {
      "text/html": [
       "<div>\n",
       "<style scoped>\n",
       "    .dataframe tbody tr th:only-of-type {\n",
       "        vertical-align: middle;\n",
       "    }\n",
       "\n",
       "    .dataframe tbody tr th {\n",
       "        vertical-align: top;\n",
       "    }\n",
       "\n",
       "    .dataframe thead th {\n",
       "        text-align: right;\n",
       "    }\n",
       "</style>\n",
       "<table border=\"1\" class=\"dataframe\">\n",
       "  <thead>\n",
       "    <tr style=\"text-align: right;\">\n",
       "      <th></th>\n",
       "      <th>wagnum</th>\n",
       "      <th>rem_month</th>\n",
       "      <th>rod_id</th>\n",
       "      <th>model</th>\n",
       "      <th>road_id_send</th>\n",
       "      <th>road_id_rem</th>\n",
       "      <th>kod_vrab</th>\n",
       "      <th>st_id_send</th>\n",
       "      <th>st_id_rem</th>\n",
       "      <th>distance</th>\n",
       "      <th>month</th>\n",
       "    </tr>\n",
       "  </thead>\n",
       "  <tbody>\n",
       "    <tr>\n",
       "      <th>2</th>\n",
       "      <td>22548</td>\n",
       "      <td>2022-12-08</td>\n",
       "      <td>1</td>\n",
       "      <td>12-1303-01</td>\n",
       "      <td>6</td>\n",
       "      <td>7</td>\n",
       "      <td>1</td>\n",
       "      <td>4421</td>\n",
       "      <td>3940</td>\n",
       "      <td>842</td>\n",
       "      <td>12</td>\n",
       "    </tr>\n",
       "    <tr>\n",
       "      <th>3</th>\n",
       "      <td>24902</td>\n",
       "      <td>2022-12-07</td>\n",
       "      <td>1</td>\n",
       "      <td>12-1303-01</td>\n",
       "      <td>6</td>\n",
       "      <td>7</td>\n",
       "      <td>1</td>\n",
       "      <td>4421</td>\n",
       "      <td>3940</td>\n",
       "      <td>827</td>\n",
       "      <td>12</td>\n",
       "    </tr>\n",
       "    <tr>\n",
       "      <th>4</th>\n",
       "      <td>27478</td>\n",
       "      <td>2022-12-06</td>\n",
       "      <td>1</td>\n",
       "      <td>12-7023-02</td>\n",
       "      <td>6</td>\n",
       "      <td>7</td>\n",
       "      <td>1</td>\n",
       "      <td>4421</td>\n",
       "      <td>3940</td>\n",
       "      <td>161</td>\n",
       "      <td>12</td>\n",
       "    </tr>\n",
       "    <tr>\n",
       "      <th>5</th>\n",
       "      <td>6458</td>\n",
       "      <td>2022-12-17</td>\n",
       "      <td>0</td>\n",
       "      <td>11-276</td>\n",
       "      <td>6</td>\n",
       "      <td>6</td>\n",
       "      <td>0</td>\n",
       "      <td>3946</td>\n",
       "      <td>3940</td>\n",
       "      <td>96</td>\n",
       "      <td>12</td>\n",
       "    </tr>\n",
       "    <tr>\n",
       "      <th>6</th>\n",
       "      <td>6678</td>\n",
       "      <td>2022-12-14</td>\n",
       "      <td>0</td>\n",
       "      <td>11-280</td>\n",
       "      <td>3</td>\n",
       "      <td>3</td>\n",
       "      <td>1</td>\n",
       "      <td>457</td>\n",
       "      <td>420</td>\n",
       "      <td>770</td>\n",
       "      <td>12</td>\n",
       "    </tr>\n",
       "  </tbody>\n",
       "</table>\n",
       "</div>"
      ],
      "text/plain": [
       "   wagnum  rem_month  rod_id       model  road_id_send  road_id_rem  kod_vrab  \\\n",
       "2   22548 2022-12-08       1  12-1303-01             6            7         1   \n",
       "3   24902 2022-12-07       1  12-1303-01             6            7         1   \n",
       "4   27478 2022-12-06       1  12-7023-02             6            7         1   \n",
       "5    6458 2022-12-17       0      11-276             6            6         0   \n",
       "6    6678 2022-12-14       0      11-280             3            3         1   \n",
       "\n",
       "   st_id_send  st_id_rem  distance  month  \n",
       "2        4421       3940       842     12  \n",
       "3        4421       3940       827     12  \n",
       "4        4421       3940       161     12  \n",
       "5        3946       3940        96     12  \n",
       "6         457        420       770     12  "
      ]
     },
     "execution_count": 37,
     "metadata": {},
     "output_type": "execute_result"
    }
   ],
   "source": [
    "pr_rem[pr_rem['month'] == pr_rem['month'].max()].head()"
   ]
  },
  {
   "cell_type": "markdown",
   "id": "493ce8cc-3961-4195-94b0-fa68d13e6ef0",
   "metadata": {},
   "source": [
    "## Список вагонов с остаточным пробегом (wagons_probeg_ownersip)"
   ]
  },
  {
   "cell_type": "code",
   "execution_count": 18,
   "id": "4dc1ffea-3430-4bd9-b603-ab76ba5cb751",
   "metadata": {
    "tags": []
   },
   "outputs": [],
   "source": [
    "# список вагонов с остаточным пробегом на момент прогноза\n",
    "wag_prob = pd.read_parquet(path_train + '/wagons_probeg_ownersip.parquet').convert_dtypes()"
   ]
  },
  {
   "cell_type": "code",
   "execution_count": 19,
   "id": "cdd451b2-e857-4309-8473-e9be9fecec22",
   "metadata": {
    "tags": []
   },
   "outputs": [
    {
     "name": "stdout",
     "output_type": "stream",
     "text": [
      "<class 'pandas.core.frame.DataFrame'>\n",
      "Int64Index: 6249857 entries, 0 to 9249588\n",
      "Data columns (total 8 columns):\n",
      " #   Column          Dtype         \n",
      "---  ------          -----         \n",
      " 0   repdate         datetime64[ns]\n",
      " 1   wagnum          Int64         \n",
      " 2   ost_prob        Int64         \n",
      " 3   manage_type     Int64         \n",
      " 4   rod_id          Int64         \n",
      " 5   reestr_state    Int64         \n",
      " 6   ownership_type  Int64         \n",
      " 7   month           Int64         \n",
      "dtypes: Int64(7), datetime64[ns](1)\n",
      "memory usage: 470.9 MB\n"
     ]
    }
   ],
   "source": [
    "wag_prob.info()"
   ]
  },
  {
   "cell_type": "code",
   "execution_count": 28,
   "id": "870968e9-cb54-4563-9ce9-ecf5130a23c3",
   "metadata": {
    "tags": []
   },
   "outputs": [
    {
     "data": {
      "text/plain": [
       "Timestamp('2023-01-31 00:00:00')"
      ]
     },
     "execution_count": 28,
     "metadata": {},
     "output_type": "execute_result"
    }
   ],
   "source": [
    "wag_prob['repdate'].max()"
   ]
  },
  {
   "cell_type": "code",
   "execution_count": 46,
   "id": "5bd63de7-4804-4676-aff5-c8619ead94d6",
   "metadata": {
    "tags": []
   },
   "outputs": [
    {
     "data": {
      "text/plain": [
       "Timestamp('2022-08-01 00:00:00')"
      ]
     },
     "execution_count": 46,
     "metadata": {},
     "output_type": "execute_result"
    }
   ],
   "source": [
    "wag_prob['repdate'].min()"
   ]
  },
  {
   "cell_type": "code",
   "execution_count": 33,
   "id": "823a92f6-3f2f-42a8-a0ee-fe41d5b5e755",
   "metadata": {
    "tags": []
   },
   "outputs": [
    {
     "data": {
      "text/html": [
       "<div>\n",
       "<style scoped>\n",
       "    .dataframe tbody tr th:only-of-type {\n",
       "        vertical-align: middle;\n",
       "    }\n",
       "\n",
       "    .dataframe tbody tr th {\n",
       "        vertical-align: top;\n",
       "    }\n",
       "\n",
       "    .dataframe thead th {\n",
       "        text-align: right;\n",
       "    }\n",
       "</style>\n",
       "<table border=\"1\" class=\"dataframe\">\n",
       "  <thead>\n",
       "    <tr style=\"text-align: right;\">\n",
       "      <th></th>\n",
       "      <th>repdate</th>\n",
       "      <th>wagnum</th>\n",
       "      <th>ost_prob</th>\n",
       "      <th>manage_type</th>\n",
       "      <th>rod_id</th>\n",
       "      <th>reestr_state</th>\n",
       "      <th>ownership_type</th>\n",
       "      <th>month</th>\n",
       "    </tr>\n",
       "  </thead>\n",
       "  <tbody>\n",
       "    <tr>\n",
       "      <th>183</th>\n",
       "      <td>2023-01-31</td>\n",
       "      <td>33361</td>\n",
       "      <td>150961</td>\n",
       "      <td>0</td>\n",
       "      <td>1</td>\n",
       "      <td>1</td>\n",
       "      <td>0</td>\n",
       "      <td>1</td>\n",
       "    </tr>\n",
       "    <tr>\n",
       "      <th>456</th>\n",
       "      <td>2023-01-31</td>\n",
       "      <td>33364</td>\n",
       "      <td>148432</td>\n",
       "      <td>0</td>\n",
       "      <td>1</td>\n",
       "      <td>1</td>\n",
       "      <td>0</td>\n",
       "      <td>1</td>\n",
       "    </tr>\n",
       "    <tr>\n",
       "      <th>729</th>\n",
       "      <td>2023-01-31</td>\n",
       "      <td>33366</td>\n",
       "      <td>154991</td>\n",
       "      <td>0</td>\n",
       "      <td>1</td>\n",
       "      <td>1</td>\n",
       "      <td>0</td>\n",
       "      <td>1</td>\n",
       "    </tr>\n",
       "    <tr>\n",
       "      <th>1002</th>\n",
       "      <td>2023-01-31</td>\n",
       "      <td>33358</td>\n",
       "      <td>24859</td>\n",
       "      <td>0</td>\n",
       "      <td>1</td>\n",
       "      <td>1</td>\n",
       "      <td>0</td>\n",
       "      <td>1</td>\n",
       "    </tr>\n",
       "    <tr>\n",
       "      <th>1275</th>\n",
       "      <td>2023-01-31</td>\n",
       "      <td>33349</td>\n",
       "      <td>144208</td>\n",
       "      <td>0</td>\n",
       "      <td>1</td>\n",
       "      <td>1</td>\n",
       "      <td>0</td>\n",
       "      <td>1</td>\n",
       "    </tr>\n",
       "  </tbody>\n",
       "</table>\n",
       "</div>"
      ],
      "text/plain": [
       "        repdate  wagnum  ost_prob  manage_type  rod_id  reestr_state  \\\n",
       "183  2023-01-31   33361    150961            0       1             1   \n",
       "456  2023-01-31   33364    148432            0       1             1   \n",
       "729  2023-01-31   33366    154991            0       1             1   \n",
       "1002 2023-01-31   33358     24859            0       1             1   \n",
       "1275 2023-01-31   33349    144208            0       1             1   \n",
       "\n",
       "      ownership_type  month  \n",
       "183                0      1  \n",
       "456                0      1  \n",
       "729                0      1  \n",
       "1002               0      1  \n",
       "1275               0      1  "
      ]
     },
     "execution_count": 33,
     "metadata": {},
     "output_type": "execute_result"
    }
   ],
   "source": [
    "wag_prob[wag_prob['repdate'] == wag_prob['repdate'].max()].head()"
   ]
  },
  {
   "cell_type": "markdown",
   "id": "ec70397d-3ee7-4f5b-8f56-6d48f9f23ff2",
   "metadata": {},
   "source": [
    "## Параметры вагона (wag_params)"
   ]
  },
  {
   "cell_type": "code",
   "execution_count": 20,
   "id": "fee7b2f1-2f68-4d49-adf9-1be9115d7c0a",
   "metadata": {
    "tags": []
   },
   "outputs": [],
   "source": [
    "# параметры вагона\n",
    "wag_param = pd.read_parquet(path_train + '/wag_params.parquet').convert_dtypes()"
   ]
  },
  {
   "cell_type": "code",
   "execution_count": 29,
   "id": "0e02af3d-1d48-4add-ae28-c2dbb7b0ddf8",
   "metadata": {
    "tags": []
   },
   "outputs": [],
   "source": [
    "# у вагонов могут меняться параметры, поэтмоу номер дублируется\n",
    "wag_param = wag_param.drop_duplicates(subset='wagnum', keep='last')"
   ]
  },
  {
   "cell_type": "code",
   "execution_count": 30,
   "id": "d9d5ea92-744c-4f01-b882-3ac542067f69",
   "metadata": {
    "tags": []
   },
   "outputs": [
    {
     "name": "stdout",
     "output_type": "stream",
     "text": [
      "<class 'pandas.core.frame.DataFrame'>\n",
      "Int64Index: 33977 entries, 3218 to 33707\n",
      "Data columns (total 20 columns):\n",
      " #   Column              Non-Null Count  Dtype         \n",
      "---  ------              --------------  -----         \n",
      " 0   wagnum              33977 non-null  Int64         \n",
      " 1   model               33977 non-null  string        \n",
      " 2   rod_id              33977 non-null  Int64         \n",
      " 3   gruz                33977 non-null  Int64         \n",
      " 4   cnsi_gruz_capacity  33977 non-null  Int64         \n",
      " 5   cnsi_volumek        33977 non-null  Float64       \n",
      " 6   tara                33977 non-null  Int64         \n",
      " 7   date_build          33977 non-null  datetime64[ns]\n",
      " 8   srok_sl             33977 non-null  datetime64[ns]\n",
      " 9   zavod_build         33977 non-null  Int64         \n",
      " 10  date_iskl           116 non-null    datetime64[ns]\n",
      " 11  cnsi_probeg_dr      33977 non-null  Int64         \n",
      " 12  cnsi_probeg_kr      33977 non-null  Int64         \n",
      " 13  kuzov               33977 non-null  Int64         \n",
      " 14  telega              33977 non-null  Int64         \n",
      " 15  tormoz              33977 non-null  Int64         \n",
      " 16  tipvozd             33977 non-null  string        \n",
      " 17  tippogl             33918 non-null  Int64         \n",
      " 18  norma_km            33977 non-null  Int64         \n",
      " 19  ownertype           33977 non-null  Int64         \n",
      "dtypes: Float64(1), Int64(14), datetime64[ns](3), string(2)\n",
      "memory usage: 5.9 MB\n"
     ]
    }
   ],
   "source": [
    "wag_param.info()"
   ]
  },
  {
   "cell_type": "code",
   "execution_count": 31,
   "id": "26c4430c-0799-4c81-bc94-526201895a4c",
   "metadata": {
    "tags": []
   },
   "outputs": [
    {
     "data": {
      "text/html": [
       "<div>\n",
       "<style scoped>\n",
       "    .dataframe tbody tr th:only-of-type {\n",
       "        vertical-align: middle;\n",
       "    }\n",
       "\n",
       "    .dataframe tbody tr th {\n",
       "        vertical-align: top;\n",
       "    }\n",
       "\n",
       "    .dataframe thead th {\n",
       "        text-align: right;\n",
       "    }\n",
       "</style>\n",
       "<table border=\"1\" class=\"dataframe\">\n",
       "  <thead>\n",
       "    <tr style=\"text-align: right;\">\n",
       "      <th></th>\n",
       "      <th>wagnum</th>\n",
       "      <th>model</th>\n",
       "      <th>rod_id</th>\n",
       "      <th>gruz</th>\n",
       "      <th>cnsi_gruz_capacity</th>\n",
       "      <th>cnsi_volumek</th>\n",
       "      <th>tara</th>\n",
       "      <th>date_build</th>\n",
       "      <th>srok_sl</th>\n",
       "      <th>zavod_build</th>\n",
       "      <th>date_iskl</th>\n",
       "      <th>cnsi_probeg_dr</th>\n",
       "      <th>cnsi_probeg_kr</th>\n",
       "      <th>kuzov</th>\n",
       "      <th>telega</th>\n",
       "      <th>tormoz</th>\n",
       "      <th>tipvozd</th>\n",
       "      <th>tippogl</th>\n",
       "      <th>norma_km</th>\n",
       "      <th>ownertype</th>\n",
       "    </tr>\n",
       "  </thead>\n",
       "  <tbody>\n",
       "    <tr>\n",
       "      <th>3218</th>\n",
       "      <td>26318</td>\n",
       "      <td>12-600-04</td>\n",
       "      <td>1</td>\n",
       "      <td>682</td>\n",
       "      <td>682</td>\n",
       "      <td>85.0</td>\n",
       "      <td>240</td>\n",
       "      <td>1992-12-25</td>\n",
       "      <td>2022-04-27</td>\n",
       "      <td>5</td>\n",
       "      <td>2023-02-16</td>\n",
       "      <td>160</td>\n",
       "      <td>160</td>\n",
       "      <td>2</td>\n",
       "      <td>9</td>\n",
       "      <td>3</td>\n",
       "      <td>6</td>\n",
       "      <td>11</td>\n",
       "      <td>110000</td>\n",
       "      <td>0</td>\n",
       "    </tr>\n",
       "    <tr>\n",
       "      <th>19128</th>\n",
       "      <td>28344</td>\n",
       "      <td>12-132</td>\n",
       "      <td>1</td>\n",
       "      <td>700</td>\n",
       "      <td>700</td>\n",
       "      <td>88.0</td>\n",
       "      <td>240</td>\n",
       "      <td>2003-08-12</td>\n",
       "      <td>2024-12-24</td>\n",
       "      <td>0</td>\n",
       "      <td>2022-12-14</td>\n",
       "      <td>110</td>\n",
       "      <td>160</td>\n",
       "      <td>2</td>\n",
       "      <td>9</td>\n",
       "      <td>2</td>\n",
       "      <td>1</td>\n",
       "      <td>12</td>\n",
       "      <td>0</td>\n",
       "      <td>0</td>\n",
       "    </tr>\n",
       "    <tr>\n",
       "      <th>21526</th>\n",
       "      <td>8099</td>\n",
       "      <td>11-286</td>\n",
       "      <td>0</td>\n",
       "      <td>670</td>\n",
       "      <td>670</td>\n",
       "      <td>138.0</td>\n",
       "      <td>270</td>\n",
       "      <td>1995-08-31</td>\n",
       "      <td>2027-10-01</td>\n",
       "      <td>1</td>\n",
       "      <td>NaT</td>\n",
       "      <td>110</td>\n",
       "      <td>160</td>\n",
       "      <td>2</td>\n",
       "      <td>9</td>\n",
       "      <td>2</td>\n",
       "      <td>1</td>\n",
       "      <td>1</td>\n",
       "      <td>160000</td>\n",
       "      <td>1</td>\n",
       "    </tr>\n",
       "    <tr>\n",
       "      <th>32353</th>\n",
       "      <td>33350</td>\n",
       "      <td>12-9850-02</td>\n",
       "      <td>1</td>\n",
       "      <td>750</td>\n",
       "      <td>750</td>\n",
       "      <td>90.0</td>\n",
       "      <td>248</td>\n",
       "      <td>2014-10-27</td>\n",
       "      <td>2047-02-05</td>\n",
       "      <td>19</td>\n",
       "      <td>NaT</td>\n",
       "      <td>250</td>\n",
       "      <td>500</td>\n",
       "      <td>2</td>\n",
       "      <td>11</td>\n",
       "      <td>2</td>\n",
       "      <td>7</td>\n",
       "      <td>12</td>\n",
       "      <td>250000</td>\n",
       "      <td>1</td>\n",
       "    </tr>\n",
       "    <tr>\n",
       "      <th>81</th>\n",
       "      <td>5308</td>\n",
       "      <td>11-276</td>\n",
       "      <td>0</td>\n",
       "      <td>680</td>\n",
       "      <td>680</td>\n",
       "      <td>122.0</td>\n",
       "      <td>260</td>\n",
       "      <td>1995-09-17</td>\n",
       "      <td>2027-09-28</td>\n",
       "      <td>1</td>\n",
       "      <td>NaT</td>\n",
       "      <td>110</td>\n",
       "      <td>160</td>\n",
       "      <td>2</td>\n",
       "      <td>9</td>\n",
       "      <td>2</td>\n",
       "      <td>1</td>\n",
       "      <td>11</td>\n",
       "      <td>160000</td>\n",
       "      <td>1</td>\n",
       "    </tr>\n",
       "  </tbody>\n",
       "</table>\n",
       "</div>"
      ],
      "text/plain": [
       "       wagnum       model  rod_id  gruz  cnsi_gruz_capacity  cnsi_volumek  \\\n",
       "3218    26318   12-600-04       1   682                 682          85.0   \n",
       "19128   28344      12-132       1   700                 700          88.0   \n",
       "21526    8099      11-286       0   670                 670         138.0   \n",
       "32353   33350  12-9850-02       1   750                 750          90.0   \n",
       "81       5308      11-276       0   680                 680         122.0   \n",
       "\n",
       "       tara date_build    srok_sl  zavod_build  date_iskl  cnsi_probeg_dr  \\\n",
       "3218    240 1992-12-25 2022-04-27            5 2023-02-16             160   \n",
       "19128   240 2003-08-12 2024-12-24            0 2022-12-14             110   \n",
       "21526   270 1995-08-31 2027-10-01            1        NaT             110   \n",
       "32353   248 2014-10-27 2047-02-05           19        NaT             250   \n",
       "81      260 1995-09-17 2027-09-28            1        NaT             110   \n",
       "\n",
       "       cnsi_probeg_kr  kuzov  telega  tormoz tipvozd  tippogl  norma_km  \\\n",
       "3218              160      2       9       3       6       11    110000   \n",
       "19128             160      2       9       2       1       12         0   \n",
       "21526             160      2       9       2       1        1    160000   \n",
       "32353             500      2      11       2       7       12    250000   \n",
       "81                160      2       9       2       1       11    160000   \n",
       "\n",
       "       ownertype  \n",
       "3218           0  \n",
       "19128          0  \n",
       "21526          1  \n",
       "32353          1  \n",
       "81             1  "
      ]
     },
     "execution_count": 31,
     "metadata": {},
     "output_type": "execute_result"
    }
   ],
   "source": [
    "wag_param.head()"
   ]
  },
  {
   "cell_type": "markdown",
   "id": "b559a3cf-bc3a-4b64-9e4d-74209a790a42",
   "metadata": {},
   "source": [
    "## Текущие ремонты (tr_rems)"
   ]
  },
  {
   "cell_type": "code",
   "execution_count": 5,
   "id": "d263feac-1e41-49d6-afa3-4d6b5f9698b9",
   "metadata": {
    "collapsed": false,
    "jupyter": {
     "outputs_hidden": false
    },
    "pycharm": {
     "name": "#%%\n"
    },
    "tags": []
   },
   "outputs": [],
   "source": [
    "# текущие ремонты вагонов\n",
    "tr_rem = pd.read_parquet(path_train + '/tr_rems.parquet').convert_dtypes()"
   ]
  },
  {
   "cell_type": "code",
   "execution_count": 23,
   "id": "fefd4d3d-ca1d-49dc-b4c4-f0fd389198c3",
   "metadata": {
    "collapsed": false,
    "jupyter": {
     "outputs_hidden": false
    },
    "pycharm": {
     "name": "#%%\n"
    },
    "tags": []
   },
   "outputs": [
    {
     "name": "stdout",
     "output_type": "stream",
     "text": [
      "<class 'pandas.core.frame.DataFrame'>\n",
      "Int64Index: 48652 entries, 0 to 7699\n",
      "Data columns (total 17 columns):\n",
      " #   Column        Non-Null Count  Dtype         \n",
      "---  ------        --------------  -----         \n",
      " 0   wagnum        48652 non-null  Int64         \n",
      " 1   rem_month     48652 non-null  datetime64[ns]\n",
      " 2   kod_vrab      48652 non-null  Int64         \n",
      " 3   neis1_kod     48652 non-null  Int64         \n",
      " 4   neis2_kod     48652 non-null  Int64         \n",
      " 5   neis3_kod     48652 non-null  Int64         \n",
      " 6   mod1_kod      48652 non-null  Int64         \n",
      " 7   mod2_kod      48652 non-null  Int64         \n",
      " 8   mod3_kod      48652 non-null  Int64         \n",
      " 9   mod4_kod      48652 non-null  Int32         \n",
      " 10  mod5_kod      48652 non-null  Int32         \n",
      " 11  mod6_kod      48652 non-null  Int32         \n",
      " 12  mod7_kod      48652 non-null  Int32         \n",
      " 13  road_id_send  48652 non-null  Int64         \n",
      " 14  gr_probeg     47920 non-null  Int64         \n",
      " 15  por_probeg    47977 non-null  Int64         \n",
      " 16  st_id_send    48652 non-null  Int64         \n",
      "dtypes: Int32(4), Int64(12), datetime64[ns](1)\n",
      "memory usage: 6.7 MB\n"
     ]
    }
   ],
   "source": [
    "tr_rem.info()"
   ]
  },
  {
   "cell_type": "code",
   "execution_count": 44,
   "id": "14c10a42-e980-471a-b42d-66a25da249b1",
   "metadata": {
    "tags": []
   },
   "outputs": [
    {
     "data": {
      "text/plain": [
       "Timestamp('2023-01-01 00:00:00')"
      ]
     },
     "execution_count": 44,
     "metadata": {},
     "output_type": "execute_result"
    }
   ],
   "source": [
    "tr_rem['rem_month'].max()"
   ]
  },
  {
   "cell_type": "code",
   "execution_count": 45,
   "id": "66c71353-d26c-4497-930f-9ffee928cc93",
   "metadata": {
    "tags": []
   },
   "outputs": [
    {
     "data": {
      "text/html": [
       "<div>\n",
       "<style scoped>\n",
       "    .dataframe tbody tr th:only-of-type {\n",
       "        vertical-align: middle;\n",
       "    }\n",
       "\n",
       "    .dataframe tbody tr th {\n",
       "        vertical-align: top;\n",
       "    }\n",
       "\n",
       "    .dataframe thead th {\n",
       "        text-align: right;\n",
       "    }\n",
       "</style>\n",
       "<table border=\"1\" class=\"dataframe\">\n",
       "  <thead>\n",
       "    <tr style=\"text-align: right;\">\n",
       "      <th></th>\n",
       "      <th>wagnum</th>\n",
       "      <th>rem_month</th>\n",
       "      <th>kod_vrab</th>\n",
       "      <th>neis1_kod</th>\n",
       "      <th>neis2_kod</th>\n",
       "      <th>neis3_kod</th>\n",
       "      <th>mod1_kod</th>\n",
       "      <th>mod2_kod</th>\n",
       "      <th>mod3_kod</th>\n",
       "      <th>mod4_kod</th>\n",
       "      <th>mod5_kod</th>\n",
       "      <th>mod6_kod</th>\n",
       "      <th>mod7_kod</th>\n",
       "      <th>road_id_send</th>\n",
       "      <th>gr_probeg</th>\n",
       "      <th>por_probeg</th>\n",
       "      <th>st_id_send</th>\n",
       "    </tr>\n",
       "  </thead>\n",
       "  <tbody>\n",
       "    <tr>\n",
       "      <th>0</th>\n",
       "      <td>29857</td>\n",
       "      <td>2023-01-01</td>\n",
       "      <td>5</td>\n",
       "      <td>0</td>\n",
       "      <td>98</td>\n",
       "      <td>54</td>\n",
       "      <td>7</td>\n",
       "      <td>4</td>\n",
       "      <td>2</td>\n",
       "      <td>0</td>\n",
       "      <td>0</td>\n",
       "      <td>0</td>\n",
       "      <td>0</td>\n",
       "      <td>3</td>\n",
       "      <td>105003</td>\n",
       "      <td>53305</td>\n",
       "      <td>594</td>\n",
       "    </tr>\n",
       "    <tr>\n",
       "      <th>1</th>\n",
       "      <td>29857</td>\n",
       "      <td>2023-01-01</td>\n",
       "      <td>3</td>\n",
       "      <td>6</td>\n",
       "      <td>98</td>\n",
       "      <td>54</td>\n",
       "      <td>7</td>\n",
       "      <td>4</td>\n",
       "      <td>2</td>\n",
       "      <td>0</td>\n",
       "      <td>0</td>\n",
       "      <td>0</td>\n",
       "      <td>0</td>\n",
       "      <td>3</td>\n",
       "      <td>105003</td>\n",
       "      <td>53193</td>\n",
       "      <td>392</td>\n",
       "    </tr>\n",
       "    <tr>\n",
       "      <th>2</th>\n",
       "      <td>29928</td>\n",
       "      <td>2023-01-01</td>\n",
       "      <td>2</td>\n",
       "      <td>0</td>\n",
       "      <td>98</td>\n",
       "      <td>54</td>\n",
       "      <td>7</td>\n",
       "      <td>4</td>\n",
       "      <td>2</td>\n",
       "      <td>0</td>\n",
       "      <td>0</td>\n",
       "      <td>0</td>\n",
       "      <td>0</td>\n",
       "      <td>16</td>\n",
       "      <td>103036</td>\n",
       "      <td>51268</td>\n",
       "      <td>4247</td>\n",
       "    </tr>\n",
       "    <tr>\n",
       "      <th>3</th>\n",
       "      <td>29928</td>\n",
       "      <td>2023-01-01</td>\n",
       "      <td>2</td>\n",
       "      <td>95</td>\n",
       "      <td>98</td>\n",
       "      <td>54</td>\n",
       "      <td>7</td>\n",
       "      <td>4</td>\n",
       "      <td>2</td>\n",
       "      <td>0</td>\n",
       "      <td>0</td>\n",
       "      <td>0</td>\n",
       "      <td>0</td>\n",
       "      <td>16</td>\n",
       "      <td>103036</td>\n",
       "      <td>51268</td>\n",
       "      <td>4247</td>\n",
       "    </tr>\n",
       "    <tr>\n",
       "      <th>4</th>\n",
       "      <td>2360</td>\n",
       "      <td>2023-01-01</td>\n",
       "      <td>2</td>\n",
       "      <td>0</td>\n",
       "      <td>98</td>\n",
       "      <td>54</td>\n",
       "      <td>7</td>\n",
       "      <td>4</td>\n",
       "      <td>2</td>\n",
       "      <td>0</td>\n",
       "      <td>0</td>\n",
       "      <td>0</td>\n",
       "      <td>0</td>\n",
       "      <td>44</td>\n",
       "      <td>92501</td>\n",
       "      <td>28550</td>\n",
       "      <td>12437</td>\n",
       "    </tr>\n",
       "  </tbody>\n",
       "</table>\n",
       "</div>"
      ],
      "text/plain": [
       "   wagnum  rem_month  kod_vrab  neis1_kod  neis2_kod  neis3_kod  mod1_kod  \\\n",
       "0   29857 2023-01-01         5          0         98         54         7   \n",
       "1   29857 2023-01-01         3          6         98         54         7   \n",
       "2   29928 2023-01-01         2          0         98         54         7   \n",
       "3   29928 2023-01-01         2         95         98         54         7   \n",
       "4    2360 2023-01-01         2          0         98         54         7   \n",
       "\n",
       "   mod2_kod  mod3_kod  mod4_kod  mod5_kod  mod6_kod  mod7_kod  road_id_send  \\\n",
       "0         4         2         0         0         0         0             3   \n",
       "1         4         2         0         0         0         0             3   \n",
       "2         4         2         0         0         0         0            16   \n",
       "3         4         2         0         0         0         0            16   \n",
       "4         4         2         0         0         0         0            44   \n",
       "\n",
       "   gr_probeg  por_probeg  st_id_send  \n",
       "0     105003       53305         594  \n",
       "1     105003       53193         392  \n",
       "2     103036       51268        4247  \n",
       "3     103036       51268        4247  \n",
       "4      92501       28550       12437  "
      ]
     },
     "execution_count": 45,
     "metadata": {},
     "output_type": "execute_result"
    }
   ],
   "source": [
    "tr_rem[tr_rem['rem_month'] == tr_rem['rem_month'].max()].head()"
   ]
  },
  {
   "cell_type": "markdown",
   "id": "7107391e-9354-479f-aef2-7c666e85af7f",
   "metadata": {},
   "source": [
    "## Первичный анализ"
   ]
  },
  {
   "cell_type": "code",
   "execution_count": null,
   "id": "55de4848-36da-4d4d-b05a-1deb1d887479",
   "metadata": {},
   "outputs": [],
   "source": []
  },
  {
   "cell_type": "code",
   "execution_count": null,
   "id": "a1775a10-3c5f-4255-9ea8-d4f2d9fad1f8",
   "metadata": {},
   "outputs": [],
   "source": []
  },
  {
   "cell_type": "code",
   "execution_count": null,
   "id": "837f7a7f-204d-409e-85d3-e26b5e770f8f",
   "metadata": {},
   "outputs": [],
   "source": []
  },
  {
   "cell_type": "code",
   "execution_count": null,
   "id": "c6be49ae-72b3-4d2d-84ed-4dd014abfe3d",
   "metadata": {},
   "outputs": [],
   "source": []
  },
  {
   "cell_type": "markdown",
   "id": "d0913434-57ac-4f95-8643-fcf2d0e0c01a",
   "metadata": {},
   "source": [
    "## target"
   ]
  },
  {
   "cell_type": "code",
   "execution_count": 6,
   "id": "68141910-cded-4d66-8337-36f40d5cddbb",
   "metadata": {
    "collapsed": false,
    "jupyter": {
     "outputs_hidden": false
    },
    "pycharm": {
     "name": "#%%\n"
    },
    "tags": []
   },
   "outputs": [],
   "source": [
    "month_to_predict = pd.to_datetime('2023-01-01')"
   ]
  },
  {
   "cell_type": "code",
   "execution_count": 7,
   "id": "63371e3b-58b0-4d5f-aba8-79d9c85b03f9",
   "metadata": {
    "tags": []
   },
   "outputs": [],
   "source": [
    "# таргет по прогноза выбытия вагонов в ПР на месяц и на 10 дней\n",
    "target = pd.read_csv(path_train +'/target/y_train.csv').convert_dtypes()"
   ]
  },
  {
   "cell_type": "code",
   "execution_count": 8,
   "id": "b4d3d11c-989c-4dad-b7f3-278985d9d297",
   "metadata": {
    "tags": []
   },
   "outputs": [
    {
     "data": {
      "text/html": [
       "<div>\n",
       "<style scoped>\n",
       "    .dataframe tbody tr th:only-of-type {\n",
       "        vertical-align: middle;\n",
       "    }\n",
       "\n",
       "    .dataframe tbody tr th {\n",
       "        vertical-align: top;\n",
       "    }\n",
       "\n",
       "    .dataframe thead th {\n",
       "        text-align: right;\n",
       "    }\n",
       "</style>\n",
       "<table border=\"1\" class=\"dataframe\">\n",
       "  <thead>\n",
       "    <tr style=\"text-align: right;\">\n",
       "      <th></th>\n",
       "      <th>wagnum</th>\n",
       "      <th>month</th>\n",
       "      <th>target_month</th>\n",
       "      <th>target_day</th>\n",
       "    </tr>\n",
       "  </thead>\n",
       "  <tbody>\n",
       "    <tr>\n",
       "      <th>0</th>\n",
       "      <td>33361</td>\n",
       "      <td>2023-01-01</td>\n",
       "      <td>0</td>\n",
       "      <td>0</td>\n",
       "    </tr>\n",
       "    <tr>\n",
       "      <th>1</th>\n",
       "      <td>33364</td>\n",
       "      <td>2023-01-01</td>\n",
       "      <td>0</td>\n",
       "      <td>0</td>\n",
       "    </tr>\n",
       "    <tr>\n",
       "      <th>2</th>\n",
       "      <td>33366</td>\n",
       "      <td>2023-01-01</td>\n",
       "      <td>0</td>\n",
       "      <td>0</td>\n",
       "    </tr>\n",
       "    <tr>\n",
       "      <th>3</th>\n",
       "      <td>33358</td>\n",
       "      <td>2023-01-01</td>\n",
       "      <td>0</td>\n",
       "      <td>0</td>\n",
       "    </tr>\n",
       "    <tr>\n",
       "      <th>4</th>\n",
       "      <td>33349</td>\n",
       "      <td>2023-01-01</td>\n",
       "      <td>0</td>\n",
       "      <td>0</td>\n",
       "    </tr>\n",
       "  </tbody>\n",
       "</table>\n",
       "</div>"
      ],
      "text/plain": [
       "   wagnum       month  target_month  target_day\n",
       "0   33361  2023-01-01             0           0\n",
       "1   33364  2023-01-01             0           0\n",
       "2   33366  2023-01-01             0           0\n",
       "3   33358  2023-01-01             0           0\n",
       "4   33349  2023-01-01             0           0"
      ]
     },
     "execution_count": 8,
     "metadata": {},
     "output_type": "execute_result"
    }
   ],
   "source": [
    "target.head()"
   ]
  },
  {
   "cell_type": "code",
   "execution_count": 9,
   "id": "82a232b0-5fe7-42ae-956c-c583a112bf2e",
   "metadata": {
    "collapsed": false,
    "jupyter": {
     "outputs_hidden": false
    },
    "pycharm": {
     "name": "#%%\n"
    },
    "tags": []
   },
   "outputs": [],
   "source": [
    "target.month = pd.to_datetime(target.month)"
   ]
  },
  {
   "cell_type": "code",
   "execution_count": 10,
   "id": "71a42939-126c-4b3b-8d3c-08d43c94b198",
   "metadata": {
    "tags": []
   },
   "outputs": [],
   "source": [
    "target = target[target.month == month_to_predict][['wagnum','target_month','target_day']]"
   ]
  },
  {
   "cell_type": "code",
   "execution_count": 11,
   "id": "cc68fea8-0820-49ba-9a3e-d5907f17ef49",
   "metadata": {
    "collapsed": false,
    "jupyter": {
     "outputs_hidden": false
    },
    "pycharm": {
     "name": "#%%\n"
    },
    "tags": []
   },
   "outputs": [
    {
     "data": {
      "text/plain": [
       "(1676, 461)"
      ]
     },
     "execution_count": 11,
     "metadata": {},
     "output_type": "execute_result"
    }
   ],
   "source": [
    "target.target_month.sum(), target.target_day.sum()"
   ]
  },
  {
   "cell_type": "code",
   "execution_count": 12,
   "id": "4e50d2a9-f8e1-4a3b-8f43-81213e146315",
   "metadata": {
    "tags": []
   },
   "outputs": [
    {
     "name": "stdout",
     "output_type": "stream",
     "text": [
      "<class 'pandas.core.frame.DataFrame'>\n",
      "Int64Index: 33973 entries, 0 to 33972\n",
      "Data columns (total 3 columns):\n",
      " #   Column        Non-Null Count  Dtype\n",
      "---  ------        --------------  -----\n",
      " 0   wagnum        33973 non-null  Int64\n",
      " 1   target_month  33973 non-null  Int64\n",
      " 2   target_day    33973 non-null  Int64\n",
      "dtypes: Int64(3)\n",
      "memory usage: 1.1 MB\n"
     ]
    }
   ],
   "source": [
    "target.info()"
   ]
  },
  {
   "cell_type": "markdown",
   "id": "e244e2bb-1167-48a4-873a-b42fba606a4c",
   "metadata": {},
   "source": [
    "# EDA"
   ]
  },
  {
   "cell_type": "code",
   "execution_count": null,
   "id": "5f999ed1-95c6-4807-9b83-94e2d7b4b736",
   "metadata": {},
   "outputs": [],
   "source": []
  },
  {
   "cell_type": "markdown",
   "id": "13cf2029-61dd-499f-82bb-ae34adc43a53",
   "metadata": {},
   "source": [
    "# Предобработка данных"
   ]
  },
  {
   "cell_type": "code",
   "execution_count": null,
   "id": "a0d463d5-023a-481d-9bdc-b3f5972bff56",
   "metadata": {},
   "outputs": [],
   "source": []
  },
  {
   "cell_type": "markdown",
   "id": "8c467bf7-ff8c-4758-9146-1bc6ee44b97e",
   "metadata": {},
   "source": [
    "# Feature engineering"
   ]
  },
  {
   "cell_type": "code",
   "execution_count": null,
   "id": "97f76930-8ebd-489f-bb6c-ac609592bf01",
   "metadata": {},
   "outputs": [],
   "source": []
  },
  {
   "cell_type": "markdown",
   "id": "f0e2209a-7853-4534-8e6b-fe06ba401f58",
   "metadata": {},
   "source": [
    "# Base-line"
   ]
  },
  {
   "cell_type": "code",
   "execution_count": null,
   "id": "6cfeec6f-3542-4ff7-a1eb-4bbe72545f0f",
   "metadata": {},
   "outputs": [],
   "source": []
  },
  {
   "cell_type": "markdown",
   "id": "57cc39ef-28dc-4bb1-95b2-72f9cd19a4be",
   "metadata": {},
   "source": [
    "## Важность признаков"
   ]
  },
  {
   "cell_type": "code",
   "execution_count": null,
   "id": "799dbf3e-e113-4f64-9e69-e5c70d93c480",
   "metadata": {},
   "outputs": [],
   "source": []
  },
  {
   "cell_type": "markdown",
   "id": "5cbbdb0f-1a49-44b2-a130-cd5e1f5fd74f",
   "metadata": {},
   "source": [
    "# Feature engineering v2"
   ]
  },
  {
   "cell_type": "code",
   "execution_count": null,
   "id": "82cb94ef-afba-4e32-9765-796611596d5d",
   "metadata": {},
   "outputs": [],
   "source": []
  }
 ],
 "metadata": {
  "kernelspec": {
   "display_name": "Python 3 (ipykernel)",
   "language": "python",
   "name": "python3"
  },
  "language_info": {
   "codemirror_mode": {
    "name": "ipython",
    "version": 3
   },
   "file_extension": ".py",
   "mimetype": "text/x-python",
   "name": "python",
   "nbconvert_exporter": "python",
   "pygments_lexer": "ipython3",
   "version": "3.10.0"
  },
  "toc-autonumbering": true
 },
 "nbformat": 4,
 "nbformat_minor": 5
}
