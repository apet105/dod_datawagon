{
 "cells": [
  {
   "cell_type": "markdown",
   "id": "8b7bd134-e311-470a-aa5e-efc4800fb68b",
   "metadata": {},
   "source": [
    "# Описание проекта"
   ]
  },
  {
   "cell_type": "markdown",
   "id": "2f5cc07e-8f08-4f75-96e6-53d808cca54b",
   "metadata": {},
   "source": [
    "# Импорт библиотек"
   ]
  },
  {
   "cell_type": "code",
   "execution_count": 1,
   "id": "8a5589cb-afc1-4367-91c3-33262b13af87",
   "metadata": {
    "tags": []
   },
   "outputs": [],
   "source": [
    "%matplotlib inline\n",
    "import pandas as pd\n",
    "import numpy as np\n",
    "\n",
    "from sklearn.model_selection import GridSearchCV, cross_val_score, train_test_split\n",
    "from sklearn.pipeline import Pipeline\n",
    "\n",
    "from sklearn.compose import ColumnTransformer\n",
    "\n",
    "from catboost import CatBoostRegressor\n",
    "import catboost\n",
    "\n",
    "import ydata_profiling\n",
    "import phik\n",
    "\n",
    "import seaborn as sns\n",
    "import matplotlib\n",
    "import matplotlib.pyplot as plt\n",
    "\n",
    "from pylab import rcParams\n",
    "import warnings\n",
    "\n",
    "sns.set(style=\"darkgrid\")\n",
    "rcParams['figure.figsize'] = 20, 9\n",
    "\n",
    "import sys"
   ]
  },
  {
   "cell_type": "code",
   "execution_count": 2,
   "id": "73676249-af58-46fe-9059-42664ba1daf7",
   "metadata": {
    "tags": []
   },
   "outputs": [],
   "source": [
    "sys.path.append('./train')"
   ]
  },
  {
   "cell_type": "code",
   "execution_count": 3,
   "id": "d3bd9c78-131e-4269-9a94-dd2ae5a9f0a7",
   "metadata": {
    "tags": []
   },
   "outputs": [],
   "source": [
    "from metrics_f1 import calc_f1_score"
   ]
  },
  {
   "cell_type": "markdown",
   "id": "ff0571ea-1f1f-4d46-a8dd-f0c59623882e",
   "metadata": {
    "tags": []
   },
   "source": [
    "# Загрузка данных"
   ]
  },
  {
   "cell_type": "code",
   "execution_count": 4,
   "id": "0a7076e7-4782-482c-97cd-3105565c938a",
   "metadata": {
    "collapsed": false,
    "jupyter": {
     "outputs_hidden": false
    },
    "pycharm": {
     "name": "#%%\n"
    },
    "tags": []
   },
   "outputs": [],
   "source": [
    "path_train = r\"./train\""
   ]
  },
  {
   "cell_type": "code",
   "execution_count": 6,
   "id": "68141910-cded-4d66-8337-36f40d5cddbb",
   "metadata": {
    "collapsed": false,
    "jupyter": {
     "outputs_hidden": false
    },
    "pycharm": {
     "name": "#%%\n"
    },
    "tags": []
   },
   "outputs": [],
   "source": [
    "month_to_predict = pd.to_datetime('2023-01-01')"
   ]
  },
  {
   "cell_type": "markdown",
   "id": "493ce8cc-3961-4195-94b0-fa68d13e6ef0",
   "metadata": {
    "jp-MarkdownHeadingCollapsed": true,
    "tags": []
   },
   "source": [
    "## Список вагонов с остаточным пробегом (wagons_probeg_ownersip)"
   ]
  },
  {
   "cell_type": "code",
   "execution_count": 18,
   "id": "4dc1ffea-3430-4bd9-b603-ab76ba5cb751",
   "metadata": {
    "tags": []
   },
   "outputs": [],
   "source": [
    "# список вагонов с остаточным пробегом на момент прогноза\n",
    "wag_prob = pd.read_parquet(path_train + '/wagons_probeg_ownersip.parquet').convert_dtypes()"
   ]
  },
  {
   "cell_type": "code",
   "execution_count": 19,
   "id": "cdd451b2-e857-4309-8473-e9be9fecec22",
   "metadata": {
    "tags": []
   },
   "outputs": [
    {
     "name": "stdout",
     "output_type": "stream",
     "text": [
      "<class 'pandas.core.frame.DataFrame'>\n",
      "Int64Index: 6249857 entries, 0 to 9249588\n",
      "Data columns (total 8 columns):\n",
      " #   Column          Dtype         \n",
      "---  ------          -----         \n",
      " 0   repdate         datetime64[ns]\n",
      " 1   wagnum          Int64         \n",
      " 2   ost_prob        Int64         \n",
      " 3   manage_type     Int64         \n",
      " 4   rod_id          Int64         \n",
      " 5   reestr_state    Int64         \n",
      " 6   ownership_type  Int64         \n",
      " 7   month           Int64         \n",
      "dtypes: Int64(7), datetime64[ns](1)\n",
      "memory usage: 470.9 MB\n"
     ]
    }
   ],
   "source": [
    "wag_prob.info()"
   ]
  },
  {
   "cell_type": "code",
   "execution_count": 28,
   "id": "870968e9-cb54-4563-9ce9-ecf5130a23c3",
   "metadata": {
    "tags": []
   },
   "outputs": [
    {
     "data": {
      "text/plain": [
       "Timestamp('2023-01-31 00:00:00')"
      ]
     },
     "execution_count": 28,
     "metadata": {},
     "output_type": "execute_result"
    }
   ],
   "source": [
    "wag_prob['repdate'].max()"
   ]
  },
  {
   "cell_type": "code",
   "execution_count": 46,
   "id": "5bd63de7-4804-4676-aff5-c8619ead94d6",
   "metadata": {
    "tags": []
   },
   "outputs": [
    {
     "data": {
      "text/plain": [
       "Timestamp('2022-08-01 00:00:00')"
      ]
     },
     "execution_count": 46,
     "metadata": {},
     "output_type": "execute_result"
    }
   ],
   "source": [
    "wag_prob['repdate'].min()"
   ]
  },
  {
   "cell_type": "code",
   "execution_count": 71,
   "id": "823a92f6-3f2f-42a8-a0ee-fe41d5b5e755",
   "metadata": {
    "tags": []
   },
   "outputs": [
    {
     "data": {
      "text/html": [
       "<div>\n",
       "<style scoped>\n",
       "    .dataframe tbody tr th:only-of-type {\n",
       "        vertical-align: middle;\n",
       "    }\n",
       "\n",
       "    .dataframe tbody tr th {\n",
       "        vertical-align: top;\n",
       "    }\n",
       "\n",
       "    .dataframe thead th {\n",
       "        text-align: right;\n",
       "    }\n",
       "</style>\n",
       "<table border=\"1\" class=\"dataframe\">\n",
       "  <thead>\n",
       "    <tr style=\"text-align: right;\">\n",
       "      <th></th>\n",
       "      <th>repdate</th>\n",
       "      <th>wagnum</th>\n",
       "      <th>ost_prob</th>\n",
       "      <th>manage_type</th>\n",
       "      <th>rod_id</th>\n",
       "      <th>reestr_state</th>\n",
       "      <th>ownership_type</th>\n",
       "      <th>month</th>\n",
       "    </tr>\n",
       "  </thead>\n",
       "  <tbody>\n",
       "    <tr>\n",
       "      <th>153</th>\n",
       "      <td>2023-01-01</td>\n",
       "      <td>33361</td>\n",
       "      <td>153113</td>\n",
       "      <td>0</td>\n",
       "      <td>1</td>\n",
       "      <td>1</td>\n",
       "      <td>0</td>\n",
       "      <td>1</td>\n",
       "    </tr>\n",
       "    <tr>\n",
       "      <th>426</th>\n",
       "      <td>2023-01-01</td>\n",
       "      <td>33364</td>\n",
       "      <td>157426</td>\n",
       "      <td>0</td>\n",
       "      <td>1</td>\n",
       "      <td>1</td>\n",
       "      <td>0</td>\n",
       "      <td>1</td>\n",
       "    </tr>\n",
       "    <tr>\n",
       "      <th>699</th>\n",
       "      <td>2023-01-01</td>\n",
       "      <td>33366</td>\n",
       "      <td>159748</td>\n",
       "      <td>0</td>\n",
       "      <td>1</td>\n",
       "      <td>1</td>\n",
       "      <td>0</td>\n",
       "      <td>1</td>\n",
       "    </tr>\n",
       "    <tr>\n",
       "      <th>972</th>\n",
       "      <td>2023-01-01</td>\n",
       "      <td>33358</td>\n",
       "      <td>28597</td>\n",
       "      <td>0</td>\n",
       "      <td>1</td>\n",
       "      <td>1</td>\n",
       "      <td>0</td>\n",
       "      <td>1</td>\n",
       "    </tr>\n",
       "    <tr>\n",
       "      <th>1245</th>\n",
       "      <td>2023-01-01</td>\n",
       "      <td>33349</td>\n",
       "      <td>150043</td>\n",
       "      <td>0</td>\n",
       "      <td>1</td>\n",
       "      <td>1</td>\n",
       "      <td>0</td>\n",
       "      <td>1</td>\n",
       "    </tr>\n",
       "  </tbody>\n",
       "</table>\n",
       "</div>"
      ],
      "text/plain": [
       "        repdate  wagnum  ost_prob  manage_type  rod_id  reestr_state  \\\n",
       "153  2023-01-01   33361    153113            0       1             1   \n",
       "426  2023-01-01   33364    157426            0       1             1   \n",
       "699  2023-01-01   33366    159748            0       1             1   \n",
       "972  2023-01-01   33358     28597            0       1             1   \n",
       "1245 2023-01-01   33349    150043            0       1             1   \n",
       "\n",
       "      ownership_type  month  \n",
       "153                0      1  \n",
       "426                0      1  \n",
       "699                0      1  \n",
       "972                0      1  \n",
       "1245               0      1  "
      ]
     },
     "execution_count": 71,
     "metadata": {},
     "output_type": "execute_result"
    }
   ],
   "source": [
    "wag_prob[wag_prob['repdate'] == month_to_predict].head()"
   ]
  },
  {
   "cell_type": "markdown",
   "id": "727565f4-18f6-4963-8ddb-de8d85378887",
   "metadata": {
    "jp-MarkdownHeadingCollapsed": true,
    "tags": []
   },
   "source": [
    "## Дислокация вагонов (dislok_wagons)"
   ]
  },
  {
   "cell_type": "code",
   "execution_count": 14,
   "id": "f0e4d852-e35e-4c28-9c5e-a3488858beda",
   "metadata": {
    "tags": []
   },
   "outputs": [],
   "source": [
    "# данные по дислокации\n",
    "dislok = pd.read_parquet(path_train + '/dislok_wagons.parquet').convert_dtypes()"
   ]
  },
  {
   "cell_type": "code",
   "execution_count": 15,
   "id": "16f26fc6-ac71-4d9c-a435-1666b4b4ba8e",
   "metadata": {
    "tags": []
   },
   "outputs": [
    {
     "name": "stdout",
     "output_type": "stream",
     "text": [
      "<class 'pandas.core.frame.DataFrame'>\n",
      "Int64Index: 6250933 entries, 0 to 1052924\n",
      "Data columns (total 16 columns):\n",
      " #   Column        Dtype         \n",
      "---  ------        -----         \n",
      " 0   plan_date     datetime64[ns]\n",
      " 1   wagnum        Int64         \n",
      " 2   date_kap      datetime64[ns]\n",
      " 3   date_dep      datetime64[ns]\n",
      " 4   kod_vrab      Int64         \n",
      " 5   date_pl_rem   datetime64[ns]\n",
      " 6   id_road_disl  Int64         \n",
      " 7   st_id_dest    Int64         \n",
      " 8   id_road_dest  Int64         \n",
      " 9   st_id_send    Int64         \n",
      " 10  id_road_send  Int64         \n",
      " 11  ost_prob      Int64         \n",
      " 12  isload        Int64         \n",
      " 13  fr_id         Int64         \n",
      " 14  last_fr_id    Int64         \n",
      " 15  distance      Int64         \n",
      "dtypes: Int64(12), datetime64[ns](4)\n",
      "memory usage: 882.3 MB\n"
     ]
    }
   ],
   "source": [
    "dislok.info()"
   ]
  },
  {
   "cell_type": "code",
   "execution_count": 40,
   "id": "f9fc641e-4f8e-4b4f-a3bc-b82710e67e6f",
   "metadata": {
    "tags": []
   },
   "outputs": [
    {
     "data": {
      "text/plain": [
       "Timestamp('2023-01-31 00:00:00')"
      ]
     },
     "execution_count": 40,
     "metadata": {},
     "output_type": "execute_result"
    }
   ],
   "source": [
    "dislok['plan_date'].max()"
   ]
  },
  {
   "cell_type": "code",
   "execution_count": 42,
   "id": "7c0a3112-d49a-42d1-9061-89219df74940",
   "metadata": {
    "tags": []
   },
   "outputs": [
    {
     "data": {
      "text/html": [
       "<div>\n",
       "<style scoped>\n",
       "    .dataframe tbody tr th:only-of-type {\n",
       "        vertical-align: middle;\n",
       "    }\n",
       "\n",
       "    .dataframe tbody tr th {\n",
       "        vertical-align: top;\n",
       "    }\n",
       "\n",
       "    .dataframe thead th {\n",
       "        text-align: right;\n",
       "    }\n",
       "</style>\n",
       "<table border=\"1\" class=\"dataframe\">\n",
       "  <thead>\n",
       "    <tr style=\"text-align: right;\">\n",
       "      <th></th>\n",
       "      <th>plan_date</th>\n",
       "      <th>wagnum</th>\n",
       "      <th>date_kap</th>\n",
       "      <th>date_dep</th>\n",
       "      <th>kod_vrab</th>\n",
       "      <th>date_pl_rem</th>\n",
       "      <th>id_road_disl</th>\n",
       "      <th>st_id_dest</th>\n",
       "      <th>id_road_dest</th>\n",
       "      <th>st_id_send</th>\n",
       "      <th>id_road_send</th>\n",
       "      <th>ost_prob</th>\n",
       "      <th>isload</th>\n",
       "      <th>fr_id</th>\n",
       "      <th>last_fr_id</th>\n",
       "      <th>distance</th>\n",
       "    </tr>\n",
       "  </thead>\n",
       "  <tbody>\n",
       "    <tr>\n",
       "      <th>30</th>\n",
       "      <td>2023-01-31</td>\n",
       "      <td>23398</td>\n",
       "      <td>2021-10-04</td>\n",
       "      <td>2019-05-24</td>\n",
       "      <td>0</td>\n",
       "      <td>2024-10-04</td>\n",
       "      <td>15</td>\n",
       "      <td>3376</td>\n",
       "      <td>15</td>\n",
       "      <td>6152</td>\n",
       "      <td>28</td>\n",
       "      <td>64018</td>\n",
       "      <td>1</td>\n",
       "      <td>1083</td>\n",
       "      <td>1083</td>\n",
       "      <td>999</td>\n",
       "    </tr>\n",
       "    <tr>\n",
       "      <th>61</th>\n",
       "      <td>2023-01-31</td>\n",
       "      <td>31528</td>\n",
       "      <td>NaT</td>\n",
       "      <td>2021-12-16</td>\n",
       "      <td>1</td>\n",
       "      <td>2024-12-16</td>\n",
       "      <td>15</td>\n",
       "      <td>3376</td>\n",
       "      <td>15</td>\n",
       "      <td>6152</td>\n",
       "      <td>28</td>\n",
       "      <td>44948</td>\n",
       "      <td>1</td>\n",
       "      <td>1083</td>\n",
       "      <td>1083</td>\n",
       "      <td>-1</td>\n",
       "    </tr>\n",
       "    <tr>\n",
       "      <th>92</th>\n",
       "      <td>2023-01-31</td>\n",
       "      <td>20486</td>\n",
       "      <td>2021-04-04</td>\n",
       "      <td>2019-07-30</td>\n",
       "      <td>0</td>\n",
       "      <td>2024-04-04</td>\n",
       "      <td>44</td>\n",
       "      <td>12651</td>\n",
       "      <td>38</td>\n",
       "      <td>12318</td>\n",
       "      <td>44</td>\n",
       "      <td>7988</td>\n",
       "      <td>0</td>\n",
       "      <td>5032</td>\n",
       "      <td>2336</td>\n",
       "      <td>5025</td>\n",
       "    </tr>\n",
       "    <tr>\n",
       "      <th>123</th>\n",
       "      <td>2023-01-31</td>\n",
       "      <td>16526</td>\n",
       "      <td>NaT</td>\n",
       "      <td>2022-05-17</td>\n",
       "      <td>1</td>\n",
       "      <td>2025-05-17</td>\n",
       "      <td>41</td>\n",
       "      <td>22</td>\n",
       "      <td>41</td>\n",
       "      <td>2258</td>\n",
       "      <td>11</td>\n",
       "      <td>114983</td>\n",
       "      <td>1</td>\n",
       "      <td>3266</td>\n",
       "      <td>3266</td>\n",
       "      <td>-1</td>\n",
       "    </tr>\n",
       "    <tr>\n",
       "      <th>154</th>\n",
       "      <td>2023-01-31</td>\n",
       "      <td>18061</td>\n",
       "      <td>2022-02-23</td>\n",
       "      <td>2019-08-09</td>\n",
       "      <td>0</td>\n",
       "      <td>2025-02-23</td>\n",
       "      <td>36</td>\n",
       "      <td>22</td>\n",
       "      <td>36</td>\n",
       "      <td>8971</td>\n",
       "      <td>36</td>\n",
       "      <td>104774</td>\n",
       "      <td>0</td>\n",
       "      <td>1639</td>\n",
       "      <td>1639</td>\n",
       "      <td>4051</td>\n",
       "    </tr>\n",
       "  </tbody>\n",
       "</table>\n",
       "</div>"
      ],
      "text/plain": [
       "     plan_date  wagnum   date_kap   date_dep  kod_vrab date_pl_rem  \\\n",
       "30  2023-01-31   23398 2021-10-04 2019-05-24         0  2024-10-04   \n",
       "61  2023-01-31   31528        NaT 2021-12-16         1  2024-12-16   \n",
       "92  2023-01-31   20486 2021-04-04 2019-07-30         0  2024-04-04   \n",
       "123 2023-01-31   16526        NaT 2022-05-17         1  2025-05-17   \n",
       "154 2023-01-31   18061 2022-02-23 2019-08-09         0  2025-02-23   \n",
       "\n",
       "     id_road_disl  st_id_dest  id_road_dest  st_id_send  id_road_send  \\\n",
       "30             15        3376            15        6152            28   \n",
       "61             15        3376            15        6152            28   \n",
       "92             44       12651            38       12318            44   \n",
       "123            41          22            41        2258            11   \n",
       "154            36          22            36        8971            36   \n",
       "\n",
       "     ost_prob  isload  fr_id  last_fr_id  distance  \n",
       "30      64018       1   1083        1083       999  \n",
       "61      44948       1   1083        1083        -1  \n",
       "92       7988       0   5032        2336      5025  \n",
       "123    114983       1   3266        3266        -1  \n",
       "154    104774       0   1639        1639      4051  "
      ]
     },
     "execution_count": 42,
     "metadata": {},
     "output_type": "execute_result"
    }
   ],
   "source": [
    "dislok[dislok['plan_date'] == dislok['plan_date'].max()].head()"
   ]
  },
  {
   "cell_type": "code",
   "execution_count": 47,
   "id": "a73fb6c9-dba0-4f70-8cfa-e4f9abc79faa",
   "metadata": {
    "tags": []
   },
   "outputs": [
    {
     "data": {
      "text/html": [
       "<div>\n",
       "<style scoped>\n",
       "    .dataframe tbody tr th:only-of-type {\n",
       "        vertical-align: middle;\n",
       "    }\n",
       "\n",
       "    .dataframe tbody tr th {\n",
       "        vertical-align: top;\n",
       "    }\n",
       "\n",
       "    .dataframe thead th {\n",
       "        text-align: right;\n",
       "    }\n",
       "</style>\n",
       "<table border=\"1\" class=\"dataframe\">\n",
       "  <thead>\n",
       "    <tr style=\"text-align: right;\">\n",
       "      <th></th>\n",
       "      <th>plan_date</th>\n",
       "      <th>wagnum</th>\n",
       "      <th>date_kap</th>\n",
       "      <th>date_dep</th>\n",
       "      <th>kod_vrab</th>\n",
       "      <th>date_pl_rem</th>\n",
       "      <th>id_road_disl</th>\n",
       "      <th>st_id_dest</th>\n",
       "      <th>id_road_dest</th>\n",
       "      <th>st_id_send</th>\n",
       "      <th>id_road_send</th>\n",
       "      <th>ost_prob</th>\n",
       "      <th>isload</th>\n",
       "      <th>fr_id</th>\n",
       "      <th>last_fr_id</th>\n",
       "      <th>distance</th>\n",
       "    </tr>\n",
       "  </thead>\n",
       "  <tbody>\n",
       "    <tr>\n",
       "      <th>0</th>\n",
       "      <td>2023-01-01</td>\n",
       "      <td>23398</td>\n",
       "      <td>2021-10-04</td>\n",
       "      <td>2019-05-24</td>\n",
       "      <td>0</td>\n",
       "      <td>2024-10-04</td>\n",
       "      <td>44</td>\n",
       "      <td>22</td>\n",
       "      <td>44</td>\n",
       "      <td>10343</td>\n",
       "      <td>38</td>\n",
       "      <td>74801</td>\n",
       "      <td>1</td>\n",
       "      <td>722</td>\n",
       "      <td>722</td>\n",
       "      <td>-1</td>\n",
       "    </tr>\n",
       "    <tr>\n",
       "      <th>31</th>\n",
       "      <td>2023-01-01</td>\n",
       "      <td>31528</td>\n",
       "      <td>NaT</td>\n",
       "      <td>2021-12-16</td>\n",
       "      <td>1</td>\n",
       "      <td>2024-12-16</td>\n",
       "      <td>44</td>\n",
       "      <td>22</td>\n",
       "      <td>44</td>\n",
       "      <td>10343</td>\n",
       "      <td>38</td>\n",
       "      <td>55731</td>\n",
       "      <td>1</td>\n",
       "      <td>722</td>\n",
       "      <td>722</td>\n",
       "      <td>-1</td>\n",
       "    </tr>\n",
       "    <tr>\n",
       "      <th>62</th>\n",
       "      <td>2023-01-01</td>\n",
       "      <td>20486</td>\n",
       "      <td>2021-04-04</td>\n",
       "      <td>2019-07-30</td>\n",
       "      <td>0</td>\n",
       "      <td>2024-04-04</td>\n",
       "      <td>16</td>\n",
       "      <td>12318</td>\n",
       "      <td>44</td>\n",
       "      <td>4421</td>\n",
       "      <td>16</td>\n",
       "      <td>16845</td>\n",
       "      <td>1</td>\n",
       "      <td>2336</td>\n",
       "      <td>2336</td>\n",
       "      <td>-1</td>\n",
       "    </tr>\n",
       "    <tr>\n",
       "      <th>93</th>\n",
       "      <td>2023-01-01</td>\n",
       "      <td>16526</td>\n",
       "      <td>NaT</td>\n",
       "      <td>2022-05-17</td>\n",
       "      <td>1</td>\n",
       "      <td>2025-05-17</td>\n",
       "      <td>36</td>\n",
       "      <td>15990</td>\n",
       "      <td>41</td>\n",
       "      <td>2258</td>\n",
       "      <td>11</td>\n",
       "      <td>121464</td>\n",
       "      <td>1</td>\n",
       "      <td>3266</td>\n",
       "      <td>3266</td>\n",
       "      <td>-1</td>\n",
       "    </tr>\n",
       "    <tr>\n",
       "      <th>124</th>\n",
       "      <td>2023-01-01</td>\n",
       "      <td>18061</td>\n",
       "      <td>2022-02-23</td>\n",
       "      <td>2019-08-09</td>\n",
       "      <td>0</td>\n",
       "      <td>2025-02-23</td>\n",
       "      <td>38</td>\n",
       "      <td>10389</td>\n",
       "      <td>38</td>\n",
       "      <td>5310</td>\n",
       "      <td>25</td>\n",
       "      <td>112134</td>\n",
       "      <td>0</td>\n",
       "      <td>2255</td>\n",
       "      <td>1593</td>\n",
       "      <td>-1</td>\n",
       "    </tr>\n",
       "  </tbody>\n",
       "</table>\n",
       "</div>"
      ],
      "text/plain": [
       "     plan_date  wagnum   date_kap   date_dep  kod_vrab date_pl_rem  \\\n",
       "0   2023-01-01   23398 2021-10-04 2019-05-24         0  2024-10-04   \n",
       "31  2023-01-01   31528        NaT 2021-12-16         1  2024-12-16   \n",
       "62  2023-01-01   20486 2021-04-04 2019-07-30         0  2024-04-04   \n",
       "93  2023-01-01   16526        NaT 2022-05-17         1  2025-05-17   \n",
       "124 2023-01-01   18061 2022-02-23 2019-08-09         0  2025-02-23   \n",
       "\n",
       "     id_road_disl  st_id_dest  id_road_dest  st_id_send  id_road_send  \\\n",
       "0              44          22            44       10343            38   \n",
       "31             44          22            44       10343            38   \n",
       "62             16       12318            44        4421            16   \n",
       "93             36       15990            41        2258            11   \n",
       "124            38       10389            38        5310            25   \n",
       "\n",
       "     ost_prob  isload  fr_id  last_fr_id  distance  \n",
       "0       74801       1    722         722        -1  \n",
       "31      55731       1    722         722        -1  \n",
       "62      16845       1   2336        2336        -1  \n",
       "93     121464       1   3266        3266        -1  \n",
       "124    112134       0   2255        1593        -1  "
      ]
     },
     "execution_count": 47,
     "metadata": {},
     "output_type": "execute_result"
    }
   ],
   "source": [
    "dislok[dislok['plan_date'] == month_to_predict].head()"
   ]
  },
  {
   "cell_type": "markdown",
   "id": "f118e596-3351-4afd-b13c-8e0602f4c574",
   "metadata": {},
   "source": [
    "### Выводы по полям"
   ]
  },
  {
   "cell_type": "markdown",
   "id": "0662de64-99e6-4f3b-a445-5095620e7ba9",
   "metadata": {},
   "source": [
    "**Примечание**: Есть данные по дислокациям за прошедший месяц\n",
    "\n",
    "Нужно взять:\n",
    "* Был ли ремнот в прошедшем месяце, условие на номер вагона как в base-line\n",
    "* Сколько было ремонтов в прошедшем месяце, count по kod_vrab\n",
    "* Дней с момента ремонта на дату среза, month_to_predict - rem_month\n",
    "    * Для 10 дней: month_to_predict + timedelta('10 days') - rem_month\n",
    "    * Для месяца: month_to_predict + timedelta('31 days') - rem_month\n",
    "    \n",
    "Можно взять:\n",
    "* distance как-то юзать чтобы проверять насколько близок ремонт был\n",
    "* проверять как-то станции (road_id_send, road_id_rem) и дороги (road_id_send, road_id_rem), но пока непонятно на что"
   ]
  },
  {
   "cell_type": "markdown",
   "id": "ec70397d-3ee7-4f5b-8f56-6d48f9f23ff2",
   "metadata": {
    "tags": []
   },
   "source": [
    "## Параметры вагона (wag_params)"
   ]
  },
  {
   "cell_type": "code",
   "execution_count": 20,
   "id": "fee7b2f1-2f68-4d49-adf9-1be9115d7c0a",
   "metadata": {
    "tags": []
   },
   "outputs": [],
   "source": [
    "# параметры вагона\n",
    "wag_param = pd.read_parquet(path_train + '/wag_params.parquet').convert_dtypes()"
   ]
  },
  {
   "cell_type": "code",
   "execution_count": 29,
   "id": "0e02af3d-1d48-4add-ae28-c2dbb7b0ddf8",
   "metadata": {
    "tags": []
   },
   "outputs": [],
   "source": [
    "# у вагонов могут меняться параметры, поэтмоу номер дублируется\n",
    "wag_param = wag_param.drop_duplicates(subset='wagnum', keep='last')"
   ]
  },
  {
   "cell_type": "code",
   "execution_count": 30,
   "id": "d9d5ea92-744c-4f01-b882-3ac542067f69",
   "metadata": {
    "tags": []
   },
   "outputs": [
    {
     "name": "stdout",
     "output_type": "stream",
     "text": [
      "<class 'pandas.core.frame.DataFrame'>\n",
      "Int64Index: 33977 entries, 3218 to 33707\n",
      "Data columns (total 20 columns):\n",
      " #   Column              Non-Null Count  Dtype         \n",
      "---  ------              --------------  -----         \n",
      " 0   wagnum              33977 non-null  Int64         \n",
      " 1   model               33977 non-null  string        \n",
      " 2   rod_id              33977 non-null  Int64         \n",
      " 3   gruz                33977 non-null  Int64         \n",
      " 4   cnsi_gruz_capacity  33977 non-null  Int64         \n",
      " 5   cnsi_volumek        33977 non-null  Float64       \n",
      " 6   tara                33977 non-null  Int64         \n",
      " 7   date_build          33977 non-null  datetime64[ns]\n",
      " 8   srok_sl             33977 non-null  datetime64[ns]\n",
      " 9   zavod_build         33977 non-null  Int64         \n",
      " 10  date_iskl           116 non-null    datetime64[ns]\n",
      " 11  cnsi_probeg_dr      33977 non-null  Int64         \n",
      " 12  cnsi_probeg_kr      33977 non-null  Int64         \n",
      " 13  kuzov               33977 non-null  Int64         \n",
      " 14  telega              33977 non-null  Int64         \n",
      " 15  tormoz              33977 non-null  Int64         \n",
      " 16  tipvozd             33977 non-null  string        \n",
      " 17  tippogl             33918 non-null  Int64         \n",
      " 18  norma_km            33977 non-null  Int64         \n",
      " 19  ownertype           33977 non-null  Int64         \n",
      "dtypes: Float64(1), Int64(14), datetime64[ns](3), string(2)\n",
      "memory usage: 5.9 MB\n"
     ]
    }
   ],
   "source": [
    "wag_param.info()"
   ]
  },
  {
   "cell_type": "code",
   "execution_count": 31,
   "id": "26c4430c-0799-4c81-bc94-526201895a4c",
   "metadata": {
    "tags": []
   },
   "outputs": [
    {
     "data": {
      "text/html": [
       "<div>\n",
       "<style scoped>\n",
       "    .dataframe tbody tr th:only-of-type {\n",
       "        vertical-align: middle;\n",
       "    }\n",
       "\n",
       "    .dataframe tbody tr th {\n",
       "        vertical-align: top;\n",
       "    }\n",
       "\n",
       "    .dataframe thead th {\n",
       "        text-align: right;\n",
       "    }\n",
       "</style>\n",
       "<table border=\"1\" class=\"dataframe\">\n",
       "  <thead>\n",
       "    <tr style=\"text-align: right;\">\n",
       "      <th></th>\n",
       "      <th>wagnum</th>\n",
       "      <th>model</th>\n",
       "      <th>rod_id</th>\n",
       "      <th>gruz</th>\n",
       "      <th>cnsi_gruz_capacity</th>\n",
       "      <th>cnsi_volumek</th>\n",
       "      <th>tara</th>\n",
       "      <th>date_build</th>\n",
       "      <th>srok_sl</th>\n",
       "      <th>zavod_build</th>\n",
       "      <th>date_iskl</th>\n",
       "      <th>cnsi_probeg_dr</th>\n",
       "      <th>cnsi_probeg_kr</th>\n",
       "      <th>kuzov</th>\n",
       "      <th>telega</th>\n",
       "      <th>tormoz</th>\n",
       "      <th>tipvozd</th>\n",
       "      <th>tippogl</th>\n",
       "      <th>norma_km</th>\n",
       "      <th>ownertype</th>\n",
       "    </tr>\n",
       "  </thead>\n",
       "  <tbody>\n",
       "    <tr>\n",
       "      <th>3218</th>\n",
       "      <td>26318</td>\n",
       "      <td>12-600-04</td>\n",
       "      <td>1</td>\n",
       "      <td>682</td>\n",
       "      <td>682</td>\n",
       "      <td>85.0</td>\n",
       "      <td>240</td>\n",
       "      <td>1992-12-25</td>\n",
       "      <td>2022-04-27</td>\n",
       "      <td>5</td>\n",
       "      <td>2023-02-16</td>\n",
       "      <td>160</td>\n",
       "      <td>160</td>\n",
       "      <td>2</td>\n",
       "      <td>9</td>\n",
       "      <td>3</td>\n",
       "      <td>6</td>\n",
       "      <td>11</td>\n",
       "      <td>110000</td>\n",
       "      <td>0</td>\n",
       "    </tr>\n",
       "    <tr>\n",
       "      <th>19128</th>\n",
       "      <td>28344</td>\n",
       "      <td>12-132</td>\n",
       "      <td>1</td>\n",
       "      <td>700</td>\n",
       "      <td>700</td>\n",
       "      <td>88.0</td>\n",
       "      <td>240</td>\n",
       "      <td>2003-08-12</td>\n",
       "      <td>2024-12-24</td>\n",
       "      <td>0</td>\n",
       "      <td>2022-12-14</td>\n",
       "      <td>110</td>\n",
       "      <td>160</td>\n",
       "      <td>2</td>\n",
       "      <td>9</td>\n",
       "      <td>2</td>\n",
       "      <td>1</td>\n",
       "      <td>12</td>\n",
       "      <td>0</td>\n",
       "      <td>0</td>\n",
       "    </tr>\n",
       "    <tr>\n",
       "      <th>21526</th>\n",
       "      <td>8099</td>\n",
       "      <td>11-286</td>\n",
       "      <td>0</td>\n",
       "      <td>670</td>\n",
       "      <td>670</td>\n",
       "      <td>138.0</td>\n",
       "      <td>270</td>\n",
       "      <td>1995-08-31</td>\n",
       "      <td>2027-10-01</td>\n",
       "      <td>1</td>\n",
       "      <td>NaT</td>\n",
       "      <td>110</td>\n",
       "      <td>160</td>\n",
       "      <td>2</td>\n",
       "      <td>9</td>\n",
       "      <td>2</td>\n",
       "      <td>1</td>\n",
       "      <td>1</td>\n",
       "      <td>160000</td>\n",
       "      <td>1</td>\n",
       "    </tr>\n",
       "    <tr>\n",
       "      <th>32353</th>\n",
       "      <td>33350</td>\n",
       "      <td>12-9850-02</td>\n",
       "      <td>1</td>\n",
       "      <td>750</td>\n",
       "      <td>750</td>\n",
       "      <td>90.0</td>\n",
       "      <td>248</td>\n",
       "      <td>2014-10-27</td>\n",
       "      <td>2047-02-05</td>\n",
       "      <td>19</td>\n",
       "      <td>NaT</td>\n",
       "      <td>250</td>\n",
       "      <td>500</td>\n",
       "      <td>2</td>\n",
       "      <td>11</td>\n",
       "      <td>2</td>\n",
       "      <td>7</td>\n",
       "      <td>12</td>\n",
       "      <td>250000</td>\n",
       "      <td>1</td>\n",
       "    </tr>\n",
       "    <tr>\n",
       "      <th>81</th>\n",
       "      <td>5308</td>\n",
       "      <td>11-276</td>\n",
       "      <td>0</td>\n",
       "      <td>680</td>\n",
       "      <td>680</td>\n",
       "      <td>122.0</td>\n",
       "      <td>260</td>\n",
       "      <td>1995-09-17</td>\n",
       "      <td>2027-09-28</td>\n",
       "      <td>1</td>\n",
       "      <td>NaT</td>\n",
       "      <td>110</td>\n",
       "      <td>160</td>\n",
       "      <td>2</td>\n",
       "      <td>9</td>\n",
       "      <td>2</td>\n",
       "      <td>1</td>\n",
       "      <td>11</td>\n",
       "      <td>160000</td>\n",
       "      <td>1</td>\n",
       "    </tr>\n",
       "  </tbody>\n",
       "</table>\n",
       "</div>"
      ],
      "text/plain": [
       "       wagnum       model  rod_id  gruz  cnsi_gruz_capacity  cnsi_volumek  \\\n",
       "3218    26318   12-600-04       1   682                 682          85.0   \n",
       "19128   28344      12-132       1   700                 700          88.0   \n",
       "21526    8099      11-286       0   670                 670         138.0   \n",
       "32353   33350  12-9850-02       1   750                 750          90.0   \n",
       "81       5308      11-276       0   680                 680         122.0   \n",
       "\n",
       "       tara date_build    srok_sl  zavod_build  date_iskl  cnsi_probeg_dr  \\\n",
       "3218    240 1992-12-25 2022-04-27            5 2023-02-16             160   \n",
       "19128   240 2003-08-12 2024-12-24            0 2022-12-14             110   \n",
       "21526   270 1995-08-31 2027-10-01            1        NaT             110   \n",
       "32353   248 2014-10-27 2047-02-05           19        NaT             250   \n",
       "81      260 1995-09-17 2027-09-28            1        NaT             110   \n",
       "\n",
       "       cnsi_probeg_kr  kuzov  telega  tormoz tipvozd  tippogl  norma_km  \\\n",
       "3218              160      2       9       3       6       11    110000   \n",
       "19128             160      2       9       2       1       12         0   \n",
       "21526             160      2       9       2       1        1    160000   \n",
       "32353             500      2      11       2       7       12    250000   \n",
       "81                160      2       9       2       1       11    160000   \n",
       "\n",
       "       ownertype  \n",
       "3218           0  \n",
       "19128          0  \n",
       "21526          1  \n",
       "32353          1  \n",
       "81             1  "
      ]
     },
     "execution_count": 31,
     "metadata": {},
     "output_type": "execute_result"
    }
   ],
   "source": [
    "wag_param.head()"
   ]
  },
  {
   "cell_type": "markdown",
   "id": "486ea5a8-21c0-49d3-babd-2bb5a1b23efe",
   "metadata": {
    "tags": []
   },
   "source": [
    "### Выводы по полям"
   ]
  },
  {
   "cell_type": "markdown",
   "id": "9bd9eb78-87bb-44f5-9686-0ea0c6c316a1",
   "metadata": {},
   "source": [
    "**Примечание**: Брать последние данные по номеру вагона убирая дубли\n",
    "\n",
    "Нужно попробовать взять:\n",
    "* Всё\n",
    "\n",
    "Из важного:\n",
    "* Срок службы\n",
    "* cnsi_probeg_dr, cnsi_probeg_kr - нормы пробега"
   ]
  },
  {
   "cell_type": "markdown",
   "id": "350dbaad-7b02-46f5-868e-2292c72e839b",
   "metadata": {
    "jp-MarkdownHeadingCollapsed": true,
    "tags": []
   },
   "source": [
    "## Плановые ремонты (pr_rems)"
   ]
  },
  {
   "cell_type": "code",
   "execution_count": 16,
   "id": "8a9f309f-2e2a-43af-bf39-3868260aa3af",
   "metadata": {
    "tags": []
   },
   "outputs": [],
   "source": [
    "# данные по текущим ремонтам\n",
    "pr_rem = pd.read_parquet(path_train + '/pr_rems.parquet').convert_dtypes()"
   ]
  },
  {
   "cell_type": "code",
   "execution_count": 17,
   "id": "d5968d48-2a2d-4cdb-9c2c-5660b904f58c",
   "metadata": {
    "tags": []
   },
   "outputs": [
    {
     "name": "stdout",
     "output_type": "stream",
     "text": [
      "<class 'pandas.core.frame.DataFrame'>\n",
      "Int64Index: 10441 entries, 0 to 1515\n",
      "Data columns (total 11 columns):\n",
      " #   Column        Non-Null Count  Dtype         \n",
      "---  ------        --------------  -----         \n",
      " 0   wagnum        10441 non-null  Int64         \n",
      " 1   rem_month     10441 non-null  datetime64[ns]\n",
      " 2   rod_id        10441 non-null  Int64         \n",
      " 3   model         10441 non-null  string        \n",
      " 4   road_id_send  10441 non-null  Int64         \n",
      " 5   road_id_rem   10441 non-null  Int64         \n",
      " 6   kod_vrab      10441 non-null  Int64         \n",
      " 7   st_id_send    10441 non-null  Int64         \n",
      " 8   st_id_rem     10441 non-null  Int64         \n",
      " 9   distance      10441 non-null  Int64         \n",
      " 10  month         10441 non-null  Int64         \n",
      "dtypes: Int64(9), datetime64[ns](1), string(1)\n",
      "memory usage: 1.0 MB\n"
     ]
    }
   ],
   "source": [
    "pr_rem.info()"
   ]
  },
  {
   "cell_type": "code",
   "execution_count": 36,
   "id": "456c3648-3093-4220-b8db-d5e48542abf5",
   "metadata": {
    "tags": []
   },
   "outputs": [
    {
     "data": {
      "text/plain": [
       "12"
      ]
     },
     "execution_count": 36,
     "metadata": {},
     "output_type": "execute_result"
    }
   ],
   "source": [
    "pr_rem['month'].max()"
   ]
  },
  {
   "cell_type": "code",
   "execution_count": 73,
   "id": "508277cc-725d-49a2-b88e-0e9e7a1a2665",
   "metadata": {
    "tags": []
   },
   "outputs": [
    {
     "data": {
      "text/html": [
       "<div>\n",
       "<style scoped>\n",
       "    .dataframe tbody tr th:only-of-type {\n",
       "        vertical-align: middle;\n",
       "    }\n",
       "\n",
       "    .dataframe tbody tr th {\n",
       "        vertical-align: top;\n",
       "    }\n",
       "\n",
       "    .dataframe thead th {\n",
       "        text-align: right;\n",
       "    }\n",
       "</style>\n",
       "<table border=\"1\" class=\"dataframe\">\n",
       "  <thead>\n",
       "    <tr style=\"text-align: right;\">\n",
       "      <th></th>\n",
       "      <th>wagnum</th>\n",
       "      <th>rem_month</th>\n",
       "      <th>rod_id</th>\n",
       "      <th>model</th>\n",
       "      <th>road_id_send</th>\n",
       "      <th>road_id_rem</th>\n",
       "      <th>kod_vrab</th>\n",
       "      <th>st_id_send</th>\n",
       "      <th>st_id_rem</th>\n",
       "      <th>distance</th>\n",
       "      <th>month</th>\n",
       "    </tr>\n",
       "  </thead>\n",
       "  <tbody>\n",
       "    <tr>\n",
       "      <th>2</th>\n",
       "      <td>22548</td>\n",
       "      <td>2022-12-08</td>\n",
       "      <td>1</td>\n",
       "      <td>12-1303-01</td>\n",
       "      <td>6</td>\n",
       "      <td>7</td>\n",
       "      <td>1</td>\n",
       "      <td>4421</td>\n",
       "      <td>3940</td>\n",
       "      <td>842</td>\n",
       "      <td>12</td>\n",
       "    </tr>\n",
       "    <tr>\n",
       "      <th>3</th>\n",
       "      <td>24902</td>\n",
       "      <td>2022-12-07</td>\n",
       "      <td>1</td>\n",
       "      <td>12-1303-01</td>\n",
       "      <td>6</td>\n",
       "      <td>7</td>\n",
       "      <td>1</td>\n",
       "      <td>4421</td>\n",
       "      <td>3940</td>\n",
       "      <td>827</td>\n",
       "      <td>12</td>\n",
       "    </tr>\n",
       "    <tr>\n",
       "      <th>4</th>\n",
       "      <td>27478</td>\n",
       "      <td>2022-12-06</td>\n",
       "      <td>1</td>\n",
       "      <td>12-7023-02</td>\n",
       "      <td>6</td>\n",
       "      <td>7</td>\n",
       "      <td>1</td>\n",
       "      <td>4421</td>\n",
       "      <td>3940</td>\n",
       "      <td>161</td>\n",
       "      <td>12</td>\n",
       "    </tr>\n",
       "    <tr>\n",
       "      <th>5</th>\n",
       "      <td>6458</td>\n",
       "      <td>2022-12-17</td>\n",
       "      <td>0</td>\n",
       "      <td>11-276</td>\n",
       "      <td>6</td>\n",
       "      <td>6</td>\n",
       "      <td>0</td>\n",
       "      <td>3946</td>\n",
       "      <td>3940</td>\n",
       "      <td>96</td>\n",
       "      <td>12</td>\n",
       "    </tr>\n",
       "    <tr>\n",
       "      <th>6</th>\n",
       "      <td>6678</td>\n",
       "      <td>2022-12-14</td>\n",
       "      <td>0</td>\n",
       "      <td>11-280</td>\n",
       "      <td>3</td>\n",
       "      <td>3</td>\n",
       "      <td>1</td>\n",
       "      <td>457</td>\n",
       "      <td>420</td>\n",
       "      <td>770</td>\n",
       "      <td>12</td>\n",
       "    </tr>\n",
       "  </tbody>\n",
       "</table>\n",
       "</div>"
      ],
      "text/plain": [
       "   wagnum  rem_month  rod_id       model  road_id_send  road_id_rem  kod_vrab  \\\n",
       "2   22548 2022-12-08       1  12-1303-01             6            7         1   \n",
       "3   24902 2022-12-07       1  12-1303-01             6            7         1   \n",
       "4   27478 2022-12-06       1  12-7023-02             6            7         1   \n",
       "5    6458 2022-12-17       0      11-276             6            6         0   \n",
       "6    6678 2022-12-14       0      11-280             3            3         1   \n",
       "\n",
       "   st_id_send  st_id_rem  distance  month  \n",
       "2        4421       3940       842     12  \n",
       "3        4421       3940       827     12  \n",
       "4        4421       3940       161     12  \n",
       "5        3946       3940        96     12  \n",
       "6         457        420       770     12  "
      ]
     },
     "execution_count": 73,
     "metadata": {},
     "output_type": "execute_result"
    }
   ],
   "source": [
    "pr_rem[pr_rem['month'] == pr_rem['month'].max()].head()"
   ]
  },
  {
   "cell_type": "markdown",
   "id": "0bb30766-a7c3-45df-be7f-90df623a0ad5",
   "metadata": {},
   "source": [
    "### Выводы по полям"
   ]
  },
  {
   "cell_type": "markdown",
   "id": "1c8f1470-0ad6-4443-b351-433f75f3028c",
   "metadata": {},
   "source": [
    "**Примечание:** Есть данные по плановым ремонтам за прошедший месяц\n",
    "\n",
    "Нужно взять:\n",
    "* Был ли ремнот в прошедшем месяце, условие на номер вагона как в base-line\n",
    "* Сколько было ремонтов в прошедшем месяце, count по kod_vrab\n",
    "* Дней с момента ремонта на дату среза, month_to_predict - rem_month\n",
    "    * Для 10 дней: month_to_predict + timedelta('10 days') - rem_month\n",
    "    * Для месяца: month_to_predict + timedelta('31 days') - rem_month\n",
    "    \n",
    "Можно взять:\n",
    "* distance как-то юзать чтобы проверять насколько близок ремонт был\n",
    "* проверять как-то станции (road_id_send, road_id_rem) и дороги (road_id_send, road_id_rem), но пока непонятно на что"
   ]
  },
  {
   "cell_type": "markdown",
   "id": "b559a3cf-bc3a-4b64-9e4d-74209a790a42",
   "metadata": {
    "jp-MarkdownHeadingCollapsed": true,
    "tags": []
   },
   "source": [
    "## Текущие ремонты (tr_rems)"
   ]
  },
  {
   "cell_type": "code",
   "execution_count": 5,
   "id": "d263feac-1e41-49d6-afa3-4d6b5f9698b9",
   "metadata": {
    "collapsed": false,
    "jupyter": {
     "outputs_hidden": false
    },
    "pycharm": {
     "name": "#%%\n"
    },
    "tags": []
   },
   "outputs": [],
   "source": [
    "# текущие ремонты вагонов\n",
    "tr_rem = pd.read_parquet(path_train + '/tr_rems.parquet').convert_dtypes()"
   ]
  },
  {
   "cell_type": "code",
   "execution_count": 23,
   "id": "fefd4d3d-ca1d-49dc-b4c4-f0fd389198c3",
   "metadata": {
    "collapsed": false,
    "jupyter": {
     "outputs_hidden": false
    },
    "pycharm": {
     "name": "#%%\n"
    },
    "tags": []
   },
   "outputs": [
    {
     "name": "stdout",
     "output_type": "stream",
     "text": [
      "<class 'pandas.core.frame.DataFrame'>\n",
      "Int64Index: 48652 entries, 0 to 7699\n",
      "Data columns (total 17 columns):\n",
      " #   Column        Non-Null Count  Dtype         \n",
      "---  ------        --------------  -----         \n",
      " 0   wagnum        48652 non-null  Int64         \n",
      " 1   rem_month     48652 non-null  datetime64[ns]\n",
      " 2   kod_vrab      48652 non-null  Int64         \n",
      " 3   neis1_kod     48652 non-null  Int64         \n",
      " 4   neis2_kod     48652 non-null  Int64         \n",
      " 5   neis3_kod     48652 non-null  Int64         \n",
      " 6   mod1_kod      48652 non-null  Int64         \n",
      " 7   mod2_kod      48652 non-null  Int64         \n",
      " 8   mod3_kod      48652 non-null  Int64         \n",
      " 9   mod4_kod      48652 non-null  Int32         \n",
      " 10  mod5_kod      48652 non-null  Int32         \n",
      " 11  mod6_kod      48652 non-null  Int32         \n",
      " 12  mod7_kod      48652 non-null  Int32         \n",
      " 13  road_id_send  48652 non-null  Int64         \n",
      " 14  gr_probeg     47920 non-null  Int64         \n",
      " 15  por_probeg    47977 non-null  Int64         \n",
      " 16  st_id_send    48652 non-null  Int64         \n",
      "dtypes: Int32(4), Int64(12), datetime64[ns](1)\n",
      "memory usage: 6.7 MB\n"
     ]
    }
   ],
   "source": [
    "tr_rem.info()"
   ]
  },
  {
   "cell_type": "code",
   "execution_count": 44,
   "id": "14c10a42-e980-471a-b42d-66a25da249b1",
   "metadata": {
    "tags": []
   },
   "outputs": [
    {
     "data": {
      "text/plain": [
       "Timestamp('2023-01-01 00:00:00')"
      ]
     },
     "execution_count": 44,
     "metadata": {},
     "output_type": "execute_result"
    }
   ],
   "source": [
    "tr_rem['rem_month'].max()"
   ]
  },
  {
   "cell_type": "code",
   "execution_count": 62,
   "id": "66c71353-d26c-4497-930f-9ffee928cc93",
   "metadata": {
    "tags": []
   },
   "outputs": [
    {
     "data": {
      "text/html": [
       "<div>\n",
       "<style scoped>\n",
       "    .dataframe tbody tr th:only-of-type {\n",
       "        vertical-align: middle;\n",
       "    }\n",
       "\n",
       "    .dataframe tbody tr th {\n",
       "        vertical-align: top;\n",
       "    }\n",
       "\n",
       "    .dataframe thead th {\n",
       "        text-align: right;\n",
       "    }\n",
       "</style>\n",
       "<table border=\"1\" class=\"dataframe\">\n",
       "  <thead>\n",
       "    <tr style=\"text-align: right;\">\n",
       "      <th></th>\n",
       "      <th>wagnum</th>\n",
       "      <th>rem_month</th>\n",
       "      <th>kod_vrab</th>\n",
       "      <th>neis1_kod</th>\n",
       "      <th>neis2_kod</th>\n",
       "      <th>neis3_kod</th>\n",
       "      <th>mod1_kod</th>\n",
       "      <th>mod2_kod</th>\n",
       "      <th>mod3_kod</th>\n",
       "      <th>mod4_kod</th>\n",
       "      <th>mod5_kod</th>\n",
       "      <th>mod6_kod</th>\n",
       "      <th>mod7_kod</th>\n",
       "      <th>road_id_send</th>\n",
       "      <th>gr_probeg</th>\n",
       "      <th>por_probeg</th>\n",
       "      <th>st_id_send</th>\n",
       "    </tr>\n",
       "  </thead>\n",
       "  <tbody>\n",
       "    <tr>\n",
       "      <th>3928</th>\n",
       "      <td>6</td>\n",
       "      <td>2023-01-01</td>\n",
       "      <td>2</td>\n",
       "      <td>58</td>\n",
       "      <td>98</td>\n",
       "      <td>54</td>\n",
       "      <td>7</td>\n",
       "      <td>4</td>\n",
       "      <td>2</td>\n",
       "      <td>0</td>\n",
       "      <td>0</td>\n",
       "      <td>0</td>\n",
       "      <td>0</td>\n",
       "      <td>31</td>\n",
       "      <td>&lt;NA&gt;</td>\n",
       "      <td>&lt;NA&gt;</td>\n",
       "      <td>22</td>\n",
       "    </tr>\n",
       "    <tr>\n",
       "      <th>3927</th>\n",
       "      <td>6</td>\n",
       "      <td>2023-01-01</td>\n",
       "      <td>2</td>\n",
       "      <td>0</td>\n",
       "      <td>98</td>\n",
       "      <td>54</td>\n",
       "      <td>7</td>\n",
       "      <td>4</td>\n",
       "      <td>2</td>\n",
       "      <td>0</td>\n",
       "      <td>0</td>\n",
       "      <td>0</td>\n",
       "      <td>0</td>\n",
       "      <td>31</td>\n",
       "      <td>52778</td>\n",
       "      <td>16980</td>\n",
       "      <td>22</td>\n",
       "    </tr>\n",
       "    <tr>\n",
       "      <th>3926</th>\n",
       "      <td>6</td>\n",
       "      <td>2023-01-01</td>\n",
       "      <td>2</td>\n",
       "      <td>58</td>\n",
       "      <td>98</td>\n",
       "      <td>54</td>\n",
       "      <td>7</td>\n",
       "      <td>4</td>\n",
       "      <td>2</td>\n",
       "      <td>0</td>\n",
       "      <td>0</td>\n",
       "      <td>0</td>\n",
       "      <td>0</td>\n",
       "      <td>31</td>\n",
       "      <td>52778</td>\n",
       "      <td>16980</td>\n",
       "      <td>22</td>\n",
       "    </tr>\n",
       "    <tr>\n",
       "      <th>1467</th>\n",
       "      <td>36</td>\n",
       "      <td>2023-01-01</td>\n",
       "      <td>3</td>\n",
       "      <td>2</td>\n",
       "      <td>98</td>\n",
       "      <td>54</td>\n",
       "      <td>7</td>\n",
       "      <td>4</td>\n",
       "      <td>2</td>\n",
       "      <td>0</td>\n",
       "      <td>0</td>\n",
       "      <td>0</td>\n",
       "      <td>0</td>\n",
       "      <td>25</td>\n",
       "      <td>71394</td>\n",
       "      <td>37258</td>\n",
       "      <td>5612</td>\n",
       "    </tr>\n",
       "    <tr>\n",
       "      <th>3230</th>\n",
       "      <td>39</td>\n",
       "      <td>2023-01-01</td>\n",
       "      <td>2</td>\n",
       "      <td>99</td>\n",
       "      <td>98</td>\n",
       "      <td>54</td>\n",
       "      <td>7</td>\n",
       "      <td>4</td>\n",
       "      <td>2</td>\n",
       "      <td>0</td>\n",
       "      <td>0</td>\n",
       "      <td>0</td>\n",
       "      <td>0</td>\n",
       "      <td>28</td>\n",
       "      <td>69748</td>\n",
       "      <td>49979</td>\n",
       "      <td>6152</td>\n",
       "    </tr>\n",
       "  </tbody>\n",
       "</table>\n",
       "</div>"
      ],
      "text/plain": [
       "      wagnum  rem_month  kod_vrab  neis1_kod  neis2_kod  neis3_kod  mod1_kod  \\\n",
       "3928       6 2023-01-01         2         58         98         54         7   \n",
       "3927       6 2023-01-01         2          0         98         54         7   \n",
       "3926       6 2023-01-01         2         58         98         54         7   \n",
       "1467      36 2023-01-01         3          2         98         54         7   \n",
       "3230      39 2023-01-01         2         99         98         54         7   \n",
       "\n",
       "      mod2_kod  mod3_kod  mod4_kod  mod5_kod  mod6_kod  mod7_kod  \\\n",
       "3928         4         2         0         0         0         0   \n",
       "3927         4         2         0         0         0         0   \n",
       "3926         4         2         0         0         0         0   \n",
       "1467         4         2         0         0         0         0   \n",
       "3230         4         2         0         0         0         0   \n",
       "\n",
       "      road_id_send  gr_probeg  por_probeg  st_id_send  \n",
       "3928            31       <NA>        <NA>          22  \n",
       "3927            31      52778       16980          22  \n",
       "3926            31      52778       16980          22  \n",
       "1467            25      71394       37258        5612  \n",
       "3230            28      69748       49979        6152  "
      ]
     },
     "execution_count": 62,
     "metadata": {},
     "output_type": "execute_result"
    }
   ],
   "source": [
    "tr_rem[tr_rem['rem_month'] == month_to_predict]\\\n",
    ".sort_values(by='wagnum') \\\n",
    ".head()"
   ]
  },
  {
   "cell_type": "code",
   "execution_count": 66,
   "id": "8e4d970e-e13f-4a7c-a498-d690607b5ae4",
   "metadata": {
    "tags": []
   },
   "outputs": [
    {
     "data": {
      "text/html": [
       "<div>\n",
       "<style scoped>\n",
       "    .dataframe tbody tr th:only-of-type {\n",
       "        vertical-align: middle;\n",
       "    }\n",
       "\n",
       "    .dataframe tbody tr th {\n",
       "        vertical-align: top;\n",
       "    }\n",
       "\n",
       "    .dataframe thead th {\n",
       "        text-align: right;\n",
       "    }\n",
       "</style>\n",
       "<table border=\"1\" class=\"dataframe\">\n",
       "  <thead>\n",
       "    <tr style=\"text-align: right;\">\n",
       "      <th></th>\n",
       "      <th>wagnum</th>\n",
       "      <th>rem_month</th>\n",
       "      <th>kod_vrab</th>\n",
       "      <th>neis1_kod</th>\n",
       "      <th>neis2_kod</th>\n",
       "      <th>neis3_kod</th>\n",
       "      <th>mod1_kod</th>\n",
       "      <th>mod2_kod</th>\n",
       "      <th>mod3_kod</th>\n",
       "      <th>mod4_kod</th>\n",
       "      <th>mod5_kod</th>\n",
       "      <th>mod6_kod</th>\n",
       "      <th>mod7_kod</th>\n",
       "      <th>road_id_send</th>\n",
       "      <th>gr_probeg</th>\n",
       "      <th>por_probeg</th>\n",
       "      <th>st_id_send</th>\n",
       "    </tr>\n",
       "  </thead>\n",
       "  <tbody>\n",
       "    <tr>\n",
       "      <th>3498</th>\n",
       "      <td>0</td>\n",
       "      <td>2022-12-01</td>\n",
       "      <td>3</td>\n",
       "      <td>0</td>\n",
       "      <td>98</td>\n",
       "      <td>54</td>\n",
       "      <td>7</td>\n",
       "      <td>4</td>\n",
       "      <td>2</td>\n",
       "      <td>0</td>\n",
       "      <td>0</td>\n",
       "      <td>0</td>\n",
       "      <td>0</td>\n",
       "      <td>30</td>\n",
       "      <td>72499</td>\n",
       "      <td>24448</td>\n",
       "      <td>7535</td>\n",
       "    </tr>\n",
       "    <tr>\n",
       "      <th>7199</th>\n",
       "      <td>2</td>\n",
       "      <td>2022-12-01</td>\n",
       "      <td>3</td>\n",
       "      <td>0</td>\n",
       "      <td>98</td>\n",
       "      <td>54</td>\n",
       "      <td>7</td>\n",
       "      <td>4</td>\n",
       "      <td>2</td>\n",
       "      <td>0</td>\n",
       "      <td>0</td>\n",
       "      <td>0</td>\n",
       "      <td>0</td>\n",
       "      <td>3</td>\n",
       "      <td>37913</td>\n",
       "      <td>13408</td>\n",
       "      <td>848</td>\n",
       "    </tr>\n",
       "    <tr>\n",
       "      <th>7198</th>\n",
       "      <td>2</td>\n",
       "      <td>2022-12-01</td>\n",
       "      <td>3</td>\n",
       "      <td>6</td>\n",
       "      <td>98</td>\n",
       "      <td>54</td>\n",
       "      <td>7</td>\n",
       "      <td>4</td>\n",
       "      <td>2</td>\n",
       "      <td>0</td>\n",
       "      <td>0</td>\n",
       "      <td>0</td>\n",
       "      <td>0</td>\n",
       "      <td>3</td>\n",
       "      <td>37913</td>\n",
       "      <td>13408</td>\n",
       "      <td>848</td>\n",
       "    </tr>\n",
       "    <tr>\n",
       "      <th>7643</th>\n",
       "      <td>6</td>\n",
       "      <td>2022-12-01</td>\n",
       "      <td>2</td>\n",
       "      <td>94</td>\n",
       "      <td>98</td>\n",
       "      <td>54</td>\n",
       "      <td>7</td>\n",
       "      <td>4</td>\n",
       "      <td>2</td>\n",
       "      <td>0</td>\n",
       "      <td>0</td>\n",
       "      <td>0</td>\n",
       "      <td>0</td>\n",
       "      <td>28</td>\n",
       "      <td>47894</td>\n",
       "      <td>16789</td>\n",
       "      <td>4790</td>\n",
       "    </tr>\n",
       "    <tr>\n",
       "      <th>7642</th>\n",
       "      <td>6</td>\n",
       "      <td>2022-12-01</td>\n",
       "      <td>2</td>\n",
       "      <td>0</td>\n",
       "      <td>98</td>\n",
       "      <td>54</td>\n",
       "      <td>7</td>\n",
       "      <td>4</td>\n",
       "      <td>2</td>\n",
       "      <td>0</td>\n",
       "      <td>0</td>\n",
       "      <td>0</td>\n",
       "      <td>0</td>\n",
       "      <td>28</td>\n",
       "      <td>47894</td>\n",
       "      <td>16789</td>\n",
       "      <td>4790</td>\n",
       "    </tr>\n",
       "  </tbody>\n",
       "</table>\n",
       "</div>"
      ],
      "text/plain": [
       "      wagnum  rem_month  kod_vrab  neis1_kod  neis2_kod  neis3_kod  mod1_kod  \\\n",
       "3498       0 2022-12-01         3          0         98         54         7   \n",
       "7199       2 2022-12-01         3          0         98         54         7   \n",
       "7198       2 2022-12-01         3          6         98         54         7   \n",
       "7643       6 2022-12-01         2         94         98         54         7   \n",
       "7642       6 2022-12-01         2          0         98         54         7   \n",
       "\n",
       "      mod2_kod  mod3_kod  mod4_kod  mod5_kod  mod6_kod  mod7_kod  \\\n",
       "3498         4         2         0         0         0         0   \n",
       "7199         4         2         0         0         0         0   \n",
       "7198         4         2         0         0         0         0   \n",
       "7643         4         2         0         0         0         0   \n",
       "7642         4         2         0         0         0         0   \n",
       "\n",
       "      road_id_send  gr_probeg  por_probeg  st_id_send  \n",
       "3498            30      72499       24448        7535  \n",
       "7199             3      37913       13408         848  \n",
       "7198             3      37913       13408         848  \n",
       "7643            28      47894       16789        4790  \n",
       "7642            28      47894       16789        4790  "
      ]
     },
     "execution_count": 66,
     "metadata": {},
     "output_type": "execute_result"
    }
   ],
   "source": [
    "tr_rem[tr_rem['rem_month'] == month_to_predict - pd.to_timedelta('31 d')]\\\n",
    ".sort_values(by='wagnum') \\\n",
    ".head()"
   ]
  },
  {
   "cell_type": "markdown",
   "id": "d17ddda2-0a3a-416f-9198-16d9feffaba3",
   "metadata": {
    "tags": []
   },
   "source": [
    "### Выводы по полям"
   ]
  },
  {
   "cell_type": "markdown",
   "id": "4b66b127-187c-44b3-8cbe-5cc62d73ec26",
   "metadata": {},
   "source": [
    "**Примечание**: Есть данные текущим по ремонтам за прошедший месяц\n",
    "\n",
    "Нужно взять:\n",
    "* Пробег вагона в груженном состоянии (gr_probeg), дельта, изменения по месяцам для предсказания **месяца**/10 дней\n",
    "* Пробег вагона в ???  (gr_probeg), дельта, изменения по месяцам для предсказания **месяца**/10 дней"
   ]
  },
  {
   "cell_type": "markdown",
   "id": "6853050b-dae9-4357-9054-9a8c065f57c7",
   "metadata": {
    "jp-MarkdownHeadingCollapsed": true,
    "tags": []
   },
   "source": [
    "## Данные по КТИ (kti_izm)"
   ]
  },
  {
   "cell_type": "code",
   "execution_count": 48,
   "id": "6fac9339-0465-420e-a9a0-94a4dc3d0408",
   "metadata": {
    "collapsed": false,
    "jupyter": {
     "outputs_hidden": false
    },
    "pycharm": {
     "name": "#%%\n"
    },
    "tags": []
   },
   "outputs": [],
   "source": [
    "# текущие ремонты вагонов\n",
    "df_kti_izm = pd.read_parquet(path_train + '/kti_izm.parquet').convert_dtypes()"
   ]
  },
  {
   "cell_type": "code",
   "execution_count": 49,
   "id": "af1fb75a-cd35-47dc-8958-72b02a8bc084",
   "metadata": {
    "collapsed": false,
    "jupyter": {
     "outputs_hidden": false
    },
    "pycharm": {
     "name": "#%%\n"
    },
    "tags": []
   },
   "outputs": [
    {
     "name": "stdout",
     "output_type": "stream",
     "text": [
      "<class 'pandas.core.frame.DataFrame'>\n",
      "Int64Index: 22428 entries, 43 to 212366\n",
      "Data columns (total 19 columns):\n",
      " #   Column               Non-Null Count  Dtype  \n",
      "---  ------               --------------  -----  \n",
      " 0   wagnum               22428 non-null  Int64  \n",
      " 1   operation_date_dttm  22428 non-null  object \n",
      " 2   mileage_all          22155 non-null  Int64  \n",
      " 3   axl1_l_w_flange      22416 non-null  Float64\n",
      " 4   axl1_r_w_flange      22409 non-null  Float64\n",
      " 5   axl2_l_w_flange      22412 non-null  Float64\n",
      " 6   axl2_r_w_flange      22408 non-null  Float64\n",
      " 7   axl3_l_w_flange      22411 non-null  Float64\n",
      " 8   axl3_r_w_flange      22407 non-null  Float64\n",
      " 9   axl4_l_w_flange      22413 non-null  Float64\n",
      " 10  axl4_r_w_flange      22416 non-null  Float64\n",
      " 11  axl1_l_w_rim         22287 non-null  Float64\n",
      " 12  axl1_r_w_rim         22296 non-null  Float64\n",
      " 13  axl2_l_w_rim         22293 non-null  Float64\n",
      " 14  axl2_r_w_rim         22292 non-null  Float64\n",
      " 15  axl3_l_w_rim         22251 non-null  Float64\n",
      " 16  axl3_r_w_rim         22273 non-null  Float64\n",
      " 17  axl4_l_w_rim         22306 non-null  Float64\n",
      " 18  axl4_r_w_rim         22318 non-null  Float64\n",
      "dtypes: Float64(16), Int64(2), object(1)\n",
      "memory usage: 3.8+ MB\n"
     ]
    }
   ],
   "source": [
    "df_kti_izm.info()"
   ]
  },
  {
   "cell_type": "code",
   "execution_count": null,
   "id": "73c2ef2f-7a28-41db-9c2b-96cae6a4ded7",
   "metadata": {},
   "outputs": [],
   "source": []
  },
  {
   "cell_type": "markdown",
   "id": "fa4db4b8-5b56-4f95-a4bd-e81f5a2b0d49",
   "metadata": {
    "jp-MarkdownHeadingCollapsed": true,
    "tags": []
   },
   "source": [
    "## Справочник грузов (freight_info)"
   ]
  },
  {
   "cell_type": "code",
   "execution_count": 50,
   "id": "b55fa866-c7f4-4514-bad6-77bfc5549b7b",
   "metadata": {
    "collapsed": false,
    "jupyter": {
     "outputs_hidden": false
    },
    "pycharm": {
     "name": "#%%\n"
    },
    "tags": []
   },
   "outputs": [],
   "source": [
    "# текущие ремонты вагонов\n",
    "df_freight_info = pd.read_parquet(path_train + '/freight_info.parquet').convert_dtypes()"
   ]
  },
  {
   "cell_type": "code",
   "execution_count": 51,
   "id": "cef8f54d-f28e-4bbb-a95a-79f4311f6410",
   "metadata": {
    "collapsed": false,
    "jupyter": {
     "outputs_hidden": false
    },
    "pycharm": {
     "name": "#%%\n"
    },
    "tags": []
   },
   "outputs": [
    {
     "name": "stdout",
     "output_type": "stream",
     "text": [
      "<class 'pandas.core.frame.DataFrame'>\n",
      "RangeIndex: 5079 entries, 0 to 5078\n",
      "Data columns (total 9 columns):\n",
      " #   Column      Non-Null Count  Dtype\n",
      "---  ------      --------------  -----\n",
      " 0   fr_id       5079 non-null   Int64\n",
      " 1   fr_class    5079 non-null   Int64\n",
      " 2   skoroport   5079 non-null   Int64\n",
      " 3   naval       5079 non-null   Int64\n",
      " 4   nasip       5079 non-null   Int64\n",
      " 5   naliv       5079 non-null   Int64\n",
      " 6   openvagons  5079 non-null   Int64\n",
      " 7   soprovod    5079 non-null   Int64\n",
      " 8   smerz       5079 non-null   Int64\n",
      "dtypes: Int64(9)\n",
      "memory usage: 401.9 KB\n"
     ]
    }
   ],
   "source": [
    "df_freight_info.info()"
   ]
  },
  {
   "cell_type": "code",
   "execution_count": null,
   "id": "a1775a10-3c5f-4255-9ea8-d4f2d9fad1f8",
   "metadata": {},
   "outputs": [],
   "source": []
  },
  {
   "cell_type": "markdown",
   "id": "24704f04-389f-4314-ba9d-c9c38fb210fe",
   "metadata": {
    "jp-MarkdownHeadingCollapsed": true,
    "tags": []
   },
   "source": [
    "## Справочник станций (stations)"
   ]
  },
  {
   "cell_type": "code",
   "execution_count": 52,
   "id": "990d57ee-4199-49ce-a4d5-c554a8724c1e",
   "metadata": {
    "collapsed": false,
    "jupyter": {
     "outputs_hidden": false
    },
    "pycharm": {
     "name": "#%%\n"
    },
    "tags": []
   },
   "outputs": [],
   "source": [
    "# текущие ремонты вагонов\n",
    "df_stations = pd.read_parquet(path_train + '/stations.parquet').convert_dtypes()"
   ]
  },
  {
   "cell_type": "code",
   "execution_count": 53,
   "id": "d589afc8-b90a-467d-9bd7-9278be98e426",
   "metadata": {
    "collapsed": false,
    "jupyter": {
     "outputs_hidden": false
    },
    "pycharm": {
     "name": "#%%\n"
    },
    "tags": []
   },
   "outputs": [
    {
     "name": "stdout",
     "output_type": "stream",
     "text": [
      "<class 'pandas.core.frame.DataFrame'>\n",
      "Int64Index: 148032 entries, 0 to 16447\n",
      "Data columns (total 9 columns):\n",
      " #   Column             Non-Null Count   Dtype \n",
      "---  ------             --------------   ----- \n",
      " 0   st_id              148032 non-null  Int64 \n",
      " 1   road_id            148032 non-null  Int64 \n",
      " 2   st_border_sign     148032 non-null  string\n",
      " 3   st_sea_sign        148032 non-null  string\n",
      " 4   st_river_sign      148032 non-null  string\n",
      " 5   st_car_sign        148032 non-null  string\n",
      " 6   st_ferry_sign      148032 non-null  string\n",
      " 7   st_freigh_sign     148032 non-null  string\n",
      " 8   opor_station_sign  148032 non-null  string\n",
      "dtypes: Int64(2), string(7)\n",
      "memory usage: 11.6 MB\n"
     ]
    }
   ],
   "source": [
    "df_stations.info()"
   ]
  },
  {
   "cell_type": "code",
   "execution_count": null,
   "id": "c6be49ae-72b3-4d2d-84ed-4dd014abfe3d",
   "metadata": {},
   "outputs": [],
   "source": []
  },
  {
   "cell_type": "markdown",
   "id": "d0913434-57ac-4f95-8643-fcf2d0e0c01a",
   "metadata": {
    "jp-MarkdownHeadingCollapsed": true,
    "tags": []
   },
   "source": [
    "## target"
   ]
  },
  {
   "cell_type": "code",
   "execution_count": 7,
   "id": "63371e3b-58b0-4d5f-aba8-79d9c85b03f9",
   "metadata": {
    "tags": []
   },
   "outputs": [],
   "source": [
    "# таргет по прогноза выбытия вагонов в ПР на месяц и на 10 дней\n",
    "target = pd.read_csv(path_train +'/target/y_train.csv').convert_dtypes()"
   ]
  },
  {
   "cell_type": "code",
   "execution_count": 8,
   "id": "b4d3d11c-989c-4dad-b7f3-278985d9d297",
   "metadata": {
    "tags": []
   },
   "outputs": [
    {
     "data": {
      "text/html": [
       "<div>\n",
       "<style scoped>\n",
       "    .dataframe tbody tr th:only-of-type {\n",
       "        vertical-align: middle;\n",
       "    }\n",
       "\n",
       "    .dataframe tbody tr th {\n",
       "        vertical-align: top;\n",
       "    }\n",
       "\n",
       "    .dataframe thead th {\n",
       "        text-align: right;\n",
       "    }\n",
       "</style>\n",
       "<table border=\"1\" class=\"dataframe\">\n",
       "  <thead>\n",
       "    <tr style=\"text-align: right;\">\n",
       "      <th></th>\n",
       "      <th>wagnum</th>\n",
       "      <th>month</th>\n",
       "      <th>target_month</th>\n",
       "      <th>target_day</th>\n",
       "    </tr>\n",
       "  </thead>\n",
       "  <tbody>\n",
       "    <tr>\n",
       "      <th>0</th>\n",
       "      <td>33361</td>\n",
       "      <td>2023-01-01</td>\n",
       "      <td>0</td>\n",
       "      <td>0</td>\n",
       "    </tr>\n",
       "    <tr>\n",
       "      <th>1</th>\n",
       "      <td>33364</td>\n",
       "      <td>2023-01-01</td>\n",
       "      <td>0</td>\n",
       "      <td>0</td>\n",
       "    </tr>\n",
       "    <tr>\n",
       "      <th>2</th>\n",
       "      <td>33366</td>\n",
       "      <td>2023-01-01</td>\n",
       "      <td>0</td>\n",
       "      <td>0</td>\n",
       "    </tr>\n",
       "    <tr>\n",
       "      <th>3</th>\n",
       "      <td>33358</td>\n",
       "      <td>2023-01-01</td>\n",
       "      <td>0</td>\n",
       "      <td>0</td>\n",
       "    </tr>\n",
       "    <tr>\n",
       "      <th>4</th>\n",
       "      <td>33349</td>\n",
       "      <td>2023-01-01</td>\n",
       "      <td>0</td>\n",
       "      <td>0</td>\n",
       "    </tr>\n",
       "  </tbody>\n",
       "</table>\n",
       "</div>"
      ],
      "text/plain": [
       "   wagnum       month  target_month  target_day\n",
       "0   33361  2023-01-01             0           0\n",
       "1   33364  2023-01-01             0           0\n",
       "2   33366  2023-01-01             0           0\n",
       "3   33358  2023-01-01             0           0\n",
       "4   33349  2023-01-01             0           0"
      ]
     },
     "execution_count": 8,
     "metadata": {},
     "output_type": "execute_result"
    }
   ],
   "source": [
    "target.head()"
   ]
  },
  {
   "cell_type": "code",
   "execution_count": 9,
   "id": "82a232b0-5fe7-42ae-956c-c583a112bf2e",
   "metadata": {
    "collapsed": false,
    "jupyter": {
     "outputs_hidden": false
    },
    "pycharm": {
     "name": "#%%\n"
    },
    "tags": []
   },
   "outputs": [],
   "source": [
    "target.month = pd.to_datetime(target.month)"
   ]
  },
  {
   "cell_type": "code",
   "execution_count": 10,
   "id": "71a42939-126c-4b3b-8d3c-08d43c94b198",
   "metadata": {
    "tags": []
   },
   "outputs": [],
   "source": [
    "target = target[target.month == month_to_predict][['wagnum','target_month','target_day']]"
   ]
  },
  {
   "cell_type": "code",
   "execution_count": 11,
   "id": "cc68fea8-0820-49ba-9a3e-d5907f17ef49",
   "metadata": {
    "collapsed": false,
    "jupyter": {
     "outputs_hidden": false
    },
    "pycharm": {
     "name": "#%%\n"
    },
    "tags": []
   },
   "outputs": [
    {
     "data": {
      "text/plain": [
       "(1676, 461)"
      ]
     },
     "execution_count": 11,
     "metadata": {},
     "output_type": "execute_result"
    }
   ],
   "source": [
    "target.target_month.sum(), target.target_day.sum()"
   ]
  },
  {
   "cell_type": "code",
   "execution_count": 12,
   "id": "4e50d2a9-f8e1-4a3b-8f43-81213e146315",
   "metadata": {
    "tags": []
   },
   "outputs": [
    {
     "name": "stdout",
     "output_type": "stream",
     "text": [
      "<class 'pandas.core.frame.DataFrame'>\n",
      "Int64Index: 33973 entries, 0 to 33972\n",
      "Data columns (total 3 columns):\n",
      " #   Column        Non-Null Count  Dtype\n",
      "---  ------        --------------  -----\n",
      " 0   wagnum        33973 non-null  Int64\n",
      " 1   target_month  33973 non-null  Int64\n",
      " 2   target_day    33973 non-null  Int64\n",
      "dtypes: Int64(3)\n",
      "memory usage: 1.1 MB\n"
     ]
    }
   ],
   "source": [
    "target.info()"
   ]
  },
  {
   "cell_type": "markdown",
   "id": "219a1156-6060-409c-bbb1-215204eaac50",
   "metadata": {},
   "source": [
    "### Баланс классов"
   ]
  },
  {
   "cell_type": "code",
   "execution_count": 69,
   "id": "f2b6968f-e99a-4a89-903d-deb60098f558",
   "metadata": {
    "tags": []
   },
   "outputs": [
    {
     "data": {
      "image/png": "[encoded data removed]",
      "text/plain": [
       "<Figure size 2000x900 with 1 Axes>"
      ]
     },
     "metadata": {},
     "output_type": "display_data"
    }
   ],
   "source": [
    "target['target_month'].plot(kind='hist')\n",
    "plt.show()"
   ]
  },
  {
   "cell_type": "code",
   "execution_count": 70,
   "id": "bd5f5788-8ff2-4749-a82c-e4bdf85951f3",
   "metadata": {
    "tags": []
   },
   "outputs": [
    {
     "data": {
      "image/png": "[encoded data removed]",
      "text/plain": [
       "<Figure size 2000x900 with 1 Axes>"
      ]
     },
     "metadata": {},
     "output_type": "display_data"
    }
   ],
   "source": [
    "target['target_day'].plot(kind='hist')\n",
    "plt.show()"
   ]
  },
  {
   "cell_type": "markdown",
   "id": "7107391e-9354-479f-aef2-7c666e85af7f",
   "metadata": {},
   "source": [
    "# Первичный анализ"
   ]
  },
  {
   "cell_type": "code",
   "execution_count": null,
   "id": "27ad8d7d-2f26-4fb0-a7f8-98f2ffcfd4eb",
   "metadata": {},
   "outputs": [],
   "source": []
  },
  {
   "cell_type": "markdown",
   "id": "e244e2bb-1167-48a4-873a-b42fba606a4c",
   "metadata": {},
   "source": [
    "# EDA"
   ]
  },
  {
   "cell_type": "markdown",
   "id": "8804b6f6-ffd7-40c3-963b-69f32df92c6b",
   "metadata": {},
   "source": [
    "Посмотреть:\n",
    "1. Какие параметры из wag_params (тmodel и т.д.) чаще ломаются\n",
    "2. Распределения\n",
    "    1. Кол-во ремонтов на месяц службы\n",
    "    1. Распределение кол-ва дней до ремонта после ремонта текущего/планового"
   ]
  },
  {
   "cell_type": "code",
   "execution_count": null,
   "id": "b2955b6c-c963-43e7-8ced-1c49516ed5fe",
   "metadata": {},
   "outputs": [],
   "source": []
  },
  {
   "cell_type": "code",
   "execution_count": null,
   "id": "d0a3f03d-6ff8-4042-95ac-f9250fcc7d06",
   "metadata": {},
   "outputs": [],
   "source": []
  },
  {
   "cell_type": "code",
   "execution_count": null,
   "id": "94a5924b-1e31-473e-80c9-d858d32702db",
   "metadata": {},
   "outputs": [],
   "source": []
  },
  {
   "cell_type": "code",
   "execution_count": null,
   "id": "94d8df69-5b6c-4609-a644-1b901ed37588",
   "metadata": {},
   "outputs": [],
   "source": []
  },
  {
   "cell_type": "markdown",
   "id": "13cf2029-61dd-499f-82bb-ae34adc43a53",
   "metadata": {},
   "source": [
    "# Предобработка данных"
   ]
  },
  {
   "cell_type": "code",
   "execution_count": null,
   "id": "a0d463d5-023a-481d-9bdc-b3f5972bff56",
   "metadata": {},
   "outputs": [],
   "source": []
  },
  {
   "cell_type": "markdown",
   "id": "8c467bf7-ff8c-4758-9146-1bc6ee44b97e",
   "metadata": {},
   "source": [
    "# Feature engineering"
   ]
  },
  {
   "cell_type": "code",
   "execution_count": null,
   "id": "97f76930-8ebd-489f-bb6c-ac609592bf01",
   "metadata": {},
   "outputs": [],
   "source": []
  },
  {
   "cell_type": "markdown",
   "id": "f0e2209a-7853-4534-8e6b-fe06ba401f58",
   "metadata": {},
   "source": [
    "# Base-line"
   ]
  },
  {
   "cell_type": "code",
   "execution_count": null,
   "id": "6cfeec6f-3542-4ff7-a1eb-4bbe72545f0f",
   "metadata": {},
   "outputs": [],
   "source": []
  },
  {
   "cell_type": "markdown",
   "id": "57cc39ef-28dc-4bb1-95b2-72f9cd19a4be",
   "metadata": {},
   "source": [
    "## Важность признаков"
   ]
  },
  {
   "cell_type": "code",
   "execution_count": null,
   "id": "799dbf3e-e113-4f64-9e69-e5c70d93c480",
   "metadata": {},
   "outputs": [],
   "source": []
  },
  {
   "cell_type": "markdown",
   "id": "5cbbdb0f-1a49-44b2-a130-cd5e1f5fd74f",
   "metadata": {},
   "source": [
    "# Feature engineering v2"
   ]
  },
  {
   "cell_type": "code",
   "execution_count": null,
   "id": "82cb94ef-afba-4e32-9765-796611596d5d",
   "metadata": {},
   "outputs": [],
   "source": []
  }
 ],
 "metadata": {
  "kernelspec": {
   "display_name": "Python 3 (ipykernel)",
   "language": "python",
   "name": "python3"
  },
  "language_info": {
   "codemirror_mode": {
    "name": "ipython",
    "version": 3
   },
   "file_extension": ".py",
   "mimetype": "text/x-python",
   "name": "python",
   "nbconvert_exporter": "python",
   "pygments_lexer": "ipython3",
   "version": "3.10.0"
  },
  "toc-autonumbering": true
 },
 "nbformat": 4,
 "nbformat_minor": 5
}
